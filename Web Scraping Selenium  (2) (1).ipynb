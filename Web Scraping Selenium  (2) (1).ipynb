{
 "cells": [
  {
   "cell_type": "code",
   "execution_count": 1,
   "id": "15d4dba9",
   "metadata": {},
   "outputs": [
    {
     "name": "stdout",
     "output_type": "stream",
     "text": [
      "Requirement already satisfied: selenium in c:\\users\\thamizh\\anaconda3\\lib\\site-packages (4.1.3)\n",
      "Requirement already satisfied: trio-websocket~=0.9 in c:\\users\\thamizh\\anaconda3\\lib\\site-packages (from selenium) (0.9.2)\n",
      "Requirement already satisfied: urllib3[secure,socks]~=1.26 in c:\\users\\thamizh\\anaconda3\\lib\\site-packages (from selenium) (1.26.7)\n",
      "Requirement already satisfied: trio~=0.17 in c:\\users\\thamizh\\anaconda3\\lib\\site-packages (from selenium) (0.20.0)\n",
      "Requirement already satisfied: idna in c:\\users\\thamizh\\anaconda3\\lib\\site-packages (from trio~=0.17->selenium) (3.2)\n",
      "Requirement already satisfied: attrs>=19.2.0 in c:\\users\\thamizh\\anaconda3\\lib\\site-packages (from trio~=0.17->selenium) (21.2.0)\n",
      "Requirement already satisfied: cffi>=1.14 in c:\\users\\thamizh\\anaconda3\\lib\\site-packages (from trio~=0.17->selenium) (1.14.6)\n",
      "Requirement already satisfied: sortedcontainers in c:\\users\\thamizh\\anaconda3\\lib\\site-packages (from trio~=0.17->selenium) (2.4.0)\n",
      "Requirement already satisfied: async-generator>=1.9 in c:\\users\\thamizh\\anaconda3\\lib\\site-packages (from trio~=0.17->selenium) (1.10)\n",
      "Requirement already satisfied: sniffio in c:\\users\\thamizh\\anaconda3\\lib\\site-packages (from trio~=0.17->selenium) (1.2.0)\n",
      "Requirement already satisfied: outcome in c:\\users\\thamizh\\anaconda3\\lib\\site-packages (from trio~=0.17->selenium) (1.1.0)\n",
      "Requirement already satisfied: pycparser in c:\\users\\thamizh\\anaconda3\\lib\\site-packages (from cffi>=1.14->trio~=0.17->selenium) (2.20)\n",
      "Requirement already satisfied: wsproto>=0.14 in c:\\users\\thamizh\\anaconda3\\lib\\site-packages (from trio-websocket~=0.9->selenium) (1.1.0)\n",
      "Requirement already satisfied: PySocks!=1.5.7,<2.0,>=1.5.6 in c:\\users\\thamizh\\anaconda3\\lib\\site-packages (from urllib3[secure,socks]~=1.26->selenium) (1.7.1)\n",
      "Requirement already satisfied: pyOpenSSL>=0.14 in c:\\users\\thamizh\\anaconda3\\lib\\site-packages (from urllib3[secure,socks]~=1.26->selenium) (21.0.0)\n",
      "Requirement already satisfied: cryptography>=1.3.4 in c:\\users\\thamizh\\anaconda3\\lib\\site-packages (from urllib3[secure,socks]~=1.26->selenium) (3.4.8)\n",
      "Requirement already satisfied: certifi in c:\\users\\thamizh\\anaconda3\\lib\\site-packages (from urllib3[secure,socks]~=1.26->selenium) (2021.10.8)\n",
      "Requirement already satisfied: six>=1.5.2 in c:\\users\\thamizh\\anaconda3\\lib\\site-packages (from pyOpenSSL>=0.14->urllib3[secure,socks]~=1.26->selenium) (1.16.0)\n",
      "Requirement already satisfied: h11<1,>=0.9.0 in c:\\users\\thamizh\\anaconda3\\lib\\site-packages (from wsproto>=0.14->trio-websocket~=0.9->selenium) (0.13.0)\n"
     ]
    }
   ],
   "source": [
    "! pip3 install selenium"
   ]
  },
  {
   "cell_type": "code",
   "execution_count": 6,
   "id": "d60e8e55",
   "metadata": {},
   "outputs": [],
   "source": [
    "import selenium\n",
    "import pandas as pd\n",
    "from selenium import webdriver\n",
    "import warnings\n",
    "warnings.filterwarnings(\"ignore\")\n",
    "import time"
   ]
  },
  {
   "cell_type": "code",
   "execution_count": 7,
   "id": "ed18b7bf",
   "metadata": {},
   "outputs": [],
   "source": [
    "driver = webdriver.Chrome(r\"C:\\Users\\Thamizh\\Downloads\\chromedriver_win32 (2)\\chromedriver.exe\")"
   ]
  },
  {
   "cell_type": "code",
   "execution_count": 8,
   "id": "51b0150b",
   "metadata": {},
   "outputs": [],
   "source": [
    "#driver.close()"
   ]
  },
  {
   "cell_type": "code",
   "execution_count": 9,
   "id": "b457aef1",
   "metadata": {},
   "outputs": [],
   "source": [
    "time.sleep(2)\n"
   ]
  },
  {
   "cell_type": "code",
   "execution_count": 10,
   "id": "19d64486",
   "metadata": {},
   "outputs": [],
   "source": [
    "driver.get('https://www.naukri.com/')"
   ]
  },
  {
   "cell_type": "code",
   "execution_count": 11,
   "id": "35cd0dcd",
   "metadata": {},
   "outputs": [],
   "source": [
    "url=(\"https://www.naukri.com/data-analyst-jobs-in-bangalore-bengaluru?k=data%20analyst&l=bangalore%2Fbengaluru\")"
   ]
  },
  {
   "cell_type": "code",
   "execution_count": 12,
   "id": "a871e9e6",
   "metadata": {},
   "outputs": [],
   "source": [
    "driver.get(url)"
   ]
  },
  {
   "cell_type": "code",
   "execution_count": null,
   "id": "fefc26f4",
   "metadata": {},
   "outputs": [],
   "source": []
  },
  {
   "cell_type": "code",
   "execution_count": 13,
   "id": "3226d71b",
   "metadata": {},
   "outputs": [],
   "source": [
    "job_titles = []\n",
    "job_location = []\n",
    "company_name = []\n",
    "experience_required = []"
   ]
  },
  {
   "cell_type": "code",
   "execution_count": 14,
   "id": "61c81946",
   "metadata": {},
   "outputs": [
    {
     "data": {
      "text/plain": [
       "[<selenium.webdriver.remote.webelement.WebElement (session=\"84b042e93f73cafa3dba971491e8bf7f\", element=\"82ee70f5-3422-4886-af81-70e0e1bfef9c\")>,\n",
       " <selenium.webdriver.remote.webelement.WebElement (session=\"84b042e93f73cafa3dba971491e8bf7f\", element=\"3983b46a-43ce-4f31-ac85-89b078574021\")>,\n",
       " <selenium.webdriver.remote.webelement.WebElement (session=\"84b042e93f73cafa3dba971491e8bf7f\", element=\"7acdc5f6-d953-48fe-b695-10e051cf32e3\")>,\n",
       " <selenium.webdriver.remote.webelement.WebElement (session=\"84b042e93f73cafa3dba971491e8bf7f\", element=\"0a057ddc-c97f-496f-8848-4688721db24e\")>,\n",
       " <selenium.webdriver.remote.webelement.WebElement (session=\"84b042e93f73cafa3dba971491e8bf7f\", element=\"3822bea5-dc60-480e-9871-c3e189ce8478\")>,\n",
       " <selenium.webdriver.remote.webelement.WebElement (session=\"84b042e93f73cafa3dba971491e8bf7f\", element=\"e9004ef7-be58-4b93-8408-52fe506bec3c\")>,\n",
       " <selenium.webdriver.remote.webelement.WebElement (session=\"84b042e93f73cafa3dba971491e8bf7f\", element=\"c4d06699-1911-415e-9e04-b4e7a3511084\")>,\n",
       " <selenium.webdriver.remote.webelement.WebElement (session=\"84b042e93f73cafa3dba971491e8bf7f\", element=\"eb1dfbbe-0852-4459-91d6-fd3a123fd489\")>,\n",
       " <selenium.webdriver.remote.webelement.WebElement (session=\"84b042e93f73cafa3dba971491e8bf7f\", element=\"ca16fb84-4a2b-4b9f-b678-d9c3797aa9bc\")>,\n",
       " <selenium.webdriver.remote.webelement.WebElement (session=\"84b042e93f73cafa3dba971491e8bf7f\", element=\"6935e7e1-5be5-4f59-895f-e42065161898\")>,\n",
       " <selenium.webdriver.remote.webelement.WebElement (session=\"84b042e93f73cafa3dba971491e8bf7f\", element=\"517bda26-8d0b-4d60-8d3b-250c69f70fec\")>,\n",
       " <selenium.webdriver.remote.webelement.WebElement (session=\"84b042e93f73cafa3dba971491e8bf7f\", element=\"34db4a0e-3228-401e-9382-1eccc2b35387\")>,\n",
       " <selenium.webdriver.remote.webelement.WebElement (session=\"84b042e93f73cafa3dba971491e8bf7f\", element=\"786913dd-33d0-4ee0-acb5-ea536d78168d\")>,\n",
       " <selenium.webdriver.remote.webelement.WebElement (session=\"84b042e93f73cafa3dba971491e8bf7f\", element=\"1339039e-0200-4cb8-ada2-a4314ad6aef8\")>,\n",
       " <selenium.webdriver.remote.webelement.WebElement (session=\"84b042e93f73cafa3dba971491e8bf7f\", element=\"6f500a91-d701-421b-aa88-84ef29e608d1\")>,\n",
       " <selenium.webdriver.remote.webelement.WebElement (session=\"84b042e93f73cafa3dba971491e8bf7f\", element=\"c9d58bfb-0f76-4f3f-9836-616bdd09cbb1\")>,\n",
       " <selenium.webdriver.remote.webelement.WebElement (session=\"84b042e93f73cafa3dba971491e8bf7f\", element=\"5c1e9541-7ae3-424c-b339-38ec8b45899a\")>,\n",
       " <selenium.webdriver.remote.webelement.WebElement (session=\"84b042e93f73cafa3dba971491e8bf7f\", element=\"1b02257d-124f-4604-9a8d-7844b639a8c2\")>,\n",
       " <selenium.webdriver.remote.webelement.WebElement (session=\"84b042e93f73cafa3dba971491e8bf7f\", element=\"ce1c83c6-b5fc-45c9-88b3-e2c91b19bfef\")>,\n",
       " <selenium.webdriver.remote.webelement.WebElement (session=\"84b042e93f73cafa3dba971491e8bf7f\", element=\"03a8c38e-bccc-4072-9241-05602b79579c\")>]"
      ]
     },
     "execution_count": 14,
     "metadata": {},
     "output_type": "execute_result"
    }
   ],
   "source": [
    "title_tags = driver.find_elements_by_xpath(\"//a[@class='title fw500 ellipsis']\")\n",
    "title_tags[0:20]"
   ]
  },
  {
   "cell_type": "code",
   "execution_count": 15,
   "id": "9831c337",
   "metadata": {},
   "outputs": [
    {
     "data": {
      "text/plain": [
       "['Data Analyst II',\n",
       " 'Senior Data Analyst II',\n",
       " 'Senior Data Analyst II',\n",
       " 'Senior Data Analyst - Logistics',\n",
       " 'Senior Data Analyst',\n",
       " 'Sr Domain Expert -Data Analysts',\n",
       " 'Consultant - Data Analyst',\n",
       " 'Data Analyst',\n",
       " 'People Data Analyst',\n",
       " 'Data Analyst',\n",
       " 'Senior Data Analyst',\n",
       " 'Blockchain AML Data Analyst',\n",
       " 'Senior Data Analyst',\n",
       " 'Senior Data Analyst',\n",
       " 'Data Analyst',\n",
       " 'Data Analysts with Business Analysis',\n",
       " 'Senior Data Analyst (Digital Services Analytics)',\n",
       " 'Senior Data Analyst',\n",
       " 'Assistant Manager/Lead/Manager - Data Analyst - KPO',\n",
       " 'Data Analyst / Data Engineer']"
      ]
     },
     "execution_count": 15,
     "metadata": {},
     "output_type": "execute_result"
    }
   ],
   "source": [
    "for i in title_tags:\n",
    "    title=i.text\n",
    "    job_titles.append(title)\n",
    "job_titles[0:20]"
   ]
  },
  {
   "cell_type": "code",
   "execution_count": 16,
   "id": "2d299147",
   "metadata": {},
   "outputs": [
    {
     "data": {
      "text/plain": [
       "[<selenium.webdriver.remote.webelement.WebElement (session=\"84b042e93f73cafa3dba971491e8bf7f\", element=\"f59bb2ea-c9c2-44de-ad87-b8240bb49832\")>,\n",
       " <selenium.webdriver.remote.webelement.WebElement (session=\"84b042e93f73cafa3dba971491e8bf7f\", element=\"85b1d017-855f-410b-8b6c-09d5ebc61953\")>,\n",
       " <selenium.webdriver.remote.webelement.WebElement (session=\"84b042e93f73cafa3dba971491e8bf7f\", element=\"d4695bd2-0843-45f0-9311-c47cc164189a\")>,\n",
       " <selenium.webdriver.remote.webelement.WebElement (session=\"84b042e93f73cafa3dba971491e8bf7f\", element=\"e5273a9f-6da6-4fd2-b9e5-336d8558436f\")>,\n",
       " <selenium.webdriver.remote.webelement.WebElement (session=\"84b042e93f73cafa3dba971491e8bf7f\", element=\"e638b406-f1c5-49b6-b6f9-6dd27cf91348\")>,\n",
       " <selenium.webdriver.remote.webelement.WebElement (session=\"84b042e93f73cafa3dba971491e8bf7f\", element=\"54541f79-e7cf-48f0-aea8-9692fe2389c2\")>,\n",
       " <selenium.webdriver.remote.webelement.WebElement (session=\"84b042e93f73cafa3dba971491e8bf7f\", element=\"b5a0df27-3f3d-47b7-8b8e-815a17b75a90\")>,\n",
       " <selenium.webdriver.remote.webelement.WebElement (session=\"84b042e93f73cafa3dba971491e8bf7f\", element=\"4df8c7a5-c980-4518-a6bf-76762903932c\")>,\n",
       " <selenium.webdriver.remote.webelement.WebElement (session=\"84b042e93f73cafa3dba971491e8bf7f\", element=\"e29497ad-e363-4738-89ae-a4e291c505bf\")>,\n",
       " <selenium.webdriver.remote.webelement.WebElement (session=\"84b042e93f73cafa3dba971491e8bf7f\", element=\"56b1b957-3d1c-4c1e-88bc-4a3ee64b3e55\")>,\n",
       " <selenium.webdriver.remote.webelement.WebElement (session=\"84b042e93f73cafa3dba971491e8bf7f\", element=\"8586485e-e40b-4307-86b2-93993cca11e6\")>,\n",
       " <selenium.webdriver.remote.webelement.WebElement (session=\"84b042e93f73cafa3dba971491e8bf7f\", element=\"5ef8766b-3998-4ca9-be42-1c256dabe1d3\")>,\n",
       " <selenium.webdriver.remote.webelement.WebElement (session=\"84b042e93f73cafa3dba971491e8bf7f\", element=\"e4300a51-12e6-4bce-9db9-f276a4f7f96b\")>,\n",
       " <selenium.webdriver.remote.webelement.WebElement (session=\"84b042e93f73cafa3dba971491e8bf7f\", element=\"966a6a3b-50d1-407d-a3ed-e826ac50dfad\")>,\n",
       " <selenium.webdriver.remote.webelement.WebElement (session=\"84b042e93f73cafa3dba971491e8bf7f\", element=\"320412ee-5407-400d-872c-7b23fd1a0d53\")>,\n",
       " <selenium.webdriver.remote.webelement.WebElement (session=\"84b042e93f73cafa3dba971491e8bf7f\", element=\"dab9cb00-2701-4072-be09-bb43f6d380f6\")>,\n",
       " <selenium.webdriver.remote.webelement.WebElement (session=\"84b042e93f73cafa3dba971491e8bf7f\", element=\"80fdef23-cb34-460d-b8a1-4c76cf2b2fcc\")>,\n",
       " <selenium.webdriver.remote.webelement.WebElement (session=\"84b042e93f73cafa3dba971491e8bf7f\", element=\"e7bd98fa-c140-40ec-851c-f166f5107ee8\")>,\n",
       " <selenium.webdriver.remote.webelement.WebElement (session=\"84b042e93f73cafa3dba971491e8bf7f\", element=\"1262f736-0dee-4505-bcc1-c1e7d5f7e22d\")>,\n",
       " <selenium.webdriver.remote.webelement.WebElement (session=\"84b042e93f73cafa3dba971491e8bf7f\", element=\"6716b17f-3e7f-4110-ba9a-b437404ef311\")>]"
      ]
     },
     "execution_count": 16,
     "metadata": {},
     "output_type": "execute_result"
    }
   ],
   "source": [
    "company_tags = driver.find_elements_by_xpath(\"//a[@class='subTitle ellipsis fleft']\")\n",
    "company_tags[0:20]"
   ]
  },
  {
   "cell_type": "code",
   "execution_count": null,
   "id": "0e4af04f",
   "metadata": {},
   "outputs": [],
   "source": []
  },
  {
   "cell_type": "code",
   "execution_count": null,
   "id": "09324c5d",
   "metadata": {},
   "outputs": [],
   "source": []
  },
  {
   "cell_type": "code",
   "execution_count": 17,
   "id": "00db2885",
   "metadata": {},
   "outputs": [
    {
     "data": {
      "text/plain": [
       "['Cerner',\n",
       " 'Flipkart',\n",
       " 'Flipkart',\n",
       " 'Gojek',\n",
       " 'Flipkart',\n",
       " 'Siemens',\n",
       " 'Flipkart',\n",
       " 'Zetwerk Manufacturing Businesses',\n",
       " 'Walmart',\n",
       " 'Enrich talents',\n",
       " 'Saffron Careers Private Limited',\n",
       " 'PayPal',\n",
       " 'Walmart',\n",
       " 'LatentView',\n",
       " 'AECOM',\n",
       " 'Avanze Technologies India Pvt. Ltd.',\n",
       " 'Dell Technologies',\n",
       " 'FINNOVATION TECH SOLUTIONS PRIVATE LIMITED',\n",
       " 'Huquo Consulting Pvt. Ltd',\n",
       " 'TALENT MAX HR & MANAGEMENT CONSULTANTS']"
      ]
     },
     "execution_count": 17,
     "metadata": {},
     "output_type": "execute_result"
    }
   ],
   "source": [
    "for i in company_tags:\n",
    "    title=i.text\n",
    "    company_name.append(title)\n",
    "company_name[0:20]"
   ]
  },
  {
   "cell_type": "code",
   "execution_count": 18,
   "id": "58a7413e",
   "metadata": {},
   "outputs": [
    {
     "data": {
      "text/plain": [
       "[<selenium.webdriver.remote.webelement.WebElement (session=\"84b042e93f73cafa3dba971491e8bf7f\", element=\"50e97526-b936-470f-a6b3-0392e0c0bc3a\")>,\n",
       " <selenium.webdriver.remote.webelement.WebElement (session=\"84b042e93f73cafa3dba971491e8bf7f\", element=\"ba92f1c2-8d3e-4e5d-8090-510109d8d6bb\")>,\n",
       " <selenium.webdriver.remote.webelement.WebElement (session=\"84b042e93f73cafa3dba971491e8bf7f\", element=\"5a92cc02-a3db-4f74-ba0a-d578889b2d70\")>,\n",
       " <selenium.webdriver.remote.webelement.WebElement (session=\"84b042e93f73cafa3dba971491e8bf7f\", element=\"a55a50d7-bbbc-44da-83f7-da3045062c79\")>,\n",
       " <selenium.webdriver.remote.webelement.WebElement (session=\"84b042e93f73cafa3dba971491e8bf7f\", element=\"83fe6170-05ef-4545-9d48-c687f464fe1c\")>,\n",
       " <selenium.webdriver.remote.webelement.WebElement (session=\"84b042e93f73cafa3dba971491e8bf7f\", element=\"ca230a30-ade6-46a9-934a-47e04e8142f7\")>,\n",
       " <selenium.webdriver.remote.webelement.WebElement (session=\"84b042e93f73cafa3dba971491e8bf7f\", element=\"119c18aa-e28b-4ee5-9eec-7ae99a5049cf\")>,\n",
       " <selenium.webdriver.remote.webelement.WebElement (session=\"84b042e93f73cafa3dba971491e8bf7f\", element=\"eb7b3657-ce77-40cc-b0a4-1ced933391c7\")>,\n",
       " <selenium.webdriver.remote.webelement.WebElement (session=\"84b042e93f73cafa3dba971491e8bf7f\", element=\"0213ac22-6f20-4494-90dd-65495ddaa139\")>,\n",
       " <selenium.webdriver.remote.webelement.WebElement (session=\"84b042e93f73cafa3dba971491e8bf7f\", element=\"4d3d0ffb-358e-41e5-afd7-31436e31f1dd\")>,\n",
       " <selenium.webdriver.remote.webelement.WebElement (session=\"84b042e93f73cafa3dba971491e8bf7f\", element=\"62d46894-5040-4dbe-9765-966cba118a1f\")>,\n",
       " <selenium.webdriver.remote.webelement.WebElement (session=\"84b042e93f73cafa3dba971491e8bf7f\", element=\"a703586a-1dd0-406e-b9fd-98dd33ca38de\")>,\n",
       " <selenium.webdriver.remote.webelement.WebElement (session=\"84b042e93f73cafa3dba971491e8bf7f\", element=\"3d46d711-9057-4d6c-b025-050865ff5bd6\")>,\n",
       " <selenium.webdriver.remote.webelement.WebElement (session=\"84b042e93f73cafa3dba971491e8bf7f\", element=\"11df6129-72e2-42ab-a86e-246fee0d7ea4\")>,\n",
       " <selenium.webdriver.remote.webelement.WebElement (session=\"84b042e93f73cafa3dba971491e8bf7f\", element=\"fe5ae1b4-fe30-4e55-a1c9-50eee6736ce2\")>,\n",
       " <selenium.webdriver.remote.webelement.WebElement (session=\"84b042e93f73cafa3dba971491e8bf7f\", element=\"a2965c34-ad6d-4e02-a88f-f5ddd84f7929\")>,\n",
       " <selenium.webdriver.remote.webelement.WebElement (session=\"84b042e93f73cafa3dba971491e8bf7f\", element=\"bc2a0d94-4a70-4923-82af-fee09e147f17\")>,\n",
       " <selenium.webdriver.remote.webelement.WebElement (session=\"84b042e93f73cafa3dba971491e8bf7f\", element=\"1704821c-f821-43f3-aeac-aad304bc11c9\")>,\n",
       " <selenium.webdriver.remote.webelement.WebElement (session=\"84b042e93f73cafa3dba971491e8bf7f\", element=\"9226a57c-6f41-4f08-a164-3b274da9a346\")>,\n",
       " <selenium.webdriver.remote.webelement.WebElement (session=\"84b042e93f73cafa3dba971491e8bf7f\", element=\"8022933a-2c69-416e-973c-2862f908a8e1\")>]"
      ]
     },
     "execution_count": 18,
     "metadata": {},
     "output_type": "execute_result"
    }
   ],
   "source": [
    "location_tags = driver.find_elements_by_xpath(\"//li[@class='fleft grey-text br2 placeHolderLi location']/span[1]\")\n",
    "location_tags[0:20]"
   ]
  },
  {
   "cell_type": "code",
   "execution_count": 19,
   "id": "2faba673",
   "metadata": {},
   "outputs": [
    {
     "data": {
      "text/plain": [
       "['Bangalore/Bengaluru',\n",
       " 'Bangalore/Bengaluru',\n",
       " 'Bangalore/Bengaluru',\n",
       " 'Bangalore/Bengaluru',\n",
       " 'Bangalore/Bengaluru',\n",
       " 'Bangalore/Bengaluru',\n",
       " 'Bangalore/Bengaluru',\n",
       " 'Bangalore/Bengaluru',\n",
       " 'Bangalore/Bengaluru',\n",
       " 'Bangalore/Bengaluru',\n",
       " 'Bangalore/Bengaluru',\n",
       " 'Bangalore/Bengaluru',\n",
       " 'Bangalore/Bengaluru',\n",
       " 'Chennai, Bangalore/Bengaluru',\n",
       " 'Bangalore/Bengaluru',\n",
       " 'Bangalore/Bengaluru',\n",
       " 'Bangalore/Bengaluru',\n",
       " 'Bangalore/Bengaluru(Old Madras Road)',\n",
       " 'Gurgaon/Gurugram, Bangalore/Bengaluru',\n",
       " 'Indore, Pune, Bangalore/Bengaluru']"
      ]
     },
     "execution_count": 19,
     "metadata": {},
     "output_type": "execute_result"
    }
   ],
   "source": [
    "for i in location_tags:\n",
    "    title=i.text\n",
    "    job_location.append(title)\n",
    "job_location[0:20]"
   ]
  },
  {
   "cell_type": "code",
   "execution_count": 20,
   "id": "0af9a1ac",
   "metadata": {},
   "outputs": [
    {
     "data": {
      "text/plain": [
       "[<selenium.webdriver.remote.webelement.WebElement (session=\"84b042e93f73cafa3dba971491e8bf7f\", element=\"8a833bee-13cf-43a1-b7e5-e64b926f7d10\")>,\n",
       " <selenium.webdriver.remote.webelement.WebElement (session=\"84b042e93f73cafa3dba971491e8bf7f\", element=\"abae09e5-1e2a-4ce2-8167-144b1bc7c52e\")>,\n",
       " <selenium.webdriver.remote.webelement.WebElement (session=\"84b042e93f73cafa3dba971491e8bf7f\", element=\"e9de6517-41a5-4490-9786-d3d21eac6b72\")>,\n",
       " <selenium.webdriver.remote.webelement.WebElement (session=\"84b042e93f73cafa3dba971491e8bf7f\", element=\"b18d5373-7fcb-429d-8fd9-1710bf803943\")>,\n",
       " <selenium.webdriver.remote.webelement.WebElement (session=\"84b042e93f73cafa3dba971491e8bf7f\", element=\"40182fc2-a241-45cd-a28c-d8f44ca41789\")>,\n",
       " <selenium.webdriver.remote.webelement.WebElement (session=\"84b042e93f73cafa3dba971491e8bf7f\", element=\"e8f93be8-c399-4d14-9f0c-82df631449c2\")>,\n",
       " <selenium.webdriver.remote.webelement.WebElement (session=\"84b042e93f73cafa3dba971491e8bf7f\", element=\"4a58781c-4ca2-4547-8468-0ad2b7b140ff\")>,\n",
       " <selenium.webdriver.remote.webelement.WebElement (session=\"84b042e93f73cafa3dba971491e8bf7f\", element=\"d16aeb01-cf5b-474b-9bed-0cd49075d2e2\")>,\n",
       " <selenium.webdriver.remote.webelement.WebElement (session=\"84b042e93f73cafa3dba971491e8bf7f\", element=\"6923c58f-1fa2-4995-97dd-3b598ece8571\")>,\n",
       " <selenium.webdriver.remote.webelement.WebElement (session=\"84b042e93f73cafa3dba971491e8bf7f\", element=\"ff7da507-e535-4196-a6bf-f675c9542d07\")>,\n",
       " <selenium.webdriver.remote.webelement.WebElement (session=\"84b042e93f73cafa3dba971491e8bf7f\", element=\"7677d2a4-6cd9-4512-a661-ea2a7a3a63d2\")>,\n",
       " <selenium.webdriver.remote.webelement.WebElement (session=\"84b042e93f73cafa3dba971491e8bf7f\", element=\"c6314fa4-5c70-4959-83e0-6a3a0394201d\")>,\n",
       " <selenium.webdriver.remote.webelement.WebElement (session=\"84b042e93f73cafa3dba971491e8bf7f\", element=\"1e867817-db4f-4dbe-b972-fc68e6f46216\")>,\n",
       " <selenium.webdriver.remote.webelement.WebElement (session=\"84b042e93f73cafa3dba971491e8bf7f\", element=\"31f0d716-abc7-4789-b4a8-d4e23eedca7e\")>,\n",
       " <selenium.webdriver.remote.webelement.WebElement (session=\"84b042e93f73cafa3dba971491e8bf7f\", element=\"6bfdf8f3-e140-4033-a7d9-d781313ec4b3\")>,\n",
       " <selenium.webdriver.remote.webelement.WebElement (session=\"84b042e93f73cafa3dba971491e8bf7f\", element=\"4ed36341-2529-4210-944c-643c3cb8b1f0\")>,\n",
       " <selenium.webdriver.remote.webelement.WebElement (session=\"84b042e93f73cafa3dba971491e8bf7f\", element=\"399a82a0-9232-4657-8e56-3516d2c1f273\")>,\n",
       " <selenium.webdriver.remote.webelement.WebElement (session=\"84b042e93f73cafa3dba971491e8bf7f\", element=\"78b515f0-b5ba-4bba-b6c8-2597049c18ba\")>,\n",
       " <selenium.webdriver.remote.webelement.WebElement (session=\"84b042e93f73cafa3dba971491e8bf7f\", element=\"ab5259cd-3960-4f8a-a126-87b5612288c1\")>,\n",
       " <selenium.webdriver.remote.webelement.WebElement (session=\"84b042e93f73cafa3dba971491e8bf7f\", element=\"4c4d28db-37ea-41a4-94f7-4521fcc5d6c2\")>]"
      ]
     },
     "execution_count": 20,
     "metadata": {},
     "output_type": "execute_result"
    }
   ],
   "source": [
    "experience_tags = driver.find_elements_by_xpath(\"//li[@class='fleft grey-text br2 placeHolderLi experience']/span[1]\")\n",
    "experience_tags[0:20]"
   ]
  },
  {
   "cell_type": "code",
   "execution_count": 21,
   "id": "c5b680cc",
   "metadata": {},
   "outputs": [
    {
     "data": {
      "text/plain": [
       "['6-10 Yrs',\n",
       " '2-4 Yrs',\n",
       " '3-6 Yrs',\n",
       " '4-10 Yrs',\n",
       " '4-6 Yrs',\n",
       " '0-10 Yrs',\n",
       " '1-3 Yrs',\n",
       " '1-3 Yrs',\n",
       " '4-10 Yrs',\n",
       " '0-4 Yrs',\n",
       " '3-9 Yrs',\n",
       " '3-7 Yrs',\n",
       " '5-8 Yrs',\n",
       " '2-6 Yrs',\n",
       " '2-7 Yrs',\n",
       " '6-8 Yrs',\n",
       " '1-6 Yrs',\n",
       " '3-6 Yrs',\n",
       " '2-6 Yrs',\n",
       " '8-13 Yrs']"
      ]
     },
     "execution_count": 21,
     "metadata": {},
     "output_type": "execute_result"
    }
   ],
   "source": [
    "for i in experience_tags:\n",
    "    experience_required.append(i.text)\n",
    "experience_required[0:20]"
   ]
  },
  {
   "cell_type": "code",
   "execution_count": 22,
   "id": "c65a0b7c",
   "metadata": {},
   "outputs": [
    {
     "name": "stdout",
     "output_type": "stream",
     "text": [
      "20 20 20 20\n"
     ]
    }
   ],
   "source": [
    "print(len(job_titles),len(company_name),len(job_location),len(experience_required))"
   ]
  },
  {
   "cell_type": "raw",
   "id": "ee03abd5",
   "metadata": {},
   "source": [
    "# Creating dataFrame"
   ]
  },
  {
   "cell_type": "code",
   "execution_count": 23,
   "id": "53128441",
   "metadata": {},
   "outputs": [],
   "source": [
    "nau_data =pd.DataFrame({'job_titles':job_titles,'company_name':company_name,'job_location':job_location,'experience_required':experience_required})"
   ]
  },
  {
   "cell_type": "code",
   "execution_count": 24,
   "id": "91135ffc",
   "metadata": {},
   "outputs": [
    {
     "data": {
      "text/html": [
       "<div>\n",
       "<style scoped>\n",
       "    .dataframe tbody tr th:only-of-type {\n",
       "        vertical-align: middle;\n",
       "    }\n",
       "\n",
       "    .dataframe tbody tr th {\n",
       "        vertical-align: top;\n",
       "    }\n",
       "\n",
       "    .dataframe thead th {\n",
       "        text-align: right;\n",
       "    }\n",
       "</style>\n",
       "<table border=\"1\" class=\"dataframe\">\n",
       "  <thead>\n",
       "    <tr style=\"text-align: right;\">\n",
       "      <th></th>\n",
       "      <th>job_titles</th>\n",
       "      <th>company_name</th>\n",
       "      <th>job_location</th>\n",
       "      <th>experience_required</th>\n",
       "    </tr>\n",
       "  </thead>\n",
       "  <tbody>\n",
       "    <tr>\n",
       "      <th>0</th>\n",
       "      <td>Data Analyst II</td>\n",
       "      <td>Cerner</td>\n",
       "      <td>Bangalore/Bengaluru</td>\n",
       "      <td>6-10 Yrs</td>\n",
       "    </tr>\n",
       "    <tr>\n",
       "      <th>1</th>\n",
       "      <td>Senior Data Analyst II</td>\n",
       "      <td>Flipkart</td>\n",
       "      <td>Bangalore/Bengaluru</td>\n",
       "      <td>2-4 Yrs</td>\n",
       "    </tr>\n",
       "    <tr>\n",
       "      <th>2</th>\n",
       "      <td>Senior Data Analyst II</td>\n",
       "      <td>Flipkart</td>\n",
       "      <td>Bangalore/Bengaluru</td>\n",
       "      <td>3-6 Yrs</td>\n",
       "    </tr>\n",
       "    <tr>\n",
       "      <th>3</th>\n",
       "      <td>Senior Data Analyst - Logistics</td>\n",
       "      <td>Gojek</td>\n",
       "      <td>Bangalore/Bengaluru</td>\n",
       "      <td>4-10 Yrs</td>\n",
       "    </tr>\n",
       "    <tr>\n",
       "      <th>4</th>\n",
       "      <td>Senior Data Analyst</td>\n",
       "      <td>Flipkart</td>\n",
       "      <td>Bangalore/Bengaluru</td>\n",
       "      <td>4-6 Yrs</td>\n",
       "    </tr>\n",
       "    <tr>\n",
       "      <th>5</th>\n",
       "      <td>Sr Domain Expert -Data Analysts</td>\n",
       "      <td>Siemens</td>\n",
       "      <td>Bangalore/Bengaluru</td>\n",
       "      <td>0-10 Yrs</td>\n",
       "    </tr>\n",
       "    <tr>\n",
       "      <th>6</th>\n",
       "      <td>Consultant - Data Analyst</td>\n",
       "      <td>Flipkart</td>\n",
       "      <td>Bangalore/Bengaluru</td>\n",
       "      <td>1-3 Yrs</td>\n",
       "    </tr>\n",
       "    <tr>\n",
       "      <th>7</th>\n",
       "      <td>Data Analyst</td>\n",
       "      <td>Zetwerk Manufacturing Businesses</td>\n",
       "      <td>Bangalore/Bengaluru</td>\n",
       "      <td>1-3 Yrs</td>\n",
       "    </tr>\n",
       "    <tr>\n",
       "      <th>8</th>\n",
       "      <td>People Data Analyst</td>\n",
       "      <td>Walmart</td>\n",
       "      <td>Bangalore/Bengaluru</td>\n",
       "      <td>4-10 Yrs</td>\n",
       "    </tr>\n",
       "    <tr>\n",
       "      <th>9</th>\n",
       "      <td>Data Analyst</td>\n",
       "      <td>Enrich talents</td>\n",
       "      <td>Bangalore/Bengaluru</td>\n",
       "      <td>0-4 Yrs</td>\n",
       "    </tr>\n",
       "    <tr>\n",
       "      <th>10</th>\n",
       "      <td>Senior Data Analyst</td>\n",
       "      <td>Saffron Careers Private Limited</td>\n",
       "      <td>Bangalore/Bengaluru</td>\n",
       "      <td>3-9 Yrs</td>\n",
       "    </tr>\n",
       "    <tr>\n",
       "      <th>11</th>\n",
       "      <td>Blockchain AML Data Analyst</td>\n",
       "      <td>PayPal</td>\n",
       "      <td>Bangalore/Bengaluru</td>\n",
       "      <td>3-7 Yrs</td>\n",
       "    </tr>\n",
       "    <tr>\n",
       "      <th>12</th>\n",
       "      <td>Senior Data Analyst</td>\n",
       "      <td>Walmart</td>\n",
       "      <td>Bangalore/Bengaluru</td>\n",
       "      <td>5-8 Yrs</td>\n",
       "    </tr>\n",
       "    <tr>\n",
       "      <th>13</th>\n",
       "      <td>Senior Data Analyst</td>\n",
       "      <td>LatentView</td>\n",
       "      <td>Chennai, Bangalore/Bengaluru</td>\n",
       "      <td>2-6 Yrs</td>\n",
       "    </tr>\n",
       "    <tr>\n",
       "      <th>14</th>\n",
       "      <td>Data Analyst</td>\n",
       "      <td>AECOM</td>\n",
       "      <td>Bangalore/Bengaluru</td>\n",
       "      <td>2-7 Yrs</td>\n",
       "    </tr>\n",
       "    <tr>\n",
       "      <th>15</th>\n",
       "      <td>Data Analysts with Business Analysis</td>\n",
       "      <td>Avanze Technologies India Pvt. Ltd.</td>\n",
       "      <td>Bangalore/Bengaluru</td>\n",
       "      <td>6-8 Yrs</td>\n",
       "    </tr>\n",
       "    <tr>\n",
       "      <th>16</th>\n",
       "      <td>Senior Data Analyst (Digital Services Analytics)</td>\n",
       "      <td>Dell Technologies</td>\n",
       "      <td>Bangalore/Bengaluru</td>\n",
       "      <td>1-6 Yrs</td>\n",
       "    </tr>\n",
       "    <tr>\n",
       "      <th>17</th>\n",
       "      <td>Senior Data Analyst</td>\n",
       "      <td>FINNOVATION TECH SOLUTIONS PRIVATE LIMITED</td>\n",
       "      <td>Bangalore/Bengaluru(Old Madras Road)</td>\n",
       "      <td>3-6 Yrs</td>\n",
       "    </tr>\n",
       "    <tr>\n",
       "      <th>18</th>\n",
       "      <td>Assistant Manager/Lead/Manager - Data Analyst ...</td>\n",
       "      <td>Huquo Consulting Pvt. Ltd</td>\n",
       "      <td>Gurgaon/Gurugram, Bangalore/Bengaluru</td>\n",
       "      <td>2-6 Yrs</td>\n",
       "    </tr>\n",
       "    <tr>\n",
       "      <th>19</th>\n",
       "      <td>Data Analyst / Data Engineer</td>\n",
       "      <td>TALENT MAX HR &amp; MANAGEMENT CONSULTANTS</td>\n",
       "      <td>Indore, Pune, Bangalore/Bengaluru</td>\n",
       "      <td>8-13 Yrs</td>\n",
       "    </tr>\n",
       "  </tbody>\n",
       "</table>\n",
       "</div>"
      ],
      "text/plain": [
       "                                           job_titles  \\\n",
       "0                                     Data Analyst II   \n",
       "1                              Senior Data Analyst II   \n",
       "2                              Senior Data Analyst II   \n",
       "3                     Senior Data Analyst - Logistics   \n",
       "4                                 Senior Data Analyst   \n",
       "5                     Sr Domain Expert -Data Analysts   \n",
       "6                           Consultant - Data Analyst   \n",
       "7                                        Data Analyst   \n",
       "8                                 People Data Analyst   \n",
       "9                                        Data Analyst   \n",
       "10                                Senior Data Analyst   \n",
       "11                        Blockchain AML Data Analyst   \n",
       "12                                Senior Data Analyst   \n",
       "13                                Senior Data Analyst   \n",
       "14                                       Data Analyst   \n",
       "15               Data Analysts with Business Analysis   \n",
       "16   Senior Data Analyst (Digital Services Analytics)   \n",
       "17                                Senior Data Analyst   \n",
       "18  Assistant Manager/Lead/Manager - Data Analyst ...   \n",
       "19                       Data Analyst / Data Engineer   \n",
       "\n",
       "                                  company_name  \\\n",
       "0                                       Cerner   \n",
       "1                                     Flipkart   \n",
       "2                                     Flipkart   \n",
       "3                                        Gojek   \n",
       "4                                     Flipkart   \n",
       "5                                      Siemens   \n",
       "6                                     Flipkart   \n",
       "7             Zetwerk Manufacturing Businesses   \n",
       "8                                      Walmart   \n",
       "9                               Enrich talents   \n",
       "10             Saffron Careers Private Limited   \n",
       "11                                      PayPal   \n",
       "12                                     Walmart   \n",
       "13                                  LatentView   \n",
       "14                                       AECOM   \n",
       "15         Avanze Technologies India Pvt. Ltd.   \n",
       "16                           Dell Technologies   \n",
       "17  FINNOVATION TECH SOLUTIONS PRIVATE LIMITED   \n",
       "18                   Huquo Consulting Pvt. Ltd   \n",
       "19      TALENT MAX HR & MANAGEMENT CONSULTANTS   \n",
       "\n",
       "                             job_location experience_required  \n",
       "0                     Bangalore/Bengaluru            6-10 Yrs  \n",
       "1                     Bangalore/Bengaluru             2-4 Yrs  \n",
       "2                     Bangalore/Bengaluru             3-6 Yrs  \n",
       "3                     Bangalore/Bengaluru            4-10 Yrs  \n",
       "4                     Bangalore/Bengaluru             4-6 Yrs  \n",
       "5                     Bangalore/Bengaluru            0-10 Yrs  \n",
       "6                     Bangalore/Bengaluru             1-3 Yrs  \n",
       "7                     Bangalore/Bengaluru             1-3 Yrs  \n",
       "8                     Bangalore/Bengaluru            4-10 Yrs  \n",
       "9                     Bangalore/Bengaluru             0-4 Yrs  \n",
       "10                    Bangalore/Bengaluru             3-9 Yrs  \n",
       "11                    Bangalore/Bengaluru             3-7 Yrs  \n",
       "12                    Bangalore/Bengaluru             5-8 Yrs  \n",
       "13           Chennai, Bangalore/Bengaluru             2-6 Yrs  \n",
       "14                    Bangalore/Bengaluru             2-7 Yrs  \n",
       "15                    Bangalore/Bengaluru             6-8 Yrs  \n",
       "16                    Bangalore/Bengaluru             1-6 Yrs  \n",
       "17   Bangalore/Bengaluru(Old Madras Road)             3-6 Yrs  \n",
       "18  Gurgaon/Gurugram, Bangalore/Bengaluru             2-6 Yrs  \n",
       "19      Indore, Pune, Bangalore/Bengaluru            8-13 Yrs  "
      ]
     },
     "execution_count": 24,
     "metadata": {},
     "output_type": "execute_result"
    }
   ],
   "source": [
    "nau_data.head(20)"
   ]
  },
  {
   "cell_type": "code",
   "execution_count": 25,
   "id": "114d7c9e",
   "metadata": {},
   "outputs": [],
   "source": [
    "#driver.close()"
   ]
  },
  {
   "cell_type": "code",
   "execution_count": null,
   "id": "a9bad5d9",
   "metadata": {},
   "outputs": [],
   "source": []
  },
  {
   "cell_type": "markdown",
   "id": "b6a32373",
   "metadata": {},
   "source": [
    "## 2) python program to scrape data for “Data Scientist” Job position in “Bangalore” location:"
   ]
  },
  {
   "cell_type": "code",
   "execution_count": 26,
   "id": "05d4686a",
   "metadata": {},
   "outputs": [],
   "source": [
    "driver = webdriver.Chrome(r\"C:\\Users\\Thamizh\\Downloads\\chromedriver_win32 (2)\\chromedriver.exe\")"
   ]
  },
  {
   "cell_type": "code",
   "execution_count": 27,
   "id": "223a5a00",
   "metadata": {},
   "outputs": [],
   "source": [
    "driver.get('https://www.naukri.com/ ')"
   ]
  },
  {
   "cell_type": "code",
   "execution_count": 28,
   "id": "98488d74",
   "metadata": {},
   "outputs": [],
   "source": [
    "url=(\"https://www.naukri.com/data-scientist-jobs-in-bangalore-bengaluru?k=data%20scientist&l=bangalore%2Fbengaluru\")"
   ]
  },
  {
   "cell_type": "code",
   "execution_count": 29,
   "id": "44b64835",
   "metadata": {},
   "outputs": [],
   "source": [
    "driver.get(url)"
   ]
  },
  {
   "cell_type": "code",
   "execution_count": 30,
   "id": "63b809c8",
   "metadata": {},
   "outputs": [],
   "source": [
    "job_titles = []\n",
    "job_location = []\n",
    "company_name = []\n",
    "experience_required = []"
   ]
  },
  {
   "cell_type": "code",
   "execution_count": 31,
   "id": "f9b2f15d",
   "metadata": {},
   "outputs": [
    {
     "data": {
      "text/plain": [
       "[<selenium.webdriver.remote.webelement.WebElement (session=\"1e771c3bfa4293e8e2d2babbee5bf294\", element=\"f28479c5-3a83-466e-97f7-933dc86e7f2f\")>,\n",
       " <selenium.webdriver.remote.webelement.WebElement (session=\"1e771c3bfa4293e8e2d2babbee5bf294\", element=\"f26206b6-4c5d-435a-bb65-832b4601a246\")>,\n",
       " <selenium.webdriver.remote.webelement.WebElement (session=\"1e771c3bfa4293e8e2d2babbee5bf294\", element=\"a10194ae-2576-4f0d-9b64-d71ae553ffd7\")>,\n",
       " <selenium.webdriver.remote.webelement.WebElement (session=\"1e771c3bfa4293e8e2d2babbee5bf294\", element=\"043669dc-dd5c-4a51-8a8c-c1677214b087\")>,\n",
       " <selenium.webdriver.remote.webelement.WebElement (session=\"1e771c3bfa4293e8e2d2babbee5bf294\", element=\"c96fd2fd-e438-4627-a602-ae14842a08e9\")>,\n",
       " <selenium.webdriver.remote.webelement.WebElement (session=\"1e771c3bfa4293e8e2d2babbee5bf294\", element=\"a7e1b475-e95e-4608-8824-1b2af55434fc\")>,\n",
       " <selenium.webdriver.remote.webelement.WebElement (session=\"1e771c3bfa4293e8e2d2babbee5bf294\", element=\"2babfdd1-69a8-4527-a574-9ea07caa87e8\")>,\n",
       " <selenium.webdriver.remote.webelement.WebElement (session=\"1e771c3bfa4293e8e2d2babbee5bf294\", element=\"d541a5af-95b9-4f2a-8532-6df0bb2d8523\")>,\n",
       " <selenium.webdriver.remote.webelement.WebElement (session=\"1e771c3bfa4293e8e2d2babbee5bf294\", element=\"6bb6ed8c-79d0-44be-815b-92701202e8a6\")>,\n",
       " <selenium.webdriver.remote.webelement.WebElement (session=\"1e771c3bfa4293e8e2d2babbee5bf294\", element=\"3d5f8f3d-a692-4d1c-9c23-d6be17bce6ff\")>]"
      ]
     },
     "execution_count": 31,
     "metadata": {},
     "output_type": "execute_result"
    }
   ],
   "source": [
    "title_tags = driver.find_elements_by_xpath(\"//a[@class='title fw500 ellipsis']\")\n",
    "title_tags[0:10]"
   ]
  },
  {
   "cell_type": "code",
   "execution_count": 32,
   "id": "d16ccb39",
   "metadata": {},
   "outputs": [
    {
     "data": {
      "text/plain": [
       "['Lead Data Scientist',\n",
       " 'Senior Data Scientist',\n",
       " 'ASSOCIATE DATA SCIENTIST',\n",
       " 'Data Scientist: Advanced Analytics',\n",
       " 'Data Scientist',\n",
       " 'Data Scientist: Artificial Intelligence',\n",
       " 'Data Scientist',\n",
       " 'Data Scientist/Engineer - Global Telecom Setup',\n",
       " 'Analyst- Data Scientist',\n",
       " 'Data Scientist']"
      ]
     },
     "execution_count": 32,
     "metadata": {},
     "output_type": "execute_result"
    }
   ],
   "source": [
    "for i in title_tags:\n",
    "    title=i.text\n",
    "    job_titles.append(title)\n",
    "job_titles[0:10]"
   ]
  },
  {
   "cell_type": "code",
   "execution_count": 33,
   "id": "16ac7b7d",
   "metadata": {},
   "outputs": [
    {
     "data": {
      "text/plain": [
       "[<selenium.webdriver.remote.webelement.WebElement (session=\"1e771c3bfa4293e8e2d2babbee5bf294\", element=\"b955414e-fb18-4a0e-9950-32032be4cdce\")>,\n",
       " <selenium.webdriver.remote.webelement.WebElement (session=\"1e771c3bfa4293e8e2d2babbee5bf294\", element=\"7006b88f-5672-4df1-ac18-e51a223a88b9\")>,\n",
       " <selenium.webdriver.remote.webelement.WebElement (session=\"1e771c3bfa4293e8e2d2babbee5bf294\", element=\"c0f0b06b-eb64-4da5-ac70-c12a51ef821e\")>,\n",
       " <selenium.webdriver.remote.webelement.WebElement (session=\"1e771c3bfa4293e8e2d2babbee5bf294\", element=\"f3a55671-c733-4fe4-9059-e7a8f63cde22\")>,\n",
       " <selenium.webdriver.remote.webelement.WebElement (session=\"1e771c3bfa4293e8e2d2babbee5bf294\", element=\"6c168d8c-2db2-48ba-8eb6-58366f4555c8\")>,\n",
       " <selenium.webdriver.remote.webelement.WebElement (session=\"1e771c3bfa4293e8e2d2babbee5bf294\", element=\"6e9a6381-bc30-4474-947a-3bfd24eb473f\")>,\n",
       " <selenium.webdriver.remote.webelement.WebElement (session=\"1e771c3bfa4293e8e2d2babbee5bf294\", element=\"987f5133-8000-42db-8a3d-faf0e8a3075d\")>,\n",
       " <selenium.webdriver.remote.webelement.WebElement (session=\"1e771c3bfa4293e8e2d2babbee5bf294\", element=\"dd66b484-3388-4c3f-904f-353853647b01\")>,\n",
       " <selenium.webdriver.remote.webelement.WebElement (session=\"1e771c3bfa4293e8e2d2babbee5bf294\", element=\"cd322b9f-6171-41cb-9ff1-2de8d71c9607\")>,\n",
       " <selenium.webdriver.remote.webelement.WebElement (session=\"1e771c3bfa4293e8e2d2babbee5bf294\", element=\"4abd9c37-7ab0-4f71-88f7-e6693c601c41\")>]"
      ]
     },
     "execution_count": 33,
     "metadata": {},
     "output_type": "execute_result"
    }
   ],
   "source": [
    "company_tags = driver.find_elements_by_xpath(\"//a[@class='subTitle ellipsis fleft']\")\n",
    "company_tags[0:10]"
   ]
  },
  {
   "cell_type": "code",
   "execution_count": 34,
   "id": "f8249c53",
   "metadata": {},
   "outputs": [
    {
     "data": {
      "text/plain": [
       "['Groww',\n",
       " 'PayU',\n",
       " 'Hinduja Global',\n",
       " 'IBM',\n",
       " 'Applied Materials',\n",
       " 'IBM',\n",
       " 'Applied Materials',\n",
       " 'Global Telecom Setup',\n",
       " 'Sigma Aldrich',\n",
       " 'PayU']"
      ]
     },
     "execution_count": 34,
     "metadata": {},
     "output_type": "execute_result"
    }
   ],
   "source": [
    "for i in company_tags:\n",
    "    title=i.text\n",
    "    company_name.append(title)\n",
    "company_name[0:10]"
   ]
  },
  {
   "cell_type": "code",
   "execution_count": 35,
   "id": "cecfe547",
   "metadata": {},
   "outputs": [
    {
     "data": {
      "text/plain": [
       "[<selenium.webdriver.remote.webelement.WebElement (session=\"1e771c3bfa4293e8e2d2babbee5bf294\", element=\"6fabf9ed-b972-4809-8c11-595765deab60\")>,\n",
       " <selenium.webdriver.remote.webelement.WebElement (session=\"1e771c3bfa4293e8e2d2babbee5bf294\", element=\"7bafe8a1-012f-4398-82cf-505a376d5f6a\")>,\n",
       " <selenium.webdriver.remote.webelement.WebElement (session=\"1e771c3bfa4293e8e2d2babbee5bf294\", element=\"8515b3d3-c62a-4289-98d4-7281c35e74ce\")>,\n",
       " <selenium.webdriver.remote.webelement.WebElement (session=\"1e771c3bfa4293e8e2d2babbee5bf294\", element=\"4032701e-a246-4068-8e55-93664fe7e733\")>,\n",
       " <selenium.webdriver.remote.webelement.WebElement (session=\"1e771c3bfa4293e8e2d2babbee5bf294\", element=\"429ba0e8-0687-4f53-9fc6-b57d0a0f0566\")>,\n",
       " <selenium.webdriver.remote.webelement.WebElement (session=\"1e771c3bfa4293e8e2d2babbee5bf294\", element=\"643f9896-b5b2-4cfa-b57b-457256371527\")>,\n",
       " <selenium.webdriver.remote.webelement.WebElement (session=\"1e771c3bfa4293e8e2d2babbee5bf294\", element=\"04533cd4-3c7c-458b-b24b-dc18e6c2874c\")>,\n",
       " <selenium.webdriver.remote.webelement.WebElement (session=\"1e771c3bfa4293e8e2d2babbee5bf294\", element=\"ce261045-46f9-438a-b99a-ccabfd7be411\")>,\n",
       " <selenium.webdriver.remote.webelement.WebElement (session=\"1e771c3bfa4293e8e2d2babbee5bf294\", element=\"3ff6c3b3-b70f-489b-bd62-75260bb59725\")>,\n",
       " <selenium.webdriver.remote.webelement.WebElement (session=\"1e771c3bfa4293e8e2d2babbee5bf294\", element=\"d47f6fc4-f628-4afe-a9c5-168c0dd5b0bc\")>]"
      ]
     },
     "execution_count": 35,
     "metadata": {},
     "output_type": "execute_result"
    }
   ],
   "source": [
    "location_tags = driver.find_elements_by_xpath(\"//li[@class='fleft grey-text br2 placeHolderLi location']/span[1]\")\n",
    "location_tags[0:10]"
   ]
  },
  {
   "cell_type": "code",
   "execution_count": 36,
   "id": "d10dbbe2",
   "metadata": {},
   "outputs": [
    {
     "data": {
      "text/plain": [
       "['Bangalore/Bengaluru',\n",
       " 'Bangalore/Bengaluru',\n",
       " 'Bangalore/Bengaluru',\n",
       " 'Bangalore/Bengaluru',\n",
       " 'Bangalore/Bengaluru',\n",
       " 'Bangalore/Bengaluru',\n",
       " 'Bangalore/Bengaluru',\n",
       " 'Hyderabad/Secunderabad, Pune, Bangalore/Bengaluru',\n",
       " 'Bangalore/Bengaluru',\n",
       " 'Bangalore/Bengaluru']"
      ]
     },
     "execution_count": 36,
     "metadata": {},
     "output_type": "execute_result"
    }
   ],
   "source": [
    "for i in location_tags:\n",
    "    title=i.text\n",
    "    job_location.append(title)\n",
    "job_location[0:10]"
   ]
  },
  {
   "cell_type": "code",
   "execution_count": 37,
   "id": "c80fef4e",
   "metadata": {},
   "outputs": [
    {
     "data": {
      "text/plain": [
       "[<selenium.webdriver.remote.webelement.WebElement (session=\"1e771c3bfa4293e8e2d2babbee5bf294\", element=\"f1d1a1af-ae4d-48c3-915a-b800727ba2a8\")>,\n",
       " <selenium.webdriver.remote.webelement.WebElement (session=\"1e771c3bfa4293e8e2d2babbee5bf294\", element=\"ab302ebb-88f1-44a2-95e2-378a741138cd\")>,\n",
       " <selenium.webdriver.remote.webelement.WebElement (session=\"1e771c3bfa4293e8e2d2babbee5bf294\", element=\"3e8f817a-3ca7-4b13-91c2-b2a6c6115906\")>,\n",
       " <selenium.webdriver.remote.webelement.WebElement (session=\"1e771c3bfa4293e8e2d2babbee5bf294\", element=\"6df1eae6-2370-4828-aa65-ecd308b93044\")>,\n",
       " <selenium.webdriver.remote.webelement.WebElement (session=\"1e771c3bfa4293e8e2d2babbee5bf294\", element=\"e03f98a4-c9d8-45d2-8059-9bace4462aee\")>,\n",
       " <selenium.webdriver.remote.webelement.WebElement (session=\"1e771c3bfa4293e8e2d2babbee5bf294\", element=\"599bed0d-886e-441d-ad5d-45b183c27d7b\")>,\n",
       " <selenium.webdriver.remote.webelement.WebElement (session=\"1e771c3bfa4293e8e2d2babbee5bf294\", element=\"4b201446-a6dd-48ba-9803-0ebf1b155c8a\")>,\n",
       " <selenium.webdriver.remote.webelement.WebElement (session=\"1e771c3bfa4293e8e2d2babbee5bf294\", element=\"694770e1-bc2c-4481-a7ee-0b6276f7709f\")>,\n",
       " <selenium.webdriver.remote.webelement.WebElement (session=\"1e771c3bfa4293e8e2d2babbee5bf294\", element=\"c78b05ee-2bfb-46fe-993d-1a0545dc2f92\")>,\n",
       " <selenium.webdriver.remote.webelement.WebElement (session=\"1e771c3bfa4293e8e2d2babbee5bf294\", element=\"3f8528c0-1035-4ac2-b6a9-d74216da220f\")>]"
      ]
     },
     "execution_count": 37,
     "metadata": {},
     "output_type": "execute_result"
    }
   ],
   "source": [
    "experience_tags = driver.find_elements_by_xpath(\"//li[@class='fleft grey-text br2 placeHolderLi experience']/span[1]\")\n",
    "experience_tags[0:10]"
   ]
  },
  {
   "cell_type": "code",
   "execution_count": 91,
   "id": "1c86c358",
   "metadata": {},
   "outputs": [
    {
     "data": {
      "text/plain": [
       "['0-3 Yrs',\n",
       " '2-4 Yrs',\n",
       " '4-7 Yrs',\n",
       " '10-15 Yrs',\n",
       " '3-8 Yrs',\n",
       " '3-8 Yrs',\n",
       " '6-9 Yrs',\n",
       " '4-7 Yrs',\n",
       " '2-7 Yrs',\n",
       " '5-9 Yrs']"
      ]
     },
     "execution_count": 91,
     "metadata": {},
     "output_type": "execute_result"
    }
   ],
   "source": [
    "for i in experience_tags:\n",
    "    experience_required.append(i.text)\n",
    "experience_required[0:10]"
   ]
  },
  {
   "cell_type": "code",
   "execution_count": 92,
   "id": "a17872a8",
   "metadata": {},
   "outputs": [
    {
     "name": "stdout",
     "output_type": "stream",
     "text": [
      "20 20 20 20\n"
     ]
    }
   ],
   "source": [
    "print(len(job_titles),len(company_name),len(job_location),len(experience_required))"
   ]
  },
  {
   "cell_type": "code",
   "execution_count": 284,
   "id": "9363f93c",
   "metadata": {},
   "outputs": [],
   "source": [
    "filter_data = pd.DataFrame({'job_list':job_list,'company_list':company_list,'location_list':location_list,'experience_list':experience_list})"
   ]
  },
  {
   "cell_type": "code",
   "execution_count": 285,
   "id": "1a264a1a",
   "metadata": {},
   "outputs": [
    {
     "data": {
      "text/html": [
       "<div>\n",
       "<style scoped>\n",
       "    .dataframe tbody tr th:only-of-type {\n",
       "        vertical-align: middle;\n",
       "    }\n",
       "\n",
       "    .dataframe tbody tr th {\n",
       "        vertical-align: top;\n",
       "    }\n",
       "\n",
       "    .dataframe thead th {\n",
       "        text-align: right;\n",
       "    }\n",
       "</style>\n",
       "<table border=\"1\" class=\"dataframe\">\n",
       "  <thead>\n",
       "    <tr style=\"text-align: right;\">\n",
       "      <th></th>\n",
       "      <th>job_titles</th>\n",
       "      <th>company_name</th>\n",
       "      <th>job_location</th>\n",
       "      <th>experience_required</th>\n",
       "    </tr>\n",
       "  </thead>\n",
       "  <tbody>\n",
       "    <tr>\n",
       "      <th>0</th>\n",
       "      <td>Data Scientist</td>\n",
       "      <td>Applied Materials</td>\n",
       "      <td>Bangalore/Bengaluru</td>\n",
       "      <td>0-3 Yrs</td>\n",
       "    </tr>\n",
       "    <tr>\n",
       "      <th>1</th>\n",
       "      <td>Data Scientist</td>\n",
       "      <td>Applied Materials</td>\n",
       "      <td>Bangalore/Bengaluru</td>\n",
       "      <td>2-4 Yrs</td>\n",
       "    </tr>\n",
       "    <tr>\n",
       "      <th>2</th>\n",
       "      <td>Data Scientist</td>\n",
       "      <td>Applied Materials</td>\n",
       "      <td>Bangalore/Bengaluru</td>\n",
       "      <td>4-7 Yrs</td>\n",
       "    </tr>\n",
       "    <tr>\n",
       "      <th>3</th>\n",
       "      <td>Manager - Data Scientist Job @ Applied Materia...</td>\n",
       "      <td>Applied Materials</td>\n",
       "      <td>Bangalore/Bengaluru(Whitefield)</td>\n",
       "      <td>10-15 Yrs</td>\n",
       "    </tr>\n",
       "    <tr>\n",
       "      <th>4</th>\n",
       "      <td>Data Scientist/Engineer - Global Telecom Setup</td>\n",
       "      <td>Global Telecom Setup</td>\n",
       "      <td>Hyderabad/Secunderabad, Pune, Bangalore/Bengaluru</td>\n",
       "      <td>3-8 Yrs</td>\n",
       "    </tr>\n",
       "    <tr>\n",
       "      <th>5</th>\n",
       "      <td>Data Scientist - Immediate Joiners</td>\n",
       "      <td>Bristlecone</td>\n",
       "      <td>Noida, Mumbai, Pune, Bangalore/Bengaluru</td>\n",
       "      <td>3-8 Yrs</td>\n",
       "    </tr>\n",
       "    <tr>\n",
       "      <th>6</th>\n",
       "      <td>Senior Data Scientist/Data Scientist - Researc...</td>\n",
       "      <td>Hexaconcepts</td>\n",
       "      <td>Bangalore/Bengaluru</td>\n",
       "      <td>6-9 Yrs</td>\n",
       "    </tr>\n",
       "    <tr>\n",
       "      <th>7</th>\n",
       "      <td>Data Scientist</td>\n",
       "      <td>GSK India</td>\n",
       "      <td>Bangalore/Bengaluru</td>\n",
       "      <td>4-7 Yrs</td>\n",
       "    </tr>\n",
       "    <tr>\n",
       "      <th>8</th>\n",
       "      <td>Immediate requirement of Data Scientist ( Bang...</td>\n",
       "      <td>Firstsource Solutions Limited</td>\n",
       "      <td>Bangalore/Bengaluru</td>\n",
       "      <td>2-7 Yrs</td>\n",
       "    </tr>\n",
       "    <tr>\n",
       "      <th>9</th>\n",
       "      <td>Senior Data Scientist</td>\n",
       "      <td>GSK India</td>\n",
       "      <td>Bangalore/Bengaluru</td>\n",
       "      <td>5-9 Yrs</td>\n",
       "    </tr>\n",
       "  </tbody>\n",
       "</table>\n",
       "</div>"
      ],
      "text/plain": [
       "                                          job_titles  \\\n",
       "0                                     Data Scientist   \n",
       "1                                     Data Scientist   \n",
       "2                                     Data Scientist   \n",
       "3  Manager - Data Scientist Job @ Applied Materia...   \n",
       "4     Data Scientist/Engineer - Global Telecom Setup   \n",
       "5                 Data Scientist - Immediate Joiners   \n",
       "6  Senior Data Scientist/Data Scientist - Researc...   \n",
       "7                                     Data Scientist   \n",
       "8  Immediate requirement of Data Scientist ( Bang...   \n",
       "9                              Senior Data Scientist   \n",
       "\n",
       "                    company_name  \\\n",
       "0              Applied Materials   \n",
       "1              Applied Materials   \n",
       "2              Applied Materials   \n",
       "3              Applied Materials   \n",
       "4           Global Telecom Setup   \n",
       "5                    Bristlecone   \n",
       "6                   Hexaconcepts   \n",
       "7                      GSK India   \n",
       "8  Firstsource Solutions Limited   \n",
       "9                      GSK India   \n",
       "\n",
       "                                        job_location experience_required  \n",
       "0                                Bangalore/Bengaluru             0-3 Yrs  \n",
       "1                                Bangalore/Bengaluru             2-4 Yrs  \n",
       "2                                Bangalore/Bengaluru             4-7 Yrs  \n",
       "3                    Bangalore/Bengaluru(Whitefield)           10-15 Yrs  \n",
       "4  Hyderabad/Secunderabad, Pune, Bangalore/Bengaluru             3-8 Yrs  \n",
       "5           Noida, Mumbai, Pune, Bangalore/Bengaluru             3-8 Yrs  \n",
       "6                                Bangalore/Bengaluru             6-9 Yrs  \n",
       "7                                Bangalore/Bengaluru             4-7 Yrs  \n",
       "8                                Bangalore/Bengaluru             2-7 Yrs  \n",
       "9                                Bangalore/Bengaluru             5-9 Yrs  "
      ]
     },
     "execution_count": 285,
     "metadata": {},
     "output_type": "execute_result"
    }
   ],
   "source": [
    "data.head(10)"
   ]
  },
  {
   "cell_type": "code",
   "execution_count": 95,
   "id": "1d4d91c2",
   "metadata": {},
   "outputs": [],
   "source": [
    "#driver.close()"
   ]
  },
  {
   "cell_type": "markdown",
   "id": "bf0650fd",
   "metadata": {},
   "source": [
    "## 3) In this question you have to scrape data using the filters available on the webpage as shown below:"
   ]
  },
  {
   "cell_type": "code",
   "execution_count": 262,
   "id": "86546974",
   "metadata": {},
   "outputs": [],
   "source": [
    "driver = webdriver.Chrome(r\"C:\\Users\\Thamizh\\Downloads\\chromedriver_win32 (2)\\chromedriver.exe\")"
   ]
  },
  {
   "cell_type": "code",
   "execution_count": 263,
   "id": "eed4f4ff",
   "metadata": {},
   "outputs": [],
   "source": [
    "driver.get('https://www.naukri.com/')"
   ]
  },
  {
   "cell_type": "code",
   "execution_count": 267,
   "id": "7e59138f",
   "metadata": {},
   "outputs": [],
   "source": [
    "url=(\"https://www.naukri.com/data-scientist-jobs?k=data%20scientist&cityTypeGid=9508&ctcFilter=3to6\")"
   ]
  },
  {
   "cell_type": "code",
   "execution_count": null,
   "id": "10b380ec",
   "metadata": {},
   "outputs": [],
   "source": []
  },
  {
   "cell_type": "markdown",
   "id": "4c45beba",
   "metadata": {},
   "source": [
    "Applying filters now:"
   ]
  },
  {
   "cell_type": "code",
   "execution_count": 269,
   "id": "a536eba1",
   "metadata": {},
   "outputs": [],
   "source": [
    "sel_loc = driver.find_element_by_xpath(\"//div[@class='filterOptns']/div[4]\")\n",
    "sel_loc.click()"
   ]
  },
  {
   "cell_type": "code",
   "execution_count": 270,
   "id": "8a3cb65f",
   "metadata": {},
   "outputs": [],
   "source": [
    "salary = driver.find_element_by_xpath(\"//div[@data-filter-id='salaryRange']/div[2]\")\n",
    "salary.click()"
   ]
  },
  {
   "cell_type": "code",
   "execution_count": 271,
   "id": "429ef4a4",
   "metadata": {},
   "outputs": [],
   "source": [
    "job_list = []\n",
    "company_list = []\n",
    "location_list = []\n",
    "experience_list = []"
   ]
  },
  {
   "cell_type": "code",
   "execution_count": 272,
   "id": "0054b2df",
   "metadata": {},
   "outputs": [
    {
     "data": {
      "text/plain": [
       "[<selenium.webdriver.remote.webelement.WebElement (session=\"b5648d1e235f94f0845ad05e67dd493a\", element=\"5e7b1516-6e3f-4a39-90c6-73087b322565\")>,\n",
       " <selenium.webdriver.remote.webelement.WebElement (session=\"b5648d1e235f94f0845ad05e67dd493a\", element=\"3db09eea-3007-488a-bb70-3432c72cb278\")>,\n",
       " <selenium.webdriver.remote.webelement.WebElement (session=\"b5648d1e235f94f0845ad05e67dd493a\", element=\"3842f0d4-f413-4824-96a7-3899585a03ac\")>,\n",
       " <selenium.webdriver.remote.webelement.WebElement (session=\"b5648d1e235f94f0845ad05e67dd493a\", element=\"b38d4e76-c85c-45fd-99e9-d3346398f2e5\")>,\n",
       " <selenium.webdriver.remote.webelement.WebElement (session=\"b5648d1e235f94f0845ad05e67dd493a\", element=\"bf75813f-4eb3-4f82-b24f-8c5eb0f62fb8\")>,\n",
       " <selenium.webdriver.remote.webelement.WebElement (session=\"b5648d1e235f94f0845ad05e67dd493a\", element=\"2d2eb2ba-9a46-4e37-baef-a6e533f4011e\")>,\n",
       " <selenium.webdriver.remote.webelement.WebElement (session=\"b5648d1e235f94f0845ad05e67dd493a\", element=\"07d41802-77fa-4e0f-8663-9d13893942cb\")>,\n",
       " <selenium.webdriver.remote.webelement.WebElement (session=\"b5648d1e235f94f0845ad05e67dd493a\", element=\"8925125b-1be3-4b35-8c6d-26ce2cab241d\")>,\n",
       " <selenium.webdriver.remote.webelement.WebElement (session=\"b5648d1e235f94f0845ad05e67dd493a\", element=\"155bf8cf-d7d2-4160-9f22-a44285d7c66a\")>,\n",
       " <selenium.webdriver.remote.webelement.WebElement (session=\"b5648d1e235f94f0845ad05e67dd493a\", element=\"ac9aa05d-d474-4aff-8a94-ae4ecf33389d\")>]"
      ]
     },
     "execution_count": 272,
     "metadata": {},
     "output_type": "execute_result"
    }
   ],
   "source": [
    "title_tags = driver.find_elements_by_xpath(\"//a[@class='title fw500 ellipsis']\")\n",
    "title_tags[0:10]"
   ]
  },
  {
   "cell_type": "code",
   "execution_count": 273,
   "id": "f32d4308",
   "metadata": {},
   "outputs": [
    {
     "data": {
      "text/plain": [
       "['Specialist - Data Scientist',\n",
       " 'Data Scientist- Clinical Trial',\n",
       " 'Senior Data Scientist - Regression Modeling',\n",
       " 'Junior/Senior Data Scientist - Consulting Firm',\n",
       " 'Junior/ Senior Data Scientist - Consulting Firm',\n",
       " 'Manager - Data Scientist',\n",
       " 'Senior Business Analytics - Data Scientist/ NASDAQ Firm',\n",
       " 'Data Analyst/ Data Scientist Data Analytics & Visualizations',\n",
       " 'Data Scientist - Deep Learning Solutions',\n",
       " 'Analytics India Magazine - Data Scientist - NLP/R/Python']"
      ]
     },
     "execution_count": 273,
     "metadata": {},
     "output_type": "execute_result"
    }
   ],
   "source": [
    "for i in title_tags:\n",
    "    title=i.text\n",
    "    job_list.append(title)\n",
    "job_list[0:10]"
   ]
  },
  {
   "cell_type": "code",
   "execution_count": 274,
   "id": "eb8a9d1c",
   "metadata": {},
   "outputs": [
    {
     "data": {
      "text/plain": [
       "[<selenium.webdriver.remote.webelement.WebElement (session=\"b5648d1e235f94f0845ad05e67dd493a\", element=\"750e01a9-d492-4649-8d63-8287bde29d97\")>,\n",
       " <selenium.webdriver.remote.webelement.WebElement (session=\"b5648d1e235f94f0845ad05e67dd493a\", element=\"349ec11b-f37b-4400-be5e-74af2f2e3363\")>,\n",
       " <selenium.webdriver.remote.webelement.WebElement (session=\"b5648d1e235f94f0845ad05e67dd493a\", element=\"f8ac1593-7953-432f-9c67-a96731f66dfc\")>,\n",
       " <selenium.webdriver.remote.webelement.WebElement (session=\"b5648d1e235f94f0845ad05e67dd493a\", element=\"e52e1288-970a-49da-9014-036de7dfe7db\")>,\n",
       " <selenium.webdriver.remote.webelement.WebElement (session=\"b5648d1e235f94f0845ad05e67dd493a\", element=\"2573922c-35cd-423a-80c4-8fb20ac6366e\")>,\n",
       " <selenium.webdriver.remote.webelement.WebElement (session=\"b5648d1e235f94f0845ad05e67dd493a\", element=\"5f41d447-c955-4e2d-8c04-58eab22d2c06\")>,\n",
       " <selenium.webdriver.remote.webelement.WebElement (session=\"b5648d1e235f94f0845ad05e67dd493a\", element=\"22a1d751-24ef-4dc6-aa0c-a229d53a4b48\")>,\n",
       " <selenium.webdriver.remote.webelement.WebElement (session=\"b5648d1e235f94f0845ad05e67dd493a\", element=\"dbacb318-858a-4ba3-9e26-7f0750aeeb94\")>,\n",
       " <selenium.webdriver.remote.webelement.WebElement (session=\"b5648d1e235f94f0845ad05e67dd493a\", element=\"2f1f6c6e-b344-4c28-b6c3-8dfc78b516bb\")>,\n",
       " <selenium.webdriver.remote.webelement.WebElement (session=\"b5648d1e235f94f0845ad05e67dd493a\", element=\"5b631ecc-a602-400d-939b-bb43faeb2e38\")>]"
      ]
     },
     "execution_count": 274,
     "metadata": {},
     "output_type": "execute_result"
    }
   ],
   "source": [
    "company_tags = driver.find_elements_by_xpath(\"//a[@class='subTitle ellipsis fleft']\")\n",
    "company_tags[0:10]"
   ]
  },
  {
   "cell_type": "code",
   "execution_count": 275,
   "id": "4a86abf2",
   "metadata": {},
   "outputs": [
    {
     "data": {
      "text/plain": [
       "['UPL',\n",
       " 'Abbott',\n",
       " 'Liquiloans',\n",
       " 'Huquo Consulting Pvt. Ltd',\n",
       " 'Huquo Consulting Pvt. Ltd',\n",
       " 'SBI Card',\n",
       " 'Huquo Consulting Pvt. Ltd',\n",
       " 'SGS GLOBAL SERVICES PRIVATE LIMITED',\n",
       " 'Huquo Consulting Pvt. Ltd',\n",
       " 'AIM recruits']"
      ]
     },
     "execution_count": 275,
     "metadata": {},
     "output_type": "execute_result"
    }
   ],
   "source": [
    "for i in company_tags:\n",
    "    title=i.text\n",
    "    company_list.append(title)\n",
    "company_list[0:10]"
   ]
  },
  {
   "cell_type": "code",
   "execution_count": 276,
   "id": "1d454678",
   "metadata": {},
   "outputs": [
    {
     "data": {
      "text/plain": [
       "[<selenium.webdriver.remote.webelement.WebElement (session=\"b5648d1e235f94f0845ad05e67dd493a\", element=\"0a2554dd-ca18-41f8-ab2e-0e75d6df8178\")>,\n",
       " <selenium.webdriver.remote.webelement.WebElement (session=\"b5648d1e235f94f0845ad05e67dd493a\", element=\"a13b5244-c73a-416a-8251-3e88e1013e02\")>,\n",
       " <selenium.webdriver.remote.webelement.WebElement (session=\"b5648d1e235f94f0845ad05e67dd493a\", element=\"dd45d911-2149-4d23-aeb0-7473ace125d2\")>,\n",
       " <selenium.webdriver.remote.webelement.WebElement (session=\"b5648d1e235f94f0845ad05e67dd493a\", element=\"d7dbcbef-1ed5-4228-95d0-6aa034bd877d\")>,\n",
       " <selenium.webdriver.remote.webelement.WebElement (session=\"b5648d1e235f94f0845ad05e67dd493a\", element=\"cf5a5cd2-f978-48ce-b54b-00193bc23db7\")>,\n",
       " <selenium.webdriver.remote.webelement.WebElement (session=\"b5648d1e235f94f0845ad05e67dd493a\", element=\"5bc18743-c6b1-4ed6-845f-68a849e6d578\")>,\n",
       " <selenium.webdriver.remote.webelement.WebElement (session=\"b5648d1e235f94f0845ad05e67dd493a\", element=\"bb1ef61b-dcee-4063-bf7a-90baeeb852e6\")>,\n",
       " <selenium.webdriver.remote.webelement.WebElement (session=\"b5648d1e235f94f0845ad05e67dd493a\", element=\"5c8a7c78-5711-422e-8bb6-50c43f78e722\")>,\n",
       " <selenium.webdriver.remote.webelement.WebElement (session=\"b5648d1e235f94f0845ad05e67dd493a\", element=\"e56238fb-c7ec-424c-8c95-42b44f6c1470\")>,\n",
       " <selenium.webdriver.remote.webelement.WebElement (session=\"b5648d1e235f94f0845ad05e67dd493a\", element=\"2a29df5a-36e8-4343-a984-e8b38896b387\")>]"
      ]
     },
     "execution_count": 276,
     "metadata": {},
     "output_type": "execute_result"
    }
   ],
   "source": [
    "location_tags = driver.find_elements_by_xpath(\"//li[@class='fleft grey-text br2 placeHolderLi location']/span[1]\")\n",
    "location_tags[0:10]"
   ]
  },
  {
   "cell_type": "code",
   "execution_count": 277,
   "id": "88553b78",
   "metadata": {},
   "outputs": [
    {
     "data": {
      "text/plain": [
       "['Mumbai',\n",
       " 'Mumbai',\n",
       " 'Mumbai',\n",
       " 'Mumbai',\n",
       " 'Mumbai',\n",
       " 'Gurgaon/Gurugram',\n",
       " 'Gurgaon/Gurugram',\n",
       " 'Noida(Sector-2 Noida)',\n",
       " 'Noida, Pune, Gurgaon/Gurugram, Bangalore/Bengaluru',\n",
       " 'Mumbai, Pune, Chennai, Gurgaon/Gurugram, Bangalore/Bengaluru']"
      ]
     },
     "execution_count": 277,
     "metadata": {},
     "output_type": "execute_result"
    }
   ],
   "source": [
    "for i in location_tags:\n",
    "    title=i.text\n",
    "    location_list.append(title)\n",
    "location_list[0:10]"
   ]
  },
  {
   "cell_type": "code",
   "execution_count": 278,
   "id": "a9534cc6",
   "metadata": {},
   "outputs": [
    {
     "data": {
      "text/plain": [
       "[<selenium.webdriver.remote.webelement.WebElement (session=\"b5648d1e235f94f0845ad05e67dd493a\", element=\"bb97b2d4-ecb4-452a-a728-b52161ce1a75\")>,\n",
       " <selenium.webdriver.remote.webelement.WebElement (session=\"b5648d1e235f94f0845ad05e67dd493a\", element=\"ecca5105-6bfc-4c75-875f-d1f45051b702\")>,\n",
       " <selenium.webdriver.remote.webelement.WebElement (session=\"b5648d1e235f94f0845ad05e67dd493a\", element=\"20cf29d4-cf2f-4242-935d-d0196e5f3446\")>,\n",
       " <selenium.webdriver.remote.webelement.WebElement (session=\"b5648d1e235f94f0845ad05e67dd493a\", element=\"7fa17323-5144-42c1-8df8-1c417bda9d09\")>,\n",
       " <selenium.webdriver.remote.webelement.WebElement (session=\"b5648d1e235f94f0845ad05e67dd493a\", element=\"dbacc72b-9f6d-4b50-9231-8207820567fb\")>,\n",
       " <selenium.webdriver.remote.webelement.WebElement (session=\"b5648d1e235f94f0845ad05e67dd493a\", element=\"4e6568c4-67a2-41ae-8dea-2bd3afce29dc\")>,\n",
       " <selenium.webdriver.remote.webelement.WebElement (session=\"b5648d1e235f94f0845ad05e67dd493a\", element=\"a47b48a9-3332-4b52-ac3e-249155713451\")>,\n",
       " <selenium.webdriver.remote.webelement.WebElement (session=\"b5648d1e235f94f0845ad05e67dd493a\", element=\"59a3c880-e667-4391-ae59-934e29395d33\")>,\n",
       " <selenium.webdriver.remote.webelement.WebElement (session=\"b5648d1e235f94f0845ad05e67dd493a\", element=\"06428a5b-b038-48c3-b882-4d630c027f1b\")>,\n",
       " <selenium.webdriver.remote.webelement.WebElement (session=\"b5648d1e235f94f0845ad05e67dd493a\", element=\"7163e4b3-6699-4e35-8686-1c91fd087e92\")>]"
      ]
     },
     "execution_count": 278,
     "metadata": {},
     "output_type": "execute_result"
    }
   ],
   "source": [
    "experience_tags = driver.find_elements_by_xpath(\"//li[@class='fleft grey-text br2 placeHolderLi experience']/span[1]\")\n",
    "experience_tags[0:10]"
   ]
  },
  {
   "cell_type": "code",
   "execution_count": 279,
   "id": "8e0b78be",
   "metadata": {},
   "outputs": [
    {
     "data": {
      "text/plain": [
       "['7-12 Yrs',\n",
       " '1-5 Yrs',\n",
       " '4-6 Yrs',\n",
       " '1-6 Yrs',\n",
       " '2-7 Yrs',\n",
       " '1-5 Yrs',\n",
       " '1-3 Yrs',\n",
       " '2-4 Yrs',\n",
       " '1-6 Yrs',\n",
       " '5-7 Yrs']"
      ]
     },
     "execution_count": 279,
     "metadata": {},
     "output_type": "execute_result"
    }
   ],
   "source": [
    "for i in experience_tags:\n",
    "    experience_list.append(i.text)\n",
    "experience_list[0:10]"
   ]
  },
  {
   "cell_type": "code",
   "execution_count": 280,
   "id": "75fe2844",
   "metadata": {},
   "outputs": [
    {
     "name": "stdout",
     "output_type": "stream",
     "text": [
      "20 20 20 20\n"
     ]
    }
   ],
   "source": [
    "print(len(job_list),len(company_list),len(location_list),len(experience_list))"
   ]
  },
  {
   "cell_type": "markdown",
   "id": "c996579a",
   "metadata": {},
   "source": [
    "###### Making dataframe :"
   ]
  },
  {
   "cell_type": "code",
   "execution_count": 286,
   "id": "4d1826fb",
   "metadata": {},
   "outputs": [],
   "source": [
    "filter_data = pd.DataFrame({'job_list':job_list,'company_list':company_list,'location_list':location_list,'experience_list':experience_list})"
   ]
  },
  {
   "cell_type": "code",
   "execution_count": 287,
   "id": "3c5df713",
   "metadata": {},
   "outputs": [
    {
     "data": {
      "text/html": [
       "<div>\n",
       "<style scoped>\n",
       "    .dataframe tbody tr th:only-of-type {\n",
       "        vertical-align: middle;\n",
       "    }\n",
       "\n",
       "    .dataframe tbody tr th {\n",
       "        vertical-align: top;\n",
       "    }\n",
       "\n",
       "    .dataframe thead th {\n",
       "        text-align: right;\n",
       "    }\n",
       "</style>\n",
       "<table border=\"1\" class=\"dataframe\">\n",
       "  <thead>\n",
       "    <tr style=\"text-align: right;\">\n",
       "      <th></th>\n",
       "      <th>job_list</th>\n",
       "      <th>company_list</th>\n",
       "      <th>location_list</th>\n",
       "      <th>experience_list</th>\n",
       "    </tr>\n",
       "  </thead>\n",
       "  <tbody>\n",
       "    <tr>\n",
       "      <th>0</th>\n",
       "      <td>Specialist - Data Scientist</td>\n",
       "      <td>UPL</td>\n",
       "      <td>Mumbai</td>\n",
       "      <td>7-12 Yrs</td>\n",
       "    </tr>\n",
       "    <tr>\n",
       "      <th>1</th>\n",
       "      <td>Data Scientist- Clinical Trial</td>\n",
       "      <td>Abbott</td>\n",
       "      <td>Mumbai</td>\n",
       "      <td>1-5 Yrs</td>\n",
       "    </tr>\n",
       "    <tr>\n",
       "      <th>2</th>\n",
       "      <td>Senior Data Scientist - Regression Modeling</td>\n",
       "      <td>Liquiloans</td>\n",
       "      <td>Mumbai</td>\n",
       "      <td>4-6 Yrs</td>\n",
       "    </tr>\n",
       "    <tr>\n",
       "      <th>3</th>\n",
       "      <td>Junior/Senior Data Scientist - Consulting Firm</td>\n",
       "      <td>Huquo Consulting Pvt. Ltd</td>\n",
       "      <td>Mumbai</td>\n",
       "      <td>1-6 Yrs</td>\n",
       "    </tr>\n",
       "    <tr>\n",
       "      <th>4</th>\n",
       "      <td>Junior/ Senior Data Scientist - Consulting Firm</td>\n",
       "      <td>Huquo Consulting Pvt. Ltd</td>\n",
       "      <td>Mumbai</td>\n",
       "      <td>2-7 Yrs</td>\n",
       "    </tr>\n",
       "    <tr>\n",
       "      <th>5</th>\n",
       "      <td>Manager - Data Scientist</td>\n",
       "      <td>SBI Card</td>\n",
       "      <td>Gurgaon/Gurugram</td>\n",
       "      <td>1-5 Yrs</td>\n",
       "    </tr>\n",
       "    <tr>\n",
       "      <th>6</th>\n",
       "      <td>Senior Business Analytics - Data Scientist/ NA...</td>\n",
       "      <td>Huquo Consulting Pvt. Ltd</td>\n",
       "      <td>Gurgaon/Gurugram</td>\n",
       "      <td>1-3 Yrs</td>\n",
       "    </tr>\n",
       "    <tr>\n",
       "      <th>7</th>\n",
       "      <td>Data Analyst/ Data Scientist Data Analytics &amp; ...</td>\n",
       "      <td>SGS GLOBAL SERVICES PRIVATE LIMITED</td>\n",
       "      <td>Noida(Sector-2 Noida)</td>\n",
       "      <td>2-4 Yrs</td>\n",
       "    </tr>\n",
       "    <tr>\n",
       "      <th>8</th>\n",
       "      <td>Data Scientist - Deep Learning Solutions</td>\n",
       "      <td>Huquo Consulting Pvt. Ltd</td>\n",
       "      <td>Noida, Pune, Gurgaon/Gurugram, Bangalore/Benga...</td>\n",
       "      <td>1-6 Yrs</td>\n",
       "    </tr>\n",
       "    <tr>\n",
       "      <th>9</th>\n",
       "      <td>Analytics India Magazine - Data Scientist - NL...</td>\n",
       "      <td>AIM recruits</td>\n",
       "      <td>Mumbai, Pune, Chennai, Gurgaon/Gurugram, Banga...</td>\n",
       "      <td>5-7 Yrs</td>\n",
       "    </tr>\n",
       "  </tbody>\n",
       "</table>\n",
       "</div>"
      ],
      "text/plain": [
       "                                            job_list  \\\n",
       "0                        Specialist - Data Scientist   \n",
       "1                     Data Scientist- Clinical Trial   \n",
       "2        Senior Data Scientist - Regression Modeling   \n",
       "3     Junior/Senior Data Scientist - Consulting Firm   \n",
       "4    Junior/ Senior Data Scientist - Consulting Firm   \n",
       "5                           Manager - Data Scientist   \n",
       "6  Senior Business Analytics - Data Scientist/ NA...   \n",
       "7  Data Analyst/ Data Scientist Data Analytics & ...   \n",
       "8           Data Scientist - Deep Learning Solutions   \n",
       "9  Analytics India Magazine - Data Scientist - NL...   \n",
       "\n",
       "                          company_list  \\\n",
       "0                                  UPL   \n",
       "1                               Abbott   \n",
       "2                           Liquiloans   \n",
       "3            Huquo Consulting Pvt. Ltd   \n",
       "4            Huquo Consulting Pvt. Ltd   \n",
       "5                             SBI Card   \n",
       "6            Huquo Consulting Pvt. Ltd   \n",
       "7  SGS GLOBAL SERVICES PRIVATE LIMITED   \n",
       "8            Huquo Consulting Pvt. Ltd   \n",
       "9                         AIM recruits   \n",
       "\n",
       "                                       location_list experience_list  \n",
       "0                                             Mumbai        7-12 Yrs  \n",
       "1                                             Mumbai         1-5 Yrs  \n",
       "2                                             Mumbai         4-6 Yrs  \n",
       "3                                             Mumbai         1-6 Yrs  \n",
       "4                                             Mumbai         2-7 Yrs  \n",
       "5                                   Gurgaon/Gurugram         1-5 Yrs  \n",
       "6                                   Gurgaon/Gurugram         1-3 Yrs  \n",
       "7                              Noida(Sector-2 Noida)         2-4 Yrs  \n",
       "8  Noida, Pune, Gurgaon/Gurugram, Bangalore/Benga...         1-6 Yrs  \n",
       "9  Mumbai, Pune, Chennai, Gurgaon/Gurugram, Banga...         5-7 Yrs  "
      ]
     },
     "execution_count": 287,
     "metadata": {},
     "output_type": "execute_result"
    }
   ],
   "source": [
    "filter_data.head(10)"
   ]
  },
  {
   "cell_type": "markdown",
   "id": "261ceaad",
   "metadata": {},
   "source": [
    "## 4) Scrape data of first 100 sunglasses listings on flipkart.com"
   ]
  },
  {
   "cell_type": "code",
   "execution_count": 234,
   "id": "0e372596",
   "metadata": {},
   "outputs": [],
   "source": [
    "driver = webdriver.Chrome(r\"C:\\Users\\Thamizh\\Downloads\\chromedriver_win32 (2)\\chromedriver.exe\")"
   ]
  },
  {
   "cell_type": "code",
   "execution_count": 110,
   "id": "2f5ad254",
   "metadata": {},
   "outputs": [],
   "source": [
    "url=\"https://www.flipkart.com/\"\n",
    "driver.get(url)"
   ]
  },
  {
   "cell_type": "code",
   "execution_count": 111,
   "id": "66347789",
   "metadata": {},
   "outputs": [],
   "source": [
    "search = driver.find_element_by_xpath(\"//input[@class='_3704LK']\")\n",
    "search.send_keys(\"sunglasses\")"
   ]
  },
  {
   "cell_type": "code",
   "execution_count": 112,
   "id": "ba43fe8c",
   "metadata": {},
   "outputs": [],
   "source": [
    "search_button = driver.find_element_by_xpath(\"//button[@class='L0Z3Pu']\")\n",
    "search_button.click()"
   ]
  },
  {
   "cell_type": "code",
   "execution_count": 113,
   "id": "dfd1b5c8",
   "metadata": {},
   "outputs": [],
   "source": [
    "brand_list = []\n",
    "specification_list = []\n",
    "price_list = []\n",
    "Discount_list = []"
   ]
  },
  {
   "cell_type": "code",
   "execution_count": 114,
   "id": "717fc08c",
   "metadata": {},
   "outputs": [
    {
     "data": {
      "text/plain": [
       "[<selenium.webdriver.remote.webelement.WebElement (session=\"417173825c54d2fb09612c9879313f3b\", element=\"4aa9b2f6-de5b-46f6-a99e-b226729ffdc6\")>,\n",
       " <selenium.webdriver.remote.webelement.WebElement (session=\"417173825c54d2fb09612c9879313f3b\", element=\"d9c9cdfe-e1de-49ec-99c8-4d9c6c1c9851\")>,\n",
       " <selenium.webdriver.remote.webelement.WebElement (session=\"417173825c54d2fb09612c9879313f3b\", element=\"813bc4f4-0745-48ee-9404-b361a1b93007\")>,\n",
       " <selenium.webdriver.remote.webelement.WebElement (session=\"417173825c54d2fb09612c9879313f3b\", element=\"78b1a631-82c1-4124-ac85-51cd8d4a6742\")>,\n",
       " <selenium.webdriver.remote.webelement.WebElement (session=\"417173825c54d2fb09612c9879313f3b\", element=\"227f6cc7-60d9-4e42-bbd8-96e4ef417d3c\")>,\n",
       " <selenium.webdriver.remote.webelement.WebElement (session=\"417173825c54d2fb09612c9879313f3b\", element=\"65224ac7-fa6c-445e-b553-588be7f6580e\")>,\n",
       " <selenium.webdriver.remote.webelement.WebElement (session=\"417173825c54d2fb09612c9879313f3b\", element=\"a7023902-b74e-4810-b726-74a5f62bb399\")>,\n",
       " <selenium.webdriver.remote.webelement.WebElement (session=\"417173825c54d2fb09612c9879313f3b\", element=\"969a56c9-bc8c-4944-805e-68ef63fe733a\")>,\n",
       " <selenium.webdriver.remote.webelement.WebElement (session=\"417173825c54d2fb09612c9879313f3b\", element=\"04f319d9-95b1-4125-8763-c264dad22fc0\")>,\n",
       " <selenium.webdriver.remote.webelement.WebElement (session=\"417173825c54d2fb09612c9879313f3b\", element=\"471c6b70-6e63-4ff3-aaec-bd0f0743fb0c\")>,\n",
       " <selenium.webdriver.remote.webelement.WebElement (session=\"417173825c54d2fb09612c9879313f3b\", element=\"ef749243-c80d-40b6-aa3a-eaaec790118d\")>,\n",
       " <selenium.webdriver.remote.webelement.WebElement (session=\"417173825c54d2fb09612c9879313f3b\", element=\"52551421-0ea2-4db2-bae3-43ed56c469df\")>,\n",
       " <selenium.webdriver.remote.webelement.WebElement (session=\"417173825c54d2fb09612c9879313f3b\", element=\"56d6e37d-af91-470c-a11b-dca805633352\")>,\n",
       " <selenium.webdriver.remote.webelement.WebElement (session=\"417173825c54d2fb09612c9879313f3b\", element=\"f6fc14f3-aeab-404b-b696-38ef7ee6a092\")>,\n",
       " <selenium.webdriver.remote.webelement.WebElement (session=\"417173825c54d2fb09612c9879313f3b\", element=\"004ba8a9-253c-41ea-be4b-a3e8dd485e50\")>,\n",
       " <selenium.webdriver.remote.webelement.WebElement (session=\"417173825c54d2fb09612c9879313f3b\", element=\"28e52bbe-4f28-4c89-8acb-b4caa9ce6920\")>,\n",
       " <selenium.webdriver.remote.webelement.WebElement (session=\"417173825c54d2fb09612c9879313f3b\", element=\"0f4818e5-0232-4f9b-a48e-b7419a1176ae\")>,\n",
       " <selenium.webdriver.remote.webelement.WebElement (session=\"417173825c54d2fb09612c9879313f3b\", element=\"d283735d-2b7a-4946-8089-7b39baec5216\")>,\n",
       " <selenium.webdriver.remote.webelement.WebElement (session=\"417173825c54d2fb09612c9879313f3b\", element=\"93c63276-e721-4993-bcb2-18a3242df269\")>,\n",
       " <selenium.webdriver.remote.webelement.WebElement (session=\"417173825c54d2fb09612c9879313f3b\", element=\"6f67e18c-4675-41dc-8a8d-3cbb7b977615\")>,\n",
       " <selenium.webdriver.remote.webelement.WebElement (session=\"417173825c54d2fb09612c9879313f3b\", element=\"20c96d3e-ce71-4341-ac8d-468823c3eb8d\")>,\n",
       " <selenium.webdriver.remote.webelement.WebElement (session=\"417173825c54d2fb09612c9879313f3b\", element=\"731d3428-d246-4841-94fc-f4f8ad3db53c\")>,\n",
       " <selenium.webdriver.remote.webelement.WebElement (session=\"417173825c54d2fb09612c9879313f3b\", element=\"84b5f0d2-988d-46c2-8e47-8ffc2e611e58\")>,\n",
       " <selenium.webdriver.remote.webelement.WebElement (session=\"417173825c54d2fb09612c9879313f3b\", element=\"0fa29ea3-b7e9-44fe-8123-a7bcf5bc8d14\")>,\n",
       " <selenium.webdriver.remote.webelement.WebElement (session=\"417173825c54d2fb09612c9879313f3b\", element=\"b954ce57-c253-4d65-ba9a-920a2f82bda8\")>,\n",
       " <selenium.webdriver.remote.webelement.WebElement (session=\"417173825c54d2fb09612c9879313f3b\", element=\"46833874-0576-4006-86d5-7b28790a9370\")>,\n",
       " <selenium.webdriver.remote.webelement.WebElement (session=\"417173825c54d2fb09612c9879313f3b\", element=\"679d6d19-aeae-458a-a263-7c83ac8f1f8c\")>,\n",
       " <selenium.webdriver.remote.webelement.WebElement (session=\"417173825c54d2fb09612c9879313f3b\", element=\"ec99820f-1d61-4197-b3a6-fc53ce9c877e\")>,\n",
       " <selenium.webdriver.remote.webelement.WebElement (session=\"417173825c54d2fb09612c9879313f3b\", element=\"5c12aa15-d59d-44db-97a0-b9fb35997b9e\")>,\n",
       " <selenium.webdriver.remote.webelement.WebElement (session=\"417173825c54d2fb09612c9879313f3b\", element=\"3c5109fc-5a00-4b4a-af90-1023cd557199\")>,\n",
       " <selenium.webdriver.remote.webelement.WebElement (session=\"417173825c54d2fb09612c9879313f3b\", element=\"2d08d859-aa5b-4b8d-819b-e1425ab5496d\")>,\n",
       " <selenium.webdriver.remote.webelement.WebElement (session=\"417173825c54d2fb09612c9879313f3b\", element=\"0bce2a37-b8d2-454e-91ef-904f945510b4\")>,\n",
       " <selenium.webdriver.remote.webelement.WebElement (session=\"417173825c54d2fb09612c9879313f3b\", element=\"a9498aa7-d47a-4342-89ac-da0b506c2d83\")>,\n",
       " <selenium.webdriver.remote.webelement.WebElement (session=\"417173825c54d2fb09612c9879313f3b\", element=\"1118ace4-e661-447a-a4bc-83ae3e1f6220\")>,\n",
       " <selenium.webdriver.remote.webelement.WebElement (session=\"417173825c54d2fb09612c9879313f3b\", element=\"0e367a5e-d3ad-4968-af6a-77c61aed8e84\")>,\n",
       " <selenium.webdriver.remote.webelement.WebElement (session=\"417173825c54d2fb09612c9879313f3b\", element=\"ee75ed4a-7eae-4832-859d-b9a337c43e49\")>,\n",
       " <selenium.webdriver.remote.webelement.WebElement (session=\"417173825c54d2fb09612c9879313f3b\", element=\"33c10ece-8b92-4a28-b59f-15d59068d639\")>,\n",
       " <selenium.webdriver.remote.webelement.WebElement (session=\"417173825c54d2fb09612c9879313f3b\", element=\"b0166a3b-59a0-4c49-946c-b4ecb9260d6a\")>,\n",
       " <selenium.webdriver.remote.webelement.WebElement (session=\"417173825c54d2fb09612c9879313f3b\", element=\"76c61ec9-ff0d-47ca-b323-0ad6f47b754f\")>,\n",
       " <selenium.webdriver.remote.webelement.WebElement (session=\"417173825c54d2fb09612c9879313f3b\", element=\"59e64124-d505-419a-9ae4-9a3ece633a5c\")>]"
      ]
     },
     "execution_count": 114,
     "metadata": {},
     "output_type": "execute_result"
    }
   ],
   "source": [
    "brand_tags = driver.find_elements_by_xpath(\"//div[@class='_2WkVRV']\")\n",
    "brand_tags"
   ]
  },
  {
   "cell_type": "code",
   "execution_count": 115,
   "id": "28aa0d6e",
   "metadata": {},
   "outputs": [
    {
     "data": {
      "text/plain": [
       "['ROZZETTA CRAFT',\n",
       " 'ROZZETTA CRAFT',\n",
       " 'Elligator',\n",
       " 'New Specs',\n",
       " 'PIRASO',\n",
       " 'Fastrack',\n",
       " 'SUNBEE',\n",
       " 'NuVew',\n",
       " 'SRPM',\n",
       " 'Fastrack',\n",
       " 'SHAAH COLLECTIONS',\n",
       " 'ROYAL SON',\n",
       " 'PIRASO',\n",
       " 'Lee Topper',\n",
       " 'Lee Topper',\n",
       " 'Singco India',\n",
       " 'PIRASO',\n",
       " 'kingsunglasses',\n",
       " 'SUNBEE',\n",
       " 'AISLIN',\n",
       " 'GANSTA',\n",
       " 'PIRASO',\n",
       " 'New Specs',\n",
       " 'VILLAIN',\n",
       " 'kingsunglasses',\n",
       " 'SUNBEE',\n",
       " 'ROZZETTA CRAFT',\n",
       " 'NuVew',\n",
       " 'DEIXELS',\n",
       " 'Singco India',\n",
       " 'PHENOMENAL',\n",
       " 'AISLIN',\n",
       " 'Elligator',\n",
       " 'hipe',\n",
       " 'kingsunglasses',\n",
       " 'ROZZETTA CRAFT',\n",
       " 'kingsunglasses',\n",
       " 'hipe',\n",
       " 'SHAAH COLLECTIONS',\n",
       " 'AISLIN']"
      ]
     },
     "execution_count": 115,
     "metadata": {},
     "output_type": "execute_result"
    }
   ],
   "source": [
    "for i in brand_tags:\n",
    "    title=i.text\n",
    "    brand_list.append(title)\n",
    "brand_list"
   ]
  },
  {
   "cell_type": "code",
   "execution_count": 116,
   "id": "61ef4d51",
   "metadata": {},
   "outputs": [
    {
     "data": {
      "text/plain": [
       "[<selenium.webdriver.remote.webelement.WebElement (session=\"417173825c54d2fb09612c9879313f3b\", element=\"51c2530e-d023-4d0a-afad-f2748304cb05\")>,\n",
       " <selenium.webdriver.remote.webelement.WebElement (session=\"417173825c54d2fb09612c9879313f3b\", element=\"c00602e2-c258-47b9-b1ea-204a42509e31\")>,\n",
       " <selenium.webdriver.remote.webelement.WebElement (session=\"417173825c54d2fb09612c9879313f3b\", element=\"fb6c4d17-6601-4136-94cc-3d4e24037ef9\")>,\n",
       " <selenium.webdriver.remote.webelement.WebElement (session=\"417173825c54d2fb09612c9879313f3b\", element=\"349d4e18-91a1-47d5-bd4a-27f64478d6dc\")>,\n",
       " <selenium.webdriver.remote.webelement.WebElement (session=\"417173825c54d2fb09612c9879313f3b\", element=\"cc71df7d-e593-42db-8c57-a5865c13f24f\")>,\n",
       " <selenium.webdriver.remote.webelement.WebElement (session=\"417173825c54d2fb09612c9879313f3b\", element=\"3c5349d0-c745-406a-bdd4-dd06a8de9d8e\")>,\n",
       " <selenium.webdriver.remote.webelement.WebElement (session=\"417173825c54d2fb09612c9879313f3b\", element=\"a0c723c4-07bd-4680-85a6-68473d7b81a5\")>,\n",
       " <selenium.webdriver.remote.webelement.WebElement (session=\"417173825c54d2fb09612c9879313f3b\", element=\"760e7780-4ff4-44ad-85a6-f2fcb1ce2087\")>,\n",
       " <selenium.webdriver.remote.webelement.WebElement (session=\"417173825c54d2fb09612c9879313f3b\", element=\"1096cfc4-03ad-4ee4-ace3-99b11734809f\")>,\n",
       " <selenium.webdriver.remote.webelement.WebElement (session=\"417173825c54d2fb09612c9879313f3b\", element=\"98a29d94-6dcb-40ba-b2b2-9400f8ea0e59\")>,\n",
       " <selenium.webdriver.remote.webelement.WebElement (session=\"417173825c54d2fb09612c9879313f3b\", element=\"885d9966-e1bd-41a7-8088-843121640d3b\")>,\n",
       " <selenium.webdriver.remote.webelement.WebElement (session=\"417173825c54d2fb09612c9879313f3b\", element=\"a66336fd-0b97-4db2-b145-cff12a9f4a5a\")>,\n",
       " <selenium.webdriver.remote.webelement.WebElement (session=\"417173825c54d2fb09612c9879313f3b\", element=\"bbf08598-02e7-433d-b7b8-5187a038b566\")>,\n",
       " <selenium.webdriver.remote.webelement.WebElement (session=\"417173825c54d2fb09612c9879313f3b\", element=\"806055c3-a709-4835-8a33-df0fe9fc5a36\")>,\n",
       " <selenium.webdriver.remote.webelement.WebElement (session=\"417173825c54d2fb09612c9879313f3b\", element=\"bdf35a51-f645-4ad8-8089-57a65deacab2\")>,\n",
       " <selenium.webdriver.remote.webelement.WebElement (session=\"417173825c54d2fb09612c9879313f3b\", element=\"98ff4fcf-5ffc-4e9e-b067-e6f62b4b1f4b\")>,\n",
       " <selenium.webdriver.remote.webelement.WebElement (session=\"417173825c54d2fb09612c9879313f3b\", element=\"06cd9b17-e685-4ae0-bae8-d0c6dac52eab\")>,\n",
       " <selenium.webdriver.remote.webelement.WebElement (session=\"417173825c54d2fb09612c9879313f3b\", element=\"b8c67a83-c9b6-4844-927a-91fa508fcbf3\")>,\n",
       " <selenium.webdriver.remote.webelement.WebElement (session=\"417173825c54d2fb09612c9879313f3b\", element=\"6f479642-64f6-4996-96f2-c7d59ce7d782\")>,\n",
       " <selenium.webdriver.remote.webelement.WebElement (session=\"417173825c54d2fb09612c9879313f3b\", element=\"c72ee7d2-5b2f-411d-a6b9-aaa2f0ed8a78\")>,\n",
       " <selenium.webdriver.remote.webelement.WebElement (session=\"417173825c54d2fb09612c9879313f3b\", element=\"9a9c85b9-1ef3-4c7a-94de-0623df5daf59\")>,\n",
       " <selenium.webdriver.remote.webelement.WebElement (session=\"417173825c54d2fb09612c9879313f3b\", element=\"5b099a92-92ab-4ec8-94c0-12848efa7ae9\")>,\n",
       " <selenium.webdriver.remote.webelement.WebElement (session=\"417173825c54d2fb09612c9879313f3b\", element=\"a4b5a9ee-5ac9-4477-ae97-95a90e458ed1\")>,\n",
       " <selenium.webdriver.remote.webelement.WebElement (session=\"417173825c54d2fb09612c9879313f3b\", element=\"ff06f16b-1d23-47c3-bd85-77c64f89d710\")>,\n",
       " <selenium.webdriver.remote.webelement.WebElement (session=\"417173825c54d2fb09612c9879313f3b\", element=\"a543ba62-4264-4ff8-8312-bf2ecc2b7fe8\")>,\n",
       " <selenium.webdriver.remote.webelement.WebElement (session=\"417173825c54d2fb09612c9879313f3b\", element=\"6c8c562c-7098-47b4-93d4-5e95ebb0a821\")>,\n",
       " <selenium.webdriver.remote.webelement.WebElement (session=\"417173825c54d2fb09612c9879313f3b\", element=\"772a449d-32a0-44bc-bb1c-ba44a3f8878b\")>,\n",
       " <selenium.webdriver.remote.webelement.WebElement (session=\"417173825c54d2fb09612c9879313f3b\", element=\"7af8dfc5-815f-46aa-94d7-323272f3b259\")>,\n",
       " <selenium.webdriver.remote.webelement.WebElement (session=\"417173825c54d2fb09612c9879313f3b\", element=\"7a73b5fb-37c4-4de6-a0b4-33fa0d647d60\")>,\n",
       " <selenium.webdriver.remote.webelement.WebElement (session=\"417173825c54d2fb09612c9879313f3b\", element=\"c0aad4bc-7f84-46f6-bcdc-393f08ef93b9\")>,\n",
       " <selenium.webdriver.remote.webelement.WebElement (session=\"417173825c54d2fb09612c9879313f3b\", element=\"fd29303f-b157-4215-9b62-b1c6328ada61\")>,\n",
       " <selenium.webdriver.remote.webelement.WebElement (session=\"417173825c54d2fb09612c9879313f3b\", element=\"c27b28df-09db-4d19-843e-d20d98e321e2\")>,\n",
       " <selenium.webdriver.remote.webelement.WebElement (session=\"417173825c54d2fb09612c9879313f3b\", element=\"2ea596cf-9615-4a18-970a-81dc722cd7a1\")>,\n",
       " <selenium.webdriver.remote.webelement.WebElement (session=\"417173825c54d2fb09612c9879313f3b\", element=\"3894d657-db97-47a2-8b76-fc78b61a0970\")>,\n",
       " <selenium.webdriver.remote.webelement.WebElement (session=\"417173825c54d2fb09612c9879313f3b\", element=\"b00f0d46-017b-4aeb-8683-b4ae1f0c502d\")>,\n",
       " <selenium.webdriver.remote.webelement.WebElement (session=\"417173825c54d2fb09612c9879313f3b\", element=\"c480539a-8d27-44bf-a61d-1c73161456f1\")>,\n",
       " <selenium.webdriver.remote.webelement.WebElement (session=\"417173825c54d2fb09612c9879313f3b\", element=\"5dee2dea-d82a-4f54-93ff-70b335ce41ab\")>,\n",
       " <selenium.webdriver.remote.webelement.WebElement (session=\"417173825c54d2fb09612c9879313f3b\", element=\"754222c4-7eb9-45bf-ab37-e26af79ea7f2\")>,\n",
       " <selenium.webdriver.remote.webelement.WebElement (session=\"417173825c54d2fb09612c9879313f3b\", element=\"ccd46fc7-cb69-43f4-b115-b3760589782c\")>,\n",
       " <selenium.webdriver.remote.webelement.WebElement (session=\"417173825c54d2fb09612c9879313f3b\", element=\"c26e071d-4a83-475c-ac23-82f0582d3ad4\")>]"
      ]
     },
     "execution_count": 116,
     "metadata": {},
     "output_type": "execute_result"
    }
   ],
   "source": [
    "specs_tag = driver.find_elements_by_xpath(\"//a[@class='IRpwTa']\")\n",
    "specs_tag"
   ]
  },
  {
   "cell_type": "code",
   "execution_count": 117,
   "id": "1e3532cc",
   "metadata": {},
   "outputs": [
    {
     "data": {
      "text/plain": [
       "['UV Protection, Gradient Rectangular Sunglasses (Free Si...',\n",
       " 'UV Protection Spectacle Sunglasses (Free Size)',\n",
       " 'UV Protection Round Sunglasses (54)',\n",
       " 'UV Protection Rectangular Sunglasses (Free Size)',\n",
       " 'UV Protection Aviator Sunglasses (54)',\n",
       " 'UV Protection Wayfarer Sunglasses (Free Size)',\n",
       " 'UV Protection, Polarized Wayfarer Sunglasses (Free Size...',\n",
       " 'UV Protection Retro Square, Wayfarer Sunglasses (58)',\n",
       " 'UV Protection Wayfarer Sunglasses (50)',\n",
       " 'UV Protection Rectangular Sunglasses (Free Size)',\n",
       " 'UV Protection, Polarized, Mirrored Rectangular Sunglass...',\n",
       " 'UV Protection, Polarized Wayfarer Sunglasses (54)',\n",
       " 'UV Protection Aviator Sunglasses (54)',\n",
       " 'UV Protection Rectangular Sunglasses (Free Size)',\n",
       " 'Riding Glasses Wrap-around Sunglasses (Free Size)',\n",
       " 'UV Protection Aviator Sunglasses (45)',\n",
       " 'UV Protection Aviator Sunglasses (54)',\n",
       " 'Mirrored, UV Protection Wayfarer Sunglasses (Free Size)',\n",
       " 'UV Protection, Polarized, Mirrored Retro Square Sunglas...',\n",
       " 'UV Protection, Gradient Cat-eye Sunglasses (58)',\n",
       " 'UV Protection, Riding Glasses Wayfarer Sunglasses (53)',\n",
       " 'UV Protection Wayfarer Sunglasses (32)',\n",
       " 'Mirrored, UV Protection, Riding Glasses, Others Round S...',\n",
       " 'Others Retro Square Sunglasses (Free Size)',\n",
       " 'UV Protection, Riding Glasses, Mirrored Wayfarer Sungla...',\n",
       " 'UV Protection, Polarized, Mirrored Round Sunglasses (Fr...',\n",
       " 'Polarized, Riding Glasses Sports, Wrap-around Sunglasse...',\n",
       " 'UV Protection Cat-eye Sunglasses (60)',\n",
       " 'UV Protection Aviator, Wayfarer Sunglasses (Free Size)',\n",
       " 'Riding Glasses, UV Protection, Others Aviator Sunglasse...',\n",
       " 'UV Protection Retro Square Sunglasses (53)',\n",
       " 'Toughened Glass Lens, UV Protection Rectangular Sunglas...',\n",
       " 'UV Protection Round Sunglasses (53)',\n",
       " 'UV Protection, Gradient, Mirrored, Riding Glasses Aviat...',\n",
       " 'UV Protection Round Sunglasses (54)',\n",
       " 'UV Protection Aviator Sunglasses (62)',\n",
       " 'UV Protection Round Sunglasses (Free Size)',\n",
       " 'Mirrored, UV Protection, Gradient Round Sunglasses (55)',\n",
       " 'UV Protection, Polarized, Mirrored Rectangular Sunglass...',\n",
       " 'UV Protection, Gradient Oval Sunglasses (58)']"
      ]
     },
     "execution_count": 117,
     "metadata": {},
     "output_type": "execute_result"
    }
   ],
   "source": [
    "for i in specs_tag:\n",
    "    title=i.text\n",
    "    specification_list.append(title)\n",
    "specification_list"
   ]
  },
  {
   "cell_type": "code",
   "execution_count": 118,
   "id": "f8bcc0b4",
   "metadata": {},
   "outputs": [
    {
     "data": {
      "text/plain": [
       "[<selenium.webdriver.remote.webelement.WebElement (session=\"417173825c54d2fb09612c9879313f3b\", element=\"d2f644ff-4d81-4bdd-b908-cf572d595c04\")>,\n",
       " <selenium.webdriver.remote.webelement.WebElement (session=\"417173825c54d2fb09612c9879313f3b\", element=\"4d2272d6-8be4-4583-bc4a-ed363e7e7e14\")>,\n",
       " <selenium.webdriver.remote.webelement.WebElement (session=\"417173825c54d2fb09612c9879313f3b\", element=\"63efd6c0-ec64-495a-8adb-aacce9245f55\")>,\n",
       " <selenium.webdriver.remote.webelement.WebElement (session=\"417173825c54d2fb09612c9879313f3b\", element=\"58795226-3562-41d7-961a-93800e4ac49b\")>,\n",
       " <selenium.webdriver.remote.webelement.WebElement (session=\"417173825c54d2fb09612c9879313f3b\", element=\"155eeacf-b0d0-4e3f-890a-5a4bee3d487e\")>,\n",
       " <selenium.webdriver.remote.webelement.WebElement (session=\"417173825c54d2fb09612c9879313f3b\", element=\"d4a5f55c-4e8d-4eaf-89cf-f284e84cc2d1\")>,\n",
       " <selenium.webdriver.remote.webelement.WebElement (session=\"417173825c54d2fb09612c9879313f3b\", element=\"e4fceaf9-60f5-4d10-b377-a5f0e85f1dce\")>,\n",
       " <selenium.webdriver.remote.webelement.WebElement (session=\"417173825c54d2fb09612c9879313f3b\", element=\"be0447a9-57bc-4b77-89c6-c4385a66d180\")>,\n",
       " <selenium.webdriver.remote.webelement.WebElement (session=\"417173825c54d2fb09612c9879313f3b\", element=\"46859f6f-c0da-451e-8680-4cd3f1477e85\")>,\n",
       " <selenium.webdriver.remote.webelement.WebElement (session=\"417173825c54d2fb09612c9879313f3b\", element=\"89f5f159-2f1d-485e-aae3-bf8c9d392e20\")>,\n",
       " <selenium.webdriver.remote.webelement.WebElement (session=\"417173825c54d2fb09612c9879313f3b\", element=\"c04e5578-0003-4265-8987-f30791aa39ea\")>,\n",
       " <selenium.webdriver.remote.webelement.WebElement (session=\"417173825c54d2fb09612c9879313f3b\", element=\"1e4017d2-baec-48a5-85c2-093e5eb5bb1c\")>,\n",
       " <selenium.webdriver.remote.webelement.WebElement (session=\"417173825c54d2fb09612c9879313f3b\", element=\"a2ec50f1-b503-4ed3-99e2-4af93ea4e1a0\")>,\n",
       " <selenium.webdriver.remote.webelement.WebElement (session=\"417173825c54d2fb09612c9879313f3b\", element=\"0c466d83-5394-495d-924c-17b98830185f\")>,\n",
       " <selenium.webdriver.remote.webelement.WebElement (session=\"417173825c54d2fb09612c9879313f3b\", element=\"e4fceef0-c1ff-47c9-ae0c-8e98a5c6f9f6\")>,\n",
       " <selenium.webdriver.remote.webelement.WebElement (session=\"417173825c54d2fb09612c9879313f3b\", element=\"93ca8069-a161-47d6-8126-9cd044fa865d\")>,\n",
       " <selenium.webdriver.remote.webelement.WebElement (session=\"417173825c54d2fb09612c9879313f3b\", element=\"cfb56b4a-d78f-4de5-81f8-b4fa2df8ab9d\")>,\n",
       " <selenium.webdriver.remote.webelement.WebElement (session=\"417173825c54d2fb09612c9879313f3b\", element=\"ce7c5fea-42cd-4ae3-9f0a-d1633b05344c\")>,\n",
       " <selenium.webdriver.remote.webelement.WebElement (session=\"417173825c54d2fb09612c9879313f3b\", element=\"b9704c7f-f2e8-4d23-b2d6-197e5159eaf4\")>,\n",
       " <selenium.webdriver.remote.webelement.WebElement (session=\"417173825c54d2fb09612c9879313f3b\", element=\"5e740d76-4765-4232-a26e-70601fc53079\")>,\n",
       " <selenium.webdriver.remote.webelement.WebElement (session=\"417173825c54d2fb09612c9879313f3b\", element=\"6d1e90fb-c450-4959-870e-22e0fa308456\")>,\n",
       " <selenium.webdriver.remote.webelement.WebElement (session=\"417173825c54d2fb09612c9879313f3b\", element=\"d0c2ba4d-d8b9-4dc7-a941-93f2163ff070\")>,\n",
       " <selenium.webdriver.remote.webelement.WebElement (session=\"417173825c54d2fb09612c9879313f3b\", element=\"e7f477a8-6cf0-4d15-810a-6fa0e09f16b2\")>,\n",
       " <selenium.webdriver.remote.webelement.WebElement (session=\"417173825c54d2fb09612c9879313f3b\", element=\"e087d531-11ef-41a4-be89-260ab0dfe5ee\")>,\n",
       " <selenium.webdriver.remote.webelement.WebElement (session=\"417173825c54d2fb09612c9879313f3b\", element=\"af9bb15e-4873-4c24-97db-caa47af5ac5b\")>,\n",
       " <selenium.webdriver.remote.webelement.WebElement (session=\"417173825c54d2fb09612c9879313f3b\", element=\"f59ebdd2-4a80-4d4b-944a-b825be2acb6d\")>,\n",
       " <selenium.webdriver.remote.webelement.WebElement (session=\"417173825c54d2fb09612c9879313f3b\", element=\"faddc73c-a958-43b3-96e4-68ab2dd97efb\")>,\n",
       " <selenium.webdriver.remote.webelement.WebElement (session=\"417173825c54d2fb09612c9879313f3b\", element=\"b2506d9d-4570-44d0-bcd1-2f86588d08b8\")>,\n",
       " <selenium.webdriver.remote.webelement.WebElement (session=\"417173825c54d2fb09612c9879313f3b\", element=\"b80b5293-ca0a-468d-9e22-dd47f0a02e6b\")>,\n",
       " <selenium.webdriver.remote.webelement.WebElement (session=\"417173825c54d2fb09612c9879313f3b\", element=\"f32306bf-7a3c-4e9e-a3a6-cc17230e7910\")>,\n",
       " <selenium.webdriver.remote.webelement.WebElement (session=\"417173825c54d2fb09612c9879313f3b\", element=\"bb4e36e2-4255-45d3-9882-276734a14efb\")>,\n",
       " <selenium.webdriver.remote.webelement.WebElement (session=\"417173825c54d2fb09612c9879313f3b\", element=\"879a70e5-7ca2-4ef4-8a79-738f79998989\")>,\n",
       " <selenium.webdriver.remote.webelement.WebElement (session=\"417173825c54d2fb09612c9879313f3b\", element=\"65694d4a-d802-4062-bee7-d720797f89e8\")>,\n",
       " <selenium.webdriver.remote.webelement.WebElement (session=\"417173825c54d2fb09612c9879313f3b\", element=\"f68cac20-15ac-4438-b1a9-ad29f3a07fa6\")>,\n",
       " <selenium.webdriver.remote.webelement.WebElement (session=\"417173825c54d2fb09612c9879313f3b\", element=\"9ea25c41-f6fb-406e-9c38-14d11b2bdff1\")>,\n",
       " <selenium.webdriver.remote.webelement.WebElement (session=\"417173825c54d2fb09612c9879313f3b\", element=\"90cbc43e-59fc-49b5-852f-a86f7837aed9\")>,\n",
       " <selenium.webdriver.remote.webelement.WebElement (session=\"417173825c54d2fb09612c9879313f3b\", element=\"ac5b01ec-334b-44c5-9515-2e3fdcc42a5c\")>,\n",
       " <selenium.webdriver.remote.webelement.WebElement (session=\"417173825c54d2fb09612c9879313f3b\", element=\"b5d6111d-9f8e-4845-97f5-1910d3038f83\")>,\n",
       " <selenium.webdriver.remote.webelement.WebElement (session=\"417173825c54d2fb09612c9879313f3b\", element=\"208def33-fec6-424a-bfe8-0ab4c8beeef1\")>,\n",
       " <selenium.webdriver.remote.webelement.WebElement (session=\"417173825c54d2fb09612c9879313f3b\", element=\"4e97a87b-0d8e-4761-a7f0-0822f6ba0c65\")>]"
      ]
     },
     "execution_count": 118,
     "metadata": {},
     "output_type": "execute_result"
    }
   ],
   "source": [
    "price_tags = driver.find_elements_by_xpath(\"//div[@class='_30jeq3']\")\n",
    "price_tags"
   ]
  },
  {
   "cell_type": "code",
   "execution_count": 119,
   "id": "5c8ebbff",
   "metadata": {},
   "outputs": [
    {
     "data": {
      "text/plain": [
       "['₹379',\n",
       " '₹399',\n",
       " '₹295',\n",
       " '₹269',\n",
       " '₹249',\n",
       " '₹719',\n",
       " '₹273',\n",
       " '₹185',\n",
       " '₹249',\n",
       " '₹639',\n",
       " '₹185',\n",
       " '₹799',\n",
       " '₹225',\n",
       " '₹199',\n",
       " '₹275',\n",
       " '₹329',\n",
       " '₹225',\n",
       " '₹269',\n",
       " '₹249',\n",
       " '₹459',\n",
       " '₹221',\n",
       " '₹225',\n",
       " '₹299',\n",
       " '₹549',\n",
       " '₹209',\n",
       " '₹314',\n",
       " '₹474',\n",
       " '₹375',\n",
       " '₹229',\n",
       " '₹245',\n",
       " '₹315',\n",
       " '₹1,025',\n",
       " '₹229',\n",
       " '₹188',\n",
       " '₹214',\n",
       " '₹616',\n",
       " '₹329',\n",
       " '₹170',\n",
       " '₹203',\n",
       " '₹458']"
      ]
     },
     "execution_count": 119,
     "metadata": {},
     "output_type": "execute_result"
    }
   ],
   "source": [
    "for i in price_tags:\n",
    "    title=i.text\n",
    "    price_list.append(title)\n",
    "price_list"
   ]
  },
  {
   "cell_type": "code",
   "execution_count": 120,
   "id": "a9d677d7",
   "metadata": {},
   "outputs": [
    {
     "data": {
      "text/plain": [
       "[<selenium.webdriver.remote.webelement.WebElement (session=\"417173825c54d2fb09612c9879313f3b\", element=\"78632fb1-dc20-4e26-8028-bed394d87f4c\")>,\n",
       " <selenium.webdriver.remote.webelement.WebElement (session=\"417173825c54d2fb09612c9879313f3b\", element=\"853e82a1-2d42-4c9f-8aef-6c275fef6043\")>,\n",
       " <selenium.webdriver.remote.webelement.WebElement (session=\"417173825c54d2fb09612c9879313f3b\", element=\"1cb4cf98-f016-4e08-bf20-e9008167ae8a\")>,\n",
       " <selenium.webdriver.remote.webelement.WebElement (session=\"417173825c54d2fb09612c9879313f3b\", element=\"84d170e3-aa04-4188-a7d6-bd14deaa6b2a\")>,\n",
       " <selenium.webdriver.remote.webelement.WebElement (session=\"417173825c54d2fb09612c9879313f3b\", element=\"df3453dc-3ffd-4aa4-9de2-2b720a2fda44\")>,\n",
       " <selenium.webdriver.remote.webelement.WebElement (session=\"417173825c54d2fb09612c9879313f3b\", element=\"3c2770c5-8f89-409b-b6e0-18cebffed370\")>,\n",
       " <selenium.webdriver.remote.webelement.WebElement (session=\"417173825c54d2fb09612c9879313f3b\", element=\"35882d16-6f30-4e08-8c11-9c0ad10d7d5d\")>,\n",
       " <selenium.webdriver.remote.webelement.WebElement (session=\"417173825c54d2fb09612c9879313f3b\", element=\"396fb1fc-0ecd-4c8a-96e1-5261d305621e\")>,\n",
       " <selenium.webdriver.remote.webelement.WebElement (session=\"417173825c54d2fb09612c9879313f3b\", element=\"0ffe6b13-725c-4603-8bcf-6a1630efb2b9\")>,\n",
       " <selenium.webdriver.remote.webelement.WebElement (session=\"417173825c54d2fb09612c9879313f3b\", element=\"61eb2cdb-717f-4a55-ba7d-ac6967f93cd0\")>,\n",
       " <selenium.webdriver.remote.webelement.WebElement (session=\"417173825c54d2fb09612c9879313f3b\", element=\"1cd03c27-03bd-4fab-91a0-e7142b27a398\")>,\n",
       " <selenium.webdriver.remote.webelement.WebElement (session=\"417173825c54d2fb09612c9879313f3b\", element=\"79dce0e5-393f-4dc2-ba96-b3d06ba64244\")>,\n",
       " <selenium.webdriver.remote.webelement.WebElement (session=\"417173825c54d2fb09612c9879313f3b\", element=\"a9be4525-4c77-408d-bc80-7e85d7a84e1d\")>,\n",
       " <selenium.webdriver.remote.webelement.WebElement (session=\"417173825c54d2fb09612c9879313f3b\", element=\"526e5fcf-5c47-441f-b2a3-c94810a1d0ba\")>,\n",
       " <selenium.webdriver.remote.webelement.WebElement (session=\"417173825c54d2fb09612c9879313f3b\", element=\"4e4c3fe8-b24d-4caf-851d-d27672513321\")>,\n",
       " <selenium.webdriver.remote.webelement.WebElement (session=\"417173825c54d2fb09612c9879313f3b\", element=\"0917ba4b-050b-4177-b2fa-cd35744b3af0\")>,\n",
       " <selenium.webdriver.remote.webelement.WebElement (session=\"417173825c54d2fb09612c9879313f3b\", element=\"5872a376-1702-4e37-9f96-33fcb71981f5\")>,\n",
       " <selenium.webdriver.remote.webelement.WebElement (session=\"417173825c54d2fb09612c9879313f3b\", element=\"b4b5db7a-be1b-41fe-a29f-9bf68e17eaaf\")>,\n",
       " <selenium.webdriver.remote.webelement.WebElement (session=\"417173825c54d2fb09612c9879313f3b\", element=\"9c939fd8-3e5e-49b4-a068-0181705604fc\")>,\n",
       " <selenium.webdriver.remote.webelement.WebElement (session=\"417173825c54d2fb09612c9879313f3b\", element=\"3246142b-e453-4aaf-87bf-81fe3fd84a86\")>,\n",
       " <selenium.webdriver.remote.webelement.WebElement (session=\"417173825c54d2fb09612c9879313f3b\", element=\"1c66324b-ed13-4b82-92e0-f7ef014cd440\")>,\n",
       " <selenium.webdriver.remote.webelement.WebElement (session=\"417173825c54d2fb09612c9879313f3b\", element=\"86b05ccd-0e68-48f0-89d6-6c0f68f40185\")>,\n",
       " <selenium.webdriver.remote.webelement.WebElement (session=\"417173825c54d2fb09612c9879313f3b\", element=\"b633052c-ba44-40cc-8257-af470d74497b\")>,\n",
       " <selenium.webdriver.remote.webelement.WebElement (session=\"417173825c54d2fb09612c9879313f3b\", element=\"917034f8-5c07-4053-b41e-16c06b765d0f\")>,\n",
       " <selenium.webdriver.remote.webelement.WebElement (session=\"417173825c54d2fb09612c9879313f3b\", element=\"aa42ffe8-b8fc-4f14-afff-a2f2ad1e870b\")>,\n",
       " <selenium.webdriver.remote.webelement.WebElement (session=\"417173825c54d2fb09612c9879313f3b\", element=\"f64dd00b-960a-4b28-8e08-5c9d8aa52f4b\")>,\n",
       " <selenium.webdriver.remote.webelement.WebElement (session=\"417173825c54d2fb09612c9879313f3b\", element=\"6ad1975d-c2e6-43b0-99a0-a491176eef39\")>,\n",
       " <selenium.webdriver.remote.webelement.WebElement (session=\"417173825c54d2fb09612c9879313f3b\", element=\"bcf7509f-828e-4404-92d8-d7c458bd2bbd\")>,\n",
       " <selenium.webdriver.remote.webelement.WebElement (session=\"417173825c54d2fb09612c9879313f3b\", element=\"2de66952-7cbe-47d3-b405-51952cc09641\")>,\n",
       " <selenium.webdriver.remote.webelement.WebElement (session=\"417173825c54d2fb09612c9879313f3b\", element=\"b648f339-0640-41f9-97e1-93171cc29483\")>,\n",
       " <selenium.webdriver.remote.webelement.WebElement (session=\"417173825c54d2fb09612c9879313f3b\", element=\"386f9e11-4e29-45ce-96c4-6d2900b2449f\")>,\n",
       " <selenium.webdriver.remote.webelement.WebElement (session=\"417173825c54d2fb09612c9879313f3b\", element=\"02ededab-6560-4b45-a4f8-7ac5fa5d21fb\")>,\n",
       " <selenium.webdriver.remote.webelement.WebElement (session=\"417173825c54d2fb09612c9879313f3b\", element=\"75374c61-43ef-4ec3-bb79-76c6e53eaa2a\")>,\n",
       " <selenium.webdriver.remote.webelement.WebElement (session=\"417173825c54d2fb09612c9879313f3b\", element=\"f8ed76d1-2f2a-42dd-a087-5249de80ed5f\")>,\n",
       " <selenium.webdriver.remote.webelement.WebElement (session=\"417173825c54d2fb09612c9879313f3b\", element=\"137544b0-18df-476f-840b-dc5752cfed17\")>,\n",
       " <selenium.webdriver.remote.webelement.WebElement (session=\"417173825c54d2fb09612c9879313f3b\", element=\"e35ce89c-7534-4571-87b9-b076b4f0260d\")>,\n",
       " <selenium.webdriver.remote.webelement.WebElement (session=\"417173825c54d2fb09612c9879313f3b\", element=\"cd7426ab-a0c6-420f-97cb-b33c38c38d5e\")>,\n",
       " <selenium.webdriver.remote.webelement.WebElement (session=\"417173825c54d2fb09612c9879313f3b\", element=\"2f18fa17-b2d4-47c4-8999-5dc4c9870c17\")>,\n",
       " <selenium.webdriver.remote.webelement.WebElement (session=\"417173825c54d2fb09612c9879313f3b\", element=\"6b3e7a34-a1a3-4162-955b-432760884172\")>,\n",
       " <selenium.webdriver.remote.webelement.WebElement (session=\"417173825c54d2fb09612c9879313f3b\", element=\"27a9d797-c570-407d-a98c-8fd2f5ebfb02\")>]"
      ]
     },
     "execution_count": 120,
     "metadata": {},
     "output_type": "execute_result"
    }
   ],
   "source": [
    "dis_tags = driver.find_elements_by_xpath(\"//div[@class='_3Ay6Sb']\")\n",
    "dis_tags"
   ]
  },
  {
   "cell_type": "code",
   "execution_count": 121,
   "id": "99ae60a7",
   "metadata": {},
   "outputs": [
    {
     "data": {
      "text/plain": [
       "['81% off',\n",
       " '80% off',\n",
       " '88% off',\n",
       " '89% off',\n",
       " '84% off',\n",
       " '20% off',\n",
       " '78% off',\n",
       " '82% off',\n",
       " '80% off',\n",
       " '20% off',\n",
       " '89% off',\n",
       " '60% off',\n",
       " '85% off',\n",
       " '80% off',\n",
       " '88% off',\n",
       " '83% off',\n",
       " '85% off',\n",
       " '86% off',\n",
       " '80% off',\n",
       " '69% off',\n",
       " '87% off',\n",
       " '85% off',\n",
       " '81% off',\n",
       " '26% off',\n",
       " '82% off',\n",
       " '81% off',\n",
       " '76% off',\n",
       " '74% off',\n",
       " '80% off',\n",
       " '83% off',\n",
       " '68% off',\n",
       " '68% off',\n",
       " '77% off',\n",
       " '81% off',\n",
       " '78% off',\n",
       " '75% off',\n",
       " '79% off',\n",
       " '88% off',\n",
       " '79% off',\n",
       " '69% off']"
      ]
     },
     "execution_count": 121,
     "metadata": {},
     "output_type": "execute_result"
    }
   ],
   "source": [
    "for i in dis_tags:\n",
    "    title=i.text\n",
    "    Discount_list.append(title)\n",
    "Discount_list"
   ]
  },
  {
   "cell_type": "code",
   "execution_count": 122,
   "id": "c21781a2",
   "metadata": {},
   "outputs": [],
   "source": [
    "nxt_btn = driver.find_element_by_xpath(\"//a[@class='_1LKTO3']\")\n",
    "nxt_btn.click()"
   ]
  },
  {
   "cell_type": "code",
   "execution_count": 123,
   "id": "0195d18f",
   "metadata": {},
   "outputs": [],
   "source": [
    "brand_list1 = []\n",
    "specification_list1 = []\n",
    "price_list1 = []\n",
    "Discount_list1 = []"
   ]
  },
  {
   "cell_type": "code",
   "execution_count": 124,
   "id": "e8fffc1a",
   "metadata": {},
   "outputs": [
    {
     "data": {
      "text/plain": [
       "[<selenium.webdriver.remote.webelement.WebElement (session=\"417173825c54d2fb09612c9879313f3b\", element=\"2baf0980-7b5f-489b-be47-2f5c91fb64bc\")>,\n",
       " <selenium.webdriver.remote.webelement.WebElement (session=\"417173825c54d2fb09612c9879313f3b\", element=\"55f7f4d1-0757-48d2-b2d7-afbf6b6988ef\")>,\n",
       " <selenium.webdriver.remote.webelement.WebElement (session=\"417173825c54d2fb09612c9879313f3b\", element=\"95e20ff7-807c-4f49-ba25-f1867e64ce20\")>,\n",
       " <selenium.webdriver.remote.webelement.WebElement (session=\"417173825c54d2fb09612c9879313f3b\", element=\"21319722-90f7-4567-b89d-eb49b7a3ed52\")>,\n",
       " <selenium.webdriver.remote.webelement.WebElement (session=\"417173825c54d2fb09612c9879313f3b\", element=\"5b737aac-e3ba-4b68-97fa-31da8c6eaf76\")>,\n",
       " <selenium.webdriver.remote.webelement.WebElement (session=\"417173825c54d2fb09612c9879313f3b\", element=\"c4cea2fc-5048-45a8-9715-b362b1f5b5ea\")>,\n",
       " <selenium.webdriver.remote.webelement.WebElement (session=\"417173825c54d2fb09612c9879313f3b\", element=\"ee79c91a-afd8-4036-b28d-8ed4220083d3\")>,\n",
       " <selenium.webdriver.remote.webelement.WebElement (session=\"417173825c54d2fb09612c9879313f3b\", element=\"c84d0acf-9177-4342-8eb7-c392d7b435b0\")>,\n",
       " <selenium.webdriver.remote.webelement.WebElement (session=\"417173825c54d2fb09612c9879313f3b\", element=\"eb8d2bd1-a46f-4edd-99ca-1f8159587687\")>,\n",
       " <selenium.webdriver.remote.webelement.WebElement (session=\"417173825c54d2fb09612c9879313f3b\", element=\"680532b4-386b-4f89-ab05-f67bb3158bbd\")>,\n",
       " <selenium.webdriver.remote.webelement.WebElement (session=\"417173825c54d2fb09612c9879313f3b\", element=\"9194d30f-f0bc-4503-9653-93583b182d2c\")>,\n",
       " <selenium.webdriver.remote.webelement.WebElement (session=\"417173825c54d2fb09612c9879313f3b\", element=\"c25d9442-4250-4f86-b82e-62107318b9d1\")>,\n",
       " <selenium.webdriver.remote.webelement.WebElement (session=\"417173825c54d2fb09612c9879313f3b\", element=\"35779188-d166-4c19-ad64-c19eb21bcd92\")>,\n",
       " <selenium.webdriver.remote.webelement.WebElement (session=\"417173825c54d2fb09612c9879313f3b\", element=\"e3f3cade-ba41-422e-b079-f580bfe614e1\")>,\n",
       " <selenium.webdriver.remote.webelement.WebElement (session=\"417173825c54d2fb09612c9879313f3b\", element=\"7cb52eaf-4676-41a4-9c89-807c0f9fc597\")>,\n",
       " <selenium.webdriver.remote.webelement.WebElement (session=\"417173825c54d2fb09612c9879313f3b\", element=\"534b99cc-47fc-42c1-8b98-6e55b57affee\")>,\n",
       " <selenium.webdriver.remote.webelement.WebElement (session=\"417173825c54d2fb09612c9879313f3b\", element=\"fdd4c6fd-dd4c-419f-a830-a1f5f05d0179\")>,\n",
       " <selenium.webdriver.remote.webelement.WebElement (session=\"417173825c54d2fb09612c9879313f3b\", element=\"c7d4d9d9-c02d-4b30-a494-9594d6cb1bef\")>,\n",
       " <selenium.webdriver.remote.webelement.WebElement (session=\"417173825c54d2fb09612c9879313f3b\", element=\"204b0949-9ef4-4582-b706-2efd4eadd392\")>,\n",
       " <selenium.webdriver.remote.webelement.WebElement (session=\"417173825c54d2fb09612c9879313f3b\", element=\"bb7e0f04-5a9d-4dff-af92-b3aed2bb031f\")>,\n",
       " <selenium.webdriver.remote.webelement.WebElement (session=\"417173825c54d2fb09612c9879313f3b\", element=\"f878f044-256f-4f76-988b-43b7c2e8d760\")>,\n",
       " <selenium.webdriver.remote.webelement.WebElement (session=\"417173825c54d2fb09612c9879313f3b\", element=\"5c46e33f-a860-4c74-865c-2e704a89a288\")>,\n",
       " <selenium.webdriver.remote.webelement.WebElement (session=\"417173825c54d2fb09612c9879313f3b\", element=\"ddd2c06f-cf6e-49ad-879c-4dc0e8a8beb4\")>,\n",
       " <selenium.webdriver.remote.webelement.WebElement (session=\"417173825c54d2fb09612c9879313f3b\", element=\"8db9ccec-bbd8-4c51-b3a1-9b12f3540443\")>,\n",
       " <selenium.webdriver.remote.webelement.WebElement (session=\"417173825c54d2fb09612c9879313f3b\", element=\"d123710b-861f-4dd8-b461-b27536d0e1a2\")>,\n",
       " <selenium.webdriver.remote.webelement.WebElement (session=\"417173825c54d2fb09612c9879313f3b\", element=\"f23d0ab9-6916-4034-aa59-2cd854efb74c\")>,\n",
       " <selenium.webdriver.remote.webelement.WebElement (session=\"417173825c54d2fb09612c9879313f3b\", element=\"7cfe5cc5-a952-4771-ae09-fe4dc2e76c3c\")>,\n",
       " <selenium.webdriver.remote.webelement.WebElement (session=\"417173825c54d2fb09612c9879313f3b\", element=\"34ba3d24-ab29-48f1-b592-ff6c1e8bcc45\")>,\n",
       " <selenium.webdriver.remote.webelement.WebElement (session=\"417173825c54d2fb09612c9879313f3b\", element=\"4af7d10a-5a34-463b-a202-7303dbf9b2a3\")>,\n",
       " <selenium.webdriver.remote.webelement.WebElement (session=\"417173825c54d2fb09612c9879313f3b\", element=\"245a0f02-3da9-4d73-ac4e-1b54ec691954\")>,\n",
       " <selenium.webdriver.remote.webelement.WebElement (session=\"417173825c54d2fb09612c9879313f3b\", element=\"767562d7-9c91-4e32-b211-451f668836b4\")>,\n",
       " <selenium.webdriver.remote.webelement.WebElement (session=\"417173825c54d2fb09612c9879313f3b\", element=\"f95f71ee-bfd8-4504-9756-c37a37c6efe9\")>,\n",
       " <selenium.webdriver.remote.webelement.WebElement (session=\"417173825c54d2fb09612c9879313f3b\", element=\"3ff35ab3-c3aa-460e-91f8-4b99dc6b7274\")>,\n",
       " <selenium.webdriver.remote.webelement.WebElement (session=\"417173825c54d2fb09612c9879313f3b\", element=\"2245ad7b-1128-427d-a410-87660180d7af\")>,\n",
       " <selenium.webdriver.remote.webelement.WebElement (session=\"417173825c54d2fb09612c9879313f3b\", element=\"0aa63e3b-a668-4258-b3b3-9f9c074c85ae\")>,\n",
       " <selenium.webdriver.remote.webelement.WebElement (session=\"417173825c54d2fb09612c9879313f3b\", element=\"8e7e85f1-0a29-4254-825e-5a82c3cbddde\")>,\n",
       " <selenium.webdriver.remote.webelement.WebElement (session=\"417173825c54d2fb09612c9879313f3b\", element=\"88db7f08-d643-4270-b72a-f8c4e120d520\")>,\n",
       " <selenium.webdriver.remote.webelement.WebElement (session=\"417173825c54d2fb09612c9879313f3b\", element=\"4db33212-249a-4ef5-b77a-38db9f166849\")>,\n",
       " <selenium.webdriver.remote.webelement.WebElement (session=\"417173825c54d2fb09612c9879313f3b\", element=\"3e281b6a-c039-4423-9d1d-eaf4392493a3\")>,\n",
       " <selenium.webdriver.remote.webelement.WebElement (session=\"417173825c54d2fb09612c9879313f3b\", element=\"17593a48-1fee-4a4b-a736-925a241f342c\")>]"
      ]
     },
     "execution_count": 124,
     "metadata": {},
     "output_type": "execute_result"
    }
   ],
   "source": [
    "brand_tags1 = driver.find_elements_by_xpath(\"//div[@class='_2WkVRV']\")\n",
    "brand_tags1"
   ]
  },
  {
   "cell_type": "code",
   "execution_count": 125,
   "id": "aef1bc56",
   "metadata": {},
   "outputs": [
    {
     "data": {
      "text/plain": [
       "['Fastrack',\n",
       " 'elegante',\n",
       " 'Fastrack',\n",
       " 'GANSTA',\n",
       " 'SRPM',\n",
       " 'SRPM',\n",
       " 'hipe',\n",
       " 'NuVew',\n",
       " 'ROZZETTA CRAFT',\n",
       " 'Fastrack',\n",
       " 'hipe',\n",
       " 'NuVew',\n",
       " 'ROYAL SON',\n",
       " 'ROZZETTA CRAFT',\n",
       " 'hipe',\n",
       " 'AISLIN',\n",
       " 'kingsunglasses',\n",
       " 'Elligator',\n",
       " 'PIRASO',\n",
       " 'AUTOSITE',\n",
       " 'PHENOMENAL',\n",
       " 'New Specs',\n",
       " 'SUNBEE',\n",
       " 'ROZZETTA CRAFT',\n",
       " 'Fastrack',\n",
       " 'SRPM',\n",
       " 'ROZZETTA CRAFT',\n",
       " 'VINCENT CHASE',\n",
       " 'kingsunglasses',\n",
       " 'kingsunglasses',\n",
       " 'GANSTA',\n",
       " 'NuVew',\n",
       " 'PHENOMENAL',\n",
       " 'NuVew',\n",
       " 'Fastrack',\n",
       " 'AISLIN',\n",
       " 'Fastrack',\n",
       " 'AISLIN',\n",
       " 'Roadster',\n",
       " 'NuVew']"
      ]
     },
     "execution_count": 125,
     "metadata": {},
     "output_type": "execute_result"
    }
   ],
   "source": [
    "for i in brand_tags1:\n",
    "    title=i.text\n",
    "    brand_list1.append(title)\n",
    "brand_list1"
   ]
  },
  {
   "cell_type": "code",
   "execution_count": 126,
   "id": "a7ef275a",
   "metadata": {},
   "outputs": [
    {
     "data": {
      "text/plain": [
       "[<selenium.webdriver.remote.webelement.WebElement (session=\"417173825c54d2fb09612c9879313f3b\", element=\"7c3bf227-a92f-4c9a-8eae-9dc1f4733c5a\")>,\n",
       " <selenium.webdriver.remote.webelement.WebElement (session=\"417173825c54d2fb09612c9879313f3b\", element=\"8d6a3502-de51-4980-ba46-0cd7837b715e\")>,\n",
       " <selenium.webdriver.remote.webelement.WebElement (session=\"417173825c54d2fb09612c9879313f3b\", element=\"f5302fb9-11c9-4a27-9e62-9fb49f5e0666\")>,\n",
       " <selenium.webdriver.remote.webelement.WebElement (session=\"417173825c54d2fb09612c9879313f3b\", element=\"5c69aaf7-a57e-4270-a826-bbf601d7ee2f\")>,\n",
       " <selenium.webdriver.remote.webelement.WebElement (session=\"417173825c54d2fb09612c9879313f3b\", element=\"a0ea8071-6117-4325-8b3d-a00b17d3f878\")>,\n",
       " <selenium.webdriver.remote.webelement.WebElement (session=\"417173825c54d2fb09612c9879313f3b\", element=\"241f6fff-be1a-48fb-a477-3dc00763e3ae\")>,\n",
       " <selenium.webdriver.remote.webelement.WebElement (session=\"417173825c54d2fb09612c9879313f3b\", element=\"e17ec651-e24d-4c06-ae12-939e524cb6a3\")>,\n",
       " <selenium.webdriver.remote.webelement.WebElement (session=\"417173825c54d2fb09612c9879313f3b\", element=\"409ce5f2-e4f6-4b80-be06-8709c7d6638e\")>,\n",
       " <selenium.webdriver.remote.webelement.WebElement (session=\"417173825c54d2fb09612c9879313f3b\", element=\"18f4e85f-f3fd-4298-a972-112a70201784\")>,\n",
       " <selenium.webdriver.remote.webelement.WebElement (session=\"417173825c54d2fb09612c9879313f3b\", element=\"518eb8cd-825a-477e-a778-ea57e1396c15\")>,\n",
       " <selenium.webdriver.remote.webelement.WebElement (session=\"417173825c54d2fb09612c9879313f3b\", element=\"42aa6869-6fd8-4b99-a22e-7208b9449761\")>,\n",
       " <selenium.webdriver.remote.webelement.WebElement (session=\"417173825c54d2fb09612c9879313f3b\", element=\"5c299d1d-fa29-43e3-b1aa-c838e9644c31\")>,\n",
       " <selenium.webdriver.remote.webelement.WebElement (session=\"417173825c54d2fb09612c9879313f3b\", element=\"8279c8ec-0d5f-46f6-904d-4b3f26b57b17\")>,\n",
       " <selenium.webdriver.remote.webelement.WebElement (session=\"417173825c54d2fb09612c9879313f3b\", element=\"0501a6dd-1855-49b5-ab95-2acbbc4015a3\")>,\n",
       " <selenium.webdriver.remote.webelement.WebElement (session=\"417173825c54d2fb09612c9879313f3b\", element=\"abbac420-a0a1-4bcb-9f00-a341e1c4f5a1\")>,\n",
       " <selenium.webdriver.remote.webelement.WebElement (session=\"417173825c54d2fb09612c9879313f3b\", element=\"22713922-4f8e-4336-96a9-02762aa80c69\")>,\n",
       " <selenium.webdriver.remote.webelement.WebElement (session=\"417173825c54d2fb09612c9879313f3b\", element=\"244f682b-c080-4340-b847-cfb98636363a\")>,\n",
       " <selenium.webdriver.remote.webelement.WebElement (session=\"417173825c54d2fb09612c9879313f3b\", element=\"31d46192-8513-4572-80d8-308fdbd4f603\")>,\n",
       " <selenium.webdriver.remote.webelement.WebElement (session=\"417173825c54d2fb09612c9879313f3b\", element=\"37ec32a1-dbd5-4cdb-9c44-efaf3f6e70b4\")>,\n",
       " <selenium.webdriver.remote.webelement.WebElement (session=\"417173825c54d2fb09612c9879313f3b\", element=\"05480f62-5981-448d-908c-74450cc2a3d9\")>,\n",
       " <selenium.webdriver.remote.webelement.WebElement (session=\"417173825c54d2fb09612c9879313f3b\", element=\"b962c028-a78d-4cb4-8d3b-9f2e44e45dcd\")>,\n",
       " <selenium.webdriver.remote.webelement.WebElement (session=\"417173825c54d2fb09612c9879313f3b\", element=\"f103de3f-2b3c-4d93-8555-a799b9a52598\")>,\n",
       " <selenium.webdriver.remote.webelement.WebElement (session=\"417173825c54d2fb09612c9879313f3b\", element=\"8c21db14-6296-47d9-80d5-31669b8a64cf\")>,\n",
       " <selenium.webdriver.remote.webelement.WebElement (session=\"417173825c54d2fb09612c9879313f3b\", element=\"1df51c7c-0b43-46ca-9fda-6f533d50b031\")>,\n",
       " <selenium.webdriver.remote.webelement.WebElement (session=\"417173825c54d2fb09612c9879313f3b\", element=\"8ae55d8e-074e-43ff-b59e-a44d4332a32c\")>,\n",
       " <selenium.webdriver.remote.webelement.WebElement (session=\"417173825c54d2fb09612c9879313f3b\", element=\"af6d11dc-1346-4818-b717-a4cabc72b782\")>,\n",
       " <selenium.webdriver.remote.webelement.WebElement (session=\"417173825c54d2fb09612c9879313f3b\", element=\"1a1615d0-9241-4b95-9b93-9a0ed5d3951a\")>,\n",
       " <selenium.webdriver.remote.webelement.WebElement (session=\"417173825c54d2fb09612c9879313f3b\", element=\"733b6774-1560-48f3-bca5-3cc4afdf687f\")>,\n",
       " <selenium.webdriver.remote.webelement.WebElement (session=\"417173825c54d2fb09612c9879313f3b\", element=\"386a9773-8bcd-4d0d-b664-f6aa32ebc9c9\")>,\n",
       " <selenium.webdriver.remote.webelement.WebElement (session=\"417173825c54d2fb09612c9879313f3b\", element=\"a09d1672-add4-44d7-925a-188dbccbe21b\")>,\n",
       " <selenium.webdriver.remote.webelement.WebElement (session=\"417173825c54d2fb09612c9879313f3b\", element=\"b7422143-9835-4ca9-aa88-4919cfe1c703\")>,\n",
       " <selenium.webdriver.remote.webelement.WebElement (session=\"417173825c54d2fb09612c9879313f3b\", element=\"00852d27-6aeb-4d8c-ae4e-77631687d332\")>,\n",
       " <selenium.webdriver.remote.webelement.WebElement (session=\"417173825c54d2fb09612c9879313f3b\", element=\"4b53fcc8-1ed5-48b8-97cd-3468c50f5458\")>,\n",
       " <selenium.webdriver.remote.webelement.WebElement (session=\"417173825c54d2fb09612c9879313f3b\", element=\"6235845d-6d09-4cbd-8b1f-3ca7ae84e14e\")>,\n",
       " <selenium.webdriver.remote.webelement.WebElement (session=\"417173825c54d2fb09612c9879313f3b\", element=\"24261658-c955-47a7-ad79-96166241bcf7\")>,\n",
       " <selenium.webdriver.remote.webelement.WebElement (session=\"417173825c54d2fb09612c9879313f3b\", element=\"d9245d95-ebd5-4fa6-ba92-7fad0861f11a\")>,\n",
       " <selenium.webdriver.remote.webelement.WebElement (session=\"417173825c54d2fb09612c9879313f3b\", element=\"e0ac843b-1184-4408-8767-e4ac75d415d4\")>,\n",
       " <selenium.webdriver.remote.webelement.WebElement (session=\"417173825c54d2fb09612c9879313f3b\", element=\"03a38757-323f-48af-b75f-10f7c1908718\")>,\n",
       " <selenium.webdriver.remote.webelement.WebElement (session=\"417173825c54d2fb09612c9879313f3b\", element=\"a169c115-c4bc-459f-852f-7f3b6f243842\")>,\n",
       " <selenium.webdriver.remote.webelement.WebElement (session=\"417173825c54d2fb09612c9879313f3b\", element=\"d6bfd124-366a-43e9-8e64-9f073886b775\")>]"
      ]
     },
     "execution_count": 126,
     "metadata": {},
     "output_type": "execute_result"
    }
   ],
   "source": [
    "specs_tag1 = driver.find_elements_by_xpath(\"//a[@class='IRpwTa']\")\n",
    "specs_tag1"
   ]
  },
  {
   "cell_type": "code",
   "execution_count": 127,
   "id": "ffe57708",
   "metadata": {},
   "outputs": [
    {
     "data": {
      "text/plain": [
       "['UV Protection Shield Sunglasses (Free Size)',\n",
       " 'Polarized, Riding Glasses, Night Vision Sports, Wrap-ar...',\n",
       " 'UV Protection Aviator Sunglasses (57)',\n",
       " 'Night Vision, Riding Glasses Wayfarer Sunglasses (53)',\n",
       " 'UV Protection Wayfarer Sunglasses (54)',\n",
       " 'UV Protection Wayfarer Sunglasses (53)',\n",
       " 'UV Protection Round Sunglasses (Free Size)',\n",
       " 'UV Protection, Mirrored Wayfarer, Rectangular Sunglasse...',\n",
       " 'UV Protection, Gradient Retro Square Sunglasses (Free S...',\n",
       " 'Gradient, UV Protection Wayfarer Sunglasses (Free Size)',\n",
       " 'UV Protection Sports Sunglasses (Free Size)',\n",
       " 'UV Protection, Mirrored Aviator Sunglasses (57)',\n",
       " 'UV Protection Rectangular, Retro Square Sunglasses (58)',\n",
       " 'UV Protection Retro Square Sunglasses (Free Size)',\n",
       " 'Mirrored Wayfarer Sunglasses (55)',\n",
       " 'UV Protection, Gradient Butterfly, Over-sized Sunglasse...',\n",
       " 'UV Protection Rectangular Sunglasses (55)',\n",
       " 'UV Protection Aviator Sunglasses (55)',\n",
       " 'UV Protection Over-sized Sunglasses (65)',\n",
       " 'Night Vision Rectangular Sunglasses (63)',\n",
       " 'UV Protection, Mirrored Clubmaster Sunglasses (Free Siz...',\n",
       " 'UV Protection Round Sunglasses (Free Size)',\n",
       " 'UV Protection, Polarized, Mirrored Round Sunglasses (Fr...',\n",
       " 'UV Protection Retro Square Sunglasses (Free Size)',\n",
       " 'UV Protection Wayfarer Sunglasses (55)',\n",
       " 'Others Wayfarer, Retro Square Sunglasses (50)',\n",
       " 'UV Protection Round Sunglasses (Free Size)',\n",
       " 'by Lenskart Polarized, UV Protection Round Sunglasses (...',\n",
       " 'Mirrored, UV Protection Aviator Sunglasses (56)',\n",
       " 'UV Protection, Night Vision Wayfarer Sunglasses (Free S...',\n",
       " 'UV Protection Aviator Sunglasses (57)',\n",
       " 'UV Protection, Mirrored, Gradient Cat-eye Sunglasses (6...',\n",
       " 'UV Protection Retro Square Sunglasses (Free Size)',\n",
       " 'UV Protection Aviator Sunglasses (57)',\n",
       " 'UV Protection Wayfarer Sunglasses (Free Size)',\n",
       " 'Toughened Glass Lens, UV Protection Wayfarer, Rectangul...',\n",
       " 'UV Protection Aviator Sunglasses (58)',\n",
       " 'UV Protection, Gradient Butterfly, Retro Square Sunglas...',\n",
       " 'UV Protection Oval Sunglasses (57)',\n",
       " 'UV Protection Cat-eye Sunglasses (60)']"
      ]
     },
     "execution_count": 127,
     "metadata": {},
     "output_type": "execute_result"
    }
   ],
   "source": [
    "for i in specs_tag1:\n",
    "    title=i.text\n",
    "    specification_list1.append(title)\n",
    "specification_list1"
   ]
  },
  {
   "cell_type": "code",
   "execution_count": 128,
   "id": "4aa6de3f",
   "metadata": {},
   "outputs": [
    {
     "data": {
      "text/plain": [
       "[<selenium.webdriver.remote.webelement.WebElement (session=\"417173825c54d2fb09612c9879313f3b\", element=\"6f775158-29b6-401b-976e-e8ba8be3489e\")>,\n",
       " <selenium.webdriver.remote.webelement.WebElement (session=\"417173825c54d2fb09612c9879313f3b\", element=\"12653bfa-5870-4a44-a283-fe07e7704664\")>,\n",
       " <selenium.webdriver.remote.webelement.WebElement (session=\"417173825c54d2fb09612c9879313f3b\", element=\"ea575baf-3c76-4d80-8b3c-36998382b98e\")>,\n",
       " <selenium.webdriver.remote.webelement.WebElement (session=\"417173825c54d2fb09612c9879313f3b\", element=\"2e5c85f1-40cc-47ab-9aa4-8b6f0c1878b4\")>,\n",
       " <selenium.webdriver.remote.webelement.WebElement (session=\"417173825c54d2fb09612c9879313f3b\", element=\"b579de04-137f-4897-b365-059859cecdf1\")>,\n",
       " <selenium.webdriver.remote.webelement.WebElement (session=\"417173825c54d2fb09612c9879313f3b\", element=\"30082dac-7a10-4b99-8a7c-9985f87f60cd\")>,\n",
       " <selenium.webdriver.remote.webelement.WebElement (session=\"417173825c54d2fb09612c9879313f3b\", element=\"a23f45f5-7029-48ac-80f0-4c12d2488d90\")>,\n",
       " <selenium.webdriver.remote.webelement.WebElement (session=\"417173825c54d2fb09612c9879313f3b\", element=\"4c6ef9ce-f547-49eb-96ff-048191171b35\")>,\n",
       " <selenium.webdriver.remote.webelement.WebElement (session=\"417173825c54d2fb09612c9879313f3b\", element=\"62d5ef6a-2b52-4ab6-8eb3-8aca6d0e4f45\")>,\n",
       " <selenium.webdriver.remote.webelement.WebElement (session=\"417173825c54d2fb09612c9879313f3b\", element=\"8c75cf9b-195c-4635-a413-d7be533fc6bb\")>,\n",
       " <selenium.webdriver.remote.webelement.WebElement (session=\"417173825c54d2fb09612c9879313f3b\", element=\"413f1b79-139c-4552-b20f-44da9d2cb5a7\")>,\n",
       " <selenium.webdriver.remote.webelement.WebElement (session=\"417173825c54d2fb09612c9879313f3b\", element=\"8781f6db-1366-49a0-91d4-0dcb97162010\")>,\n",
       " <selenium.webdriver.remote.webelement.WebElement (session=\"417173825c54d2fb09612c9879313f3b\", element=\"6d07f54a-0ac2-4f38-94fe-37d0cd9cae4f\")>,\n",
       " <selenium.webdriver.remote.webelement.WebElement (session=\"417173825c54d2fb09612c9879313f3b\", element=\"46a8187d-8434-496a-83e8-4452e234671f\")>,\n",
       " <selenium.webdriver.remote.webelement.WebElement (session=\"417173825c54d2fb09612c9879313f3b\", element=\"45ba5188-2568-433f-aa48-a8515543b108\")>,\n",
       " <selenium.webdriver.remote.webelement.WebElement (session=\"417173825c54d2fb09612c9879313f3b\", element=\"a31dbe5d-db4c-4f2e-8669-d88c98274743\")>,\n",
       " <selenium.webdriver.remote.webelement.WebElement (session=\"417173825c54d2fb09612c9879313f3b\", element=\"0d7fe2b2-2ca3-49e0-b255-b9e0cadf5bb1\")>,\n",
       " <selenium.webdriver.remote.webelement.WebElement (session=\"417173825c54d2fb09612c9879313f3b\", element=\"b3b604cf-f394-4248-bd2e-31f120a992c9\")>,\n",
       " <selenium.webdriver.remote.webelement.WebElement (session=\"417173825c54d2fb09612c9879313f3b\", element=\"25d2ef86-efb7-4e98-9a5e-91c177478ba7\")>,\n",
       " <selenium.webdriver.remote.webelement.WebElement (session=\"417173825c54d2fb09612c9879313f3b\", element=\"22d165c2-5f49-4944-86a9-daf08e08e199\")>,\n",
       " <selenium.webdriver.remote.webelement.WebElement (session=\"417173825c54d2fb09612c9879313f3b\", element=\"5df2078c-6567-4e73-aba3-dbe0ba494faf\")>,\n",
       " <selenium.webdriver.remote.webelement.WebElement (session=\"417173825c54d2fb09612c9879313f3b\", element=\"2a79cb59-9975-40d6-b7b5-01ab31b68d4b\")>,\n",
       " <selenium.webdriver.remote.webelement.WebElement (session=\"417173825c54d2fb09612c9879313f3b\", element=\"4b5d0b63-cbd8-4f83-b14f-1abd793eac47\")>,\n",
       " <selenium.webdriver.remote.webelement.WebElement (session=\"417173825c54d2fb09612c9879313f3b\", element=\"fa0380ee-0562-40fb-b91c-bb6b91bb7f99\")>,\n",
       " <selenium.webdriver.remote.webelement.WebElement (session=\"417173825c54d2fb09612c9879313f3b\", element=\"24071c77-f05c-4940-ab00-1480231a1545\")>,\n",
       " <selenium.webdriver.remote.webelement.WebElement (session=\"417173825c54d2fb09612c9879313f3b\", element=\"049833af-db3a-4aae-a559-da994ff1dd80\")>,\n",
       " <selenium.webdriver.remote.webelement.WebElement (session=\"417173825c54d2fb09612c9879313f3b\", element=\"079cbd54-74d6-46ac-b2c8-5c356b90e667\")>,\n",
       " <selenium.webdriver.remote.webelement.WebElement (session=\"417173825c54d2fb09612c9879313f3b\", element=\"f595cc3d-d33e-408b-89e6-b9cdd75ab8b5\")>,\n",
       " <selenium.webdriver.remote.webelement.WebElement (session=\"417173825c54d2fb09612c9879313f3b\", element=\"b309dfbf-c96c-482a-8c46-af5c6a8ef82e\")>,\n",
       " <selenium.webdriver.remote.webelement.WebElement (session=\"417173825c54d2fb09612c9879313f3b\", element=\"93b798a6-86a6-445d-ad20-97514b3ab3df\")>,\n",
       " <selenium.webdriver.remote.webelement.WebElement (session=\"417173825c54d2fb09612c9879313f3b\", element=\"1f760405-438f-4871-82ea-2bc502399c1b\")>,\n",
       " <selenium.webdriver.remote.webelement.WebElement (session=\"417173825c54d2fb09612c9879313f3b\", element=\"8cc9e7ca-dc15-4166-a243-ff4cd91fc047\")>,\n",
       " <selenium.webdriver.remote.webelement.WebElement (session=\"417173825c54d2fb09612c9879313f3b\", element=\"d88b6402-1616-45ee-8bef-7ee6228ae084\")>,\n",
       " <selenium.webdriver.remote.webelement.WebElement (session=\"417173825c54d2fb09612c9879313f3b\", element=\"63db9bd5-4d72-48b4-831d-27c938b86818\")>,\n",
       " <selenium.webdriver.remote.webelement.WebElement (session=\"417173825c54d2fb09612c9879313f3b\", element=\"3dc69a10-ed72-4af5-b360-fa4a6e6dd0db\")>,\n",
       " <selenium.webdriver.remote.webelement.WebElement (session=\"417173825c54d2fb09612c9879313f3b\", element=\"2b835c03-aad4-4901-a513-9dd19f0b39d0\")>,\n",
       " <selenium.webdriver.remote.webelement.WebElement (session=\"417173825c54d2fb09612c9879313f3b\", element=\"587d5eef-d327-48ff-848c-fa5692136939\")>,\n",
       " <selenium.webdriver.remote.webelement.WebElement (session=\"417173825c54d2fb09612c9879313f3b\", element=\"83e3601a-2274-4953-9c7a-245d51e4d8fa\")>,\n",
       " <selenium.webdriver.remote.webelement.WebElement (session=\"417173825c54d2fb09612c9879313f3b\", element=\"209e9938-bdbd-4a84-891f-afbb4e5a1d16\")>,\n",
       " <selenium.webdriver.remote.webelement.WebElement (session=\"417173825c54d2fb09612c9879313f3b\", element=\"1bdcec23-e530-49df-b34a-6d2d177ab386\")>]"
      ]
     },
     "execution_count": 128,
     "metadata": {},
     "output_type": "execute_result"
    }
   ],
   "source": [
    "price_tags1 = driver.find_elements_by_xpath(\"//div[@class='_30jeq3']\")\n",
    "price_tags1"
   ]
  },
  {
   "cell_type": "code",
   "execution_count": 129,
   "id": "519ffcd9",
   "metadata": {},
   "outputs": [
    {
     "data": {
      "text/plain": [
       "['₹809',\n",
       " '₹499',\n",
       " '₹639',\n",
       " '₹221',\n",
       " '₹219',\n",
       " '₹246',\n",
       " '₹198',\n",
       " '₹343',\n",
       " '₹331',\n",
       " '₹639',\n",
       " '₹258',\n",
       " '₹195',\n",
       " '₹474',\n",
       " '₹474',\n",
       " '₹177',\n",
       " '₹458',\n",
       " '₹189',\n",
       " '₹333',\n",
       " '₹399',\n",
       " '₹149',\n",
       " '₹369',\n",
       " '₹264',\n",
       " '₹314',\n",
       " '₹308',\n",
       " '₹683',\n",
       " '₹239',\n",
       " '₹398',\n",
       " '₹999',\n",
       " '₹245',\n",
       " '₹299',\n",
       " '₹284',\n",
       " '₹325',\n",
       " '₹379',\n",
       " '₹175',\n",
       " '₹639',\n",
       " '₹825',\n",
       " '₹1,099',\n",
       " '₹458',\n",
       " '₹649',\n",
       " '₹377']"
      ]
     },
     "execution_count": 129,
     "metadata": {},
     "output_type": "execute_result"
    }
   ],
   "source": [
    "for i in price_tags1:\n",
    "    title=i.text\n",
    "    price_list1.append(title)\n",
    "price_list1"
   ]
  },
  {
   "cell_type": "code",
   "execution_count": 130,
   "id": "fa4a0f5c",
   "metadata": {},
   "outputs": [
    {
     "data": {
      "text/plain": [
       "[<selenium.webdriver.remote.webelement.WebElement (session=\"417173825c54d2fb09612c9879313f3b\", element=\"a38dbe9d-7b5a-4526-9dc2-df0ab07df677\")>,\n",
       " <selenium.webdriver.remote.webelement.WebElement (session=\"417173825c54d2fb09612c9879313f3b\", element=\"b16c7e4d-d756-4e41-ac66-d8c2afbdad80\")>,\n",
       " <selenium.webdriver.remote.webelement.WebElement (session=\"417173825c54d2fb09612c9879313f3b\", element=\"22159b44-0e84-4526-aaf3-8ad94e287825\")>,\n",
       " <selenium.webdriver.remote.webelement.WebElement (session=\"417173825c54d2fb09612c9879313f3b\", element=\"5292f4d5-d338-46fa-b6d7-65d4742458ad\")>,\n",
       " <selenium.webdriver.remote.webelement.WebElement (session=\"417173825c54d2fb09612c9879313f3b\", element=\"8c1c383a-355d-44b0-b8e8-566cec9c243f\")>,\n",
       " <selenium.webdriver.remote.webelement.WebElement (session=\"417173825c54d2fb09612c9879313f3b\", element=\"3afbd8bb-b7f9-42cf-a804-42a85b0614fd\")>,\n",
       " <selenium.webdriver.remote.webelement.WebElement (session=\"417173825c54d2fb09612c9879313f3b\", element=\"0ac15441-0b58-402f-a434-ab34411f6832\")>,\n",
       " <selenium.webdriver.remote.webelement.WebElement (session=\"417173825c54d2fb09612c9879313f3b\", element=\"0faaba60-8b92-4e10-ac28-f224a5e37042\")>,\n",
       " <selenium.webdriver.remote.webelement.WebElement (session=\"417173825c54d2fb09612c9879313f3b\", element=\"24eb5d0e-0fc3-46ff-8289-62a4df945912\")>,\n",
       " <selenium.webdriver.remote.webelement.WebElement (session=\"417173825c54d2fb09612c9879313f3b\", element=\"84a5fb2c-2f9e-4465-988a-156a04fd06ea\")>,\n",
       " <selenium.webdriver.remote.webelement.WebElement (session=\"417173825c54d2fb09612c9879313f3b\", element=\"7d37f996-8165-4573-a5bc-e62b67face96\")>,\n",
       " <selenium.webdriver.remote.webelement.WebElement (session=\"417173825c54d2fb09612c9879313f3b\", element=\"fd348efc-e248-4be9-aa5f-70e5da8234c6\")>,\n",
       " <selenium.webdriver.remote.webelement.WebElement (session=\"417173825c54d2fb09612c9879313f3b\", element=\"af6a7444-aba6-4770-9198-2a0257275d0b\")>,\n",
       " <selenium.webdriver.remote.webelement.WebElement (session=\"417173825c54d2fb09612c9879313f3b\", element=\"bc4a41ff-4be1-4617-8e1e-63ccc0fb28c1\")>,\n",
       " <selenium.webdriver.remote.webelement.WebElement (session=\"417173825c54d2fb09612c9879313f3b\", element=\"6436ae68-eaa6-46ef-b038-15e3f94add38\")>,\n",
       " <selenium.webdriver.remote.webelement.WebElement (session=\"417173825c54d2fb09612c9879313f3b\", element=\"1ed205c9-8ebc-4f8a-a8d0-5e4b4321205b\")>,\n",
       " <selenium.webdriver.remote.webelement.WebElement (session=\"417173825c54d2fb09612c9879313f3b\", element=\"88dad0b8-77c7-454e-8a9b-dac5da440333\")>,\n",
       " <selenium.webdriver.remote.webelement.WebElement (session=\"417173825c54d2fb09612c9879313f3b\", element=\"3c23957f-72a7-4ec8-914b-466459b81d57\")>,\n",
       " <selenium.webdriver.remote.webelement.WebElement (session=\"417173825c54d2fb09612c9879313f3b\", element=\"c1a711f1-93fe-4969-93ab-a3841ee34318\")>,\n",
       " <selenium.webdriver.remote.webelement.WebElement (session=\"417173825c54d2fb09612c9879313f3b\", element=\"5baed009-f731-4a9d-bc4b-b6ad07425c53\")>,\n",
       " <selenium.webdriver.remote.webelement.WebElement (session=\"417173825c54d2fb09612c9879313f3b\", element=\"9ef45570-7a93-46a1-97ba-7c57fa241f2c\")>,\n",
       " <selenium.webdriver.remote.webelement.WebElement (session=\"417173825c54d2fb09612c9879313f3b\", element=\"a856de55-10eb-4d11-8694-79d21c708f1b\")>,\n",
       " <selenium.webdriver.remote.webelement.WebElement (session=\"417173825c54d2fb09612c9879313f3b\", element=\"35ec6680-0008-4c67-884e-4a2be6f511a0\")>,\n",
       " <selenium.webdriver.remote.webelement.WebElement (session=\"417173825c54d2fb09612c9879313f3b\", element=\"aff6232c-d5e3-49d8-becc-6cd91f680e95\")>,\n",
       " <selenium.webdriver.remote.webelement.WebElement (session=\"417173825c54d2fb09612c9879313f3b\", element=\"d3a69086-7f13-4964-b7b4-246d05e7ae5f\")>,\n",
       " <selenium.webdriver.remote.webelement.WebElement (session=\"417173825c54d2fb09612c9879313f3b\", element=\"83421cd2-d3f5-424f-862a-a0ca0e8e4831\")>,\n",
       " <selenium.webdriver.remote.webelement.WebElement (session=\"417173825c54d2fb09612c9879313f3b\", element=\"38b09751-223c-4855-b36a-2a245c228c18\")>,\n",
       " <selenium.webdriver.remote.webelement.WebElement (session=\"417173825c54d2fb09612c9879313f3b\", element=\"bca70d40-f437-4ddc-b682-0efc84db4f1d\")>,\n",
       " <selenium.webdriver.remote.webelement.WebElement (session=\"417173825c54d2fb09612c9879313f3b\", element=\"13d560f9-fa4a-4a0b-a9d2-f22ac26bc4c4\")>,\n",
       " <selenium.webdriver.remote.webelement.WebElement (session=\"417173825c54d2fb09612c9879313f3b\", element=\"48803421-bdda-4b96-a1f3-f4d8280cfa3d\")>,\n",
       " <selenium.webdriver.remote.webelement.WebElement (session=\"417173825c54d2fb09612c9879313f3b\", element=\"2e352ed0-d496-4045-b5a2-cfbf089ff1b6\")>,\n",
       " <selenium.webdriver.remote.webelement.WebElement (session=\"417173825c54d2fb09612c9879313f3b\", element=\"a2fe696d-b74e-410b-8b45-c771ba6b4da5\")>,\n",
       " <selenium.webdriver.remote.webelement.WebElement (session=\"417173825c54d2fb09612c9879313f3b\", element=\"d1580cd6-331c-4028-89fb-43df48df80fd\")>,\n",
       " <selenium.webdriver.remote.webelement.WebElement (session=\"417173825c54d2fb09612c9879313f3b\", element=\"b89a2055-cf73-4660-8ed6-03c64831d71b\")>,\n",
       " <selenium.webdriver.remote.webelement.WebElement (session=\"417173825c54d2fb09612c9879313f3b\", element=\"97c91b69-fb9d-4efe-8646-88440f7678e0\")>,\n",
       " <selenium.webdriver.remote.webelement.WebElement (session=\"417173825c54d2fb09612c9879313f3b\", element=\"027b3991-0d87-410d-ac54-dbc65d74c44e\")>,\n",
       " <selenium.webdriver.remote.webelement.WebElement (session=\"417173825c54d2fb09612c9879313f3b\", element=\"b9b2ac68-5e0b-48b6-82f4-6e536d139843\")>,\n",
       " <selenium.webdriver.remote.webelement.WebElement (session=\"417173825c54d2fb09612c9879313f3b\", element=\"90a6c180-ffda-49db-8e1a-0d00b61c9b42\")>,\n",
       " <selenium.webdriver.remote.webelement.WebElement (session=\"417173825c54d2fb09612c9879313f3b\", element=\"df08f92c-afb7-4655-8471-91d88070474c\")>,\n",
       " <selenium.webdriver.remote.webelement.WebElement (session=\"417173825c54d2fb09612c9879313f3b\", element=\"33b60514-fbb8-4e87-9adb-59475209db49\")>]"
      ]
     },
     "execution_count": 130,
     "metadata": {},
     "output_type": "execute_result"
    }
   ],
   "source": [
    "dis_tags1 = driver.find_elements_by_xpath(\"//div[@class='_3Ay6Sb']\")\n",
    "dis_tags1"
   ]
  },
  {
   "cell_type": "code",
   "execution_count": 131,
   "id": "89505a6e",
   "metadata": {},
   "outputs": [
    {
     "data": {
      "text/plain": [
       "['10% off',\n",
       " '78% off',\n",
       " '20% off',\n",
       " '87% off',\n",
       " '78% off',\n",
       " '75% off',\n",
       " '85% off',\n",
       " '67% off',\n",
       " '83% off',\n",
       " '20% off',\n",
       " '86% off',\n",
       " '74% off',\n",
       " '68% off',\n",
       " '78% off',\n",
       " '82% off',\n",
       " '78% off',\n",
       " '85% off',\n",
       " '83% off',\n",
       " '84% off',\n",
       " '85% off',\n",
       " '81% off',\n",
       " '79% off',\n",
       " '81% off',\n",
       " '81% off',\n",
       " '14% off',\n",
       " '76% off',\n",
       " '80% off',\n",
       " '50% off',\n",
       " '81% off',\n",
       " '82% off',\n",
       " '85% off',\n",
       " '78% off',\n",
       " '81% off',\n",
       " '76% off',\n",
       " '20% off',\n",
       " '77% off',\n",
       " '15% off',\n",
       " '69% off',\n",
       " '35% off',\n",
       " '73% off']"
      ]
     },
     "execution_count": 131,
     "metadata": {},
     "output_type": "execute_result"
    }
   ],
   "source": [
    "for i in dis_tags1:\n",
    "    title=i.text\n",
    "    Discount_list1.append(title)\n",
    "Discount_list1"
   ]
  },
  {
   "cell_type": "markdown",
   "id": "32eadfde",
   "metadata": {},
   "source": [
    "Next page 2 "
   ]
  },
  {
   "cell_type": "code",
   "execution_count": 132,
   "id": "ac29d098",
   "metadata": {},
   "outputs": [],
   "source": [
    "nxt_btn3 = driver.find_element_by_xpath(\"//a[@class='_1LKTO3']\")\n",
    "nxt_btn3.click()"
   ]
  },
  {
   "cell_type": "code",
   "execution_count": 133,
   "id": "88454bc1",
   "metadata": {},
   "outputs": [],
   "source": [
    "brand_list2 = []\n",
    "specification_list2 = []\n",
    "price_list2 = []\n",
    "Discount_list2 = []"
   ]
  },
  {
   "cell_type": "code",
   "execution_count": 134,
   "id": "984b3679",
   "metadata": {},
   "outputs": [
    {
     "data": {
      "text/plain": [
       "[<selenium.webdriver.remote.webelement.WebElement (session=\"417173825c54d2fb09612c9879313f3b\", element=\"06c99429-5c3c-4058-b428-75dfdeff2463\")>,\n",
       " <selenium.webdriver.remote.webelement.WebElement (session=\"417173825c54d2fb09612c9879313f3b\", element=\"fa85eb08-4569-40c8-8a98-78edaae636b0\")>,\n",
       " <selenium.webdriver.remote.webelement.WebElement (session=\"417173825c54d2fb09612c9879313f3b\", element=\"c7dc6c9d-f397-4d08-ab9b-ee8d48baced8\")>,\n",
       " <selenium.webdriver.remote.webelement.WebElement (session=\"417173825c54d2fb09612c9879313f3b\", element=\"09b2004c-6e4e-4d02-8c5f-ca67f22a93ac\")>,\n",
       " <selenium.webdriver.remote.webelement.WebElement (session=\"417173825c54d2fb09612c9879313f3b\", element=\"e09713c5-3e99-48fb-9b96-27e4d8e3a80b\")>,\n",
       " <selenium.webdriver.remote.webelement.WebElement (session=\"417173825c54d2fb09612c9879313f3b\", element=\"fda7dd3d-28f2-4c81-a502-b935c7bd2ce4\")>,\n",
       " <selenium.webdriver.remote.webelement.WebElement (session=\"417173825c54d2fb09612c9879313f3b\", element=\"989c7480-3635-4688-b83a-d3d0b0dc4418\")>,\n",
       " <selenium.webdriver.remote.webelement.WebElement (session=\"417173825c54d2fb09612c9879313f3b\", element=\"0196c09a-c5c8-43ad-b5a3-bea6ba3531be\")>,\n",
       " <selenium.webdriver.remote.webelement.WebElement (session=\"417173825c54d2fb09612c9879313f3b\", element=\"f1bb41f3-5561-4641-bec1-cfb3b07ef186\")>,\n",
       " <selenium.webdriver.remote.webelement.WebElement (session=\"417173825c54d2fb09612c9879313f3b\", element=\"17c9ed10-a7a1-4447-910a-5857b3a1b579\")>,\n",
       " <selenium.webdriver.remote.webelement.WebElement (session=\"417173825c54d2fb09612c9879313f3b\", element=\"ef8754b4-fa26-4360-b937-0fd2a7ea87ab\")>,\n",
       " <selenium.webdriver.remote.webelement.WebElement (session=\"417173825c54d2fb09612c9879313f3b\", element=\"32eb4de5-0587-41a3-9f88-c801dca32507\")>,\n",
       " <selenium.webdriver.remote.webelement.WebElement (session=\"417173825c54d2fb09612c9879313f3b\", element=\"8f894462-5a1a-460e-8b1b-81afe5fb6981\")>,\n",
       " <selenium.webdriver.remote.webelement.WebElement (session=\"417173825c54d2fb09612c9879313f3b\", element=\"16dd6835-c0b5-4863-a3d4-2b44388d9b70\")>,\n",
       " <selenium.webdriver.remote.webelement.WebElement (session=\"417173825c54d2fb09612c9879313f3b\", element=\"41c529fb-325b-4c80-b29c-5060b1c780b5\")>,\n",
       " <selenium.webdriver.remote.webelement.WebElement (session=\"417173825c54d2fb09612c9879313f3b\", element=\"856cf28f-1d85-4c2c-842f-d87dbacf5564\")>,\n",
       " <selenium.webdriver.remote.webelement.WebElement (session=\"417173825c54d2fb09612c9879313f3b\", element=\"3f93aedd-af54-4a43-b96b-223d96550494\")>,\n",
       " <selenium.webdriver.remote.webelement.WebElement (session=\"417173825c54d2fb09612c9879313f3b\", element=\"12650238-f909-4972-9975-e79f6a341c41\")>,\n",
       " <selenium.webdriver.remote.webelement.WebElement (session=\"417173825c54d2fb09612c9879313f3b\", element=\"53a4296c-c501-4bed-97f9-996947931b54\")>,\n",
       " <selenium.webdriver.remote.webelement.WebElement (session=\"417173825c54d2fb09612c9879313f3b\", element=\"b2f35de7-b64a-467d-8c53-363090f22206\")>,\n",
       " <selenium.webdriver.remote.webelement.WebElement (session=\"417173825c54d2fb09612c9879313f3b\", element=\"5855a436-155e-4152-b0c8-77d154873eb6\")>,\n",
       " <selenium.webdriver.remote.webelement.WebElement (session=\"417173825c54d2fb09612c9879313f3b\", element=\"07077465-6393-4959-8175-b97038448d82\")>,\n",
       " <selenium.webdriver.remote.webelement.WebElement (session=\"417173825c54d2fb09612c9879313f3b\", element=\"1eda9b38-74ab-46d5-9023-ab2430844b40\")>,\n",
       " <selenium.webdriver.remote.webelement.WebElement (session=\"417173825c54d2fb09612c9879313f3b\", element=\"cf8953af-04a6-4bc1-8d5a-99d4cb5dc1cb\")>,\n",
       " <selenium.webdriver.remote.webelement.WebElement (session=\"417173825c54d2fb09612c9879313f3b\", element=\"cc5689c6-7528-4420-a7da-8095f5f31a53\")>,\n",
       " <selenium.webdriver.remote.webelement.WebElement (session=\"417173825c54d2fb09612c9879313f3b\", element=\"c6fd4ea9-77a2-48f4-ab84-6b96695b1062\")>,\n",
       " <selenium.webdriver.remote.webelement.WebElement (session=\"417173825c54d2fb09612c9879313f3b\", element=\"c24cdf1c-4f99-4161-a8a6-d8f649cd6377\")>,\n",
       " <selenium.webdriver.remote.webelement.WebElement (session=\"417173825c54d2fb09612c9879313f3b\", element=\"8b4a4ac3-8865-4195-b310-45c9853911d4\")>,\n",
       " <selenium.webdriver.remote.webelement.WebElement (session=\"417173825c54d2fb09612c9879313f3b\", element=\"06187551-b035-4771-83c9-32c559aa6671\")>,\n",
       " <selenium.webdriver.remote.webelement.WebElement (session=\"417173825c54d2fb09612c9879313f3b\", element=\"87b0f873-e678-4175-82e3-60aae4b65dd7\")>,\n",
       " <selenium.webdriver.remote.webelement.WebElement (session=\"417173825c54d2fb09612c9879313f3b\", element=\"078876e1-903e-43c2-83aa-7b304a4440d7\")>,\n",
       " <selenium.webdriver.remote.webelement.WebElement (session=\"417173825c54d2fb09612c9879313f3b\", element=\"090506e8-e157-46e0-851f-4bced7c17c2a\")>,\n",
       " <selenium.webdriver.remote.webelement.WebElement (session=\"417173825c54d2fb09612c9879313f3b\", element=\"4368b667-b5bc-4979-ad3a-b64282d403f2\")>,\n",
       " <selenium.webdriver.remote.webelement.WebElement (session=\"417173825c54d2fb09612c9879313f3b\", element=\"d2aa0100-cc53-42b0-a257-31353a83f0ae\")>,\n",
       " <selenium.webdriver.remote.webelement.WebElement (session=\"417173825c54d2fb09612c9879313f3b\", element=\"a281888e-0ef9-4a1a-82f4-4c0852e22183\")>,\n",
       " <selenium.webdriver.remote.webelement.WebElement (session=\"417173825c54d2fb09612c9879313f3b\", element=\"41d59aba-9809-4d33-8f21-43ab2d464dc5\")>,\n",
       " <selenium.webdriver.remote.webelement.WebElement (session=\"417173825c54d2fb09612c9879313f3b\", element=\"35051b9f-d223-4891-87d7-11a3a56959b6\")>,\n",
       " <selenium.webdriver.remote.webelement.WebElement (session=\"417173825c54d2fb09612c9879313f3b\", element=\"99cf5d7e-7fbc-44c1-a8b2-6d7e8bba1a21\")>,\n",
       " <selenium.webdriver.remote.webelement.WebElement (session=\"417173825c54d2fb09612c9879313f3b\", element=\"436b7378-399b-4ef8-b847-bdc1d54a3d9d\")>,\n",
       " <selenium.webdriver.remote.webelement.WebElement (session=\"417173825c54d2fb09612c9879313f3b\", element=\"39c05aad-bda5-46c4-a2fe-c6d1fcb711ae\")>]"
      ]
     },
     "execution_count": 134,
     "metadata": {},
     "output_type": "execute_result"
    }
   ],
   "source": [
    "brand_tags2 = driver.find_elements_by_xpath(\"//div[@class='_2WkVRV']\")\n",
    "brand_tags2"
   ]
  },
  {
   "cell_type": "code",
   "execution_count": 135,
   "id": "54fc4d6a",
   "metadata": {},
   "outputs": [
    {
     "data": {
      "text/plain": [
       "['ROZZETTA CRAFT',\n",
       " 'ROZZETTA CRAFT',\n",
       " 'Elligator',\n",
       " 'New Specs',\n",
       " 'PIRASO',\n",
       " 'Fastrack',\n",
       " 'SUNBEE',\n",
       " 'NuVew',\n",
       " 'SRPM',\n",
       " 'Fastrack',\n",
       " 'SHAAH COLLECTIONS',\n",
       " 'GANSTA',\n",
       " 'PIRASO',\n",
       " 'Lee Topper',\n",
       " 'Lee Topper',\n",
       " 'ROYAL SON',\n",
       " 'PIRASO',\n",
       " 'kingsunglasses',\n",
       " 'SUNBEE',\n",
       " 'AISLIN',\n",
       " 'GANSTA',\n",
       " 'PIRASO',\n",
       " 'New Specs',\n",
       " 'NuVew',\n",
       " 'kingsunglasses',\n",
       " 'SUNBEE',\n",
       " 'ROZZETTA CRAFT',\n",
       " 'GANSTA',\n",
       " 'DEIXELS',\n",
       " 'Singco India',\n",
       " 'PHENOMENAL',\n",
       " 'NuVew',\n",
       " 'Elligator',\n",
       " 'hipe',\n",
       " 'kingsunglasses',\n",
       " 'ROZZETTA CRAFT',\n",
       " 'kingsunglasses',\n",
       " 'hipe',\n",
       " 'SHAAH COLLECTIONS',\n",
       " 'AISLIN']"
      ]
     },
     "execution_count": 135,
     "metadata": {},
     "output_type": "execute_result"
    }
   ],
   "source": [
    "for i in brand_tags2:\n",
    "    title=i.text\n",
    "    brand_list2.append(title)\n",
    "brand_list2"
   ]
  },
  {
   "cell_type": "code",
   "execution_count": 136,
   "id": "9b5c04e8",
   "metadata": {},
   "outputs": [
    {
     "data": {
      "text/plain": [
       "[<selenium.webdriver.remote.webelement.WebElement (session=\"417173825c54d2fb09612c9879313f3b\", element=\"988e06b2-cbc2-4c07-8f68-038ec1e2c07c\")>,\n",
       " <selenium.webdriver.remote.webelement.WebElement (session=\"417173825c54d2fb09612c9879313f3b\", element=\"eca8af0c-7ede-4816-afcf-24c6b7590e3a\")>,\n",
       " <selenium.webdriver.remote.webelement.WebElement (session=\"417173825c54d2fb09612c9879313f3b\", element=\"10866d55-e7f7-4ac6-abc1-427fad541b56\")>,\n",
       " <selenium.webdriver.remote.webelement.WebElement (session=\"417173825c54d2fb09612c9879313f3b\", element=\"687d7c0e-54b8-4d18-9632-60d3fd69e239\")>,\n",
       " <selenium.webdriver.remote.webelement.WebElement (session=\"417173825c54d2fb09612c9879313f3b\", element=\"141fa170-fe28-45c3-a048-95429ff862e4\")>,\n",
       " <selenium.webdriver.remote.webelement.WebElement (session=\"417173825c54d2fb09612c9879313f3b\", element=\"e2330283-a8fa-4447-a9cc-0d489bc3b966\")>,\n",
       " <selenium.webdriver.remote.webelement.WebElement (session=\"417173825c54d2fb09612c9879313f3b\", element=\"de615ada-bb0a-4df5-b827-95c79973991e\")>,\n",
       " <selenium.webdriver.remote.webelement.WebElement (session=\"417173825c54d2fb09612c9879313f3b\", element=\"10f9cf5f-caf1-4d32-835c-7ad8edb7ea35\")>,\n",
       " <selenium.webdriver.remote.webelement.WebElement (session=\"417173825c54d2fb09612c9879313f3b\", element=\"9b9ae983-9777-49b3-acdb-55029df89f8d\")>,\n",
       " <selenium.webdriver.remote.webelement.WebElement (session=\"417173825c54d2fb09612c9879313f3b\", element=\"18b46679-215c-4b30-a7ba-9098f7297a58\")>,\n",
       " <selenium.webdriver.remote.webelement.WebElement (session=\"417173825c54d2fb09612c9879313f3b\", element=\"cac9240c-1058-4044-97d1-ed726cb587e1\")>,\n",
       " <selenium.webdriver.remote.webelement.WebElement (session=\"417173825c54d2fb09612c9879313f3b\", element=\"67ff2a88-356d-4a48-b23a-8dfe668b2554\")>,\n",
       " <selenium.webdriver.remote.webelement.WebElement (session=\"417173825c54d2fb09612c9879313f3b\", element=\"0d00287e-61e6-4496-a15a-06bfc8e56ef5\")>,\n",
       " <selenium.webdriver.remote.webelement.WebElement (session=\"417173825c54d2fb09612c9879313f3b\", element=\"9aaaa37a-df7e-413d-8ef5-cec069e922a7\")>,\n",
       " <selenium.webdriver.remote.webelement.WebElement (session=\"417173825c54d2fb09612c9879313f3b\", element=\"3b17c72d-2115-4a34-a8eb-b2b4ffb0d0eb\")>,\n",
       " <selenium.webdriver.remote.webelement.WebElement (session=\"417173825c54d2fb09612c9879313f3b\", element=\"590ce770-f6e2-423e-a4eb-b91c2f3a6fdf\")>,\n",
       " <selenium.webdriver.remote.webelement.WebElement (session=\"417173825c54d2fb09612c9879313f3b\", element=\"14f760f2-4fc9-413d-a3e0-c6705c2e37b5\")>,\n",
       " <selenium.webdriver.remote.webelement.WebElement (session=\"417173825c54d2fb09612c9879313f3b\", element=\"59c55e87-d9d9-4c54-8bfb-1f3e367f7571\")>,\n",
       " <selenium.webdriver.remote.webelement.WebElement (session=\"417173825c54d2fb09612c9879313f3b\", element=\"cc44b6e3-30fe-4cb3-89d5-9694baffce14\")>,\n",
       " <selenium.webdriver.remote.webelement.WebElement (session=\"417173825c54d2fb09612c9879313f3b\", element=\"65f3b456-cab4-42d6-8951-b89b0917fee1\")>,\n",
       " <selenium.webdriver.remote.webelement.WebElement (session=\"417173825c54d2fb09612c9879313f3b\", element=\"ba128edc-45ee-4d3d-b675-539c218b202d\")>,\n",
       " <selenium.webdriver.remote.webelement.WebElement (session=\"417173825c54d2fb09612c9879313f3b\", element=\"40fc7dc5-d8cc-4fe1-af74-cf1aeb980f00\")>,\n",
       " <selenium.webdriver.remote.webelement.WebElement (session=\"417173825c54d2fb09612c9879313f3b\", element=\"1f2af989-14d1-424f-9597-d4cc2cd3b1e5\")>,\n",
       " <selenium.webdriver.remote.webelement.WebElement (session=\"417173825c54d2fb09612c9879313f3b\", element=\"6108bf61-97f6-4be9-861f-69dd458b287f\")>,\n",
       " <selenium.webdriver.remote.webelement.WebElement (session=\"417173825c54d2fb09612c9879313f3b\", element=\"461552d7-d570-4c09-b345-4fdfbbafc7ac\")>,\n",
       " <selenium.webdriver.remote.webelement.WebElement (session=\"417173825c54d2fb09612c9879313f3b\", element=\"73c3724f-fd4b-459f-afff-a6921001817c\")>,\n",
       " <selenium.webdriver.remote.webelement.WebElement (session=\"417173825c54d2fb09612c9879313f3b\", element=\"03fee714-e0da-49ae-a7e2-f10b63a9d4fb\")>,\n",
       " <selenium.webdriver.remote.webelement.WebElement (session=\"417173825c54d2fb09612c9879313f3b\", element=\"83454502-3159-409e-a745-b8a94dd9c90d\")>,\n",
       " <selenium.webdriver.remote.webelement.WebElement (session=\"417173825c54d2fb09612c9879313f3b\", element=\"dc2985ac-433d-483d-b7c2-f641a62165a8\")>,\n",
       " <selenium.webdriver.remote.webelement.WebElement (session=\"417173825c54d2fb09612c9879313f3b\", element=\"ee24b2b2-b659-4ac3-ba60-01e7003eb892\")>,\n",
       " <selenium.webdriver.remote.webelement.WebElement (session=\"417173825c54d2fb09612c9879313f3b\", element=\"ad71af90-f6be-4a1b-b9b3-1d99a53ff9fd\")>,\n",
       " <selenium.webdriver.remote.webelement.WebElement (session=\"417173825c54d2fb09612c9879313f3b\", element=\"cd85ec75-2588-4721-adca-21dcc5aeddb4\")>,\n",
       " <selenium.webdriver.remote.webelement.WebElement (session=\"417173825c54d2fb09612c9879313f3b\", element=\"0d56c512-28ca-4bdd-8276-1f91621001cc\")>,\n",
       " <selenium.webdriver.remote.webelement.WebElement (session=\"417173825c54d2fb09612c9879313f3b\", element=\"520ed267-d0e9-4055-932d-8bb543f66040\")>,\n",
       " <selenium.webdriver.remote.webelement.WebElement (session=\"417173825c54d2fb09612c9879313f3b\", element=\"a7dd1648-a01e-421f-a5c7-bfe3628e127e\")>,\n",
       " <selenium.webdriver.remote.webelement.WebElement (session=\"417173825c54d2fb09612c9879313f3b\", element=\"5801e7e8-d1b7-4fea-93f8-1f240d7f2ec6\")>,\n",
       " <selenium.webdriver.remote.webelement.WebElement (session=\"417173825c54d2fb09612c9879313f3b\", element=\"e2479187-bfc7-403b-8234-7ff989d7c191\")>,\n",
       " <selenium.webdriver.remote.webelement.WebElement (session=\"417173825c54d2fb09612c9879313f3b\", element=\"86dbf5ae-699f-4432-9970-0270a4f46e0e\")>,\n",
       " <selenium.webdriver.remote.webelement.WebElement (session=\"417173825c54d2fb09612c9879313f3b\", element=\"77a3b601-7dd6-4253-a786-2f2bce782ad5\")>,\n",
       " <selenium.webdriver.remote.webelement.WebElement (session=\"417173825c54d2fb09612c9879313f3b\", element=\"3a5694a6-d883-46f9-ae43-eae86121c55c\")>]"
      ]
     },
     "execution_count": 136,
     "metadata": {},
     "output_type": "execute_result"
    }
   ],
   "source": [
    "specs_tag2 = driver.find_elements_by_xpath(\"//a[@class='IRpwTa']\")\n",
    "specs_tag2"
   ]
  },
  {
   "cell_type": "code",
   "execution_count": 137,
   "id": "99e7fb29",
   "metadata": {},
   "outputs": [
    {
     "data": {
      "text/plain": [
       "['UV Protection, Gradient Rectangular Sunglasses (Free Si...',\n",
       " 'UV Protection Spectacle Sunglasses (Free Size)',\n",
       " 'UV Protection Round Sunglasses (54)',\n",
       " 'UV Protection Rectangular Sunglasses (Free Size)',\n",
       " 'UV Protection Aviator Sunglasses (54)',\n",
       " 'UV Protection Wayfarer Sunglasses (Free Size)',\n",
       " 'UV Protection, Polarized Wayfarer Sunglasses (Free Size...',\n",
       " 'UV Protection Retro Square, Wayfarer Sunglasses (58)',\n",
       " 'UV Protection Wayfarer Sunglasses (50)',\n",
       " 'UV Protection Rectangular Sunglasses (Free Size)',\n",
       " 'UV Protection, Polarized, Mirrored Rectangular Sunglass...',\n",
       " 'UV Protection Aviator Sunglasses (57)',\n",
       " 'UV Protection Aviator Sunglasses (54)',\n",
       " 'UV Protection Rectangular Sunglasses (Free Size)',\n",
       " 'Riding Glasses Wrap-around Sunglasses (Free Size)',\n",
       " 'UV Protection, Polarized Wayfarer Sunglasses (54)',\n",
       " 'UV Protection Aviator Sunglasses (54)',\n",
       " 'Mirrored, UV Protection Wayfarer Sunglasses (Free Size)',\n",
       " 'UV Protection, Polarized, Mirrored Retro Square Sunglas...',\n",
       " 'UV Protection, Gradient Cat-eye Sunglasses (58)',\n",
       " 'UV Protection, Riding Glasses Wayfarer Sunglasses (53)',\n",
       " 'UV Protection Wayfarer Sunglasses (32)',\n",
       " 'Mirrored, UV Protection, Riding Glasses, Others Round S...',\n",
       " 'UV Protection Cat-eye Sunglasses (60)',\n",
       " 'UV Protection, Riding Glasses, Mirrored Wayfarer Sungla...',\n",
       " 'UV Protection, Polarized, Mirrored Round Sunglasses (Fr...',\n",
       " 'Polarized, Riding Glasses Sports, Wrap-around Sunglasse...',\n",
       " 'Night Vision, Riding Glasses Wayfarer Sunglasses (53)',\n",
       " 'UV Protection Aviator, Wayfarer Sunglasses (Free Size)',\n",
       " 'Riding Glasses, UV Protection, Others Aviator Sunglasse...',\n",
       " 'UV Protection Retro Square Sunglasses (53)',\n",
       " 'UV Protection, Mirrored Wayfarer, Rectangular Sunglasse...',\n",
       " 'UV Protection Round Sunglasses (53)',\n",
       " 'UV Protection, Gradient, Mirrored, Riding Glasses Aviat...',\n",
       " 'UV Protection Round Sunglasses (54)',\n",
       " 'UV Protection Aviator Sunglasses (62)',\n",
       " 'UV Protection Round Sunglasses (Free Size)',\n",
       " 'Mirrored, UV Protection, Gradient Round Sunglasses (55)',\n",
       " 'UV Protection, Polarized, Mirrored Rectangular Sunglass...',\n",
       " 'UV Protection, Gradient Oval Sunglasses (58)']"
      ]
     },
     "execution_count": 137,
     "metadata": {},
     "output_type": "execute_result"
    }
   ],
   "source": [
    "for i in specs_tag2:\n",
    "    title=i.text\n",
    "    specification_list2.append(title)\n",
    "specification_list2"
   ]
  },
  {
   "cell_type": "code",
   "execution_count": 138,
   "id": "5812371e",
   "metadata": {},
   "outputs": [
    {
     "data": {
      "text/plain": [
       "[<selenium.webdriver.remote.webelement.WebElement (session=\"417173825c54d2fb09612c9879313f3b\", element=\"9b3eaac3-e8ff-408a-a621-2e69f99970aa\")>,\n",
       " <selenium.webdriver.remote.webelement.WebElement (session=\"417173825c54d2fb09612c9879313f3b\", element=\"ebb5d583-6ccb-4c11-93ee-7fb3de48d245\")>,\n",
       " <selenium.webdriver.remote.webelement.WebElement (session=\"417173825c54d2fb09612c9879313f3b\", element=\"938077a8-2ed7-460a-9be1-64efded04207\")>,\n",
       " <selenium.webdriver.remote.webelement.WebElement (session=\"417173825c54d2fb09612c9879313f3b\", element=\"6cfea4dc-b1ea-4832-9a84-c7627c4f87e8\")>,\n",
       " <selenium.webdriver.remote.webelement.WebElement (session=\"417173825c54d2fb09612c9879313f3b\", element=\"e81dca92-2715-493a-a0aa-3c1c0bc0187a\")>,\n",
       " <selenium.webdriver.remote.webelement.WebElement (session=\"417173825c54d2fb09612c9879313f3b\", element=\"e81f037f-993f-4f6b-b9a8-21e929ca9621\")>,\n",
       " <selenium.webdriver.remote.webelement.WebElement (session=\"417173825c54d2fb09612c9879313f3b\", element=\"c15b5681-556a-4219-9322-36e87ed86ff6\")>,\n",
       " <selenium.webdriver.remote.webelement.WebElement (session=\"417173825c54d2fb09612c9879313f3b\", element=\"5cd61a90-2eac-4d0b-943b-424deb0a7a03\")>,\n",
       " <selenium.webdriver.remote.webelement.WebElement (session=\"417173825c54d2fb09612c9879313f3b\", element=\"65d358d2-1294-4e23-83da-630684c24327\")>,\n",
       " <selenium.webdriver.remote.webelement.WebElement (session=\"417173825c54d2fb09612c9879313f3b\", element=\"eadbf414-d09c-4c7a-9a17-c41470519f23\")>,\n",
       " <selenium.webdriver.remote.webelement.WebElement (session=\"417173825c54d2fb09612c9879313f3b\", element=\"0f3e3036-8c52-4123-a3e6-b5feba309ae9\")>,\n",
       " <selenium.webdriver.remote.webelement.WebElement (session=\"417173825c54d2fb09612c9879313f3b\", element=\"99df3cdb-702f-4bbd-a1cb-ef1f0a823f34\")>,\n",
       " <selenium.webdriver.remote.webelement.WebElement (session=\"417173825c54d2fb09612c9879313f3b\", element=\"9498f27b-abbd-4a80-9508-47fe50ce2e14\")>,\n",
       " <selenium.webdriver.remote.webelement.WebElement (session=\"417173825c54d2fb09612c9879313f3b\", element=\"56cc3aaa-7968-422b-88d8-0646a06b1d2d\")>,\n",
       " <selenium.webdriver.remote.webelement.WebElement (session=\"417173825c54d2fb09612c9879313f3b\", element=\"1145afcc-f1d5-43a5-a989-41a66e071244\")>,\n",
       " <selenium.webdriver.remote.webelement.WebElement (session=\"417173825c54d2fb09612c9879313f3b\", element=\"d1dbabb2-e4c9-426d-83fe-981eb3018b10\")>,\n",
       " <selenium.webdriver.remote.webelement.WebElement (session=\"417173825c54d2fb09612c9879313f3b\", element=\"cfed68da-dcb7-4c98-bc3c-a9bea802bc4e\")>,\n",
       " <selenium.webdriver.remote.webelement.WebElement (session=\"417173825c54d2fb09612c9879313f3b\", element=\"e6510141-ebf2-4a2d-8eeb-1ab08bc79a98\")>,\n",
       " <selenium.webdriver.remote.webelement.WebElement (session=\"417173825c54d2fb09612c9879313f3b\", element=\"92b91db2-4f9d-4cff-9475-fb7a4cfd261d\")>,\n",
       " <selenium.webdriver.remote.webelement.WebElement (session=\"417173825c54d2fb09612c9879313f3b\", element=\"e092f2c4-4506-475d-9d30-dea0587f5d63\")>,\n",
       " <selenium.webdriver.remote.webelement.WebElement (session=\"417173825c54d2fb09612c9879313f3b\", element=\"bc2eab36-3a61-4955-9ce9-483ac8348f44\")>,\n",
       " <selenium.webdriver.remote.webelement.WebElement (session=\"417173825c54d2fb09612c9879313f3b\", element=\"4152627c-9792-405d-a48d-414caef18f84\")>,\n",
       " <selenium.webdriver.remote.webelement.WebElement (session=\"417173825c54d2fb09612c9879313f3b\", element=\"ac1dd58f-15a2-4829-8136-e5c64afcdedb\")>,\n",
       " <selenium.webdriver.remote.webelement.WebElement (session=\"417173825c54d2fb09612c9879313f3b\", element=\"e255ba15-c8d7-4d50-8c68-36328f4730be\")>,\n",
       " <selenium.webdriver.remote.webelement.WebElement (session=\"417173825c54d2fb09612c9879313f3b\", element=\"79fd93ea-40e9-49fb-9f2c-cdfcc99023f4\")>,\n",
       " <selenium.webdriver.remote.webelement.WebElement (session=\"417173825c54d2fb09612c9879313f3b\", element=\"ee35d0bc-a527-4247-a982-f4d82fb6725a\")>,\n",
       " <selenium.webdriver.remote.webelement.WebElement (session=\"417173825c54d2fb09612c9879313f3b\", element=\"3c5396d8-b0ac-4eea-adad-3137ec8cebfe\")>,\n",
       " <selenium.webdriver.remote.webelement.WebElement (session=\"417173825c54d2fb09612c9879313f3b\", element=\"2e75c6d0-7da6-412e-b3eb-ca1d83ff248f\")>,\n",
       " <selenium.webdriver.remote.webelement.WebElement (session=\"417173825c54d2fb09612c9879313f3b\", element=\"a4034ede-ae65-4434-9274-07734fe4f571\")>,\n",
       " <selenium.webdriver.remote.webelement.WebElement (session=\"417173825c54d2fb09612c9879313f3b\", element=\"4ad2d4a5-75cd-4114-ba56-cb0b0627b772\")>,\n",
       " <selenium.webdriver.remote.webelement.WebElement (session=\"417173825c54d2fb09612c9879313f3b\", element=\"1d0e387e-f611-4cc3-99e1-743227d87416\")>,\n",
       " <selenium.webdriver.remote.webelement.WebElement (session=\"417173825c54d2fb09612c9879313f3b\", element=\"b7470274-329e-473d-9635-826b2fdafc93\")>,\n",
       " <selenium.webdriver.remote.webelement.WebElement (session=\"417173825c54d2fb09612c9879313f3b\", element=\"61f5fab7-5545-4c1d-a20f-eee803f92536\")>,\n",
       " <selenium.webdriver.remote.webelement.WebElement (session=\"417173825c54d2fb09612c9879313f3b\", element=\"3ed6fb07-dc9e-47d3-8580-366fe1430389\")>,\n",
       " <selenium.webdriver.remote.webelement.WebElement (session=\"417173825c54d2fb09612c9879313f3b\", element=\"0529c5c8-f8a0-4c19-bdd2-832b52633d53\")>,\n",
       " <selenium.webdriver.remote.webelement.WebElement (session=\"417173825c54d2fb09612c9879313f3b\", element=\"dcd2be16-566a-4046-a512-769ea74ca1f9\")>,\n",
       " <selenium.webdriver.remote.webelement.WebElement (session=\"417173825c54d2fb09612c9879313f3b\", element=\"74bc74fe-da19-4d54-8f0d-2815cb89bbe8\")>,\n",
       " <selenium.webdriver.remote.webelement.WebElement (session=\"417173825c54d2fb09612c9879313f3b\", element=\"bddb5840-e5bf-4c88-9949-6889fb486a10\")>,\n",
       " <selenium.webdriver.remote.webelement.WebElement (session=\"417173825c54d2fb09612c9879313f3b\", element=\"9d1e7568-31cf-441d-b0ad-e292d7029ae5\")>,\n",
       " <selenium.webdriver.remote.webelement.WebElement (session=\"417173825c54d2fb09612c9879313f3b\", element=\"a9fe5cb4-698d-4598-96c5-095720bc3646\")>]"
      ]
     },
     "execution_count": 138,
     "metadata": {},
     "output_type": "execute_result"
    }
   ],
   "source": [
    "price_tags2 = driver.find_elements_by_xpath(\"//div[@class='_30jeq3']\")\n",
    "price_tags2"
   ]
  },
  {
   "cell_type": "code",
   "execution_count": 139,
   "id": "607ff109",
   "metadata": {},
   "outputs": [
    {
     "data": {
      "text/plain": [
       "['₹379',\n",
       " '₹399',\n",
       " '₹295',\n",
       " '₹269',\n",
       " '₹249',\n",
       " '₹719',\n",
       " '₹273',\n",
       " '₹185',\n",
       " '₹249',\n",
       " '₹639',\n",
       " '₹185',\n",
       " '₹284',\n",
       " '₹225',\n",
       " '₹199',\n",
       " '₹275',\n",
       " '₹799',\n",
       " '₹225',\n",
       " '₹269',\n",
       " '₹249',\n",
       " '₹459',\n",
       " '₹221',\n",
       " '₹225',\n",
       " '₹299',\n",
       " '₹375',\n",
       " '₹209',\n",
       " '₹314',\n",
       " '₹474',\n",
       " '₹221',\n",
       " '₹229',\n",
       " '₹245',\n",
       " '₹315',\n",
       " '₹343',\n",
       " '₹229',\n",
       " '₹188',\n",
       " '₹214',\n",
       " '₹616',\n",
       " '₹329',\n",
       " '₹170',\n",
       " '₹203',\n",
       " '₹458']"
      ]
     },
     "execution_count": 139,
     "metadata": {},
     "output_type": "execute_result"
    }
   ],
   "source": [
    "for i in price_tags2:\n",
    "    title=i.text\n",
    "    price_list2.append(title)\n",
    "price_list2"
   ]
  },
  {
   "cell_type": "code",
   "execution_count": 140,
   "id": "e94a6ab8",
   "metadata": {},
   "outputs": [
    {
     "data": {
      "text/plain": [
       "[<selenium.webdriver.remote.webelement.WebElement (session=\"417173825c54d2fb09612c9879313f3b\", element=\"c23998f6-592c-42c8-a77b-9bba597afce5\")>,\n",
       " <selenium.webdriver.remote.webelement.WebElement (session=\"417173825c54d2fb09612c9879313f3b\", element=\"b2a9adb4-2d41-4c80-8efe-8fb7300e0d52\")>,\n",
       " <selenium.webdriver.remote.webelement.WebElement (session=\"417173825c54d2fb09612c9879313f3b\", element=\"bab5223f-433b-4848-87fe-0b8da741c300\")>,\n",
       " <selenium.webdriver.remote.webelement.WebElement (session=\"417173825c54d2fb09612c9879313f3b\", element=\"49e99ef8-5f46-4007-a9b4-81c597dc949b\")>,\n",
       " <selenium.webdriver.remote.webelement.WebElement (session=\"417173825c54d2fb09612c9879313f3b\", element=\"b16f0c89-d457-43c9-874e-1fae2abcd22d\")>,\n",
       " <selenium.webdriver.remote.webelement.WebElement (session=\"417173825c54d2fb09612c9879313f3b\", element=\"7e1033ba-a368-4dd7-9877-40bf664da655\")>,\n",
       " <selenium.webdriver.remote.webelement.WebElement (session=\"417173825c54d2fb09612c9879313f3b\", element=\"08eff39c-84d2-40b1-a510-10d176bc3501\")>,\n",
       " <selenium.webdriver.remote.webelement.WebElement (session=\"417173825c54d2fb09612c9879313f3b\", element=\"f14a1369-62f3-47cc-a4ca-ebb6e0c1f06f\")>,\n",
       " <selenium.webdriver.remote.webelement.WebElement (session=\"417173825c54d2fb09612c9879313f3b\", element=\"436b9011-5abe-4b83-bc5c-e861bb750a36\")>,\n",
       " <selenium.webdriver.remote.webelement.WebElement (session=\"417173825c54d2fb09612c9879313f3b\", element=\"2e9df35b-3575-4c8d-bf3d-1eec01e88b05\")>,\n",
       " <selenium.webdriver.remote.webelement.WebElement (session=\"417173825c54d2fb09612c9879313f3b\", element=\"e03caf87-4553-4525-aaa8-6e1113ba993c\")>,\n",
       " <selenium.webdriver.remote.webelement.WebElement (session=\"417173825c54d2fb09612c9879313f3b\", element=\"9fa4cfca-7b35-43e6-8e46-d1c2ae138988\")>,\n",
       " <selenium.webdriver.remote.webelement.WebElement (session=\"417173825c54d2fb09612c9879313f3b\", element=\"310ebd1e-43bd-483c-a3fc-d62fe0a35ed7\")>,\n",
       " <selenium.webdriver.remote.webelement.WebElement (session=\"417173825c54d2fb09612c9879313f3b\", element=\"4724437f-4614-414f-9c97-2a044dead397\")>,\n",
       " <selenium.webdriver.remote.webelement.WebElement (session=\"417173825c54d2fb09612c9879313f3b\", element=\"202107c6-7410-45e7-94e8-511c6555af81\")>,\n",
       " <selenium.webdriver.remote.webelement.WebElement (session=\"417173825c54d2fb09612c9879313f3b\", element=\"50c7a923-3f6f-40ef-8621-1b2e3c4da1bf\")>,\n",
       " <selenium.webdriver.remote.webelement.WebElement (session=\"417173825c54d2fb09612c9879313f3b\", element=\"7651cfbb-1512-4bc1-8dcb-d84bcb727d9a\")>,\n",
       " <selenium.webdriver.remote.webelement.WebElement (session=\"417173825c54d2fb09612c9879313f3b\", element=\"11101ab6-2be4-4224-9d29-e32396598a3b\")>,\n",
       " <selenium.webdriver.remote.webelement.WebElement (session=\"417173825c54d2fb09612c9879313f3b\", element=\"e6080a5e-186e-4bd3-bfc2-c71603ddb87e\")>,\n",
       " <selenium.webdriver.remote.webelement.WebElement (session=\"417173825c54d2fb09612c9879313f3b\", element=\"be31f89f-77d9-4df4-b90c-886aa463be95\")>,\n",
       " <selenium.webdriver.remote.webelement.WebElement (session=\"417173825c54d2fb09612c9879313f3b\", element=\"49087d53-6924-44e7-a474-56272b36d7c1\")>,\n",
       " <selenium.webdriver.remote.webelement.WebElement (session=\"417173825c54d2fb09612c9879313f3b\", element=\"1934ec60-e172-43ee-8838-8bc7c631031c\")>,\n",
       " <selenium.webdriver.remote.webelement.WebElement (session=\"417173825c54d2fb09612c9879313f3b\", element=\"75c5fcdd-70eb-4350-bb90-3227d14b258d\")>,\n",
       " <selenium.webdriver.remote.webelement.WebElement (session=\"417173825c54d2fb09612c9879313f3b\", element=\"bd6e4203-6314-4685-a2fd-ba8ad2046bca\")>,\n",
       " <selenium.webdriver.remote.webelement.WebElement (session=\"417173825c54d2fb09612c9879313f3b\", element=\"7ab68795-5781-4d68-9be9-eb694b36c8e2\")>,\n",
       " <selenium.webdriver.remote.webelement.WebElement (session=\"417173825c54d2fb09612c9879313f3b\", element=\"ce2c47b6-b046-4d87-a566-2be2e322f97c\")>,\n",
       " <selenium.webdriver.remote.webelement.WebElement (session=\"417173825c54d2fb09612c9879313f3b\", element=\"e7c3758f-fc00-4739-bca3-8efa505bcb65\")>,\n",
       " <selenium.webdriver.remote.webelement.WebElement (session=\"417173825c54d2fb09612c9879313f3b\", element=\"2121f859-1330-43dc-b11a-2488174b0300\")>,\n",
       " <selenium.webdriver.remote.webelement.WebElement (session=\"417173825c54d2fb09612c9879313f3b\", element=\"7389d1c1-0283-4bc6-9ec0-e871c0ffbe0b\")>,\n",
       " <selenium.webdriver.remote.webelement.WebElement (session=\"417173825c54d2fb09612c9879313f3b\", element=\"d15eab2b-f98a-414e-88d6-b3d083452e0c\")>,\n",
       " <selenium.webdriver.remote.webelement.WebElement (session=\"417173825c54d2fb09612c9879313f3b\", element=\"001b8569-3c8e-42dc-aada-8b31dc2fc8ab\")>,\n",
       " <selenium.webdriver.remote.webelement.WebElement (session=\"417173825c54d2fb09612c9879313f3b\", element=\"6761eba9-f071-4328-85e7-ba0c680cf70b\")>,\n",
       " <selenium.webdriver.remote.webelement.WebElement (session=\"417173825c54d2fb09612c9879313f3b\", element=\"4693223b-6cb7-4720-9fb5-f48909c4d2a9\")>,\n",
       " <selenium.webdriver.remote.webelement.WebElement (session=\"417173825c54d2fb09612c9879313f3b\", element=\"afda4961-a014-4a0a-bc4f-316eab7f0f66\")>,\n",
       " <selenium.webdriver.remote.webelement.WebElement (session=\"417173825c54d2fb09612c9879313f3b\", element=\"92c3fe98-cf10-4686-8fa2-6c396c30489f\")>,\n",
       " <selenium.webdriver.remote.webelement.WebElement (session=\"417173825c54d2fb09612c9879313f3b\", element=\"07a192bf-fadf-4110-9d48-d718d15f1cca\")>,\n",
       " <selenium.webdriver.remote.webelement.WebElement (session=\"417173825c54d2fb09612c9879313f3b\", element=\"d6e58e43-07ac-433e-aae1-24802cb3f52e\")>,\n",
       " <selenium.webdriver.remote.webelement.WebElement (session=\"417173825c54d2fb09612c9879313f3b\", element=\"02b040f2-d156-4260-893d-1a36f73d74ba\")>,\n",
       " <selenium.webdriver.remote.webelement.WebElement (session=\"417173825c54d2fb09612c9879313f3b\", element=\"be478a7b-e6ee-4d54-8fae-fa88155a28de\")>,\n",
       " <selenium.webdriver.remote.webelement.WebElement (session=\"417173825c54d2fb09612c9879313f3b\", element=\"53ef8440-2c83-4683-be0e-ccd7af4bed7b\")>]"
      ]
     },
     "execution_count": 140,
     "metadata": {},
     "output_type": "execute_result"
    }
   ],
   "source": [
    "dis_tags2 = driver.find_elements_by_xpath(\"//div[@class='_3Ay6Sb']\")\n",
    "dis_tags2"
   ]
  },
  {
   "cell_type": "code",
   "execution_count": 141,
   "id": "6bed3da9",
   "metadata": {},
   "outputs": [
    {
     "data": {
      "text/plain": [
       "['81% off',\n",
       " '80% off',\n",
       " '88% off',\n",
       " '89% off',\n",
       " '84% off',\n",
       " '20% off',\n",
       " '78% off',\n",
       " '82% off',\n",
       " '80% off',\n",
       " '20% off',\n",
       " '89% off',\n",
       " '85% off',\n",
       " '85% off',\n",
       " '80% off',\n",
       " '88% off',\n",
       " '60% off',\n",
       " '85% off',\n",
       " '86% off',\n",
       " '80% off',\n",
       " '69% off',\n",
       " '87% off',\n",
       " '85% off',\n",
       " '81% off',\n",
       " '74% off',\n",
       " '82% off',\n",
       " '81% off',\n",
       " '76% off',\n",
       " '87% off',\n",
       " '80% off',\n",
       " '83% off',\n",
       " '68% off',\n",
       " '67% off',\n",
       " '77% off',\n",
       " '81% off',\n",
       " '78% off',\n",
       " '75% off',\n",
       " '79% off',\n",
       " '88% off',\n",
       " '79% off',\n",
       " '69% off']"
      ]
     },
     "execution_count": 141,
     "metadata": {},
     "output_type": "execute_result"
    }
   ],
   "source": [
    "for i in dis_tags2:\n",
    "    title=i.text\n",
    "    Discount_list2.append(title)\n",
    "Discount_list2"
   ]
  },
  {
   "cell_type": "markdown",
   "id": "916bf2a4",
   "metadata": {},
   "source": [
    "###### Joining all the list"
   ]
  },
  {
   "cell_type": "code",
   "execution_count": 142,
   "id": "b36467a3",
   "metadata": {},
   "outputs": [],
   "source": [
    "Brand = brand_list+brand_list1+brand_list2\n",
    "Specifications = specification_list+specification_list1+specification_list2\n",
    "Price = price_list+price_list1+price_list2\n",
    "Discount = Discount_list+Discount_list1+Discount_list2"
   ]
  },
  {
   "cell_type": "code",
   "execution_count": 143,
   "id": "2ffe0e16",
   "metadata": {},
   "outputs": [
    {
     "name": "stdout",
     "output_type": "stream",
     "text": [
      "120 120 120 120\n"
     ]
    }
   ],
   "source": [
    "print(len(Brand),len(Specifications),len(Price),len(Discount))"
   ]
  },
  {
   "cell_type": "markdown",
   "id": "724b759c",
   "metadata": {},
   "source": [
    "###### Creating dataframe"
   ]
  },
  {
   "cell_type": "code",
   "execution_count": 144,
   "id": "fda83f99",
   "metadata": {},
   "outputs": [],
   "source": [
    "flipkart_data = pd.DataFrame({'Brand':Brand,'Specifications':Specifications,'Price':Price,'Discount':Discount})"
   ]
  },
  {
   "cell_type": "code",
   "execution_count": 145,
   "id": "71ad2812",
   "metadata": {},
   "outputs": [
    {
     "data": {
      "text/html": [
       "<div>\n",
       "<style scoped>\n",
       "    .dataframe tbody tr th:only-of-type {\n",
       "        vertical-align: middle;\n",
       "    }\n",
       "\n",
       "    .dataframe tbody tr th {\n",
       "        vertical-align: top;\n",
       "    }\n",
       "\n",
       "    .dataframe thead th {\n",
       "        text-align: right;\n",
       "    }\n",
       "</style>\n",
       "<table border=\"1\" class=\"dataframe\">\n",
       "  <thead>\n",
       "    <tr style=\"text-align: right;\">\n",
       "      <th></th>\n",
       "      <th>Brand</th>\n",
       "      <th>Specifications</th>\n",
       "      <th>Price</th>\n",
       "      <th>Discount</th>\n",
       "    </tr>\n",
       "  </thead>\n",
       "  <tbody>\n",
       "    <tr>\n",
       "      <th>0</th>\n",
       "      <td>ROZZETTA CRAFT</td>\n",
       "      <td>UV Protection, Gradient Rectangular Sunglasses...</td>\n",
       "      <td>₹379</td>\n",
       "      <td>81% off</td>\n",
       "    </tr>\n",
       "    <tr>\n",
       "      <th>1</th>\n",
       "      <td>ROZZETTA CRAFT</td>\n",
       "      <td>UV Protection Spectacle Sunglasses (Free Size)</td>\n",
       "      <td>₹399</td>\n",
       "      <td>80% off</td>\n",
       "    </tr>\n",
       "    <tr>\n",
       "      <th>2</th>\n",
       "      <td>Elligator</td>\n",
       "      <td>UV Protection Round Sunglasses (54)</td>\n",
       "      <td>₹295</td>\n",
       "      <td>88% off</td>\n",
       "    </tr>\n",
       "    <tr>\n",
       "      <th>3</th>\n",
       "      <td>New Specs</td>\n",
       "      <td>UV Protection Rectangular Sunglasses (Free Size)</td>\n",
       "      <td>₹269</td>\n",
       "      <td>89% off</td>\n",
       "    </tr>\n",
       "    <tr>\n",
       "      <th>4</th>\n",
       "      <td>PIRASO</td>\n",
       "      <td>UV Protection Aviator Sunglasses (54)</td>\n",
       "      <td>₹249</td>\n",
       "      <td>84% off</td>\n",
       "    </tr>\n",
       "    <tr>\n",
       "      <th>...</th>\n",
       "      <td>...</td>\n",
       "      <td>...</td>\n",
       "      <td>...</td>\n",
       "      <td>...</td>\n",
       "    </tr>\n",
       "    <tr>\n",
       "      <th>115</th>\n",
       "      <td>ROZZETTA CRAFT</td>\n",
       "      <td>UV Protection Aviator Sunglasses (62)</td>\n",
       "      <td>₹616</td>\n",
       "      <td>75% off</td>\n",
       "    </tr>\n",
       "    <tr>\n",
       "      <th>116</th>\n",
       "      <td>kingsunglasses</td>\n",
       "      <td>UV Protection Round Sunglasses (Free Size)</td>\n",
       "      <td>₹329</td>\n",
       "      <td>79% off</td>\n",
       "    </tr>\n",
       "    <tr>\n",
       "      <th>117</th>\n",
       "      <td>hipe</td>\n",
       "      <td>Mirrored, UV Protection, Gradient Round Sungla...</td>\n",
       "      <td>₹170</td>\n",
       "      <td>88% off</td>\n",
       "    </tr>\n",
       "    <tr>\n",
       "      <th>118</th>\n",
       "      <td>SHAAH COLLECTIONS</td>\n",
       "      <td>UV Protection, Polarized, Mirrored Rectangular...</td>\n",
       "      <td>₹203</td>\n",
       "      <td>79% off</td>\n",
       "    </tr>\n",
       "    <tr>\n",
       "      <th>119</th>\n",
       "      <td>AISLIN</td>\n",
       "      <td>UV Protection, Gradient Oval Sunglasses (58)</td>\n",
       "      <td>₹458</td>\n",
       "      <td>69% off</td>\n",
       "    </tr>\n",
       "  </tbody>\n",
       "</table>\n",
       "<p>120 rows × 4 columns</p>\n",
       "</div>"
      ],
      "text/plain": [
       "                 Brand                                     Specifications  \\\n",
       "0       ROZZETTA CRAFT  UV Protection, Gradient Rectangular Sunglasses...   \n",
       "1       ROZZETTA CRAFT     UV Protection Spectacle Sunglasses (Free Size)   \n",
       "2            Elligator                UV Protection Round Sunglasses (54)   \n",
       "3            New Specs   UV Protection Rectangular Sunglasses (Free Size)   \n",
       "4               PIRASO              UV Protection Aviator Sunglasses (54)   \n",
       "..                 ...                                                ...   \n",
       "115     ROZZETTA CRAFT              UV Protection Aviator Sunglasses (62)   \n",
       "116     kingsunglasses         UV Protection Round Sunglasses (Free Size)   \n",
       "117               hipe  Mirrored, UV Protection, Gradient Round Sungla...   \n",
       "118  SHAAH COLLECTIONS  UV Protection, Polarized, Mirrored Rectangular...   \n",
       "119             AISLIN       UV Protection, Gradient Oval Sunglasses (58)   \n",
       "\n",
       "    Price Discount  \n",
       "0    ₹379  81% off  \n",
       "1    ₹399  80% off  \n",
       "2    ₹295  88% off  \n",
       "3    ₹269  89% off  \n",
       "4    ₹249  84% off  \n",
       "..    ...      ...  \n",
       "115  ₹616  75% off  \n",
       "116  ₹329  79% off  \n",
       "117  ₹170  88% off  \n",
       "118  ₹203  79% off  \n",
       "119  ₹458  69% off  \n",
       "\n",
       "[120 rows x 4 columns]"
      ]
     },
     "execution_count": 145,
     "metadata": {},
     "output_type": "execute_result"
    }
   ],
   "source": [
    "flipkart_data"
   ]
  },
  {
   "cell_type": "code",
   "execution_count": 146,
   "id": "0c54702b",
   "metadata": {},
   "outputs": [],
   "source": [
    "#driver.close()"
   ]
  },
  {
   "cell_type": "markdown",
   "id": "86a05412",
   "metadata": {},
   "source": [
    "### 5) Scrape 100 reviews data from flipkart.com for iphone11 phone.\n"
   ]
  },
  {
   "cell_type": "code",
   "execution_count": 76,
   "id": "59c997cc",
   "metadata": {},
   "outputs": [],
   "source": [
    "driver = webdriver.Chrome(r\"C:\\Users\\Thamizh\\Downloads\\chromedriver_win32 (2)\\chromedriver.exe\")"
   ]
  },
  {
   "cell_type": "code",
   "execution_count": 77,
   "id": "24f8c75c",
   "metadata": {},
   "outputs": [],
   "source": [
    "url_reviews = (\"https://www.flipkart.com/apple-iphone-11-black-64-gb-includes-earpods-power-adapter/product-reviews/itm0f37c2240b217?pid=MOBFKCTSVZAXUHGR\")"
   ]
  },
  {
   "cell_type": "code",
   "execution_count": 78,
   "id": "f1d98bdd",
   "metadata": {},
   "outputs": [],
   "source": [
    "driver.get(url_reviews)"
   ]
  },
  {
   "cell_type": "code",
   "execution_count": 79,
   "id": "0e1b70ac",
   "metadata": {},
   "outputs": [],
   "source": [
    "Rating =[]\n",
    "Review = []\n",
    "full_review = []"
   ]
  },
  {
   "cell_type": "code",
   "execution_count": 80,
   "id": "505468d5",
   "metadata": {},
   "outputs": [
    {
     "data": {
      "text/plain": [
       "[<selenium.webdriver.remote.webelement.WebElement (session=\"ea81fb873e3bd412c591a0761cb6ea86\", element=\"d764f243-4850-419b-8be9-c672098dc1ca\")>,\n",
       " <selenium.webdriver.remote.webelement.WebElement (session=\"ea81fb873e3bd412c591a0761cb6ea86\", element=\"a9f4203c-3348-4d19-a637-2a3185a670c5\")>,\n",
       " <selenium.webdriver.remote.webelement.WebElement (session=\"ea81fb873e3bd412c591a0761cb6ea86\", element=\"94ebc15c-6f6a-4356-bf68-723c7c024aa9\")>,\n",
       " <selenium.webdriver.remote.webelement.WebElement (session=\"ea81fb873e3bd412c591a0761cb6ea86\", element=\"375a6ec2-f154-49e8-b267-459dceee5699\")>,\n",
       " <selenium.webdriver.remote.webelement.WebElement (session=\"ea81fb873e3bd412c591a0761cb6ea86\", element=\"e2489f34-dcb9-46e7-9fdc-134e525184dc\")>,\n",
       " <selenium.webdriver.remote.webelement.WebElement (session=\"ea81fb873e3bd412c591a0761cb6ea86\", element=\"24a9e10a-d2ad-4f2e-a895-5e95f0187c2f\")>,\n",
       " <selenium.webdriver.remote.webelement.WebElement (session=\"ea81fb873e3bd412c591a0761cb6ea86\", element=\"47567495-a177-4299-91a7-40488ce86b2b\")>,\n",
       " <selenium.webdriver.remote.webelement.WebElement (session=\"ea81fb873e3bd412c591a0761cb6ea86\", element=\"7f523227-4934-4abc-9819-ffd860d74287\")>,\n",
       " <selenium.webdriver.remote.webelement.WebElement (session=\"ea81fb873e3bd412c591a0761cb6ea86\", element=\"04fcb616-b131-4cb3-85db-b35f5cd9884a\")>,\n",
       " <selenium.webdriver.remote.webelement.WebElement (session=\"ea81fb873e3bd412c591a0761cb6ea86\", element=\"11ad7c10-c64c-4a0d-b1d0-da6e28172792\")>]"
      ]
     },
     "execution_count": 80,
     "metadata": {},
     "output_type": "execute_result"
    }
   ],
   "source": [
    "rating_tags = driver.find_elements_by_xpath(\"//div[@class='_3LWZlK _1BLPMq']\")\n",
    "rating_tags"
   ]
  },
  {
   "cell_type": "code",
   "execution_count": 81,
   "id": "e508050a",
   "metadata": {},
   "outputs": [
    {
     "data": {
      "text/plain": [
       "['5', '5', '5', '5', '5', '5', '5', '4', '5', '5']"
      ]
     },
     "execution_count": 81,
     "metadata": {},
     "output_type": "execute_result"
    }
   ],
   "source": [
    "for i in rating_tags:\n",
    "    title=i.text\n",
    "    Rating.append(title)\n",
    "Rating"
   ]
  },
  {
   "cell_type": "code",
   "execution_count": 82,
   "id": "adb011b4",
   "metadata": {},
   "outputs": [
    {
     "data": {
      "text/plain": [
       "[<selenium.webdriver.remote.webelement.WebElement (session=\"ea81fb873e3bd412c591a0761cb6ea86\", element=\"14f6cc28-ed52-4bbc-bb75-53f315515858\")>,\n",
       " <selenium.webdriver.remote.webelement.WebElement (session=\"ea81fb873e3bd412c591a0761cb6ea86\", element=\"df47e888-daa2-4a4c-9ef5-11df2d73a6e6\")>,\n",
       " <selenium.webdriver.remote.webelement.WebElement (session=\"ea81fb873e3bd412c591a0761cb6ea86\", element=\"65b257ce-1184-4767-b8e6-004c59e0c7a5\")>,\n",
       " <selenium.webdriver.remote.webelement.WebElement (session=\"ea81fb873e3bd412c591a0761cb6ea86\", element=\"3305368f-823d-4c0e-acff-1a450a38d1a4\")>,\n",
       " <selenium.webdriver.remote.webelement.WebElement (session=\"ea81fb873e3bd412c591a0761cb6ea86\", element=\"76d18371-3b9d-4e9d-accc-30c1d4472e53\")>,\n",
       " <selenium.webdriver.remote.webelement.WebElement (session=\"ea81fb873e3bd412c591a0761cb6ea86\", element=\"3705faf6-ae4e-49c1-9f96-e9d1925b5e8e\")>,\n",
       " <selenium.webdriver.remote.webelement.WebElement (session=\"ea81fb873e3bd412c591a0761cb6ea86\", element=\"6736734e-2756-4c80-a5cf-cf18582ce620\")>,\n",
       " <selenium.webdriver.remote.webelement.WebElement (session=\"ea81fb873e3bd412c591a0761cb6ea86\", element=\"2dd94efc-e18a-4244-a34a-ebc3cba52df8\")>,\n",
       " <selenium.webdriver.remote.webelement.WebElement (session=\"ea81fb873e3bd412c591a0761cb6ea86\", element=\"adff85c9-5c29-43de-8dfe-9eafbf07e244\")>,\n",
       " <selenium.webdriver.remote.webelement.WebElement (session=\"ea81fb873e3bd412c591a0761cb6ea86\", element=\"51f3b150-3804-4685-b195-d89360066e5a\")>]"
      ]
     },
     "execution_count": 82,
     "metadata": {},
     "output_type": "execute_result"
    }
   ],
   "source": [
    "review_tags = driver.find_elements_by_xpath(\"//p[@class='_2-N8zT']\")\n",
    "review_tags"
   ]
  },
  {
   "cell_type": "code",
   "execution_count": 83,
   "id": "314c65ce",
   "metadata": {},
   "outputs": [
    {
     "data": {
      "text/plain": [
       "['Brilliant',\n",
       " 'Simply awesome',\n",
       " 'Best in the market!',\n",
       " 'Perfect product!',\n",
       " 'Fabulous!',\n",
       " 'Worth every penny',\n",
       " 'Great product',\n",
       " 'Good choice',\n",
       " 'Worth every penny',\n",
       " 'Highly recommended']"
      ]
     },
     "execution_count": 83,
     "metadata": {},
     "output_type": "execute_result"
    }
   ],
   "source": [
    "for i in review_tags:\n",
    "    title=i.text\n",
    "    Review.append(title)\n",
    "Review"
   ]
  },
  {
   "cell_type": "code",
   "execution_count": 84,
   "id": "5f2dc565",
   "metadata": {},
   "outputs": [
    {
     "data": {
      "text/plain": [
       "[<selenium.webdriver.remote.webelement.WebElement (session=\"ea81fb873e3bd412c591a0761cb6ea86\", element=\"d910aa76-56d8-480e-a18b-08e7a07e0e6a\")>,\n",
       " <selenium.webdriver.remote.webelement.WebElement (session=\"ea81fb873e3bd412c591a0761cb6ea86\", element=\"2739f99c-ab98-4bc8-a907-4b5ebb2d447d\")>,\n",
       " <selenium.webdriver.remote.webelement.WebElement (session=\"ea81fb873e3bd412c591a0761cb6ea86\", element=\"91e18575-327c-45be-9942-9be86ec66633\")>,\n",
       " <selenium.webdriver.remote.webelement.WebElement (session=\"ea81fb873e3bd412c591a0761cb6ea86\", element=\"7050988f-e492-444a-98e5-86b735548d5a\")>,\n",
       " <selenium.webdriver.remote.webelement.WebElement (session=\"ea81fb873e3bd412c591a0761cb6ea86\", element=\"bee94cd2-aa5c-4a89-ba6f-62755f002350\")>,\n",
       " <selenium.webdriver.remote.webelement.WebElement (session=\"ea81fb873e3bd412c591a0761cb6ea86\", element=\"fee43a8e-8a00-480d-bdb4-8199378204f2\")>,\n",
       " <selenium.webdriver.remote.webelement.WebElement (session=\"ea81fb873e3bd412c591a0761cb6ea86\", element=\"759e6262-f1a5-42a0-8d7e-3c8352c51e6b\")>,\n",
       " <selenium.webdriver.remote.webelement.WebElement (session=\"ea81fb873e3bd412c591a0761cb6ea86\", element=\"4e0d5b91-9f32-4535-8325-871db1d8b8d3\")>,\n",
       " <selenium.webdriver.remote.webelement.WebElement (session=\"ea81fb873e3bd412c591a0761cb6ea86\", element=\"ffc2ae68-9c9c-4830-8732-530c770f84e3\")>,\n",
       " <selenium.webdriver.remote.webelement.WebElement (session=\"ea81fb873e3bd412c591a0761cb6ea86\", element=\"ae205658-014f-4c62-abfa-f2c71a16761b\")>]"
      ]
     },
     "execution_count": 84,
     "metadata": {},
     "output_type": "execute_result"
    }
   ],
   "source": [
    "full_tags =driver.find_elements_by_xpath(\"//div[@class='t-ZTKy']\")\n",
    "full_tags"
   ]
  },
  {
   "cell_type": "code",
   "execution_count": null,
   "id": "8033c0da",
   "metadata": {},
   "outputs": [],
   "source": []
  },
  {
   "cell_type": "code",
   "execution_count": 85,
   "id": "245ae761",
   "metadata": {},
   "outputs": [
    {
     "name": "stdout",
     "output_type": "stream",
     "text": [
      "10 10 0\n"
     ]
    }
   ],
   "source": [
    "print(len(Rating),len(Review),len(full_review))"
   ]
  },
  {
   "cell_type": "markdown",
   "id": "d15300ec",
   "metadata": {},
   "source": [
    "Next Page"
   ]
  },
  {
   "cell_type": "code",
   "execution_count": 86,
   "id": "4807fdc2",
   "metadata": {},
   "outputs": [],
   "source": [
    "nxt_button = driver.find_element_by_xpath(\"//a[@class='_1LKTO3']\")\n",
    "nxt_button.click()"
   ]
  },
  {
   "cell_type": "code",
   "execution_count": 87,
   "id": "35c647bd",
   "metadata": {},
   "outputs": [
    {
     "data": {
      "text/plain": [
       "[<selenium.webdriver.remote.webelement.WebElement (session=\"ea81fb873e3bd412c591a0761cb6ea86\", element=\"d764f243-4850-419b-8be9-c672098dc1ca\")>,\n",
       " <selenium.webdriver.remote.webelement.WebElement (session=\"ea81fb873e3bd412c591a0761cb6ea86\", element=\"a9f4203c-3348-4d19-a637-2a3185a670c5\")>,\n",
       " <selenium.webdriver.remote.webelement.WebElement (session=\"ea81fb873e3bd412c591a0761cb6ea86\", element=\"94ebc15c-6f6a-4356-bf68-723c7c024aa9\")>,\n",
       " <selenium.webdriver.remote.webelement.WebElement (session=\"ea81fb873e3bd412c591a0761cb6ea86\", element=\"375a6ec2-f154-49e8-b267-459dceee5699\")>,\n",
       " <selenium.webdriver.remote.webelement.WebElement (session=\"ea81fb873e3bd412c591a0761cb6ea86\", element=\"e2489f34-dcb9-46e7-9fdc-134e525184dc\")>,\n",
       " <selenium.webdriver.remote.webelement.WebElement (session=\"ea81fb873e3bd412c591a0761cb6ea86\", element=\"24a9e10a-d2ad-4f2e-a895-5e95f0187c2f\")>,\n",
       " <selenium.webdriver.remote.webelement.WebElement (session=\"ea81fb873e3bd412c591a0761cb6ea86\", element=\"47567495-a177-4299-91a7-40488ce86b2b\")>,\n",
       " <selenium.webdriver.remote.webelement.WebElement (session=\"ea81fb873e3bd412c591a0761cb6ea86\", element=\"7f523227-4934-4abc-9819-ffd860d74287\")>,\n",
       " <selenium.webdriver.remote.webelement.WebElement (session=\"ea81fb873e3bd412c591a0761cb6ea86\", element=\"04fcb616-b131-4cb3-85db-b35f5cd9884a\")>,\n",
       " <selenium.webdriver.remote.webelement.WebElement (session=\"ea81fb873e3bd412c591a0761cb6ea86\", element=\"11ad7c10-c64c-4a0d-b1d0-da6e28172792\")>]"
      ]
     },
     "execution_count": 87,
     "metadata": {},
     "output_type": "execute_result"
    }
   ],
   "source": [
    "rating_tags1 = driver.find_elements_by_xpath(\"//div[@class='_3LWZlK _1BLPMq']\")\n",
    "rating_tags1"
   ]
  },
  {
   "cell_type": "code",
   "execution_count": 88,
   "id": "d25b1897",
   "metadata": {},
   "outputs": [],
   "source": [
    "Rating1 =[]\n",
    "Review1 = []\n",
    "full_review1 = []"
   ]
  },
  {
   "cell_type": "code",
   "execution_count": 89,
   "id": "d89b40d0",
   "metadata": {},
   "outputs": [
    {
     "data": {
      "text/plain": [
       "['5', '5', '5', '5', '5', '5', '5', '4', '5', '5']"
      ]
     },
     "execution_count": 89,
     "metadata": {},
     "output_type": "execute_result"
    }
   ],
   "source": [
    "for i in rating_tags1:\n",
    "    title=i.text\n",
    "    Rating1.append(title)\n",
    "Rating1"
   ]
  },
  {
   "cell_type": "code",
   "execution_count": 90,
   "id": "c6647e43",
   "metadata": {},
   "outputs": [
    {
     "data": {
      "text/plain": [
       "[<selenium.webdriver.remote.webelement.WebElement (session=\"ea81fb873e3bd412c591a0761cb6ea86\", element=\"14f6cc28-ed52-4bbc-bb75-53f315515858\")>,\n",
       " <selenium.webdriver.remote.webelement.WebElement (session=\"ea81fb873e3bd412c591a0761cb6ea86\", element=\"df47e888-daa2-4a4c-9ef5-11df2d73a6e6\")>,\n",
       " <selenium.webdriver.remote.webelement.WebElement (session=\"ea81fb873e3bd412c591a0761cb6ea86\", element=\"65b257ce-1184-4767-b8e6-004c59e0c7a5\")>,\n",
       " <selenium.webdriver.remote.webelement.WebElement (session=\"ea81fb873e3bd412c591a0761cb6ea86\", element=\"3305368f-823d-4c0e-acff-1a450a38d1a4\")>,\n",
       " <selenium.webdriver.remote.webelement.WebElement (session=\"ea81fb873e3bd412c591a0761cb6ea86\", element=\"76d18371-3b9d-4e9d-accc-30c1d4472e53\")>,\n",
       " <selenium.webdriver.remote.webelement.WebElement (session=\"ea81fb873e3bd412c591a0761cb6ea86\", element=\"3705faf6-ae4e-49c1-9f96-e9d1925b5e8e\")>,\n",
       " <selenium.webdriver.remote.webelement.WebElement (session=\"ea81fb873e3bd412c591a0761cb6ea86\", element=\"6736734e-2756-4c80-a5cf-cf18582ce620\")>,\n",
       " <selenium.webdriver.remote.webelement.WebElement (session=\"ea81fb873e3bd412c591a0761cb6ea86\", element=\"2dd94efc-e18a-4244-a34a-ebc3cba52df8\")>,\n",
       " <selenium.webdriver.remote.webelement.WebElement (session=\"ea81fb873e3bd412c591a0761cb6ea86\", element=\"adff85c9-5c29-43de-8dfe-9eafbf07e244\")>,\n",
       " <selenium.webdriver.remote.webelement.WebElement (session=\"ea81fb873e3bd412c591a0761cb6ea86\", element=\"51f3b150-3804-4685-b195-d89360066e5a\")>]"
      ]
     },
     "execution_count": 90,
     "metadata": {},
     "output_type": "execute_result"
    }
   ],
   "source": [
    "review_tags1 = driver.find_elements_by_xpath(\"//p[@class='_2-N8zT']\")\n",
    "review_tags1"
   ]
  },
  {
   "cell_type": "code",
   "execution_count": 91,
   "id": "507fc288",
   "metadata": {},
   "outputs": [
    {
     "data": {
      "text/plain": [
       "['Brilliant',\n",
       " 'Simply awesome',\n",
       " 'Best in the market!',\n",
       " 'Perfect product!',\n",
       " 'Fabulous!',\n",
       " 'Worth every penny',\n",
       " 'Great product',\n",
       " 'Good choice',\n",
       " 'Worth every penny',\n",
       " 'Highly recommended']"
      ]
     },
     "execution_count": 91,
     "metadata": {},
     "output_type": "execute_result"
    }
   ],
   "source": [
    "for i in review_tags1:\n",
    "    title=i.text\n",
    "    Review1.append(title)\n",
    "Review1"
   ]
  },
  {
   "cell_type": "code",
   "execution_count": 92,
   "id": "d678af05",
   "metadata": {},
   "outputs": [
    {
     "data": {
      "text/plain": [
       "[<selenium.webdriver.remote.webelement.WebElement (session=\"ea81fb873e3bd412c591a0761cb6ea86\", element=\"d910aa76-56d8-480e-a18b-08e7a07e0e6a\")>,\n",
       " <selenium.webdriver.remote.webelement.WebElement (session=\"ea81fb873e3bd412c591a0761cb6ea86\", element=\"2739f99c-ab98-4bc8-a907-4b5ebb2d447d\")>,\n",
       " <selenium.webdriver.remote.webelement.WebElement (session=\"ea81fb873e3bd412c591a0761cb6ea86\", element=\"91e18575-327c-45be-9942-9be86ec66633\")>,\n",
       " <selenium.webdriver.remote.webelement.WebElement (session=\"ea81fb873e3bd412c591a0761cb6ea86\", element=\"7050988f-e492-444a-98e5-86b735548d5a\")>,\n",
       " <selenium.webdriver.remote.webelement.WebElement (session=\"ea81fb873e3bd412c591a0761cb6ea86\", element=\"bee94cd2-aa5c-4a89-ba6f-62755f002350\")>,\n",
       " <selenium.webdriver.remote.webelement.WebElement (session=\"ea81fb873e3bd412c591a0761cb6ea86\", element=\"fee43a8e-8a00-480d-bdb4-8199378204f2\")>,\n",
       " <selenium.webdriver.remote.webelement.WebElement (session=\"ea81fb873e3bd412c591a0761cb6ea86\", element=\"759e6262-f1a5-42a0-8d7e-3c8352c51e6b\")>,\n",
       " <selenium.webdriver.remote.webelement.WebElement (session=\"ea81fb873e3bd412c591a0761cb6ea86\", element=\"4e0d5b91-9f32-4535-8325-871db1d8b8d3\")>,\n",
       " <selenium.webdriver.remote.webelement.WebElement (session=\"ea81fb873e3bd412c591a0761cb6ea86\", element=\"ffc2ae68-9c9c-4830-8732-530c770f84e3\")>,\n",
       " <selenium.webdriver.remote.webelement.WebElement (session=\"ea81fb873e3bd412c591a0761cb6ea86\", element=\"ae205658-014f-4c62-abfa-f2c71a16761b\")>]"
      ]
     },
     "execution_count": 92,
     "metadata": {},
     "output_type": "execute_result"
    }
   ],
   "source": [
    "full_tags1 =driver.find_elements_by_xpath(\"//div[@class='t-ZTKy']\")\n",
    "full_tags1"
   ]
  },
  {
   "cell_type": "code",
   "execution_count": 93,
   "id": "0fdbc8a8",
   "metadata": {},
   "outputs": [
    {
     "data": {
      "text/plain": [
       "['The Best Phone for the Money\\n\\nThe iPhone 11 offers superb cameras, a more durable design and excellent battery life for an affordable price.\\n\\nCompelling ultra-wide camera\\nNew Night mode is excellent\\nLong battery life',\n",
       " 'Really satisfied with the Product I received... It’s totally genuine and the packaging was also really good so if ur planning to buy just go for it.',\n",
       " 'Great iPhone very snappy experience as apple kind. Upgraded from iPhone 7.\\nPros\\n-Camera top class\\n- Battery top performed\\n-Chipset no need to say as apple kind\\n-Security as you expect from apple\\n- Display super bright industry leading colour\\naccuracy and super responsive\\n-Build quality as expect from apple sturdy\\npremium durable beautiful stylish.\\n-Os most stable os in smartphone industry\\n\\nCons\\n-No 5G\\n-Display is not based on OLED technology\\n-Charger headphones and 1 apple stic...\\nREAD MORE',\n",
       " 'Amazing phone with great cameras and better battery which gives you the best performance. I just love the camera .',\n",
       " 'This is my first iOS phone. I am very happy with this product. Very much satisfied with this. I love this phone.',\n",
       " 'Previously I was using one plus 3t it was a great phone\\nAnd then I decided to upgrade I am stuck between Samsung s10 plus or iPhone 11\\nI have seen the specs and everything were good except the display it’s somewhere between 720-1080 and it’s not even an amoled it’s an LCD display\\nBut I decided to go with iPhone because I have never used an IOS device I have Been an android user from the past 9 years I ordered IPhone 11 (128gb) product red\\nMy experience after using 3 weeks\\n1. The delivery ...\\nREAD MORE',\n",
       " 'Amazing Powerful and Durable Gadget.\\n\\nI’m am very happy with the camera picture quality, Amazing face id unlocked in dark room, Strong battery with perfect screen size as you can carry easily in pocket. This is my third iPhone.\\n\\nI shifted from android Samsung Note series to iPhone because of the strong build quality and peace of mind for next 3-4 years.\\n\\nDon’t think to much just go for it and I suggest you to go for minimum 128gb variant or more 256gb.\\n\\nI’ve attached my puppy pics and no fi...\\nREAD MORE',\n",
       " 'So far it’s been an AMAZING experience coming back to iOS after nearly a decade but it’s not as versatile as android though phone is sturdy dropped it accidentally a couple of times and nothing happened fortunately camera is awesome',\n",
       " 'i11 is worthy to buy, too much happy with the product. Thank u flipkart I received the item on time..loved it..',\n",
       " 'What a camera .....just awesome ..you can feel this iPhone just awesome . Good for gaming also ...try pubg in hd it’s just wow']"
      ]
     },
     "execution_count": 93,
     "metadata": {},
     "output_type": "execute_result"
    }
   ],
   "source": [
    "for i in full_tags1:\n",
    "    title=i.text\n",
    "    full_review1.append(title)\n",
    "full_review1"
   ]
  },
  {
   "cell_type": "code",
   "execution_count": 94,
   "id": "a310b3fb",
   "metadata": {},
   "outputs": [
    {
     "name": "stdout",
     "output_type": "stream",
     "text": [
      "10 10 10\n"
     ]
    }
   ],
   "source": [
    "print(len(Rating1),len(Review1),len(full_review1))"
   ]
  },
  {
   "cell_type": "code",
   "execution_count": 95,
   "id": "fdefe4e8",
   "metadata": {},
   "outputs": [
    {
     "name": "stdout",
     "output_type": "stream",
     "text": [
      "10 10 10\n"
     ]
    }
   ],
   "source": [
    "print(len(Rating1),len(Review1),len(full_review1))"
   ]
  },
  {
   "cell_type": "code",
   "execution_count": 96,
   "id": "88f77e89",
   "metadata": {},
   "outputs": [],
   "source": [
    "Rating2 =[]\n",
    "Review2 = []\n",
    "full_review2 = []"
   ]
  },
  {
   "cell_type": "code",
   "execution_count": 97,
   "id": "a2128693",
   "metadata": {},
   "outputs": [
    {
     "data": {
      "text/plain": [
       "<selenium.webdriver.remote.webelement.WebElement (session=\"ea81fb873e3bd412c591a0761cb6ea86\", element=\"9c592a5d-81f3-4fe0-822a-241271f3bbc4\")>"
      ]
     },
     "execution_count": 97,
     "metadata": {},
     "output_type": "execute_result"
    }
   ],
   "source": [
    "search_g= driver.find_element_by_xpath(\"//input[@type='text']\")\n",
    "search_g"
   ]
  },
  {
   "cell_type": "code",
   "execution_count": 98,
   "id": "b26821af",
   "metadata": {},
   "outputs": [
    {
     "data": {
      "text/plain": [
       "[<selenium.webdriver.remote.webelement.WebElement (session=\"ea81fb873e3bd412c591a0761cb6ea86\", element=\"d764f243-4850-419b-8be9-c672098dc1ca\")>,\n",
       " <selenium.webdriver.remote.webelement.WebElement (session=\"ea81fb873e3bd412c591a0761cb6ea86\", element=\"a9f4203c-3348-4d19-a637-2a3185a670c5\")>,\n",
       " <selenium.webdriver.remote.webelement.WebElement (session=\"ea81fb873e3bd412c591a0761cb6ea86\", element=\"94ebc15c-6f6a-4356-bf68-723c7c024aa9\")>,\n",
       " <selenium.webdriver.remote.webelement.WebElement (session=\"ea81fb873e3bd412c591a0761cb6ea86\", element=\"375a6ec2-f154-49e8-b267-459dceee5699\")>,\n",
       " <selenium.webdriver.remote.webelement.WebElement (session=\"ea81fb873e3bd412c591a0761cb6ea86\", element=\"e2489f34-dcb9-46e7-9fdc-134e525184dc\")>,\n",
       " <selenium.webdriver.remote.webelement.WebElement (session=\"ea81fb873e3bd412c591a0761cb6ea86\", element=\"24a9e10a-d2ad-4f2e-a895-5e95f0187c2f\")>,\n",
       " <selenium.webdriver.remote.webelement.WebElement (session=\"ea81fb873e3bd412c591a0761cb6ea86\", element=\"47567495-a177-4299-91a7-40488ce86b2b\")>,\n",
       " <selenium.webdriver.remote.webelement.WebElement (session=\"ea81fb873e3bd412c591a0761cb6ea86\", element=\"7f523227-4934-4abc-9819-ffd860d74287\")>,\n",
       " <selenium.webdriver.remote.webelement.WebElement (session=\"ea81fb873e3bd412c591a0761cb6ea86\", element=\"04fcb616-b131-4cb3-85db-b35f5cd9884a\")>,\n",
       " <selenium.webdriver.remote.webelement.WebElement (session=\"ea81fb873e3bd412c591a0761cb6ea86\", element=\"11ad7c10-c64c-4a0d-b1d0-da6e28172792\")>]"
      ]
     },
     "execution_count": 98,
     "metadata": {},
     "output_type": "execute_result"
    }
   ],
   "source": [
    "rating_tags2 = driver.find_elements_by_xpath(\"//div[@class='_3LWZlK _1BLPMq']\")\n",
    "rating_tags2"
   ]
  },
  {
   "cell_type": "code",
   "execution_count": 99,
   "id": "d4154de1",
   "metadata": {},
   "outputs": [
    {
     "data": {
      "text/plain": [
       "['5', '5', '5', '5', '5', '5', '5', '4', '5', '5']"
      ]
     },
     "execution_count": 99,
     "metadata": {},
     "output_type": "execute_result"
    }
   ],
   "source": [
    "for i in rating_tags2:\n",
    "    title=i.text\n",
    "    Rating2.append(title)\n",
    "Rating2"
   ]
  },
  {
   "cell_type": "code",
   "execution_count": 100,
   "id": "bb668080",
   "metadata": {},
   "outputs": [
    {
     "data": {
      "text/plain": [
       "[<selenium.webdriver.remote.webelement.WebElement (session=\"ea81fb873e3bd412c591a0761cb6ea86\", element=\"14f6cc28-ed52-4bbc-bb75-53f315515858\")>,\n",
       " <selenium.webdriver.remote.webelement.WebElement (session=\"ea81fb873e3bd412c591a0761cb6ea86\", element=\"df47e888-daa2-4a4c-9ef5-11df2d73a6e6\")>,\n",
       " <selenium.webdriver.remote.webelement.WebElement (session=\"ea81fb873e3bd412c591a0761cb6ea86\", element=\"65b257ce-1184-4767-b8e6-004c59e0c7a5\")>,\n",
       " <selenium.webdriver.remote.webelement.WebElement (session=\"ea81fb873e3bd412c591a0761cb6ea86\", element=\"3305368f-823d-4c0e-acff-1a450a38d1a4\")>,\n",
       " <selenium.webdriver.remote.webelement.WebElement (session=\"ea81fb873e3bd412c591a0761cb6ea86\", element=\"76d18371-3b9d-4e9d-accc-30c1d4472e53\")>,\n",
       " <selenium.webdriver.remote.webelement.WebElement (session=\"ea81fb873e3bd412c591a0761cb6ea86\", element=\"3705faf6-ae4e-49c1-9f96-e9d1925b5e8e\")>,\n",
       " <selenium.webdriver.remote.webelement.WebElement (session=\"ea81fb873e3bd412c591a0761cb6ea86\", element=\"6736734e-2756-4c80-a5cf-cf18582ce620\")>,\n",
       " <selenium.webdriver.remote.webelement.WebElement (session=\"ea81fb873e3bd412c591a0761cb6ea86\", element=\"2dd94efc-e18a-4244-a34a-ebc3cba52df8\")>,\n",
       " <selenium.webdriver.remote.webelement.WebElement (session=\"ea81fb873e3bd412c591a0761cb6ea86\", element=\"adff85c9-5c29-43de-8dfe-9eafbf07e244\")>,\n",
       " <selenium.webdriver.remote.webelement.WebElement (session=\"ea81fb873e3bd412c591a0761cb6ea86\", element=\"51f3b150-3804-4685-b195-d89360066e5a\")>]"
      ]
     },
     "execution_count": 100,
     "metadata": {},
     "output_type": "execute_result"
    }
   ],
   "source": [
    "review_tags2 = driver.find_elements_by_xpath(\"//p[@class='_2-N8zT']\")\n",
    "review_tags2"
   ]
  },
  {
   "cell_type": "code",
   "execution_count": 101,
   "id": "dd8cd4ec",
   "metadata": {},
   "outputs": [
    {
     "data": {
      "text/plain": [
       "['Brilliant',\n",
       " 'Simply awesome',\n",
       " 'Best in the market!',\n",
       " 'Perfect product!',\n",
       " 'Fabulous!',\n",
       " 'Worth every penny',\n",
       " 'Great product',\n",
       " 'Good choice',\n",
       " 'Worth every penny',\n",
       " 'Highly recommended']"
      ]
     },
     "execution_count": 101,
     "metadata": {},
     "output_type": "execute_result"
    }
   ],
   "source": [
    "for i in review_tags2:\n",
    "    title=i.text\n",
    "    Review2.append(title)\n",
    "Review2"
   ]
  },
  {
   "cell_type": "code",
   "execution_count": 102,
   "id": "99e38e2a",
   "metadata": {},
   "outputs": [
    {
     "data": {
      "text/plain": [
       "[<selenium.webdriver.remote.webelement.WebElement (session=\"ea81fb873e3bd412c591a0761cb6ea86\", element=\"d910aa76-56d8-480e-a18b-08e7a07e0e6a\")>,\n",
       " <selenium.webdriver.remote.webelement.WebElement (session=\"ea81fb873e3bd412c591a0761cb6ea86\", element=\"2739f99c-ab98-4bc8-a907-4b5ebb2d447d\")>,\n",
       " <selenium.webdriver.remote.webelement.WebElement (session=\"ea81fb873e3bd412c591a0761cb6ea86\", element=\"91e18575-327c-45be-9942-9be86ec66633\")>,\n",
       " <selenium.webdriver.remote.webelement.WebElement (session=\"ea81fb873e3bd412c591a0761cb6ea86\", element=\"7050988f-e492-444a-98e5-86b735548d5a\")>,\n",
       " <selenium.webdriver.remote.webelement.WebElement (session=\"ea81fb873e3bd412c591a0761cb6ea86\", element=\"bee94cd2-aa5c-4a89-ba6f-62755f002350\")>,\n",
       " <selenium.webdriver.remote.webelement.WebElement (session=\"ea81fb873e3bd412c591a0761cb6ea86\", element=\"fee43a8e-8a00-480d-bdb4-8199378204f2\")>,\n",
       " <selenium.webdriver.remote.webelement.WebElement (session=\"ea81fb873e3bd412c591a0761cb6ea86\", element=\"759e6262-f1a5-42a0-8d7e-3c8352c51e6b\")>,\n",
       " <selenium.webdriver.remote.webelement.WebElement (session=\"ea81fb873e3bd412c591a0761cb6ea86\", element=\"4e0d5b91-9f32-4535-8325-871db1d8b8d3\")>,\n",
       " <selenium.webdriver.remote.webelement.WebElement (session=\"ea81fb873e3bd412c591a0761cb6ea86\", element=\"ffc2ae68-9c9c-4830-8732-530c770f84e3\")>,\n",
       " <selenium.webdriver.remote.webelement.WebElement (session=\"ea81fb873e3bd412c591a0761cb6ea86\", element=\"ae205658-014f-4c62-abfa-f2c71a16761b\")>]"
      ]
     },
     "execution_count": 102,
     "metadata": {},
     "output_type": "execute_result"
    }
   ],
   "source": [
    "full_tags2 =driver.find_elements_by_xpath(\"//div[@class='t-ZTKy']\")\n",
    "full_tags2"
   ]
  },
  {
   "cell_type": "code",
   "execution_count": 103,
   "id": "68135680",
   "metadata": {},
   "outputs": [
    {
     "data": {
      "text/plain": [
       "['The Best Phone for the Money\\n\\nThe iPhone 11 offers superb cameras, a more durable design and excellent battery life for an affordable price.\\n\\nCompelling ultra-wide camera\\nNew Night mode is excellent\\nLong battery life',\n",
       " 'Really satisfied with the Product I received... It’s totally genuine and the packaging was also really good so if ur planning to buy just go for it.',\n",
       " 'Great iPhone very snappy experience as apple kind. Upgraded from iPhone 7.\\nPros\\n-Camera top class\\n- Battery top performed\\n-Chipset no need to say as apple kind\\n-Security as you expect from apple\\n- Display super bright industry leading colour\\naccuracy and super responsive\\n-Build quality as expect from apple sturdy\\npremium durable beautiful stylish.\\n-Os most stable os in smartphone industry\\n\\nCons\\n-No 5G\\n-Display is not based on OLED technology\\n-Charger headphones and 1 apple stic...\\nREAD MORE',\n",
       " 'Amazing phone with great cameras and better battery which gives you the best performance. I just love the camera .',\n",
       " 'This is my first iOS phone. I am very happy with this product. Very much satisfied with this. I love this phone.',\n",
       " 'Previously I was using one plus 3t it was a great phone\\nAnd then I decided to upgrade I am stuck between Samsung s10 plus or iPhone 11\\nI have seen the specs and everything were good except the display it’s somewhere between 720-1080 and it’s not even an amoled it’s an LCD display\\nBut I decided to go with iPhone because I have never used an IOS device I have Been an android user from the past 9 years I ordered IPhone 11 (128gb) product red\\nMy experience after using 3 weeks\\n1. The delivery ...\\nREAD MORE',\n",
       " 'Amazing Powerful and Durable Gadget.\\n\\nI’m am very happy with the camera picture quality, Amazing face id unlocked in dark room, Strong battery with perfect screen size as you can carry easily in pocket. This is my third iPhone.\\n\\nI shifted from android Samsung Note series to iPhone because of the strong build quality and peace of mind for next 3-4 years.\\n\\nDon’t think to much just go for it and I suggest you to go for minimum 128gb variant or more 256gb.\\n\\nI’ve attached my puppy pics and no fi...\\nREAD MORE',\n",
       " 'So far it’s been an AMAZING experience coming back to iOS after nearly a decade but it’s not as versatile as android though phone is sturdy dropped it accidentally a couple of times and nothing happened fortunately camera is awesome',\n",
       " 'i11 is worthy to buy, too much happy with the product. Thank u flipkart I received the item on time..loved it..',\n",
       " 'What a camera .....just awesome ..you can feel this iPhone just awesome . Good for gaming also ...try pubg in hd it’s just wow']"
      ]
     },
     "execution_count": 103,
     "metadata": {},
     "output_type": "execute_result"
    }
   ],
   "source": [
    "for i in full_tags2:\n",
    "    title=i.text\n",
    "    full_review2.append(title)\n",
    "full_review2"
   ]
  },
  {
   "cell_type": "code",
   "execution_count": 104,
   "id": "97a4fc1f",
   "metadata": {},
   "outputs": [
    {
     "name": "stdout",
     "output_type": "stream",
     "text": [
      "10 10 10\n"
     ]
    }
   ],
   "source": [
    "print(len(Rating1),len(Review1),len(full_review1))"
   ]
  },
  {
   "cell_type": "code",
   "execution_count": 105,
   "id": "684ca99b",
   "metadata": {},
   "outputs": [],
   "source": [
    "nxt_button1 = driver.find_element_by_xpath(\"//a[@class='_1LKTO3']\")\n",
    "nxt_button1.click()"
   ]
  },
  {
   "cell_type": "code",
   "execution_count": 106,
   "id": "d0d6ac00",
   "metadata": {},
   "outputs": [],
   "source": [
    "#making empty list\n",
    "Rating2 =[]\n",
    "Review2 = []\n",
    "full_review2 = []"
   ]
  },
  {
   "cell_type": "code",
   "execution_count": 107,
   "id": "87dc469c",
   "metadata": {},
   "outputs": [
    {
     "data": {
      "text/plain": [
       "[<selenium.webdriver.remote.webelement.WebElement (session=\"ea81fb873e3bd412c591a0761cb6ea86\", element=\"ed0db7f9-3f0e-4a83-b69c-9f4d64fd824c\")>,\n",
       " <selenium.webdriver.remote.webelement.WebElement (session=\"ea81fb873e3bd412c591a0761cb6ea86\", element=\"cfe35ce2-be76-42fc-b60d-6507793ad49c\")>,\n",
       " <selenium.webdriver.remote.webelement.WebElement (session=\"ea81fb873e3bd412c591a0761cb6ea86\", element=\"f6044af4-f6d2-44fe-a121-c3fbe46f20a8\")>,\n",
       " <selenium.webdriver.remote.webelement.WebElement (session=\"ea81fb873e3bd412c591a0761cb6ea86\", element=\"b6b76b34-31a7-4616-800a-7f77af711ea7\")>,\n",
       " <selenium.webdriver.remote.webelement.WebElement (session=\"ea81fb873e3bd412c591a0761cb6ea86\", element=\"b328dbc4-f92d-48ce-b302-8576293fd96f\")>,\n",
       " <selenium.webdriver.remote.webelement.WebElement (session=\"ea81fb873e3bd412c591a0761cb6ea86\", element=\"6c934552-36f9-4e4a-bea4-bc93ebf87e73\")>,\n",
       " <selenium.webdriver.remote.webelement.WebElement (session=\"ea81fb873e3bd412c591a0761cb6ea86\", element=\"48a56948-3409-4dab-b5fc-7d2a9f197fa2\")>,\n",
       " <selenium.webdriver.remote.webelement.WebElement (session=\"ea81fb873e3bd412c591a0761cb6ea86\", element=\"b052c0a2-6e94-489b-9440-77dc270d8447\")>,\n",
       " <selenium.webdriver.remote.webelement.WebElement (session=\"ea81fb873e3bd412c591a0761cb6ea86\", element=\"7a326311-a440-4107-9d2a-cf4bd27e4826\")>,\n",
       " <selenium.webdriver.remote.webelement.WebElement (session=\"ea81fb873e3bd412c591a0761cb6ea86\", element=\"3f7cfb35-c0fd-46e0-a176-6225c1855b47\")>]"
      ]
     },
     "execution_count": 107,
     "metadata": {},
     "output_type": "execute_result"
    }
   ],
   "source": [
    "rating_tags2 = driver.find_elements_by_xpath(\"//div[@class='_3LWZlK _1BLPMq']\")\n",
    "rating_tags2"
   ]
  },
  {
   "cell_type": "code",
   "execution_count": 108,
   "id": "571f613e",
   "metadata": {},
   "outputs": [
    {
     "data": {
      "text/plain": [
       "['5', '5', '5', '5', '5', '5', '5', '5', '5', '5']"
      ]
     },
     "execution_count": 108,
     "metadata": {},
     "output_type": "execute_result"
    }
   ],
   "source": [
    "for i in rating_tags2:\n",
    "    title=i.text\n",
    "    Rating2.append(title)\n",
    "Rating2"
   ]
  },
  {
   "cell_type": "code",
   "execution_count": 109,
   "id": "723230d3",
   "metadata": {},
   "outputs": [
    {
     "data": {
      "text/plain": [
       "[<selenium.webdriver.remote.webelement.WebElement (session=\"ea81fb873e3bd412c591a0761cb6ea86\", element=\"23bcd277-5dee-45e5-ad52-82741ecb3190\")>,\n",
       " <selenium.webdriver.remote.webelement.WebElement (session=\"ea81fb873e3bd412c591a0761cb6ea86\", element=\"be786ae1-b86a-4701-afde-05065bb555c6\")>,\n",
       " <selenium.webdriver.remote.webelement.WebElement (session=\"ea81fb873e3bd412c591a0761cb6ea86\", element=\"c35eebfe-e802-47d5-922f-93a422fcb829\")>,\n",
       " <selenium.webdriver.remote.webelement.WebElement (session=\"ea81fb873e3bd412c591a0761cb6ea86\", element=\"2e0e85ae-1fab-4692-ae3a-09cedc9f98c1\")>,\n",
       " <selenium.webdriver.remote.webelement.WebElement (session=\"ea81fb873e3bd412c591a0761cb6ea86\", element=\"bb66effe-bae7-4655-80a7-f39615c95637\")>,\n",
       " <selenium.webdriver.remote.webelement.WebElement (session=\"ea81fb873e3bd412c591a0761cb6ea86\", element=\"78aa83cb-cd8c-4045-ade9-ebad447e9546\")>,\n",
       " <selenium.webdriver.remote.webelement.WebElement (session=\"ea81fb873e3bd412c591a0761cb6ea86\", element=\"eb5f48d7-5559-4eb0-b5f6-d2b77fccbec4\")>,\n",
       " <selenium.webdriver.remote.webelement.WebElement (session=\"ea81fb873e3bd412c591a0761cb6ea86\", element=\"243e4649-0836-46aa-94c8-4ae7ed05a9c8\")>,\n",
       " <selenium.webdriver.remote.webelement.WebElement (session=\"ea81fb873e3bd412c591a0761cb6ea86\", element=\"78f2804f-3d77-4c8e-94bc-17cb7e5b9769\")>,\n",
       " <selenium.webdriver.remote.webelement.WebElement (session=\"ea81fb873e3bd412c591a0761cb6ea86\", element=\"a770d25b-814d-4358-9bb2-709fd33a59ef\")>]"
      ]
     },
     "execution_count": 109,
     "metadata": {},
     "output_type": "execute_result"
    }
   ],
   "source": [
    "review_tags2 = driver.find_elements_by_xpath(\"//p[@class='_2-N8zT']\")\n",
    "review_tags2"
   ]
  },
  {
   "cell_type": "code",
   "execution_count": 110,
   "id": "34b83af2",
   "metadata": {},
   "outputs": [
    {
     "data": {
      "text/plain": [
       "['Highly recommended',\n",
       " 'Perfect product!',\n",
       " 'Perfect product!',\n",
       " 'Worth every penny',\n",
       " 'Highly recommended',\n",
       " 'Perfect product!',\n",
       " 'Worth every penny',\n",
       " 'Simply awesome',\n",
       " 'Classy product',\n",
       " 'Terrific']"
      ]
     },
     "execution_count": 110,
     "metadata": {},
     "output_type": "execute_result"
    }
   ],
   "source": [
    "for i in review_tags2:\n",
    "    title=i.text\n",
    "    Review2.append(title)\n",
    "Review2"
   ]
  },
  {
   "cell_type": "code",
   "execution_count": 111,
   "id": "c75f27ff",
   "metadata": {},
   "outputs": [
    {
     "data": {
      "text/plain": [
       "[<selenium.webdriver.remote.webelement.WebElement (session=\"ea81fb873e3bd412c591a0761cb6ea86\", element=\"0e79eca0-9854-4b85-a2a8-b2ec8b78e999\")>,\n",
       " <selenium.webdriver.remote.webelement.WebElement (session=\"ea81fb873e3bd412c591a0761cb6ea86\", element=\"393118a4-03f3-4bf0-9ed7-603e3e0cfcc9\")>,\n",
       " <selenium.webdriver.remote.webelement.WebElement (session=\"ea81fb873e3bd412c591a0761cb6ea86\", element=\"1c697387-6289-4b08-8a46-cd4cba27a778\")>,\n",
       " <selenium.webdriver.remote.webelement.WebElement (session=\"ea81fb873e3bd412c591a0761cb6ea86\", element=\"ded52d30-5951-40c4-978a-71f1b34afd32\")>,\n",
       " <selenium.webdriver.remote.webelement.WebElement (session=\"ea81fb873e3bd412c591a0761cb6ea86\", element=\"f34a2ca2-15cc-4f98-8d33-a8b0eb8dfb31\")>,\n",
       " <selenium.webdriver.remote.webelement.WebElement (session=\"ea81fb873e3bd412c591a0761cb6ea86\", element=\"1f581614-be19-4df2-9fa6-1472ddfe2596\")>,\n",
       " <selenium.webdriver.remote.webelement.WebElement (session=\"ea81fb873e3bd412c591a0761cb6ea86\", element=\"ad104544-89fe-493d-bbaf-be29f34979ee\")>,\n",
       " <selenium.webdriver.remote.webelement.WebElement (session=\"ea81fb873e3bd412c591a0761cb6ea86\", element=\"5ac6807d-ecaf-4ca0-9262-4dc924095eae\")>,\n",
       " <selenium.webdriver.remote.webelement.WebElement (session=\"ea81fb873e3bd412c591a0761cb6ea86\", element=\"adf79d82-9411-41f1-8bc5-ab3bd8996c60\")>,\n",
       " <selenium.webdriver.remote.webelement.WebElement (session=\"ea81fb873e3bd412c591a0761cb6ea86\", element=\"9af832be-8cce-45c1-b030-afb8f0ce4e8f\")>]"
      ]
     },
     "execution_count": 111,
     "metadata": {},
     "output_type": "execute_result"
    }
   ],
   "source": [
    "full_tags2 =driver.find_elements_by_xpath(\"//div[@class='t-ZTKy']\")\n",
    "full_tags2"
   ]
  },
  {
   "cell_type": "code",
   "execution_count": 112,
   "id": "a5475498",
   "metadata": {},
   "outputs": [
    {
     "data": {
      "text/plain": [
       "['iphone 11 is a very good phone to buy only if you can compromise for the display. The display on this is device is pretty good but you can get other options with better displays in this price segment.\\nIf you can survive with an HD+ LCD panel with thicker bezels and a notch up top then this is a very good phone for you.\\nCameras are awesome, battery backup excellent, great performance and a decent premium look. Good job Apple !',\n",
       " 'It’s a must buy who is looking for an upgrade from previous generation of iPhones. If you are using XR then still you can hold on for sometime and upgrade to 2020 model else this phone is a must buy . Camera quality is amazing and wide angle is something to count upon. Performance wise it’s amazing and feels premium while holding in hand. So a big YES for this device. Go for 128 GB variant as the 4K videos will occupy lots of space and the storage can get over very quickly. Try to buy it with...\\nREAD MORE',\n",
       " 'Value for money❤️❤️\\nIts awesome mobile phone in the world ...\\nDisplay was very good and bright ..\\nTrust me freinds you r never regret after Buying..\\nJust go for it....\\nI love this phone and i switch to iphone x to 11',\n",
       " 'Smooth like butter, camera like fantabulous, sound is crystal clear & its red color is damn attractive, i am just loving it. Must buy if you love photography.\\n\\nLucky to get it in sale, thank you Flipkart.',\n",
       " \"It's my first time to use iOS phone and I am loving my upgradation 😍😍 I love the color, I love the assebility of the phone....I need to learn more about its functionality, but as far as I have seen, it's quite easy and it has a lot of functions to work on, specially if you are a content writer or a blogger you get a lot of content creation platforms and they are really amazing.\\n\\nThis phone not only for good quality photography but a lot of other task too.😍💯\",\n",
       " \"Iphone is just awesome.. battery backup is very very nice.. continuously for 10 hours we can use it.camera is just awesome.. display is just fab.i love it alot..i had to wait 15 days for it as i pre ordered it..overalll it's worth the price..these all images are clicked by my iPhone..and i love it.\",\n",
       " 'Best budget Iphone till date ❤️ go for it guys without second thought. Let me explain you guys about Camera, Display, battery, and performance.\\n\\nCamera: at this price range there is no comparison of camera, you’ll love the picture quality as well as video quality. I am a Vlogger I wanted an iPhone with 4k video by front camera and I got this phone and I am more than happy 😃\\n\\nBattery: I use this phone roughly as I am active social media person and I have a youtube channel. so the battery ba...\\nREAD MORE',\n",
       " 'Excellent camera, good performance, no lag. The lcd display is also good.. but difference come when we watch movie in prime and Netflix, the colours are not vibrant.. as we see in amoled display.. and the charger in box is of 5 watts.. takes more than 3 hours to charge from 0 to 100.. so guys be prepare to buy 18 watts charger . Finally I am an android user, it was my first Iapple phone, I promise u guys the iOS is so smooth.. overall the phone is damn good.... close eyes to buy it.. thanks t...\\nREAD MORE',\n",
       " 'Totally in love with this ❤ the camera quality is amazing just love it 😘😘😘 itsss dammnnnnnn amazing... Must buy iPhone 11 this is my best experience ever ☀👌👌🧡🧡🧡🧡🧡 thanku apple ❤',\n",
       " 'Really worth of money. i just love it. It is the best phone ever.']"
      ]
     },
     "execution_count": 112,
     "metadata": {},
     "output_type": "execute_result"
    }
   ],
   "source": [
    "for i in full_tags2:\n",
    "    title=i.text\n",
    "    full_review2.append(title)\n",
    "full_review2"
   ]
  },
  {
   "cell_type": "markdown",
   "id": "559663b0",
   "metadata": {},
   "source": [
    "Next Page 4"
   ]
  },
  {
   "cell_type": "code",
   "execution_count": 113,
   "id": "1d6a22df",
   "metadata": {},
   "outputs": [],
   "source": [
    "nxt_button = driver.find_element_by_xpath(\"//a[@class='ge-49M']\")\n",
    "nxt_button.click()"
   ]
  },
  {
   "cell_type": "code",
   "execution_count": 114,
   "id": "39e53e50",
   "metadata": {},
   "outputs": [],
   "source": [
    "#making empty list\n",
    "Rating4 =[]\n",
    "Review4 = []\n",
    "full_review4 = []"
   ]
  },
  {
   "cell_type": "code",
   "execution_count": 115,
   "id": "eaf414c1",
   "metadata": {},
   "outputs": [
    {
     "data": {
      "text/plain": [
       "[<selenium.webdriver.remote.webelement.WebElement (session=\"ea81fb873e3bd412c591a0761cb6ea86\", element=\"ed0db7f9-3f0e-4a83-b69c-9f4d64fd824c\")>,\n",
       " <selenium.webdriver.remote.webelement.WebElement (session=\"ea81fb873e3bd412c591a0761cb6ea86\", element=\"cfe35ce2-be76-42fc-b60d-6507793ad49c\")>,\n",
       " <selenium.webdriver.remote.webelement.WebElement (session=\"ea81fb873e3bd412c591a0761cb6ea86\", element=\"f6044af4-f6d2-44fe-a121-c3fbe46f20a8\")>,\n",
       " <selenium.webdriver.remote.webelement.WebElement (session=\"ea81fb873e3bd412c591a0761cb6ea86\", element=\"b6b76b34-31a7-4616-800a-7f77af711ea7\")>,\n",
       " <selenium.webdriver.remote.webelement.WebElement (session=\"ea81fb873e3bd412c591a0761cb6ea86\", element=\"b328dbc4-f92d-48ce-b302-8576293fd96f\")>,\n",
       " <selenium.webdriver.remote.webelement.WebElement (session=\"ea81fb873e3bd412c591a0761cb6ea86\", element=\"6c934552-36f9-4e4a-bea4-bc93ebf87e73\")>,\n",
       " <selenium.webdriver.remote.webelement.WebElement (session=\"ea81fb873e3bd412c591a0761cb6ea86\", element=\"48a56948-3409-4dab-b5fc-7d2a9f197fa2\")>,\n",
       " <selenium.webdriver.remote.webelement.WebElement (session=\"ea81fb873e3bd412c591a0761cb6ea86\", element=\"b052c0a2-6e94-489b-9440-77dc270d8447\")>,\n",
       " <selenium.webdriver.remote.webelement.WebElement (session=\"ea81fb873e3bd412c591a0761cb6ea86\", element=\"7a326311-a440-4107-9d2a-cf4bd27e4826\")>,\n",
       " <selenium.webdriver.remote.webelement.WebElement (session=\"ea81fb873e3bd412c591a0761cb6ea86\", element=\"3f7cfb35-c0fd-46e0-a176-6225c1855b47\")>]"
      ]
     },
     "execution_count": 115,
     "metadata": {},
     "output_type": "execute_result"
    }
   ],
   "source": [
    "rating_tags4 = driver.find_elements_by_xpath(\"//div[@class='_3LWZlK _1BLPMq']\")\n",
    "rating_tags4"
   ]
  },
  {
   "cell_type": "code",
   "execution_count": 116,
   "id": "b79c70b2",
   "metadata": {},
   "outputs": [
    {
     "data": {
      "text/plain": [
       "['5', '5', '5', '5', '5', '5', '5', '5', '5', '5']"
      ]
     },
     "execution_count": 116,
     "metadata": {},
     "output_type": "execute_result"
    }
   ],
   "source": [
    "for i in rating_tags4:\n",
    "    title=i.text\n",
    "    Rating4.append(title)\n",
    "Rating4"
   ]
  },
  {
   "cell_type": "code",
   "execution_count": 117,
   "id": "d35076a6",
   "metadata": {},
   "outputs": [
    {
     "data": {
      "text/plain": [
       "[<selenium.webdriver.remote.webelement.WebElement (session=\"ea81fb873e3bd412c591a0761cb6ea86\", element=\"23bcd277-5dee-45e5-ad52-82741ecb3190\")>,\n",
       " <selenium.webdriver.remote.webelement.WebElement (session=\"ea81fb873e3bd412c591a0761cb6ea86\", element=\"be786ae1-b86a-4701-afde-05065bb555c6\")>,\n",
       " <selenium.webdriver.remote.webelement.WebElement (session=\"ea81fb873e3bd412c591a0761cb6ea86\", element=\"c35eebfe-e802-47d5-922f-93a422fcb829\")>,\n",
       " <selenium.webdriver.remote.webelement.WebElement (session=\"ea81fb873e3bd412c591a0761cb6ea86\", element=\"2e0e85ae-1fab-4692-ae3a-09cedc9f98c1\")>,\n",
       " <selenium.webdriver.remote.webelement.WebElement (session=\"ea81fb873e3bd412c591a0761cb6ea86\", element=\"bb66effe-bae7-4655-80a7-f39615c95637\")>,\n",
       " <selenium.webdriver.remote.webelement.WebElement (session=\"ea81fb873e3bd412c591a0761cb6ea86\", element=\"78aa83cb-cd8c-4045-ade9-ebad447e9546\")>,\n",
       " <selenium.webdriver.remote.webelement.WebElement (session=\"ea81fb873e3bd412c591a0761cb6ea86\", element=\"eb5f48d7-5559-4eb0-b5f6-d2b77fccbec4\")>,\n",
       " <selenium.webdriver.remote.webelement.WebElement (session=\"ea81fb873e3bd412c591a0761cb6ea86\", element=\"243e4649-0836-46aa-94c8-4ae7ed05a9c8\")>,\n",
       " <selenium.webdriver.remote.webelement.WebElement (session=\"ea81fb873e3bd412c591a0761cb6ea86\", element=\"78f2804f-3d77-4c8e-94bc-17cb7e5b9769\")>,\n",
       " <selenium.webdriver.remote.webelement.WebElement (session=\"ea81fb873e3bd412c591a0761cb6ea86\", element=\"a770d25b-814d-4358-9bb2-709fd33a59ef\")>]"
      ]
     },
     "execution_count": 117,
     "metadata": {},
     "output_type": "execute_result"
    }
   ],
   "source": [
    "review_tags4 = driver.find_elements_by_xpath(\"//p[@class='_2-N8zT']\")\n",
    "review_tags4"
   ]
  },
  {
   "cell_type": "code",
   "execution_count": 118,
   "id": "89a756f6",
   "metadata": {},
   "outputs": [
    {
     "data": {
      "text/plain": [
       "['Highly recommended',\n",
       " 'Perfect product!',\n",
       " 'Perfect product!',\n",
       " 'Worth every penny',\n",
       " 'Highly recommended',\n",
       " 'Perfect product!',\n",
       " 'Worth every penny',\n",
       " 'Simply awesome',\n",
       " 'Classy product',\n",
       " 'Terrific']"
      ]
     },
     "execution_count": 118,
     "metadata": {},
     "output_type": "execute_result"
    }
   ],
   "source": [
    "for i in review_tags4:\n",
    "    title=i.text\n",
    "    Review4.append(title)\n",
    "Review4"
   ]
  },
  {
   "cell_type": "code",
   "execution_count": 119,
   "id": "43a396d2",
   "metadata": {},
   "outputs": [
    {
     "data": {
      "text/plain": [
       "[<selenium.webdriver.remote.webelement.WebElement (session=\"ea81fb873e3bd412c591a0761cb6ea86\", element=\"0e79eca0-9854-4b85-a2a8-b2ec8b78e999\")>,\n",
       " <selenium.webdriver.remote.webelement.WebElement (session=\"ea81fb873e3bd412c591a0761cb6ea86\", element=\"393118a4-03f3-4bf0-9ed7-603e3e0cfcc9\")>,\n",
       " <selenium.webdriver.remote.webelement.WebElement (session=\"ea81fb873e3bd412c591a0761cb6ea86\", element=\"1c697387-6289-4b08-8a46-cd4cba27a778\")>,\n",
       " <selenium.webdriver.remote.webelement.WebElement (session=\"ea81fb873e3bd412c591a0761cb6ea86\", element=\"ded52d30-5951-40c4-978a-71f1b34afd32\")>,\n",
       " <selenium.webdriver.remote.webelement.WebElement (session=\"ea81fb873e3bd412c591a0761cb6ea86\", element=\"f34a2ca2-15cc-4f98-8d33-a8b0eb8dfb31\")>,\n",
       " <selenium.webdriver.remote.webelement.WebElement (session=\"ea81fb873e3bd412c591a0761cb6ea86\", element=\"1f581614-be19-4df2-9fa6-1472ddfe2596\")>,\n",
       " <selenium.webdriver.remote.webelement.WebElement (session=\"ea81fb873e3bd412c591a0761cb6ea86\", element=\"ad104544-89fe-493d-bbaf-be29f34979ee\")>,\n",
       " <selenium.webdriver.remote.webelement.WebElement (session=\"ea81fb873e3bd412c591a0761cb6ea86\", element=\"5ac6807d-ecaf-4ca0-9262-4dc924095eae\")>,\n",
       " <selenium.webdriver.remote.webelement.WebElement (session=\"ea81fb873e3bd412c591a0761cb6ea86\", element=\"adf79d82-9411-41f1-8bc5-ab3bd8996c60\")>,\n",
       " <selenium.webdriver.remote.webelement.WebElement (session=\"ea81fb873e3bd412c591a0761cb6ea86\", element=\"9af832be-8cce-45c1-b030-afb8f0ce4e8f\")>]"
      ]
     },
     "execution_count": 119,
     "metadata": {},
     "output_type": "execute_result"
    }
   ],
   "source": [
    "full_tags4 =driver.find_elements_by_xpath(\"//div[@class='t-ZTKy']\")\n",
    "full_tags4"
   ]
  },
  {
   "cell_type": "code",
   "execution_count": 120,
   "id": "83bae545",
   "metadata": {},
   "outputs": [
    {
     "data": {
      "text/plain": [
       "['iphone 11 is a very good phone to buy only if you can compromise for the display. The display on this is device is pretty good but you can get other options with better displays in this price segment.\\nIf you can survive with an HD+ LCD panel with thicker bezels and a notch up top then this is a very good phone for you.\\nCameras are awesome, battery backup excellent, great performance and a decent premium look. Good job Apple !',\n",
       " 'It’s a must buy who is looking for an upgrade from previous generation of iPhones. If you are using XR then still you can hold on for sometime and upgrade to 2020 model else this phone is a must buy . Camera quality is amazing and wide angle is something to count upon. Performance wise it’s amazing and feels premium while holding in hand. So a big YES for this device. Go for 128 GB variant as the 4K videos will occupy lots of space and the storage can get over very quickly. Try to buy it with...\\nREAD MORE',\n",
       " 'Value for money❤️❤️\\nIts awesome mobile phone in the world ...\\nDisplay was very good and bright ..\\nTrust me freinds you r never regret after Buying..\\nJust go for it....\\nI love this phone and i switch to iphone x to 11',\n",
       " 'Smooth like butter, camera like fantabulous, sound is crystal clear & its red color is damn attractive, i am just loving it. Must buy if you love photography.\\n\\nLucky to get it in sale, thank you Flipkart.',\n",
       " \"It's my first time to use iOS phone and I am loving my upgradation 😍😍 I love the color, I love the assebility of the phone....I need to learn more about its functionality, but as far as I have seen, it's quite easy and it has a lot of functions to work on, specially if you are a content writer or a blogger you get a lot of content creation platforms and they are really amazing.\\n\\nThis phone not only for good quality photography but a lot of other task too.😍💯\",\n",
       " \"Iphone is just awesome.. battery backup is very very nice.. continuously for 10 hours we can use it.camera is just awesome.. display is just fab.i love it alot..i had to wait 15 days for it as i pre ordered it..overalll it's worth the price..these all images are clicked by my iPhone..and i love it.\",\n",
       " 'Best budget Iphone till date ❤️ go for it guys without second thought. Let me explain you guys about Camera, Display, battery, and performance.\\n\\nCamera: at this price range there is no comparison of camera, you’ll love the picture quality as well as video quality. I am a Vlogger I wanted an iPhone with 4k video by front camera and I got this phone and I am more than happy 😃\\n\\nBattery: I use this phone roughly as I am active social media person and I have a youtube channel. so the battery ba...\\nREAD MORE',\n",
       " 'Excellent camera, good performance, no lag. The lcd display is also good.. but difference come when we watch movie in prime and Netflix, the colours are not vibrant.. as we see in amoled display.. and the charger in box is of 5 watts.. takes more than 3 hours to charge from 0 to 100.. so guys be prepare to buy 18 watts charger . Finally I am an android user, it was my first Iapple phone, I promise u guys the iOS is so smooth.. overall the phone is damn good.... close eyes to buy it.. thanks t...\\nREAD MORE',\n",
       " 'Totally in love with this ❤ the camera quality is amazing just love it 😘😘😘 itsss dammnnnnnn amazing... Must buy iPhone 11 this is my best experience ever ☀👌👌🧡🧡🧡🧡🧡 thanku apple ❤',\n",
       " 'Really worth of money. i just love it. It is the best phone ever.']"
      ]
     },
     "execution_count": 120,
     "metadata": {},
     "output_type": "execute_result"
    }
   ],
   "source": [
    "for i in full_tags4:\n",
    "    title=i.text\n",
    "    full_review4.append(title)\n",
    "full_review4"
   ]
  },
  {
   "cell_type": "code",
   "execution_count": 121,
   "id": "c9487496",
   "metadata": {},
   "outputs": [
    {
     "name": "stdout",
     "output_type": "stream",
     "text": [
      "10 10 10\n"
     ]
    }
   ],
   "source": [
    "print(len(Rating4),len(Review4),len(full_review4))\n"
   ]
  },
  {
   "cell_type": "markdown",
   "id": "2ccb2cfd",
   "metadata": {},
   "source": [
    "NEXT PAGE:-5\n"
   ]
  },
  {
   "cell_type": "code",
   "execution_count": 122,
   "id": "736cd485",
   "metadata": {},
   "outputs": [],
   "source": [
    "nxt_button5 = driver.find_element_by_xpath(\"//a[@class='_1LKTO3']\")\n",
    "nxt_button5.click()"
   ]
  },
  {
   "cell_type": "code",
   "execution_count": 123,
   "id": "cec97ec4",
   "metadata": {},
   "outputs": [],
   "source": [
    "#making empty list\n",
    "Rating5 =[]\n",
    "Review5 = []\n",
    "full_review5 = []"
   ]
  },
  {
   "cell_type": "code",
   "execution_count": 124,
   "id": "a0707f1e",
   "metadata": {},
   "outputs": [
    {
     "data": {
      "text/plain": [
       "[<selenium.webdriver.remote.webelement.WebElement (session=\"ea81fb873e3bd412c591a0761cb6ea86\", element=\"e637b977-d91c-4f5f-8b27-ee8d512ee59f\")>,\n",
       " <selenium.webdriver.remote.webelement.WebElement (session=\"ea81fb873e3bd412c591a0761cb6ea86\", element=\"fa6d75ea-b5a5-46c7-a1c0-55b669347bbb\")>,\n",
       " <selenium.webdriver.remote.webelement.WebElement (session=\"ea81fb873e3bd412c591a0761cb6ea86\", element=\"27afe7f0-719f-4fae-a716-1a5c7d988756\")>,\n",
       " <selenium.webdriver.remote.webelement.WebElement (session=\"ea81fb873e3bd412c591a0761cb6ea86\", element=\"8d744799-f49b-4e35-9c0a-34d4f0c0923a\")>,\n",
       " <selenium.webdriver.remote.webelement.WebElement (session=\"ea81fb873e3bd412c591a0761cb6ea86\", element=\"882bd34d-b10b-4517-98b6-e91fb4770ed8\")>,\n",
       " <selenium.webdriver.remote.webelement.WebElement (session=\"ea81fb873e3bd412c591a0761cb6ea86\", element=\"e1d51c8d-99d7-4246-8dbc-f39762510cc7\")>,\n",
       " <selenium.webdriver.remote.webelement.WebElement (session=\"ea81fb873e3bd412c591a0761cb6ea86\", element=\"f4708a13-2a41-43a8-9e34-eaa02893690e\")>,\n",
       " <selenium.webdriver.remote.webelement.WebElement (session=\"ea81fb873e3bd412c591a0761cb6ea86\", element=\"c36b583a-0d8f-47e3-b9c7-66d49fb5c0a3\")>,\n",
       " <selenium.webdriver.remote.webelement.WebElement (session=\"ea81fb873e3bd412c591a0761cb6ea86\", element=\"a78d37f0-5245-4816-b420-77300b216c8a\")>,\n",
       " <selenium.webdriver.remote.webelement.WebElement (session=\"ea81fb873e3bd412c591a0761cb6ea86\", element=\"d2cddb90-cbef-46c4-b5e4-4ffb6df2ee16\")>]"
      ]
     },
     "execution_count": 124,
     "metadata": {},
     "output_type": "execute_result"
    }
   ],
   "source": [
    "rating_tags5 = driver.find_elements_by_xpath(\"//div[@class='_3LWZlK _1BLPMq']\")\n",
    "rating_tags5"
   ]
  },
  {
   "cell_type": "code",
   "execution_count": 125,
   "id": "704389c4",
   "metadata": {},
   "outputs": [
    {
     "data": {
      "text/plain": [
       "['5', '5', '5', '5', '5', '5', '5', '4', '5', '5']"
      ]
     },
     "execution_count": 125,
     "metadata": {},
     "output_type": "execute_result"
    }
   ],
   "source": [
    "for i in rating_tags5:\n",
    "    title=i.text\n",
    "    Rating5.append(title)\n",
    "Rating5"
   ]
  },
  {
   "cell_type": "code",
   "execution_count": 126,
   "id": "e3d8e835",
   "metadata": {},
   "outputs": [
    {
     "data": {
      "text/plain": [
       "[<selenium.webdriver.remote.webelement.WebElement (session=\"ea81fb873e3bd412c591a0761cb6ea86\", element=\"7c9c9e78-a231-4a0c-af0c-328b147a2366\")>,\n",
       " <selenium.webdriver.remote.webelement.WebElement (session=\"ea81fb873e3bd412c591a0761cb6ea86\", element=\"e7a1777e-0bee-4ff8-927f-fb2da490a3ba\")>,\n",
       " <selenium.webdriver.remote.webelement.WebElement (session=\"ea81fb873e3bd412c591a0761cb6ea86\", element=\"3053e177-2f6f-4640-9751-95f87ba8f8ec\")>,\n",
       " <selenium.webdriver.remote.webelement.WebElement (session=\"ea81fb873e3bd412c591a0761cb6ea86\", element=\"e1507025-28f3-4312-9448-fb54aa7c30b0\")>,\n",
       " <selenium.webdriver.remote.webelement.WebElement (session=\"ea81fb873e3bd412c591a0761cb6ea86\", element=\"0cb5f532-9ce7-4692-8448-155919feaa11\")>,\n",
       " <selenium.webdriver.remote.webelement.WebElement (session=\"ea81fb873e3bd412c591a0761cb6ea86\", element=\"891f3bf0-5fac-4303-a26e-1cfbb0574a8f\")>,\n",
       " <selenium.webdriver.remote.webelement.WebElement (session=\"ea81fb873e3bd412c591a0761cb6ea86\", element=\"e407e6b1-49a1-47ba-9cd8-b7870b74b576\")>,\n",
       " <selenium.webdriver.remote.webelement.WebElement (session=\"ea81fb873e3bd412c591a0761cb6ea86\", element=\"a28b1aba-b600-4626-8817-864ddee28fe2\")>,\n",
       " <selenium.webdriver.remote.webelement.WebElement (session=\"ea81fb873e3bd412c591a0761cb6ea86\", element=\"db356f49-32e9-4b34-b971-4326124e5f69\")>,\n",
       " <selenium.webdriver.remote.webelement.WebElement (session=\"ea81fb873e3bd412c591a0761cb6ea86\", element=\"5d92b12a-c34e-43d9-8843-9ab2464260e1\")>]"
      ]
     },
     "execution_count": 126,
     "metadata": {},
     "output_type": "execute_result"
    }
   ],
   "source": [
    "review_tags5 = driver.find_elements_by_xpath(\"//p[@class='_2-N8zT']\")\n",
    "review_tags5"
   ]
  },
  {
   "cell_type": "code",
   "execution_count": 127,
   "id": "c061bfd3",
   "metadata": {},
   "outputs": [
    {
     "data": {
      "text/plain": [
       "['Brilliant',\n",
       " 'Simply awesome',\n",
       " 'Best in the market!',\n",
       " 'Perfect product!',\n",
       " 'Fabulous!',\n",
       " 'Worth every penny',\n",
       " 'Great product',\n",
       " 'Good choice',\n",
       " 'Worth every penny',\n",
       " 'Highly recommended']"
      ]
     },
     "execution_count": 127,
     "metadata": {},
     "output_type": "execute_result"
    }
   ],
   "source": [
    "for i in review_tags5:\n",
    "    title=i.text\n",
    "    Review5.append(title)\n",
    "Review5"
   ]
  },
  {
   "cell_type": "code",
   "execution_count": 128,
   "id": "05b8272d",
   "metadata": {},
   "outputs": [
    {
     "data": {
      "text/plain": [
       "[<selenium.webdriver.remote.webelement.WebElement (session=\"ea81fb873e3bd412c591a0761cb6ea86\", element=\"bbfdaf1b-217a-4aeb-9a0c-4fd7b97ca959\")>,\n",
       " <selenium.webdriver.remote.webelement.WebElement (session=\"ea81fb873e3bd412c591a0761cb6ea86\", element=\"4169601b-20cb-49a4-8299-303a4f1b23d9\")>,\n",
       " <selenium.webdriver.remote.webelement.WebElement (session=\"ea81fb873e3bd412c591a0761cb6ea86\", element=\"c1db4829-6a3e-4dce-b10a-7e9bd8058e50\")>,\n",
       " <selenium.webdriver.remote.webelement.WebElement (session=\"ea81fb873e3bd412c591a0761cb6ea86\", element=\"b19d57f2-435f-4146-bdf7-422928fd4874\")>,\n",
       " <selenium.webdriver.remote.webelement.WebElement (session=\"ea81fb873e3bd412c591a0761cb6ea86\", element=\"01f9354e-3ea0-4f10-baae-33870effcfe1\")>,\n",
       " <selenium.webdriver.remote.webelement.WebElement (session=\"ea81fb873e3bd412c591a0761cb6ea86\", element=\"428ab218-9570-4cdf-a63c-a75cdbfea247\")>,\n",
       " <selenium.webdriver.remote.webelement.WebElement (session=\"ea81fb873e3bd412c591a0761cb6ea86\", element=\"70b9ad25-7943-4502-b8eb-05d736fae801\")>,\n",
       " <selenium.webdriver.remote.webelement.WebElement (session=\"ea81fb873e3bd412c591a0761cb6ea86\", element=\"9bffd673-319c-43bc-91bd-1d81b3b821df\")>,\n",
       " <selenium.webdriver.remote.webelement.WebElement (session=\"ea81fb873e3bd412c591a0761cb6ea86\", element=\"3402775a-f6bd-4b04-812a-c4d382817847\")>,\n",
       " <selenium.webdriver.remote.webelement.WebElement (session=\"ea81fb873e3bd412c591a0761cb6ea86\", element=\"bf4048b7-3232-4b64-8daf-af1a6c6a8bd9\")>]"
      ]
     },
     "execution_count": 128,
     "metadata": {},
     "output_type": "execute_result"
    }
   ],
   "source": [
    "full_tags5 =driver.find_elements_by_xpath(\"//div[@class='t-ZTKy']\")\n",
    "full_tags5"
   ]
  },
  {
   "cell_type": "code",
   "execution_count": 129,
   "id": "9b981971",
   "metadata": {},
   "outputs": [
    {
     "data": {
      "text/plain": [
       "['The Best Phone for the Money\\n\\nThe iPhone 11 offers superb cameras, a more durable design and excellent battery life for an affordable price.\\n\\nCompelling ultra-wide camera\\nNew Night mode is excellent\\nLong battery life',\n",
       " 'Really satisfied with the Product I received... It’s totally genuine and the packaging was also really good so if ur planning to buy just go for it.',\n",
       " 'Great iPhone very snappy experience as apple kind. Upgraded from iPhone 7.\\nPros\\n-Camera top class\\n- Battery top performed\\n-Chipset no need to say as apple kind\\n-Security as you expect from apple\\n- Display super bright industry leading colour\\naccuracy and super responsive\\n-Build quality as expect from apple sturdy\\npremium durable beautiful stylish.\\n-Os most stable os in smartphone industry\\n\\nCons\\n-No 5G\\n-Display is not based on OLED technology\\n-Charger headphones and 1 apple stic...\\nREAD MORE',\n",
       " 'Amazing phone with great cameras and better battery which gives you the best performance. I just love the camera .',\n",
       " 'This is my first iOS phone. I am very happy with this product. Very much satisfied with this. I love this phone.',\n",
       " 'Previously I was using one plus 3t it was a great phone\\nAnd then I decided to upgrade I am stuck between Samsung s10 plus or iPhone 11\\nI have seen the specs and everything were good except the display it’s somewhere between 720-1080 and it’s not even an amoled it’s an LCD display\\nBut I decided to go with iPhone because I have never used an IOS device I have Been an android user from the past 9 years I ordered IPhone 11 (128gb) product red\\nMy experience after using 3 weeks\\n1. The delivery ...\\nREAD MORE',\n",
       " 'Amazing Powerful and Durable Gadget.\\n\\nI’m am very happy with the camera picture quality, Amazing face id unlocked in dark room, Strong battery with perfect screen size as you can carry easily in pocket. This is my third iPhone.\\n\\nI shifted from android Samsung Note series to iPhone because of the strong build quality and peace of mind for next 3-4 years.\\n\\nDon’t think to much just go for it and I suggest you to go for minimum 128gb variant or more 256gb.\\n\\nI’ve attached my puppy pics and no fi...\\nREAD MORE',\n",
       " 'So far it’s been an AMAZING experience coming back to iOS after nearly a decade but it’s not as versatile as android though phone is sturdy dropped it accidentally a couple of times and nothing happened fortunately camera is awesome',\n",
       " 'i11 is worthy to buy, too much happy with the product. Thank u flipkart I received the item on time..loved it..',\n",
       " 'What a camera .....just awesome ..you can feel this iPhone just awesome . Good for gaming also ...try pubg in hd it’s just wow']"
      ]
     },
     "execution_count": 129,
     "metadata": {},
     "output_type": "execute_result"
    }
   ],
   "source": [
    "for i in full_tags5:\n",
    "    title=i.text\n",
    "    full_review5.append(title)\n",
    "full_review5"
   ]
  },
  {
   "cell_type": "code",
   "execution_count": 130,
   "id": "2e8d21b8",
   "metadata": {},
   "outputs": [
    {
     "name": "stdout",
     "output_type": "stream",
     "text": [
      "10 10 0\n"
     ]
    }
   ],
   "source": [
    "print(len(Rating),len(Review),len(full_review))"
   ]
  },
  {
   "cell_type": "markdown",
   "id": "b2e58196",
   "metadata": {},
   "source": [
    "NEXT PAGE:-6\n"
   ]
  },
  {
   "cell_type": "code",
   "execution_count": 131,
   "id": "f1147c4b",
   "metadata": {},
   "outputs": [],
   "source": [
    "nxt_button = driver.find_element_by_xpath(\"//a[@class='_1LKTO3']\")\n",
    "nxt_button.click()"
   ]
  },
  {
   "cell_type": "code",
   "execution_count": 132,
   "id": "7c84fb5d",
   "metadata": {},
   "outputs": [],
   "source": [
    "#making empty list\n",
    "Rating6 =[]\n",
    "Review6 = []\n",
    "full_review6 = []"
   ]
  },
  {
   "cell_type": "code",
   "execution_count": 133,
   "id": "6d9def45",
   "metadata": {},
   "outputs": [
    {
     "data": {
      "text/plain": [
       "[<selenium.webdriver.remote.webelement.WebElement (session=\"ea81fb873e3bd412c591a0761cb6ea86\", element=\"e637b977-d91c-4f5f-8b27-ee8d512ee59f\")>,\n",
       " <selenium.webdriver.remote.webelement.WebElement (session=\"ea81fb873e3bd412c591a0761cb6ea86\", element=\"fa6d75ea-b5a5-46c7-a1c0-55b669347bbb\")>,\n",
       " <selenium.webdriver.remote.webelement.WebElement (session=\"ea81fb873e3bd412c591a0761cb6ea86\", element=\"27afe7f0-719f-4fae-a716-1a5c7d988756\")>,\n",
       " <selenium.webdriver.remote.webelement.WebElement (session=\"ea81fb873e3bd412c591a0761cb6ea86\", element=\"8d744799-f49b-4e35-9c0a-34d4f0c0923a\")>,\n",
       " <selenium.webdriver.remote.webelement.WebElement (session=\"ea81fb873e3bd412c591a0761cb6ea86\", element=\"882bd34d-b10b-4517-98b6-e91fb4770ed8\")>,\n",
       " <selenium.webdriver.remote.webelement.WebElement (session=\"ea81fb873e3bd412c591a0761cb6ea86\", element=\"e1d51c8d-99d7-4246-8dbc-f39762510cc7\")>,\n",
       " <selenium.webdriver.remote.webelement.WebElement (session=\"ea81fb873e3bd412c591a0761cb6ea86\", element=\"f4708a13-2a41-43a8-9e34-eaa02893690e\")>,\n",
       " <selenium.webdriver.remote.webelement.WebElement (session=\"ea81fb873e3bd412c591a0761cb6ea86\", element=\"c36b583a-0d8f-47e3-b9c7-66d49fb5c0a3\")>,\n",
       " <selenium.webdriver.remote.webelement.WebElement (session=\"ea81fb873e3bd412c591a0761cb6ea86\", element=\"a78d37f0-5245-4816-b420-77300b216c8a\")>,\n",
       " <selenium.webdriver.remote.webelement.WebElement (session=\"ea81fb873e3bd412c591a0761cb6ea86\", element=\"d2cddb90-cbef-46c4-b5e4-4ffb6df2ee16\")>]"
      ]
     },
     "execution_count": 133,
     "metadata": {},
     "output_type": "execute_result"
    }
   ],
   "source": [
    "rating_tags6 = driver.find_elements_by_xpath(\"//div[@class='_3LWZlK _1BLPMq']\")\n",
    "rating_tags6"
   ]
  },
  {
   "cell_type": "code",
   "execution_count": 134,
   "id": "e3c4f243",
   "metadata": {},
   "outputs": [
    {
     "data": {
      "text/plain": [
       "['5', '5', '5', '5', '5', '5', '5', '4', '5', '5']"
      ]
     },
     "execution_count": 134,
     "metadata": {},
     "output_type": "execute_result"
    }
   ],
   "source": [
    "for i in rating_tags6:\n",
    "    title=i.text\n",
    "    Rating6.append(title)\n",
    "Rating6"
   ]
  },
  {
   "cell_type": "code",
   "execution_count": 135,
   "id": "6e16d2a8",
   "metadata": {},
   "outputs": [
    {
     "data": {
      "text/plain": [
       "[<selenium.webdriver.remote.webelement.WebElement (session=\"ea81fb873e3bd412c591a0761cb6ea86\", element=\"7c9c9e78-a231-4a0c-af0c-328b147a2366\")>,\n",
       " <selenium.webdriver.remote.webelement.WebElement (session=\"ea81fb873e3bd412c591a0761cb6ea86\", element=\"e7a1777e-0bee-4ff8-927f-fb2da490a3ba\")>,\n",
       " <selenium.webdriver.remote.webelement.WebElement (session=\"ea81fb873e3bd412c591a0761cb6ea86\", element=\"3053e177-2f6f-4640-9751-95f87ba8f8ec\")>,\n",
       " <selenium.webdriver.remote.webelement.WebElement (session=\"ea81fb873e3bd412c591a0761cb6ea86\", element=\"e1507025-28f3-4312-9448-fb54aa7c30b0\")>,\n",
       " <selenium.webdriver.remote.webelement.WebElement (session=\"ea81fb873e3bd412c591a0761cb6ea86\", element=\"0cb5f532-9ce7-4692-8448-155919feaa11\")>,\n",
       " <selenium.webdriver.remote.webelement.WebElement (session=\"ea81fb873e3bd412c591a0761cb6ea86\", element=\"891f3bf0-5fac-4303-a26e-1cfbb0574a8f\")>,\n",
       " <selenium.webdriver.remote.webelement.WebElement (session=\"ea81fb873e3bd412c591a0761cb6ea86\", element=\"e407e6b1-49a1-47ba-9cd8-b7870b74b576\")>,\n",
       " <selenium.webdriver.remote.webelement.WebElement (session=\"ea81fb873e3bd412c591a0761cb6ea86\", element=\"a28b1aba-b600-4626-8817-864ddee28fe2\")>,\n",
       " <selenium.webdriver.remote.webelement.WebElement (session=\"ea81fb873e3bd412c591a0761cb6ea86\", element=\"db356f49-32e9-4b34-b971-4326124e5f69\")>,\n",
       " <selenium.webdriver.remote.webelement.WebElement (session=\"ea81fb873e3bd412c591a0761cb6ea86\", element=\"5d92b12a-c34e-43d9-8843-9ab2464260e1\")>]"
      ]
     },
     "execution_count": 135,
     "metadata": {},
     "output_type": "execute_result"
    }
   ],
   "source": [
    "review_tags6 = driver.find_elements_by_xpath(\"//p[@class='_2-N8zT']\")\n",
    "review_tags6"
   ]
  },
  {
   "cell_type": "code",
   "execution_count": 136,
   "id": "f68db9a9",
   "metadata": {},
   "outputs": [
    {
     "data": {
      "text/plain": [
       "['Brilliant',\n",
       " 'Simply awesome',\n",
       " 'Best in the market!',\n",
       " 'Perfect product!',\n",
       " 'Fabulous!',\n",
       " 'Worth every penny',\n",
       " 'Great product',\n",
       " 'Good choice',\n",
       " 'Worth every penny',\n",
       " 'Highly recommended']"
      ]
     },
     "execution_count": 136,
     "metadata": {},
     "output_type": "execute_result"
    }
   ],
   "source": [
    "for i in review_tags6:\n",
    "    title=i.text\n",
    "    Review6.append(title)\n",
    "Review6"
   ]
  },
  {
   "cell_type": "code",
   "execution_count": 137,
   "id": "7d33d7b8",
   "metadata": {},
   "outputs": [
    {
     "data": {
      "text/plain": [
       "[<selenium.webdriver.remote.webelement.WebElement (session=\"ea81fb873e3bd412c591a0761cb6ea86\", element=\"bbfdaf1b-217a-4aeb-9a0c-4fd7b97ca959\")>,\n",
       " <selenium.webdriver.remote.webelement.WebElement (session=\"ea81fb873e3bd412c591a0761cb6ea86\", element=\"4169601b-20cb-49a4-8299-303a4f1b23d9\")>,\n",
       " <selenium.webdriver.remote.webelement.WebElement (session=\"ea81fb873e3bd412c591a0761cb6ea86\", element=\"c1db4829-6a3e-4dce-b10a-7e9bd8058e50\")>,\n",
       " <selenium.webdriver.remote.webelement.WebElement (session=\"ea81fb873e3bd412c591a0761cb6ea86\", element=\"b19d57f2-435f-4146-bdf7-422928fd4874\")>,\n",
       " <selenium.webdriver.remote.webelement.WebElement (session=\"ea81fb873e3bd412c591a0761cb6ea86\", element=\"01f9354e-3ea0-4f10-baae-33870effcfe1\")>,\n",
       " <selenium.webdriver.remote.webelement.WebElement (session=\"ea81fb873e3bd412c591a0761cb6ea86\", element=\"428ab218-9570-4cdf-a63c-a75cdbfea247\")>,\n",
       " <selenium.webdriver.remote.webelement.WebElement (session=\"ea81fb873e3bd412c591a0761cb6ea86\", element=\"70b9ad25-7943-4502-b8eb-05d736fae801\")>,\n",
       " <selenium.webdriver.remote.webelement.WebElement (session=\"ea81fb873e3bd412c591a0761cb6ea86\", element=\"9bffd673-319c-43bc-91bd-1d81b3b821df\")>,\n",
       " <selenium.webdriver.remote.webelement.WebElement (session=\"ea81fb873e3bd412c591a0761cb6ea86\", element=\"3402775a-f6bd-4b04-812a-c4d382817847\")>,\n",
       " <selenium.webdriver.remote.webelement.WebElement (session=\"ea81fb873e3bd412c591a0761cb6ea86\", element=\"bf4048b7-3232-4b64-8daf-af1a6c6a8bd9\")>]"
      ]
     },
     "execution_count": 137,
     "metadata": {},
     "output_type": "execute_result"
    }
   ],
   "source": [
    "full_tags6 =driver.find_elements_by_xpath(\"//div[@class='t-ZTKy']\")\n",
    "full_tags6"
   ]
  },
  {
   "cell_type": "code",
   "execution_count": 138,
   "id": "571c53fc",
   "metadata": {},
   "outputs": [
    {
     "data": {
      "text/plain": [
       "['The Best Phone for the Money\\n\\nThe iPhone 11 offers superb cameras, a more durable design and excellent battery life for an affordable price.\\n\\nCompelling ultra-wide camera\\nNew Night mode is excellent\\nLong battery life',\n",
       " 'Really satisfied with the Product I received... It’s totally genuine and the packaging was also really good so if ur planning to buy just go for it.',\n",
       " 'Great iPhone very snappy experience as apple kind. Upgraded from iPhone 7.\\nPros\\n-Camera top class\\n- Battery top performed\\n-Chipset no need to say as apple kind\\n-Security as you expect from apple\\n- Display super bright industry leading colour\\naccuracy and super responsive\\n-Build quality as expect from apple sturdy\\npremium durable beautiful stylish.\\n-Os most stable os in smartphone industry\\n\\nCons\\n-No 5G\\n-Display is not based on OLED technology\\n-Charger headphones and 1 apple stic...\\nREAD MORE',\n",
       " 'Amazing phone with great cameras and better battery which gives you the best performance. I just love the camera .',\n",
       " 'This is my first iOS phone. I am very happy with this product. Very much satisfied with this. I love this phone.',\n",
       " 'Previously I was using one plus 3t it was a great phone\\nAnd then I decided to upgrade I am stuck between Samsung s10 plus or iPhone 11\\nI have seen the specs and everything were good except the display it’s somewhere between 720-1080 and it’s not even an amoled it’s an LCD display\\nBut I decided to go with iPhone because I have never used an IOS device I have Been an android user from the past 9 years I ordered IPhone 11 (128gb) product red\\nMy experience after using 3 weeks\\n1. The delivery ...\\nREAD MORE',\n",
       " 'Amazing Powerful and Durable Gadget.\\n\\nI’m am very happy with the camera picture quality, Amazing face id unlocked in dark room, Strong battery with perfect screen size as you can carry easily in pocket. This is my third iPhone.\\n\\nI shifted from android Samsung Note series to iPhone because of the strong build quality and peace of mind for next 3-4 years.\\n\\nDon’t think to much just go for it and I suggest you to go for minimum 128gb variant or more 256gb.\\n\\nI’ve attached my puppy pics and no fi...\\nREAD MORE',\n",
       " 'So far it’s been an AMAZING experience coming back to iOS after nearly a decade but it’s not as versatile as android though phone is sturdy dropped it accidentally a couple of times and nothing happened fortunately camera is awesome',\n",
       " 'i11 is worthy to buy, too much happy with the product. Thank u flipkart I received the item on time..loved it..',\n",
       " 'What a camera .....just awesome ..you can feel this iPhone just awesome . Good for gaming also ...try pubg in hd it’s just wow']"
      ]
     },
     "execution_count": 138,
     "metadata": {},
     "output_type": "execute_result"
    }
   ],
   "source": [
    "for i in full_tags6:\n",
    "    title=i.text\n",
    "    full_review6.append(title)\n",
    "full_review6"
   ]
  },
  {
   "cell_type": "markdown",
   "id": "b1f797d8",
   "metadata": {},
   "source": [
    "NEXT PAGE:-7\n"
   ]
  },
  {
   "cell_type": "code",
   "execution_count": 139,
   "id": "b1cbf76d",
   "metadata": {},
   "outputs": [],
   "source": [
    "\n",
    "nxt_button = driver.find_element_by_xpath(\"//a[@class='_1LKTO3']\")\n",
    "nxt_button.click()"
   ]
  },
  {
   "cell_type": "code",
   "execution_count": 140,
   "id": "11d16921",
   "metadata": {},
   "outputs": [],
   "source": [
    "Rating7 =[]\n",
    "Review7 = []\n",
    "full_review7 = []"
   ]
  },
  {
   "cell_type": "code",
   "execution_count": 141,
   "id": "5b223f1b",
   "metadata": {},
   "outputs": [
    {
     "data": {
      "text/plain": [
       "[<selenium.webdriver.remote.webelement.WebElement (session=\"ea81fb873e3bd412c591a0761cb6ea86\", element=\"7b3f9db2-0f1a-4772-a66c-c041a5767c45\")>,\n",
       " <selenium.webdriver.remote.webelement.WebElement (session=\"ea81fb873e3bd412c591a0761cb6ea86\", element=\"3e3c2fc6-54c4-478a-8e0b-5c224d2124dc\")>,\n",
       " <selenium.webdriver.remote.webelement.WebElement (session=\"ea81fb873e3bd412c591a0761cb6ea86\", element=\"334d1fec-893b-42c2-bfd6-4133fa03f2ae\")>,\n",
       " <selenium.webdriver.remote.webelement.WebElement (session=\"ea81fb873e3bd412c591a0761cb6ea86\", element=\"209cce83-d880-492d-906b-0e05d0afea71\")>,\n",
       " <selenium.webdriver.remote.webelement.WebElement (session=\"ea81fb873e3bd412c591a0761cb6ea86\", element=\"3515c3e0-c9b0-49fc-b7f8-bb0f162eb14f\")>,\n",
       " <selenium.webdriver.remote.webelement.WebElement (session=\"ea81fb873e3bd412c591a0761cb6ea86\", element=\"31480643-56e7-405d-92f9-75b14c22f59a\")>,\n",
       " <selenium.webdriver.remote.webelement.WebElement (session=\"ea81fb873e3bd412c591a0761cb6ea86\", element=\"ffbc5793-d862-4871-a5bf-7ffb5dec8277\")>,\n",
       " <selenium.webdriver.remote.webelement.WebElement (session=\"ea81fb873e3bd412c591a0761cb6ea86\", element=\"dc8b07a2-5764-47b7-908d-f923c71ae62a\")>,\n",
       " <selenium.webdriver.remote.webelement.WebElement (session=\"ea81fb873e3bd412c591a0761cb6ea86\", element=\"eea056c5-4d46-48d8-b191-fc3a9e48322e\")>,\n",
       " <selenium.webdriver.remote.webelement.WebElement (session=\"ea81fb873e3bd412c591a0761cb6ea86\", element=\"5bb18193-b496-4f1d-adf0-ea832492f983\")>]"
      ]
     },
     "execution_count": 141,
     "metadata": {},
     "output_type": "execute_result"
    }
   ],
   "source": [
    "rating_tags7 = driver.find_elements_by_xpath(\"//div[@class='_3LWZlK _1BLPMq']\")\n",
    "rating_tags7"
   ]
  },
  {
   "cell_type": "code",
   "execution_count": 142,
   "id": "ba6a175f",
   "metadata": {},
   "outputs": [
    {
     "data": {
      "text/plain": [
       "['5', '5', '5', '5', '5', '5', '5', '5', '5', '5']"
      ]
     },
     "execution_count": 142,
     "metadata": {},
     "output_type": "execute_result"
    }
   ],
   "source": [
    "for i in rating_tags7:\n",
    "    title=i.text\n",
    "    Rating7.append(title)\n",
    "Rating7"
   ]
  },
  {
   "cell_type": "code",
   "execution_count": 143,
   "id": "317f982b",
   "metadata": {},
   "outputs": [
    {
     "data": {
      "text/plain": [
       "[<selenium.webdriver.remote.webelement.WebElement (session=\"ea81fb873e3bd412c591a0761cb6ea86\", element=\"23902b0a-aa45-4a05-8718-cdb84b51c252\")>,\n",
       " <selenium.webdriver.remote.webelement.WebElement (session=\"ea81fb873e3bd412c591a0761cb6ea86\", element=\"65164f7d-4c5a-46d8-b7a4-057c62a45de9\")>,\n",
       " <selenium.webdriver.remote.webelement.WebElement (session=\"ea81fb873e3bd412c591a0761cb6ea86\", element=\"3ec7fcf7-fef0-485e-b5d2-b0fddeb9111b\")>,\n",
       " <selenium.webdriver.remote.webelement.WebElement (session=\"ea81fb873e3bd412c591a0761cb6ea86\", element=\"1b9f31b8-9087-4ca9-9bcf-f3dd1a09bd7d\")>,\n",
       " <selenium.webdriver.remote.webelement.WebElement (session=\"ea81fb873e3bd412c591a0761cb6ea86\", element=\"55acf9a8-67e6-438f-a5f0-00f8e6951fa9\")>,\n",
       " <selenium.webdriver.remote.webelement.WebElement (session=\"ea81fb873e3bd412c591a0761cb6ea86\", element=\"afbf23e5-2a2a-4443-bb2b-b3b3dae466f0\")>,\n",
       " <selenium.webdriver.remote.webelement.WebElement (session=\"ea81fb873e3bd412c591a0761cb6ea86\", element=\"dd8a3edd-dd81-42b9-88cd-7e18df307ac2\")>,\n",
       " <selenium.webdriver.remote.webelement.WebElement (session=\"ea81fb873e3bd412c591a0761cb6ea86\", element=\"73125c2e-8426-4cff-9ef1-cf342ed31d44\")>,\n",
       " <selenium.webdriver.remote.webelement.WebElement (session=\"ea81fb873e3bd412c591a0761cb6ea86\", element=\"468e0ee6-62f3-4abc-b0b3-a790df790062\")>,\n",
       " <selenium.webdriver.remote.webelement.WebElement (session=\"ea81fb873e3bd412c591a0761cb6ea86\", element=\"e415e627-0f27-453f-a598-c735d9aa3268\")>]"
      ]
     },
     "execution_count": 143,
     "metadata": {},
     "output_type": "execute_result"
    }
   ],
   "source": [
    "review_tags7 = driver.find_elements_by_xpath(\"//p[@class='_2-N8zT']\")\n",
    "review_tags7"
   ]
  },
  {
   "cell_type": "code",
   "execution_count": 144,
   "id": "6cc5dd89",
   "metadata": {},
   "outputs": [
    {
     "data": {
      "text/plain": [
       "['Highly recommended',\n",
       " 'Perfect product!',\n",
       " 'Perfect product!',\n",
       " 'Worth every penny',\n",
       " 'Highly recommended',\n",
       " 'Perfect product!',\n",
       " 'Worth every penny',\n",
       " 'Simply awesome',\n",
       " 'Classy product',\n",
       " 'Terrific']"
      ]
     },
     "execution_count": 144,
     "metadata": {},
     "output_type": "execute_result"
    }
   ],
   "source": [
    "for i in review_tags7:\n",
    "    title=i.text\n",
    "    Review7.append(title)\n",
    "Review7"
   ]
  },
  {
   "cell_type": "code",
   "execution_count": 145,
   "id": "7859e039",
   "metadata": {},
   "outputs": [
    {
     "data": {
      "text/plain": [
       "[<selenium.webdriver.remote.webelement.WebElement (session=\"ea81fb873e3bd412c591a0761cb6ea86\", element=\"72f32230-1221-4a45-9971-93fdc732eac9\")>,\n",
       " <selenium.webdriver.remote.webelement.WebElement (session=\"ea81fb873e3bd412c591a0761cb6ea86\", element=\"cb3e07dd-f943-433e-8c5e-d8955c19d67d\")>,\n",
       " <selenium.webdriver.remote.webelement.WebElement (session=\"ea81fb873e3bd412c591a0761cb6ea86\", element=\"18957880-1073-4840-a123-7e4c112a1d71\")>,\n",
       " <selenium.webdriver.remote.webelement.WebElement (session=\"ea81fb873e3bd412c591a0761cb6ea86\", element=\"50c6e471-152c-4671-9012-d5a89ae63ad8\")>,\n",
       " <selenium.webdriver.remote.webelement.WebElement (session=\"ea81fb873e3bd412c591a0761cb6ea86\", element=\"1a958ef9-d556-4517-a248-5a2f6a396a96\")>,\n",
       " <selenium.webdriver.remote.webelement.WebElement (session=\"ea81fb873e3bd412c591a0761cb6ea86\", element=\"94fbc4e5-a3f8-4223-88c2-7855a1807c9b\")>,\n",
       " <selenium.webdriver.remote.webelement.WebElement (session=\"ea81fb873e3bd412c591a0761cb6ea86\", element=\"6a2f3357-7d9b-4c31-b388-cfc7d590b318\")>,\n",
       " <selenium.webdriver.remote.webelement.WebElement (session=\"ea81fb873e3bd412c591a0761cb6ea86\", element=\"d158ccfb-89a9-470c-9a5f-a1d723228649\")>,\n",
       " <selenium.webdriver.remote.webelement.WebElement (session=\"ea81fb873e3bd412c591a0761cb6ea86\", element=\"d4876e2d-948a-4063-aba0-333e20137944\")>,\n",
       " <selenium.webdriver.remote.webelement.WebElement (session=\"ea81fb873e3bd412c591a0761cb6ea86\", element=\"012e8826-d281-4a14-806c-7ce649a4c776\")>]"
      ]
     },
     "execution_count": 145,
     "metadata": {},
     "output_type": "execute_result"
    }
   ],
   "source": [
    "full_tags7 =driver.find_elements_by_xpath(\"//div[@class='t-ZTKy']\")\n",
    "full_tags7"
   ]
  },
  {
   "cell_type": "code",
   "execution_count": 146,
   "id": "12a0924e",
   "metadata": {},
   "outputs": [
    {
     "data": {
      "text/plain": [
       "['iphone 11 is a very good phone to buy only if you can compromise for the display. The display on this is device is pretty good but you can get other options with better displays in this price segment.\\nIf you can survive with an HD+ LCD panel with thicker bezels and a notch up top then this is a very good phone for you.\\nCameras are awesome, battery backup excellent, great performance and a decent premium look. Good job Apple !',\n",
       " 'It’s a must buy who is looking for an upgrade from previous generation of iPhones. If you are using XR then still you can hold on for sometime and upgrade to 2020 model else this phone is a must buy . Camera quality is amazing and wide angle is something to count upon. Performance wise it’s amazing and feels premium while holding in hand. So a big YES for this device. Go for 128 GB variant as the 4K videos will occupy lots of space and the storage can get over very quickly. Try to buy it with...\\nREAD MORE',\n",
       " 'Value for money❤️❤️\\nIts awesome mobile phone in the world ...\\nDisplay was very good and bright ..\\nTrust me freinds you r never regret after Buying..\\nJust go for it....\\nI love this phone and i switch to iphone x to 11',\n",
       " 'Smooth like butter, camera like fantabulous, sound is crystal clear & its red color is damn attractive, i am just loving it. Must buy if you love photography.\\n\\nLucky to get it in sale, thank you Flipkart.',\n",
       " \"It's my first time to use iOS phone and I am loving my upgradation 😍😍 I love the color, I love the assebility of the phone....I need to learn more about its functionality, but as far as I have seen, it's quite easy and it has a lot of functions to work on, specially if you are a content writer or a blogger you get a lot of content creation platforms and they are really amazing.\\n\\nThis phone not only for good quality photography but a lot of other task too.😍💯\",\n",
       " \"Iphone is just awesome.. battery backup is very very nice.. continuously for 10 hours we can use it.camera is just awesome.. display is just fab.i love it alot..i had to wait 15 days for it as i pre ordered it..overalll it's worth the price..these all images are clicked by my iPhone..and i love it.\",\n",
       " 'Best budget Iphone till date ❤️ go for it guys without second thought. Let me explain you guys about Camera, Display, battery, and performance.\\n\\nCamera: at this price range there is no comparison of camera, you’ll love the picture quality as well as video quality. I am a Vlogger I wanted an iPhone with 4k video by front camera and I got this phone and I am more than happy 😃\\n\\nBattery: I use this phone roughly as I am active social media person and I have a youtube channel. so the battery ba...\\nREAD MORE',\n",
       " 'Excellent camera, good performance, no lag. The lcd display is also good.. but difference come when we watch movie in prime and Netflix, the colours are not vibrant.. as we see in amoled display.. and the charger in box is of 5 watts.. takes more than 3 hours to charge from 0 to 100.. so guys be prepare to buy 18 watts charger . Finally I am an android user, it was my first Iapple phone, I promise u guys the iOS is so smooth.. overall the phone is damn good.... close eyes to buy it.. thanks t...\\nREAD MORE',\n",
       " 'Totally in love with this ❤ the camera quality is amazing just love it 😘😘😘 itsss dammnnnnnn amazing... Must buy iPhone 11 this is my best experience ever ☀👌👌🧡🧡🧡🧡🧡 thanku apple ❤',\n",
       " 'Really worth of money. i just love it. It is the best phone ever.']"
      ]
     },
     "execution_count": 146,
     "metadata": {},
     "output_type": "execute_result"
    }
   ],
   "source": [
    "for i in full_tags7:\n",
    "    title=i.text\n",
    "    full_review7.append(title)\n",
    "full_review7"
   ]
  },
  {
   "cell_type": "markdown",
   "id": "91bafb7a",
   "metadata": {},
   "source": [
    "NEXT PAGE:-8\n"
   ]
  },
  {
   "cell_type": "code",
   "execution_count": 147,
   "id": "28b3ffcd",
   "metadata": {},
   "outputs": [],
   "source": [
    "nxt_button8 = driver.find_element_by_xpath(\"//a[@class='_1LKTO3']\")\n",
    "nxt_button8.click()"
   ]
  },
  {
   "cell_type": "code",
   "execution_count": 148,
   "id": "59529a48",
   "metadata": {},
   "outputs": [],
   "source": [
    "Rating8 =[]\n",
    "Review8 = []\n",
    "full_review8 = []"
   ]
  },
  {
   "cell_type": "code",
   "execution_count": 149,
   "id": "0a3d70fd",
   "metadata": {},
   "outputs": [
    {
     "data": {
      "text/plain": [
       "[<selenium.webdriver.remote.webelement.WebElement (session=\"ea81fb873e3bd412c591a0761cb6ea86\", element=\"7b3f9db2-0f1a-4772-a66c-c041a5767c45\")>,\n",
       " <selenium.webdriver.remote.webelement.WebElement (session=\"ea81fb873e3bd412c591a0761cb6ea86\", element=\"3e3c2fc6-54c4-478a-8e0b-5c224d2124dc\")>,\n",
       " <selenium.webdriver.remote.webelement.WebElement (session=\"ea81fb873e3bd412c591a0761cb6ea86\", element=\"334d1fec-893b-42c2-bfd6-4133fa03f2ae\")>,\n",
       " <selenium.webdriver.remote.webelement.WebElement (session=\"ea81fb873e3bd412c591a0761cb6ea86\", element=\"209cce83-d880-492d-906b-0e05d0afea71\")>,\n",
       " <selenium.webdriver.remote.webelement.WebElement (session=\"ea81fb873e3bd412c591a0761cb6ea86\", element=\"3515c3e0-c9b0-49fc-b7f8-bb0f162eb14f\")>,\n",
       " <selenium.webdriver.remote.webelement.WebElement (session=\"ea81fb873e3bd412c591a0761cb6ea86\", element=\"31480643-56e7-405d-92f9-75b14c22f59a\")>,\n",
       " <selenium.webdriver.remote.webelement.WebElement (session=\"ea81fb873e3bd412c591a0761cb6ea86\", element=\"ffbc5793-d862-4871-a5bf-7ffb5dec8277\")>,\n",
       " <selenium.webdriver.remote.webelement.WebElement (session=\"ea81fb873e3bd412c591a0761cb6ea86\", element=\"dc8b07a2-5764-47b7-908d-f923c71ae62a\")>,\n",
       " <selenium.webdriver.remote.webelement.WebElement (session=\"ea81fb873e3bd412c591a0761cb6ea86\", element=\"eea056c5-4d46-48d8-b191-fc3a9e48322e\")>,\n",
       " <selenium.webdriver.remote.webelement.WebElement (session=\"ea81fb873e3bd412c591a0761cb6ea86\", element=\"5bb18193-b496-4f1d-adf0-ea832492f983\")>]"
      ]
     },
     "execution_count": 149,
     "metadata": {},
     "output_type": "execute_result"
    }
   ],
   "source": [
    "rating_tags8 = driver.find_elements_by_xpath(\"//div[@class='_3LWZlK _1BLPMq']\")\n",
    "rating_tags8"
   ]
  },
  {
   "cell_type": "code",
   "execution_count": 163,
   "id": "bf21132e",
   "metadata": {
    "scrolled": true
   },
   "outputs": [
    {
     "name": "stdout",
     "output_type": "stream",
     "text": [
      "error\n"
     ]
    },
    {
     "data": {
      "text/plain": [
       "[]"
      ]
     },
     "execution_count": 163,
     "metadata": {},
     "output_type": "execute_result"
    }
   ],
   "source": [
    "try:\n",
    "    for i in rating_tags8:\n",
    "        title=i.text\n",
    "        print(title)\n",
    "        Rating8.append(title)\n",
    "except:\n",
    "    print('error')\n",
    "Rating8"
   ]
  },
  {
   "cell_type": "code",
   "execution_count": 164,
   "id": "24b7e44a",
   "metadata": {},
   "outputs": [
    {
     "data": {
      "text/plain": [
       "[<selenium.webdriver.remote.webelement.WebElement (session=\"ea81fb873e3bd412c591a0761cb6ea86\", element=\"79d07f8c-9468-463a-b87f-c9a1eeabd112\")>,\n",
       " <selenium.webdriver.remote.webelement.WebElement (session=\"ea81fb873e3bd412c591a0761cb6ea86\", element=\"fb712e4c-86c9-4eb9-86be-8310d0fc2d82\")>,\n",
       " <selenium.webdriver.remote.webelement.WebElement (session=\"ea81fb873e3bd412c591a0761cb6ea86\", element=\"5c11e739-3580-458d-a935-1cede37cec00\")>,\n",
       " <selenium.webdriver.remote.webelement.WebElement (session=\"ea81fb873e3bd412c591a0761cb6ea86\", element=\"37cf3caa-a0b8-4020-8a24-8cdc7c67740f\")>,\n",
       " <selenium.webdriver.remote.webelement.WebElement (session=\"ea81fb873e3bd412c591a0761cb6ea86\", element=\"ac891e98-7c44-440e-b191-4026af2b2cfa\")>,\n",
       " <selenium.webdriver.remote.webelement.WebElement (session=\"ea81fb873e3bd412c591a0761cb6ea86\", element=\"fd71907b-48d9-4abe-a494-6ac28b0476d2\")>,\n",
       " <selenium.webdriver.remote.webelement.WebElement (session=\"ea81fb873e3bd412c591a0761cb6ea86\", element=\"19b1a26d-7db8-4d42-ae87-39e905304057\")>,\n",
       " <selenium.webdriver.remote.webelement.WebElement (session=\"ea81fb873e3bd412c591a0761cb6ea86\", element=\"6ec76960-b893-4582-bea6-ce8fc3de1302\")>,\n",
       " <selenium.webdriver.remote.webelement.WebElement (session=\"ea81fb873e3bd412c591a0761cb6ea86\", element=\"9b95a0b6-f03c-4a8e-aa13-04d98c894102\")>,\n",
       " <selenium.webdriver.remote.webelement.WebElement (session=\"ea81fb873e3bd412c591a0761cb6ea86\", element=\"a7395b3a-ffd0-4622-b552-3ee9e885baef\")>]"
      ]
     },
     "execution_count": 164,
     "metadata": {},
     "output_type": "execute_result"
    }
   ],
   "source": [
    "review_tags8 = driver.find_elements_by_xpath(\"//p[@class='_2-N8zT']\")\n",
    "review_tags8"
   ]
  },
  {
   "cell_type": "code",
   "execution_count": 165,
   "id": "04f5bd62",
   "metadata": {},
   "outputs": [
    {
     "data": {
      "text/plain": [
       "['Brilliant',\n",
       " 'Simply awesome',\n",
       " 'Best in the market!',\n",
       " 'Perfect product!',\n",
       " 'Fabulous!',\n",
       " 'Worth every penny',\n",
       " 'Great product',\n",
       " 'Good choice',\n",
       " 'Worth every penny',\n",
       " 'Highly recommended',\n",
       " 'Brilliant',\n",
       " 'Simply awesome',\n",
       " 'Best in the market!',\n",
       " 'Perfect product!',\n",
       " 'Fabulous!',\n",
       " 'Worth every penny',\n",
       " 'Great product',\n",
       " 'Good choice',\n",
       " 'Worth every penny',\n",
       " 'Highly recommended',\n",
       " 'Brilliant',\n",
       " 'Simply awesome',\n",
       " 'Best in the market!',\n",
       " 'Perfect product!',\n",
       " 'Fabulous!',\n",
       " 'Worth every penny',\n",
       " 'Great product',\n",
       " 'Good choice',\n",
       " 'Worth every penny',\n",
       " 'Highly recommended']"
      ]
     },
     "execution_count": 165,
     "metadata": {},
     "output_type": "execute_result"
    }
   ],
   "source": [
    "for i in review_tags8:\n",
    "    title=i.text\n",
    "    Review8.append(title)\n",
    "Review8"
   ]
  },
  {
   "cell_type": "code",
   "execution_count": 166,
   "id": "50cf4e75",
   "metadata": {},
   "outputs": [
    {
     "data": {
      "text/plain": [
       "[<selenium.webdriver.remote.webelement.WebElement (session=\"ea81fb873e3bd412c591a0761cb6ea86\", element=\"ef820cee-e11e-4c6b-8060-b11da6e16e8d\")>,\n",
       " <selenium.webdriver.remote.webelement.WebElement (session=\"ea81fb873e3bd412c591a0761cb6ea86\", element=\"77b508f5-3acc-41e6-aa20-0b555053351a\")>,\n",
       " <selenium.webdriver.remote.webelement.WebElement (session=\"ea81fb873e3bd412c591a0761cb6ea86\", element=\"f138dd47-c6e3-4b23-bd98-53437b4d0eb7\")>,\n",
       " <selenium.webdriver.remote.webelement.WebElement (session=\"ea81fb873e3bd412c591a0761cb6ea86\", element=\"1c34893c-1a25-439e-8cff-2379ca908284\")>,\n",
       " <selenium.webdriver.remote.webelement.WebElement (session=\"ea81fb873e3bd412c591a0761cb6ea86\", element=\"2c242a45-2fb4-41b1-a4ca-8c7d41f19aff\")>,\n",
       " <selenium.webdriver.remote.webelement.WebElement (session=\"ea81fb873e3bd412c591a0761cb6ea86\", element=\"4c7bf483-9bf5-4387-a986-bb35a042f740\")>,\n",
       " <selenium.webdriver.remote.webelement.WebElement (session=\"ea81fb873e3bd412c591a0761cb6ea86\", element=\"b5ea0ce6-10ce-449f-80c8-6342377172ca\")>,\n",
       " <selenium.webdriver.remote.webelement.WebElement (session=\"ea81fb873e3bd412c591a0761cb6ea86\", element=\"11bdb4ef-b2ce-4f8a-8a42-b0b913f849a6\")>,\n",
       " <selenium.webdriver.remote.webelement.WebElement (session=\"ea81fb873e3bd412c591a0761cb6ea86\", element=\"79a7e301-298d-424f-b6cd-b726cde4eb99\")>,\n",
       " <selenium.webdriver.remote.webelement.WebElement (session=\"ea81fb873e3bd412c591a0761cb6ea86\", element=\"24e7fc08-a351-41eb-9150-2746864ab2ad\")>]"
      ]
     },
     "execution_count": 166,
     "metadata": {},
     "output_type": "execute_result"
    }
   ],
   "source": [
    "full_tags8 =driver.find_elements_by_xpath(\"//div[@class='t-ZTKy']\")\n",
    "full_tags8"
   ]
  },
  {
   "cell_type": "code",
   "execution_count": 167,
   "id": "985f079a",
   "metadata": {},
   "outputs": [
    {
     "data": {
      "text/plain": [
       "['The Best Phone for the Money\\n\\nThe iPhone 11 offers superb cameras, a more durable design and excellent battery life for an affordable price.\\n\\nCompelling ultra-wide camera\\nNew Night mode is excellent\\nLong battery life',\n",
       " 'Really satisfied with the Product I received... It’s totally genuine and the packaging was also really good so if ur planning to buy just go for it.',\n",
       " 'Great iPhone very snappy experience as apple kind. Upgraded from iPhone 7.\\nPros\\n-Camera top class\\n- Battery top performed\\n-Chipset no need to say as apple kind\\n-Security as you expect from apple\\n- Display super bright industry leading colour\\naccuracy and super responsive\\n-Build quality as expect from apple sturdy\\npremium durable beautiful stylish.\\n-Os most stable os in smartphone industry\\n\\nCons\\n-No 5G\\n-Display is not based on OLED technology\\n-Charger headphones and 1 apple stic...\\nREAD MORE',\n",
       " 'Amazing phone with great cameras and better battery which gives you the best performance. I just love the camera .',\n",
       " 'This is my first iOS phone. I am very happy with this product. Very much satisfied with this. I love this phone.',\n",
       " 'Previously I was using one plus 3t it was a great phone\\nAnd then I decided to upgrade I am stuck between Samsung s10 plus or iPhone 11\\nI have seen the specs and everything were good except the display it’s somewhere between 720-1080 and it’s not even an amoled it’s an LCD display\\nBut I decided to go with iPhone because I have never used an IOS device I have Been an android user from the past 9 years I ordered IPhone 11 (128gb) product red\\nMy experience after using 3 weeks\\n1. The delivery ...\\nREAD MORE',\n",
       " 'Amazing Powerful and Durable Gadget.\\n\\nI’m am very happy with the camera picture quality, Amazing face id unlocked in dark room, Strong battery with perfect screen size as you can carry easily in pocket. This is my third iPhone.\\n\\nI shifted from android Samsung Note series to iPhone because of the strong build quality and peace of mind for next 3-4 years.\\n\\nDon’t think to much just go for it and I suggest you to go for minimum 128gb variant or more 256gb.\\n\\nI’ve attached my puppy pics and no fi...\\nREAD MORE',\n",
       " 'So far it’s been an AMAZING experience coming back to iOS after nearly a decade but it’s not as versatile as android though phone is sturdy dropped it accidentally a couple of times and nothing happened fortunately camera is awesome',\n",
       " 'i11 is worthy to buy, too much happy with the product. Thank u flipkart I received the item on time..loved it..',\n",
       " 'What a camera .....just awesome ..you can feel this iPhone just awesome . Good for gaming also ...try pubg in hd it’s just wow',\n",
       " 'The Best Phone for the Money\\n\\nThe iPhone 11 offers superb cameras, a more durable design and excellent battery life for an affordable price.\\n\\nCompelling ultra-wide camera\\nNew Night mode is excellent\\nLong battery life',\n",
       " 'Really satisfied with the Product I received... It’s totally genuine and the packaging was also really good so if ur planning to buy just go for it.',\n",
       " 'Great iPhone very snappy experience as apple kind. Upgraded from iPhone 7.\\nPros\\n-Camera top class\\n- Battery top performed\\n-Chipset no need to say as apple kind\\n-Security as you expect from apple\\n- Display super bright industry leading colour\\naccuracy and super responsive\\n-Build quality as expect from apple sturdy\\npremium durable beautiful stylish.\\n-Os most stable os in smartphone industry\\n\\nCons\\n-No 5G\\n-Display is not based on OLED technology\\n-Charger headphones and 1 apple stic...\\nREAD MORE',\n",
       " 'Amazing phone with great cameras and better battery which gives you the best performance. I just love the camera .',\n",
       " 'This is my first iOS phone. I am very happy with this product. Very much satisfied with this. I love this phone.',\n",
       " 'Previously I was using one plus 3t it was a great phone\\nAnd then I decided to upgrade I am stuck between Samsung s10 plus or iPhone 11\\nI have seen the specs and everything were good except the display it’s somewhere between 720-1080 and it’s not even an amoled it’s an LCD display\\nBut I decided to go with iPhone because I have never used an IOS device I have Been an android user from the past 9 years I ordered IPhone 11 (128gb) product red\\nMy experience after using 3 weeks\\n1. The delivery ...\\nREAD MORE',\n",
       " 'Amazing Powerful and Durable Gadget.\\n\\nI’m am very happy with the camera picture quality, Amazing face id unlocked in dark room, Strong battery with perfect screen size as you can carry easily in pocket. This is my third iPhone.\\n\\nI shifted from android Samsung Note series to iPhone because of the strong build quality and peace of mind for next 3-4 years.\\n\\nDon’t think to much just go for it and I suggest you to go for minimum 128gb variant or more 256gb.\\n\\nI’ve attached my puppy pics and no fi...\\nREAD MORE',\n",
       " 'So far it’s been an AMAZING experience coming back to iOS after nearly a decade but it’s not as versatile as android though phone is sturdy dropped it accidentally a couple of times and nothing happened fortunately camera is awesome',\n",
       " 'i11 is worthy to buy, too much happy with the product. Thank u flipkart I received the item on time..loved it..',\n",
       " 'What a camera .....just awesome ..you can feel this iPhone just awesome . Good for gaming also ...try pubg in hd it’s just wow']"
      ]
     },
     "execution_count": 167,
     "metadata": {},
     "output_type": "execute_result"
    }
   ],
   "source": [
    "for i in full_tags8:\n",
    "    title=i.text\n",
    "    full_review8.append(title)\n",
    "full_review8"
   ]
  },
  {
   "cell_type": "code",
   "execution_count": 168,
   "id": "59eb0f6d",
   "metadata": {},
   "outputs": [
    {
     "name": "stdout",
     "output_type": "stream",
     "text": [
      "0 30 20\n"
     ]
    }
   ],
   "source": [
    "print(len(Rating8),len(Review8),len(full_review8))"
   ]
  },
  {
   "cell_type": "markdown",
   "id": "71a3ed49",
   "metadata": {},
   "source": [
    "NEXT PAGE:-9\n"
   ]
  },
  {
   "cell_type": "code",
   "execution_count": 169,
   "id": "f919a018",
   "metadata": {},
   "outputs": [],
   "source": [
    "nxt_button9 = driver.find_element_by_xpath(\"//a[@class='_1LKTO3']\")\n",
    "nxt_button9.click()"
   ]
  },
  {
   "cell_type": "code",
   "execution_count": 170,
   "id": "d2b2beb6",
   "metadata": {},
   "outputs": [],
   "source": [
    "Rating9 =[]\n",
    "Review9 = []\n",
    "full_review9 = []"
   ]
  },
  {
   "cell_type": "code",
   "execution_count": 171,
   "id": "c9834040",
   "metadata": {},
   "outputs": [
    {
     "data": {
      "text/plain": [
       "[<selenium.webdriver.remote.webelement.WebElement (session=\"ea81fb873e3bd412c591a0761cb6ea86\", element=\"0d49d7c4-0504-4275-b461-1815232ede61\")>,\n",
       " <selenium.webdriver.remote.webelement.WebElement (session=\"ea81fb873e3bd412c591a0761cb6ea86\", element=\"07609dcd-6e45-4b41-886b-ac2c2e449531\")>,\n",
       " <selenium.webdriver.remote.webelement.WebElement (session=\"ea81fb873e3bd412c591a0761cb6ea86\", element=\"1ef03b46-c82f-4ad5-acde-728636dbfd26\")>,\n",
       " <selenium.webdriver.remote.webelement.WebElement (session=\"ea81fb873e3bd412c591a0761cb6ea86\", element=\"bcbbdd4f-9fef-45da-8271-079d96ac5d81\")>,\n",
       " <selenium.webdriver.remote.webelement.WebElement (session=\"ea81fb873e3bd412c591a0761cb6ea86\", element=\"ca107481-dbe1-4784-8945-2c1e1314c6d5\")>,\n",
       " <selenium.webdriver.remote.webelement.WebElement (session=\"ea81fb873e3bd412c591a0761cb6ea86\", element=\"7aec890c-4bdf-49a5-8bb5-c2606eb038cf\")>,\n",
       " <selenium.webdriver.remote.webelement.WebElement (session=\"ea81fb873e3bd412c591a0761cb6ea86\", element=\"d759352d-a635-49a4-a1e0-e539b408fad8\")>,\n",
       " <selenium.webdriver.remote.webelement.WebElement (session=\"ea81fb873e3bd412c591a0761cb6ea86\", element=\"7ac845b0-da1e-49de-b34b-1e58193de055\")>,\n",
       " <selenium.webdriver.remote.webelement.WebElement (session=\"ea81fb873e3bd412c591a0761cb6ea86\", element=\"c3061ff2-367b-4630-8eac-02c1a1a37742\")>,\n",
       " <selenium.webdriver.remote.webelement.WebElement (session=\"ea81fb873e3bd412c591a0761cb6ea86\", element=\"41134679-dce1-49e9-b22c-55319061ef1e\")>]"
      ]
     },
     "execution_count": 171,
     "metadata": {},
     "output_type": "execute_result"
    }
   ],
   "source": [
    "rating_tags9 = driver.find_elements_by_xpath(\"//div[@class='_3LWZlK _1BLPMq']\")\n",
    "rating_tags9"
   ]
  },
  {
   "cell_type": "code",
   "execution_count": 172,
   "id": "f30213be",
   "metadata": {},
   "outputs": [
    {
     "data": {
      "text/plain": [
       "['5', '5', '5', '5', '5', '5', '5', '4', '5', '5']"
      ]
     },
     "execution_count": 172,
     "metadata": {},
     "output_type": "execute_result"
    }
   ],
   "source": [
    "for i in rating_tags9:\n",
    "    title=i.text\n",
    "    Rating9.append(title)\n",
    "Rating9"
   ]
  },
  {
   "cell_type": "code",
   "execution_count": 173,
   "id": "5d39cc04",
   "metadata": {},
   "outputs": [
    {
     "data": {
      "text/plain": [
       "[<selenium.webdriver.remote.webelement.WebElement (session=\"ea81fb873e3bd412c591a0761cb6ea86\", element=\"79d07f8c-9468-463a-b87f-c9a1eeabd112\")>,\n",
       " <selenium.webdriver.remote.webelement.WebElement (session=\"ea81fb873e3bd412c591a0761cb6ea86\", element=\"fb712e4c-86c9-4eb9-86be-8310d0fc2d82\")>,\n",
       " <selenium.webdriver.remote.webelement.WebElement (session=\"ea81fb873e3bd412c591a0761cb6ea86\", element=\"5c11e739-3580-458d-a935-1cede37cec00\")>,\n",
       " <selenium.webdriver.remote.webelement.WebElement (session=\"ea81fb873e3bd412c591a0761cb6ea86\", element=\"37cf3caa-a0b8-4020-8a24-8cdc7c67740f\")>,\n",
       " <selenium.webdriver.remote.webelement.WebElement (session=\"ea81fb873e3bd412c591a0761cb6ea86\", element=\"ac891e98-7c44-440e-b191-4026af2b2cfa\")>,\n",
       " <selenium.webdriver.remote.webelement.WebElement (session=\"ea81fb873e3bd412c591a0761cb6ea86\", element=\"fd71907b-48d9-4abe-a494-6ac28b0476d2\")>,\n",
       " <selenium.webdriver.remote.webelement.WebElement (session=\"ea81fb873e3bd412c591a0761cb6ea86\", element=\"19b1a26d-7db8-4d42-ae87-39e905304057\")>,\n",
       " <selenium.webdriver.remote.webelement.WebElement (session=\"ea81fb873e3bd412c591a0761cb6ea86\", element=\"6ec76960-b893-4582-bea6-ce8fc3de1302\")>,\n",
       " <selenium.webdriver.remote.webelement.WebElement (session=\"ea81fb873e3bd412c591a0761cb6ea86\", element=\"9b95a0b6-f03c-4a8e-aa13-04d98c894102\")>,\n",
       " <selenium.webdriver.remote.webelement.WebElement (session=\"ea81fb873e3bd412c591a0761cb6ea86\", element=\"a7395b3a-ffd0-4622-b552-3ee9e885baef\")>]"
      ]
     },
     "execution_count": 173,
     "metadata": {},
     "output_type": "execute_result"
    }
   ],
   "source": [
    "review_tags9 = driver.find_elements_by_xpath(\"//p[@class='_2-N8zT']\")\n",
    "review_tags9"
   ]
  },
  {
   "cell_type": "code",
   "execution_count": 174,
   "id": "de694e18",
   "metadata": {},
   "outputs": [
    {
     "data": {
      "text/plain": [
       "['Brilliant',\n",
       " 'Simply awesome',\n",
       " 'Best in the market!',\n",
       " 'Perfect product!',\n",
       " 'Fabulous!',\n",
       " 'Worth every penny',\n",
       " 'Great product',\n",
       " 'Good choice',\n",
       " 'Worth every penny',\n",
       " 'Highly recommended']"
      ]
     },
     "execution_count": 174,
     "metadata": {},
     "output_type": "execute_result"
    }
   ],
   "source": [
    "for i in review_tags9:\n",
    "    title=i.text\n",
    "    Review9.append(title)\n",
    "Review9"
   ]
  },
  {
   "cell_type": "code",
   "execution_count": 175,
   "id": "3dc64bae",
   "metadata": {},
   "outputs": [
    {
     "data": {
      "text/plain": [
       "[<selenium.webdriver.remote.webelement.WebElement (session=\"ea81fb873e3bd412c591a0761cb6ea86\", element=\"ef820cee-e11e-4c6b-8060-b11da6e16e8d\")>,\n",
       " <selenium.webdriver.remote.webelement.WebElement (session=\"ea81fb873e3bd412c591a0761cb6ea86\", element=\"77b508f5-3acc-41e6-aa20-0b555053351a\")>,\n",
       " <selenium.webdriver.remote.webelement.WebElement (session=\"ea81fb873e3bd412c591a0761cb6ea86\", element=\"f138dd47-c6e3-4b23-bd98-53437b4d0eb7\")>,\n",
       " <selenium.webdriver.remote.webelement.WebElement (session=\"ea81fb873e3bd412c591a0761cb6ea86\", element=\"1c34893c-1a25-439e-8cff-2379ca908284\")>,\n",
       " <selenium.webdriver.remote.webelement.WebElement (session=\"ea81fb873e3bd412c591a0761cb6ea86\", element=\"2c242a45-2fb4-41b1-a4ca-8c7d41f19aff\")>,\n",
       " <selenium.webdriver.remote.webelement.WebElement (session=\"ea81fb873e3bd412c591a0761cb6ea86\", element=\"4c7bf483-9bf5-4387-a986-bb35a042f740\")>,\n",
       " <selenium.webdriver.remote.webelement.WebElement (session=\"ea81fb873e3bd412c591a0761cb6ea86\", element=\"b5ea0ce6-10ce-449f-80c8-6342377172ca\")>,\n",
       " <selenium.webdriver.remote.webelement.WebElement (session=\"ea81fb873e3bd412c591a0761cb6ea86\", element=\"11bdb4ef-b2ce-4f8a-8a42-b0b913f849a6\")>,\n",
       " <selenium.webdriver.remote.webelement.WebElement (session=\"ea81fb873e3bd412c591a0761cb6ea86\", element=\"79a7e301-298d-424f-b6cd-b726cde4eb99\")>,\n",
       " <selenium.webdriver.remote.webelement.WebElement (session=\"ea81fb873e3bd412c591a0761cb6ea86\", element=\"24e7fc08-a351-41eb-9150-2746864ab2ad\")>]"
      ]
     },
     "execution_count": 175,
     "metadata": {},
     "output_type": "execute_result"
    }
   ],
   "source": [
    "full_tags9 =driver.find_elements_by_xpath(\"//div[@class='t-ZTKy']\")\n",
    "full_tags9"
   ]
  },
  {
   "cell_type": "code",
   "execution_count": 176,
   "id": "b7662f9d",
   "metadata": {},
   "outputs": [
    {
     "data": {
      "text/plain": [
       "['The Best Phone for the Money\\n\\nThe iPhone 11 offers superb cameras, a more durable design and excellent battery life for an affordable price.\\n\\nCompelling ultra-wide camera\\nNew Night mode is excellent\\nLong battery life',\n",
       " 'Really satisfied with the Product I received... It’s totally genuine and the packaging was also really good so if ur planning to buy just go for it.',\n",
       " 'Great iPhone very snappy experience as apple kind. Upgraded from iPhone 7.\\nPros\\n-Camera top class\\n- Battery top performed\\n-Chipset no need to say as apple kind\\n-Security as you expect from apple\\n- Display super bright industry leading colour\\naccuracy and super responsive\\n-Build quality as expect from apple sturdy\\npremium durable beautiful stylish.\\n-Os most stable os in smartphone industry\\n\\nCons\\n-No 5G\\n-Display is not based on OLED technology\\n-Charger headphones and 1 apple stic...\\nREAD MORE',\n",
       " 'Amazing phone with great cameras and better battery which gives you the best performance. I just love the camera .',\n",
       " 'This is my first iOS phone. I am very happy with this product. Very much satisfied with this. I love this phone.',\n",
       " 'Previously I was using one plus 3t it was a great phone\\nAnd then I decided to upgrade I am stuck between Samsung s10 plus or iPhone 11\\nI have seen the specs and everything were good except the display it’s somewhere between 720-1080 and it’s not even an amoled it’s an LCD display\\nBut I decided to go with iPhone because I have never used an IOS device I have Been an android user from the past 9 years I ordered IPhone 11 (128gb) product red\\nMy experience after using 3 weeks\\n1. The delivery ...\\nREAD MORE',\n",
       " 'Amazing Powerful and Durable Gadget.\\n\\nI’m am very happy with the camera picture quality, Amazing face id unlocked in dark room, Strong battery with perfect screen size as you can carry easily in pocket. This is my third iPhone.\\n\\nI shifted from android Samsung Note series to iPhone because of the strong build quality and peace of mind for next 3-4 years.\\n\\nDon’t think to much just go for it and I suggest you to go for minimum 128gb variant or more 256gb.\\n\\nI’ve attached my puppy pics and no fi...\\nREAD MORE',\n",
       " 'So far it’s been an AMAZING experience coming back to iOS after nearly a decade but it’s not as versatile as android though phone is sturdy dropped it accidentally a couple of times and nothing happened fortunately camera is awesome',\n",
       " 'i11 is worthy to buy, too much happy with the product. Thank u flipkart I received the item on time..loved it..',\n",
       " 'What a camera .....just awesome ..you can feel this iPhone just awesome . Good for gaming also ...try pubg in hd it’s just wow']"
      ]
     },
     "execution_count": 176,
     "metadata": {},
     "output_type": "execute_result"
    }
   ],
   "source": [
    "for i in full_tags9:\n",
    "    title=i.text\n",
    "    full_review9.append(title)\n",
    "full_review9"
   ]
  },
  {
   "cell_type": "code",
   "execution_count": 177,
   "id": "146c08c3",
   "metadata": {},
   "outputs": [
    {
     "name": "stdout",
     "output_type": "stream",
     "text": [
      "10 10 10\n"
     ]
    }
   ],
   "source": [
    "print(len(Rating9),len(Review9),len(full_review9))"
   ]
  },
  {
   "cell_type": "markdown",
   "id": "fdd473fe",
   "metadata": {},
   "source": [
    "###### NOW JOINING ALL LIST:\n"
   ]
  },
  {
   "cell_type": "code",
   "execution_count": 178,
   "id": "c4549931",
   "metadata": {},
   "outputs": [],
   "source": [
    "RATINGS = Rating+Rating1+Rating2+Rating4+Rating5+Rating6+Rating7+Rating8+Rating9\n",
    "REVIEW = Review+Review1+Review2+Review4+Review5+Review6+Review7+Review8+Review9\n",
    "FULL_REVIEW = full_review+full_review1+full_review2+full_review4+full_review5+full_review6+full_review7+full_review8+full_review9"
   ]
  },
  {
   "cell_type": "code",
   "execution_count": 181,
   "id": "77a72a75",
   "metadata": {},
   "outputs": [
    {
     "name": "stdout",
     "output_type": "stream",
     "text": [
      "80 110 90\n"
     ]
    }
   ],
   "source": [
    "print(len(RATINGS),len(REVIEW),len(FULL_REVIEW))\n",
    "RATINGS = RATINGS[:80]\n",
    "REVIEW = REVIEW[:80]\n",
    "FULL_REVIEW = FULL_REVIEW[:80]\n"
   ]
  },
  {
   "cell_type": "markdown",
   "id": "941d8174",
   "metadata": {},
   "source": [
    "CREATING DATAFRAME:\n"
   ]
  },
  {
   "cell_type": "code",
   "execution_count": 184,
   "id": "d6adb1f1",
   "metadata": {},
   "outputs": [],
   "source": [
    "review_data = pd.DataFrame({'RATINGS':RATINGS,'REVIEW':REVIEW,'FULL_REVIEW':FULL_REVIEW})"
   ]
  },
  {
   "cell_type": "code",
   "execution_count": 185,
   "id": "e86ae224",
   "metadata": {},
   "outputs": [
    {
     "data": {
      "text/html": [
       "<div>\n",
       "<style scoped>\n",
       "    .dataframe tbody tr th:only-of-type {\n",
       "        vertical-align: middle;\n",
       "    }\n",
       "\n",
       "    .dataframe tbody tr th {\n",
       "        vertical-align: top;\n",
       "    }\n",
       "\n",
       "    .dataframe thead th {\n",
       "        text-align: right;\n",
       "    }\n",
       "</style>\n",
       "<table border=\"1\" class=\"dataframe\">\n",
       "  <thead>\n",
       "    <tr style=\"text-align: right;\">\n",
       "      <th></th>\n",
       "      <th>RATINGS</th>\n",
       "      <th>REVIEW</th>\n",
       "      <th>FULL_REVIEW</th>\n",
       "    </tr>\n",
       "  </thead>\n",
       "  <tbody>\n",
       "    <tr>\n",
       "      <th>0</th>\n",
       "      <td>5</td>\n",
       "      <td>Brilliant</td>\n",
       "      <td>The Best Phone for the Money\\n\\nThe iPhone 11 ...</td>\n",
       "    </tr>\n",
       "    <tr>\n",
       "      <th>1</th>\n",
       "      <td>5</td>\n",
       "      <td>Simply awesome</td>\n",
       "      <td>Really satisfied with the Product I received.....</td>\n",
       "    </tr>\n",
       "    <tr>\n",
       "      <th>2</th>\n",
       "      <td>5</td>\n",
       "      <td>Best in the market!</td>\n",
       "      <td>Great iPhone very snappy experience as apple k...</td>\n",
       "    </tr>\n",
       "    <tr>\n",
       "      <th>3</th>\n",
       "      <td>5</td>\n",
       "      <td>Perfect product!</td>\n",
       "      <td>Amazing phone with great cameras and better ba...</td>\n",
       "    </tr>\n",
       "    <tr>\n",
       "      <th>4</th>\n",
       "      <td>5</td>\n",
       "      <td>Fabulous!</td>\n",
       "      <td>This is my first iOS phone. I am very happy wi...</td>\n",
       "    </tr>\n",
       "    <tr>\n",
       "      <th>...</th>\n",
       "      <td>...</td>\n",
       "      <td>...</td>\n",
       "      <td>...</td>\n",
       "    </tr>\n",
       "    <tr>\n",
       "      <th>75</th>\n",
       "      <td>5</td>\n",
       "      <td>Worth every penny</td>\n",
       "      <td>Previously I was using one plus 3t it was a gr...</td>\n",
       "    </tr>\n",
       "    <tr>\n",
       "      <th>76</th>\n",
       "      <td>5</td>\n",
       "      <td>Great product</td>\n",
       "      <td>Amazing Powerful and Durable Gadget.\\n\\nI’m am...</td>\n",
       "    </tr>\n",
       "    <tr>\n",
       "      <th>77</th>\n",
       "      <td>4</td>\n",
       "      <td>Good choice</td>\n",
       "      <td>So far it’s been an AMAZING experience coming ...</td>\n",
       "    </tr>\n",
       "    <tr>\n",
       "      <th>78</th>\n",
       "      <td>5</td>\n",
       "      <td>Worth every penny</td>\n",
       "      <td>i11 is worthy to buy, too much happy with the ...</td>\n",
       "    </tr>\n",
       "    <tr>\n",
       "      <th>79</th>\n",
       "      <td>5</td>\n",
       "      <td>Highly recommended</td>\n",
       "      <td>What a camera .....just awesome ..you can feel...</td>\n",
       "    </tr>\n",
       "  </tbody>\n",
       "</table>\n",
       "<p>80 rows × 3 columns</p>\n",
       "</div>"
      ],
      "text/plain": [
       "   RATINGS               REVIEW  \\\n",
       "0        5            Brilliant   \n",
       "1        5       Simply awesome   \n",
       "2        5  Best in the market!   \n",
       "3        5     Perfect product!   \n",
       "4        5            Fabulous!   \n",
       "..     ...                  ...   \n",
       "75       5    Worth every penny   \n",
       "76       5        Great product   \n",
       "77       4          Good choice   \n",
       "78       5    Worth every penny   \n",
       "79       5   Highly recommended   \n",
       "\n",
       "                                          FULL_REVIEW  \n",
       "0   The Best Phone for the Money\\n\\nThe iPhone 11 ...  \n",
       "1   Really satisfied with the Product I received.....  \n",
       "2   Great iPhone very snappy experience as apple k...  \n",
       "3   Amazing phone with great cameras and better ba...  \n",
       "4   This is my first iOS phone. I am very happy wi...  \n",
       "..                                                ...  \n",
       "75  Previously I was using one plus 3t it was a gr...  \n",
       "76  Amazing Powerful and Durable Gadget.\\n\\nI’m am...  \n",
       "77  So far it’s been an AMAZING experience coming ...  \n",
       "78  i11 is worthy to buy, too much happy with the ...  \n",
       "79  What a camera .....just awesome ..you can feel...  \n",
       "\n",
       "[80 rows x 3 columns]"
      ]
     },
     "execution_count": 185,
     "metadata": {},
     "output_type": "execute_result"
    }
   ],
   "source": [
    "review_data"
   ]
  },
  {
   "cell_type": "markdown",
   "id": "246f70a8",
   "metadata": {},
   "source": [
    "## 6) Scrape data for first 100 sneakers from flipkart.com"
   ]
  },
  {
   "cell_type": "code",
   "execution_count": 398,
   "id": "71df1b35",
   "metadata": {},
   "outputs": [],
   "source": [
    "driver = webdriver.Chrome(r\"C:\\Users\\Thamizh\\Downloads\\chromedriver_win32 (2)\\chromedriver.exe\")"
   ]
  },
  {
   "cell_type": "code",
   "execution_count": 399,
   "id": "5e857f08",
   "metadata": {},
   "outputs": [],
   "source": [
    "url=(\"https://www.flipkart.com/\")"
   ]
  },
  {
   "cell_type": "code",
   "execution_count": 400,
   "id": "adc70616",
   "metadata": {},
   "outputs": [],
   "source": [
    "driver.get(url)"
   ]
  },
  {
   "cell_type": "code",
   "execution_count": 401,
   "id": "551f1411",
   "metadata": {},
   "outputs": [],
   "source": [
    "search = driver.find_element_by_xpath(\"//input[@class='_3704LK']\")\n",
    "search.send_keys(\"sneakers\")"
   ]
  },
  {
   "cell_type": "code",
   "execution_count": 406,
   "id": "d04cf654",
   "metadata": {},
   "outputs": [],
   "source": [
    "url=(\"https://www.flipkart.com/search?q=sneakers&otracker=search&otracker1=search&marketplace=FLIPKART&as-show=on&as=off\")"
   ]
  },
  {
   "cell_type": "code",
   "execution_count": 407,
   "id": "c6b3f18d",
   "metadata": {},
   "outputs": [],
   "source": [
    "driver.get(url)"
   ]
  },
  {
   "cell_type": "code",
   "execution_count": 408,
   "id": "ceccc9a9",
   "metadata": {},
   "outputs": [],
   "source": [
    "brand1 = []\n",
    "description1 =[]\n",
    "price1 = []\n",
    "discount1 =[]"
   ]
  },
  {
   "cell_type": "markdown",
   "id": "af506544",
   "metadata": {},
   "source": [
    "Now scraping data for each features:\n"
   ]
  },
  {
   "cell_type": "code",
   "execution_count": 409,
   "id": "ed3bfdb1",
   "metadata": {},
   "outputs": [
    {
     "data": {
      "text/plain": [
       "[<selenium.webdriver.remote.webelement.WebElement (session=\"ac4dc1ef0a33909b5d321d2b3645f258\", element=\"fb829de8-e83c-4540-9708-6f7879b2a3af\")>,\n",
       " <selenium.webdriver.remote.webelement.WebElement (session=\"ac4dc1ef0a33909b5d321d2b3645f258\", element=\"29c27273-432c-4301-a023-182bf30d462b\")>,\n",
       " <selenium.webdriver.remote.webelement.WebElement (session=\"ac4dc1ef0a33909b5d321d2b3645f258\", element=\"12758ba0-fe72-4ca8-8ae6-00ea56744ebf\")>,\n",
       " <selenium.webdriver.remote.webelement.WebElement (session=\"ac4dc1ef0a33909b5d321d2b3645f258\", element=\"4f741075-09ac-4c54-8c25-88d5b9b6e060\")>,\n",
       " <selenium.webdriver.remote.webelement.WebElement (session=\"ac4dc1ef0a33909b5d321d2b3645f258\", element=\"8200f68b-9d83-4f19-afd9-91d034af58d1\")>,\n",
       " <selenium.webdriver.remote.webelement.WebElement (session=\"ac4dc1ef0a33909b5d321d2b3645f258\", element=\"0fc007c6-0a39-40a0-ae18-8704a54a38ca\")>,\n",
       " <selenium.webdriver.remote.webelement.WebElement (session=\"ac4dc1ef0a33909b5d321d2b3645f258\", element=\"ed95f969-a4fb-4155-ae94-47359b6958d9\")>,\n",
       " <selenium.webdriver.remote.webelement.WebElement (session=\"ac4dc1ef0a33909b5d321d2b3645f258\", element=\"f5886a4b-e534-45de-96ae-dc972a40dc04\")>,\n",
       " <selenium.webdriver.remote.webelement.WebElement (session=\"ac4dc1ef0a33909b5d321d2b3645f258\", element=\"e08646ce-b778-46a5-a1c7-533c6c86b2e6\")>,\n",
       " <selenium.webdriver.remote.webelement.WebElement (session=\"ac4dc1ef0a33909b5d321d2b3645f258\", element=\"1510845a-6fb6-44b5-ab8b-5a057a1ad875\")>,\n",
       " <selenium.webdriver.remote.webelement.WebElement (session=\"ac4dc1ef0a33909b5d321d2b3645f258\", element=\"da990601-f3b3-4b9f-a4a1-3c99d6f35d14\")>,\n",
       " <selenium.webdriver.remote.webelement.WebElement (session=\"ac4dc1ef0a33909b5d321d2b3645f258\", element=\"796b3924-586f-43c7-87b0-fc81c7cfa370\")>,\n",
       " <selenium.webdriver.remote.webelement.WebElement (session=\"ac4dc1ef0a33909b5d321d2b3645f258\", element=\"a9d68dd8-136d-48b1-b77f-514efbf496c3\")>,\n",
       " <selenium.webdriver.remote.webelement.WebElement (session=\"ac4dc1ef0a33909b5d321d2b3645f258\", element=\"a33114f8-8b1f-44d8-99bb-7b14f3d512f6\")>,\n",
       " <selenium.webdriver.remote.webelement.WebElement (session=\"ac4dc1ef0a33909b5d321d2b3645f258\", element=\"25cedb47-845c-493f-afec-71956a4a6327\")>,\n",
       " <selenium.webdriver.remote.webelement.WebElement (session=\"ac4dc1ef0a33909b5d321d2b3645f258\", element=\"154d8204-0adf-4c5b-94df-5b89aad1955a\")>,\n",
       " <selenium.webdriver.remote.webelement.WebElement (session=\"ac4dc1ef0a33909b5d321d2b3645f258\", element=\"fbc37e80-2a4d-49e9-b3b3-f11bd0c905cd\")>,\n",
       " <selenium.webdriver.remote.webelement.WebElement (session=\"ac4dc1ef0a33909b5d321d2b3645f258\", element=\"b15c4272-3dad-43d5-84d4-5f529b37fb60\")>,\n",
       " <selenium.webdriver.remote.webelement.WebElement (session=\"ac4dc1ef0a33909b5d321d2b3645f258\", element=\"e717182e-850e-47b6-99d1-86a754ec6859\")>,\n",
       " <selenium.webdriver.remote.webelement.WebElement (session=\"ac4dc1ef0a33909b5d321d2b3645f258\", element=\"6df4406f-eb87-46d8-835a-c2511be81a51\")>,\n",
       " <selenium.webdriver.remote.webelement.WebElement (session=\"ac4dc1ef0a33909b5d321d2b3645f258\", element=\"81df8160-0100-4825-a305-027b82ab4f62\")>,\n",
       " <selenium.webdriver.remote.webelement.WebElement (session=\"ac4dc1ef0a33909b5d321d2b3645f258\", element=\"cc42f660-08bf-4fa7-a34c-258bf0583693\")>,\n",
       " <selenium.webdriver.remote.webelement.WebElement (session=\"ac4dc1ef0a33909b5d321d2b3645f258\", element=\"e3e02b51-3af0-4bf8-b094-3ff12970cd0e\")>,\n",
       " <selenium.webdriver.remote.webelement.WebElement (session=\"ac4dc1ef0a33909b5d321d2b3645f258\", element=\"0ed5bf35-459a-4561-aed2-b0716acbc80b\")>,\n",
       " <selenium.webdriver.remote.webelement.WebElement (session=\"ac4dc1ef0a33909b5d321d2b3645f258\", element=\"0bd18660-65ca-4894-9a74-1df92090b9c3\")>,\n",
       " <selenium.webdriver.remote.webelement.WebElement (session=\"ac4dc1ef0a33909b5d321d2b3645f258\", element=\"ffe98fe7-df4e-4f2a-ada0-00ed390dbb67\")>,\n",
       " <selenium.webdriver.remote.webelement.WebElement (session=\"ac4dc1ef0a33909b5d321d2b3645f258\", element=\"0655d623-b6a5-4ef1-9c12-0585805bf257\")>,\n",
       " <selenium.webdriver.remote.webelement.WebElement (session=\"ac4dc1ef0a33909b5d321d2b3645f258\", element=\"a0772f3b-63eb-41e0-9944-2f62ffd17fc3\")>,\n",
       " <selenium.webdriver.remote.webelement.WebElement (session=\"ac4dc1ef0a33909b5d321d2b3645f258\", element=\"319ac1a8-ec36-4a60-868c-83e84949dcbc\")>,\n",
       " <selenium.webdriver.remote.webelement.WebElement (session=\"ac4dc1ef0a33909b5d321d2b3645f258\", element=\"2d1d0026-7b34-49ab-bdca-0e7da1990dcd\")>,\n",
       " <selenium.webdriver.remote.webelement.WebElement (session=\"ac4dc1ef0a33909b5d321d2b3645f258\", element=\"c00eaea8-1116-4bf3-8e66-163569fcdbe0\")>,\n",
       " <selenium.webdriver.remote.webelement.WebElement (session=\"ac4dc1ef0a33909b5d321d2b3645f258\", element=\"5eb98989-cc56-4f97-906f-dc241d9f266d\")>,\n",
       " <selenium.webdriver.remote.webelement.WebElement (session=\"ac4dc1ef0a33909b5d321d2b3645f258\", element=\"f7367b64-3502-48bf-8ea3-7683befdb9ed\")>,\n",
       " <selenium.webdriver.remote.webelement.WebElement (session=\"ac4dc1ef0a33909b5d321d2b3645f258\", element=\"98d26ef8-3ef9-4f58-a505-b9d054a87f6b\")>,\n",
       " <selenium.webdriver.remote.webelement.WebElement (session=\"ac4dc1ef0a33909b5d321d2b3645f258\", element=\"4915109f-be83-4a49-a4a1-534b3d30356b\")>,\n",
       " <selenium.webdriver.remote.webelement.WebElement (session=\"ac4dc1ef0a33909b5d321d2b3645f258\", element=\"b29fd8fa-4d7c-4c27-a173-f4bf57951a2c\")>,\n",
       " <selenium.webdriver.remote.webelement.WebElement (session=\"ac4dc1ef0a33909b5d321d2b3645f258\", element=\"4b368418-ce3a-40d7-855f-fa7730be12eb\")>,\n",
       " <selenium.webdriver.remote.webelement.WebElement (session=\"ac4dc1ef0a33909b5d321d2b3645f258\", element=\"7f2e83b0-82b2-4cd8-9702-c330d8372a91\")>,\n",
       " <selenium.webdriver.remote.webelement.WebElement (session=\"ac4dc1ef0a33909b5d321d2b3645f258\", element=\"52c1fdab-49c9-4d59-bd9b-3e20ad45fede\")>,\n",
       " <selenium.webdriver.remote.webelement.WebElement (session=\"ac4dc1ef0a33909b5d321d2b3645f258\", element=\"6cc533a5-c628-45ff-8b97-c1f6d9d49120\")>]"
      ]
     },
     "execution_count": 409,
     "metadata": {},
     "output_type": "execute_result"
    }
   ],
   "source": [
    "brand_tag = driver.find_elements_by_xpath(\"//div[@class='_2WkVRV']\")\n",
    "brand_tag"
   ]
  },
  {
   "cell_type": "code",
   "execution_count": 410,
   "id": "894f4321",
   "metadata": {},
   "outputs": [
    {
     "data": {
      "text/plain": [
       "['URBANBOX',\n",
       " 'D-SNEAKERZ',\n",
       " 'corsac',\n",
       " 'Chevit',\n",
       " 'aadi',\n",
       " 'World Wear Footwear',\n",
       " 'BRUTON',\n",
       " 'Magnolia',\n",
       " 'World Wear Footwear',\n",
       " 'ASTEROID',\n",
       " 'KWIK FIT',\n",
       " 'Labbin',\n",
       " 'aadi',\n",
       " 'Chevit',\n",
       " 'PUMA',\n",
       " 'World Wear Footwear',\n",
       " 'SCATCHITE',\n",
       " 'ASTEROID',\n",
       " 'Kraasa',\n",
       " 'BIRDE',\n",
       " 'BRUTON',\n",
       " 'D-SNEAKERZ',\n",
       " 'BIRDE',\n",
       " 'Layasa',\n",
       " 'CLYMB',\n",
       " 'Kraasa',\n",
       " 'Airland',\n",
       " 'aadi',\n",
       " 'BRUTON',\n",
       " 'Chevit',\n",
       " 'corsac',\n",
       " 'Chevit',\n",
       " 'World Wear Footwear',\n",
       " 'EZDEZARIO',\n",
       " 'Rzisbo',\n",
       " 'BIRDE',\n",
       " 'Zsyto',\n",
       " 'ZF - ALFIYA',\n",
       " 'WHITE WALKERS',\n",
       " 'Hida']"
      ]
     },
     "execution_count": 410,
     "metadata": {},
     "output_type": "execute_result"
    }
   ],
   "source": [
    "for i in brand_tag:\n",
    "    title=i.text\n",
    "    brand1.append(title)\n",
    "brand1"
   ]
  },
  {
   "cell_type": "code",
   "execution_count": 411,
   "id": "4fe39d86",
   "metadata": {},
   "outputs": [
    {
     "data": {
      "text/plain": [
       "[<selenium.webdriver.remote.webelement.WebElement (session=\"ac4dc1ef0a33909b5d321d2b3645f258\", element=\"c9d65371-f38b-4308-86aa-55592e3192da\")>,\n",
       " <selenium.webdriver.remote.webelement.WebElement (session=\"ac4dc1ef0a33909b5d321d2b3645f258\", element=\"85f43f50-cb8f-4743-b9d5-704ed82122ec\")>,\n",
       " <selenium.webdriver.remote.webelement.WebElement (session=\"ac4dc1ef0a33909b5d321d2b3645f258\", element=\"178f3ecc-4b0d-4d67-aded-d0a848fc86ad\")>,\n",
       " <selenium.webdriver.remote.webelement.WebElement (session=\"ac4dc1ef0a33909b5d321d2b3645f258\", element=\"587ed9cf-854a-47c6-ae36-28d3244301ce\")>,\n",
       " <selenium.webdriver.remote.webelement.WebElement (session=\"ac4dc1ef0a33909b5d321d2b3645f258\", element=\"6320d33e-0ca7-4663-bcd1-ba0f570d9e0f\")>,\n",
       " <selenium.webdriver.remote.webelement.WebElement (session=\"ac4dc1ef0a33909b5d321d2b3645f258\", element=\"a1b80159-3e48-40a7-bd61-82cb838849eb\")>,\n",
       " <selenium.webdriver.remote.webelement.WebElement (session=\"ac4dc1ef0a33909b5d321d2b3645f258\", element=\"f8dee30b-5c13-42c1-a8f0-80cc80b63508\")>,\n",
       " <selenium.webdriver.remote.webelement.WebElement (session=\"ac4dc1ef0a33909b5d321d2b3645f258\", element=\"0ee46033-0a01-413e-9cd5-48684f131037\")>,\n",
       " <selenium.webdriver.remote.webelement.WebElement (session=\"ac4dc1ef0a33909b5d321d2b3645f258\", element=\"39d464d4-c3b1-40af-9036-8f1bb0a665fe\")>,\n",
       " <selenium.webdriver.remote.webelement.WebElement (session=\"ac4dc1ef0a33909b5d321d2b3645f258\", element=\"0f0745c2-4df8-427e-b3b8-1357327b871d\")>,\n",
       " <selenium.webdriver.remote.webelement.WebElement (session=\"ac4dc1ef0a33909b5d321d2b3645f258\", element=\"1d36299a-fd7e-495f-b829-abf4235d67ab\")>,\n",
       " <selenium.webdriver.remote.webelement.WebElement (session=\"ac4dc1ef0a33909b5d321d2b3645f258\", element=\"2560aee3-c0ee-4514-8829-c5d97f7cb829\")>,\n",
       " <selenium.webdriver.remote.webelement.WebElement (session=\"ac4dc1ef0a33909b5d321d2b3645f258\", element=\"ff3f957e-06b4-4007-8bb3-e31f38974e9f\")>,\n",
       " <selenium.webdriver.remote.webelement.WebElement (session=\"ac4dc1ef0a33909b5d321d2b3645f258\", element=\"b9431096-4383-4665-9a99-64c1d4277d3e\")>,\n",
       " <selenium.webdriver.remote.webelement.WebElement (session=\"ac4dc1ef0a33909b5d321d2b3645f258\", element=\"a7da954c-a401-4433-8a99-dd4e13ee99c7\")>,\n",
       " <selenium.webdriver.remote.webelement.WebElement (session=\"ac4dc1ef0a33909b5d321d2b3645f258\", element=\"93145e4c-e14a-42dc-b966-cf1054e9b14e\")>,\n",
       " <selenium.webdriver.remote.webelement.WebElement (session=\"ac4dc1ef0a33909b5d321d2b3645f258\", element=\"ab2c0efc-85fb-40c5-bf64-0b475a738597\")>,\n",
       " <selenium.webdriver.remote.webelement.WebElement (session=\"ac4dc1ef0a33909b5d321d2b3645f258\", element=\"3b67da19-7fb8-4a67-bebe-9a330a516d1e\")>,\n",
       " <selenium.webdriver.remote.webelement.WebElement (session=\"ac4dc1ef0a33909b5d321d2b3645f258\", element=\"15506758-8371-406d-b736-d1549277f086\")>,\n",
       " <selenium.webdriver.remote.webelement.WebElement (session=\"ac4dc1ef0a33909b5d321d2b3645f258\", element=\"7e29a440-dff0-4378-af81-d585b5e4ed3e\")>,\n",
       " <selenium.webdriver.remote.webelement.WebElement (session=\"ac4dc1ef0a33909b5d321d2b3645f258\", element=\"7073099a-8303-4d08-a5cd-269ebe6cac7d\")>,\n",
       " <selenium.webdriver.remote.webelement.WebElement (session=\"ac4dc1ef0a33909b5d321d2b3645f258\", element=\"7247086c-e327-4747-b341-3233c360bce5\")>,\n",
       " <selenium.webdriver.remote.webelement.WebElement (session=\"ac4dc1ef0a33909b5d321d2b3645f258\", element=\"23aff651-dbe6-4270-b65c-a517577eb9e5\")>,\n",
       " <selenium.webdriver.remote.webelement.WebElement (session=\"ac4dc1ef0a33909b5d321d2b3645f258\", element=\"041157ef-abde-45a3-bcc5-45c0474f7abb\")>,\n",
       " <selenium.webdriver.remote.webelement.WebElement (session=\"ac4dc1ef0a33909b5d321d2b3645f258\", element=\"4fdadd15-a36b-403a-95af-ab663411b0de\")>,\n",
       " <selenium.webdriver.remote.webelement.WebElement (session=\"ac4dc1ef0a33909b5d321d2b3645f258\", element=\"0f8df38d-38cb-4321-b3ec-8347c55966f0\")>,\n",
       " <selenium.webdriver.remote.webelement.WebElement (session=\"ac4dc1ef0a33909b5d321d2b3645f258\", element=\"13598e15-168f-4da7-9984-5fa8d8e26508\")>,\n",
       " <selenium.webdriver.remote.webelement.WebElement (session=\"ac4dc1ef0a33909b5d321d2b3645f258\", element=\"b75cdd2f-6165-4197-8fbe-d5750d828756\")>,\n",
       " <selenium.webdriver.remote.webelement.WebElement (session=\"ac4dc1ef0a33909b5d321d2b3645f258\", element=\"54f2f0e3-2aab-45d2-90e2-fa3ebb7db247\")>,\n",
       " <selenium.webdriver.remote.webelement.WebElement (session=\"ac4dc1ef0a33909b5d321d2b3645f258\", element=\"6b7078cc-97f9-4af7-8a04-dff4c1cf0ac9\")>,\n",
       " <selenium.webdriver.remote.webelement.WebElement (session=\"ac4dc1ef0a33909b5d321d2b3645f258\", element=\"e1e6df42-e55d-458e-871f-cb263429a404\")>,\n",
       " <selenium.webdriver.remote.webelement.WebElement (session=\"ac4dc1ef0a33909b5d321d2b3645f258\", element=\"b08c5a5d-feaf-4628-a2e2-fb4664133f9a\")>,\n",
       " <selenium.webdriver.remote.webelement.WebElement (session=\"ac4dc1ef0a33909b5d321d2b3645f258\", element=\"ed342477-3570-48ee-91b4-2fa4f5602dff\")>,\n",
       " <selenium.webdriver.remote.webelement.WebElement (session=\"ac4dc1ef0a33909b5d321d2b3645f258\", element=\"a7dc19e5-fb7a-4cd5-8d90-9eb8338f40bb\")>,\n",
       " <selenium.webdriver.remote.webelement.WebElement (session=\"ac4dc1ef0a33909b5d321d2b3645f258\", element=\"a1385a5f-07ef-49eb-9d54-ed86bbf4d5f9\")>,\n",
       " <selenium.webdriver.remote.webelement.WebElement (session=\"ac4dc1ef0a33909b5d321d2b3645f258\", element=\"c7d269ae-39de-4343-bc7a-edd6276ff844\")>,\n",
       " <selenium.webdriver.remote.webelement.WebElement (session=\"ac4dc1ef0a33909b5d321d2b3645f258\", element=\"c102c0c9-a5ce-488b-a7c7-32c02d49e1f6\")>,\n",
       " <selenium.webdriver.remote.webelement.WebElement (session=\"ac4dc1ef0a33909b5d321d2b3645f258\", element=\"ffc58ba6-987e-490f-ba63-c53638dcce9d\")>,\n",
       " <selenium.webdriver.remote.webelement.WebElement (session=\"ac4dc1ef0a33909b5d321d2b3645f258\", element=\"a3559399-715f-499e-a97f-77ec589642d0\")>,\n",
       " <selenium.webdriver.remote.webelement.WebElement (session=\"ac4dc1ef0a33909b5d321d2b3645f258\", element=\"b3816813-35ef-4d6a-80f7-3eb86a78dbd8\")>]"
      ]
     },
     "execution_count": 411,
     "metadata": {},
     "output_type": "execute_result"
    }
   ],
   "source": [
    "des_tag = driver.find_elements_by_xpath(\"//div[@class='_2B099V']/a[1]\")\n",
    "des_tag[0:40]"
   ]
  },
  {
   "cell_type": "code",
   "execution_count": 412,
   "id": "a04bd520",
   "metadata": {},
   "outputs": [
    {
     "data": {
      "text/plain": [
       "['Sneakers Sneakers For Men',\n",
       " \"Casual , Partywear Sneakers Shoes For Men's And Boys Wh...\",\n",
       " 'STYLISH MENS BLACK SNEAKER Sneakers For Men',\n",
       " '516 Trendy Star Perfect Sneakers For Men',\n",
       " 'Sneakers For Men',\n",
       " '5011-Latest Collection Stylish & Trendy Casual Sneakers...',\n",
       " 'Modern Trendy Sneakers Shoes Sneakers For Men',\n",
       " 'Sneakers For Men',\n",
       " '5013-Latest Collection Stylish & Trendy of casuals Snea...',\n",
       " \"Original Luxury Branded Fashionable Men's Casual Walkin...\",\n",
       " 'Kwik FIT casual sneaker shoes and partywear shoes Casua...',\n",
       " 'Sneakers For Men',\n",
       " 'Sneakers For Men',\n",
       " 'Perfect Combo Pack of 03 Pairs Casual Sneakers Outdoor ...',\n",
       " 'Blend Sneakers For Men',\n",
       " 'Men 5014 Latest Collection Stylish Casual Sports Loafer...',\n",
       " 'Sneakers Sneakers For Men',\n",
       " 'Original Luxury Branded Black Fancy Casual Walking Part...',\n",
       " 'Casuals, Canvas, Partywear Sneakers For Men',\n",
       " 'Stylish Comfortable Lightweight, Breathable Walking Sho...',\n",
       " 'Combo Pack Of 4 Casual Shoes Loafer Shoes Sneakers For ...',\n",
       " \"Casual , Partywear Sneakers Shoes For Men's And Boys Wh...\",\n",
       " 'Sports Running Shoes Sneakers For Men',\n",
       " 'Sneakers For Men',\n",
       " 'Sneakers For Men',\n",
       " 'Series 7 Sneakers For Men',\n",
       " '1259 smart black lace-ups sneakers for men Sneakers For...',\n",
       " 'Sneakers For Men',\n",
       " 'Lightweight Pack Of 1 Trendy Sneakers Sneakers For Men',\n",
       " 'Super Stylish & Trendy Combo Pack of 02 Pairs Sneakers ...',\n",
       " 'STYLISH MENS BLACK TRENDY SNEAKER FOR MENS Sneakers For...',\n",
       " 'Sneakers For Men',\n",
       " 'Latest Collection-1227 Stylish Casual Sports Sneakers F...',\n",
       " 'Shoes in Black Color Party wear/Outdoor/Casual Shoes Fo...',\n",
       " 'Sneakers For Men',\n",
       " 'Stylish Comfortable Lightweight, Breathable Walking Sho...',\n",
       " 'Sneakers For Men',\n",
       " 'Sneakers For Men',\n",
       " 'Stylish & Trending Outdoor Walking Comfortable Sneakers...',\n",
       " 'Sneakers For Men']"
      ]
     },
     "execution_count": 412,
     "metadata": {},
     "output_type": "execute_result"
    }
   ],
   "source": [
    "for i in des_tag:\n",
    "    title=i.text\n",
    "    description1.append(title)\n",
    "description1[0:40]"
   ]
  },
  {
   "cell_type": "code",
   "execution_count": 413,
   "id": "d16d04ca",
   "metadata": {},
   "outputs": [
    {
     "data": {
      "text/plain": [
       "[<selenium.webdriver.remote.webelement.WebElement (session=\"ac4dc1ef0a33909b5d321d2b3645f258\", element=\"154b0d85-4278-4b55-81b6-0664ffe49445\")>,\n",
       " <selenium.webdriver.remote.webelement.WebElement (session=\"ac4dc1ef0a33909b5d321d2b3645f258\", element=\"d09d08eb-bb53-401f-bcdc-26803eb2404a\")>,\n",
       " <selenium.webdriver.remote.webelement.WebElement (session=\"ac4dc1ef0a33909b5d321d2b3645f258\", element=\"e9be4261-42c0-4ac9-9a7c-fd5ebf9d43e7\")>,\n",
       " <selenium.webdriver.remote.webelement.WebElement (session=\"ac4dc1ef0a33909b5d321d2b3645f258\", element=\"0be70a7e-1e3c-41a2-83b5-15855e50a873\")>,\n",
       " <selenium.webdriver.remote.webelement.WebElement (session=\"ac4dc1ef0a33909b5d321d2b3645f258\", element=\"6a0b96e4-588d-41b8-82f6-91113711dd6e\")>,\n",
       " <selenium.webdriver.remote.webelement.WebElement (session=\"ac4dc1ef0a33909b5d321d2b3645f258\", element=\"84113cdb-4166-48df-bacc-98e4c74bd1d3\")>,\n",
       " <selenium.webdriver.remote.webelement.WebElement (session=\"ac4dc1ef0a33909b5d321d2b3645f258\", element=\"705929ab-afee-47b5-b00f-566d1140697b\")>,\n",
       " <selenium.webdriver.remote.webelement.WebElement (session=\"ac4dc1ef0a33909b5d321d2b3645f258\", element=\"72f4fbef-cafa-4a15-9573-0c89f819a6c9\")>,\n",
       " <selenium.webdriver.remote.webelement.WebElement (session=\"ac4dc1ef0a33909b5d321d2b3645f258\", element=\"948ad267-a0bc-4731-b1e5-5ad4ca98958e\")>,\n",
       " <selenium.webdriver.remote.webelement.WebElement (session=\"ac4dc1ef0a33909b5d321d2b3645f258\", element=\"2c8de3f8-6cc8-4337-ac9a-18d380160e94\")>,\n",
       " <selenium.webdriver.remote.webelement.WebElement (session=\"ac4dc1ef0a33909b5d321d2b3645f258\", element=\"a484eb48-a253-4700-aaa1-e5cbe8717eaa\")>,\n",
       " <selenium.webdriver.remote.webelement.WebElement (session=\"ac4dc1ef0a33909b5d321d2b3645f258\", element=\"da238911-c3d8-4f25-b0d5-ae1825738f1c\")>,\n",
       " <selenium.webdriver.remote.webelement.WebElement (session=\"ac4dc1ef0a33909b5d321d2b3645f258\", element=\"7c8a5076-d44c-4074-91fa-c27ac7adec12\")>,\n",
       " <selenium.webdriver.remote.webelement.WebElement (session=\"ac4dc1ef0a33909b5d321d2b3645f258\", element=\"babee83c-a9fa-4794-935f-ed4d407633e6\")>,\n",
       " <selenium.webdriver.remote.webelement.WebElement (session=\"ac4dc1ef0a33909b5d321d2b3645f258\", element=\"62bee487-af3b-4ca1-ad58-1bdda6e588bb\")>,\n",
       " <selenium.webdriver.remote.webelement.WebElement (session=\"ac4dc1ef0a33909b5d321d2b3645f258\", element=\"00d1abd3-01d2-4e0c-97da-2b2990fb3433\")>,\n",
       " <selenium.webdriver.remote.webelement.WebElement (session=\"ac4dc1ef0a33909b5d321d2b3645f258\", element=\"97a54ed2-025a-410f-a467-7f0283dba25c\")>,\n",
       " <selenium.webdriver.remote.webelement.WebElement (session=\"ac4dc1ef0a33909b5d321d2b3645f258\", element=\"7c1dc1a9-a9e9-4ab7-97d4-7fbe7e1ce6bc\")>,\n",
       " <selenium.webdriver.remote.webelement.WebElement (session=\"ac4dc1ef0a33909b5d321d2b3645f258\", element=\"c6ef14c0-c2f8-4b43-b7a8-bbbc1bdbdb13\")>,\n",
       " <selenium.webdriver.remote.webelement.WebElement (session=\"ac4dc1ef0a33909b5d321d2b3645f258\", element=\"9353778f-8555-4c32-9c4f-62336a0420d8\")>,\n",
       " <selenium.webdriver.remote.webelement.WebElement (session=\"ac4dc1ef0a33909b5d321d2b3645f258\", element=\"403aa853-6e11-4cf5-8d70-7ff1ebd483d8\")>,\n",
       " <selenium.webdriver.remote.webelement.WebElement (session=\"ac4dc1ef0a33909b5d321d2b3645f258\", element=\"16428dd7-64af-4e00-aa0f-4f5589381bfa\")>,\n",
       " <selenium.webdriver.remote.webelement.WebElement (session=\"ac4dc1ef0a33909b5d321d2b3645f258\", element=\"db3969cb-6a37-4ef1-a12c-48de112d5336\")>,\n",
       " <selenium.webdriver.remote.webelement.WebElement (session=\"ac4dc1ef0a33909b5d321d2b3645f258\", element=\"9af8d459-20e9-4109-af01-70ba0ac15d00\")>,\n",
       " <selenium.webdriver.remote.webelement.WebElement (session=\"ac4dc1ef0a33909b5d321d2b3645f258\", element=\"a0794291-ef5a-4a83-9b11-2a898e3553cb\")>,\n",
       " <selenium.webdriver.remote.webelement.WebElement (session=\"ac4dc1ef0a33909b5d321d2b3645f258\", element=\"e7f20d86-5707-42ca-b2e8-0d268e2ec800\")>,\n",
       " <selenium.webdriver.remote.webelement.WebElement (session=\"ac4dc1ef0a33909b5d321d2b3645f258\", element=\"5dd23d8c-e1ea-41ff-94d3-d6c1da020d46\")>,\n",
       " <selenium.webdriver.remote.webelement.WebElement (session=\"ac4dc1ef0a33909b5d321d2b3645f258\", element=\"c89418fe-2dd8-413f-8515-495131d19bd2\")>,\n",
       " <selenium.webdriver.remote.webelement.WebElement (session=\"ac4dc1ef0a33909b5d321d2b3645f258\", element=\"209dc01f-c286-4d75-b166-e8803846047e\")>,\n",
       " <selenium.webdriver.remote.webelement.WebElement (session=\"ac4dc1ef0a33909b5d321d2b3645f258\", element=\"6a3e7ff7-c2fd-4613-95fd-1650a7dfd857\")>,\n",
       " <selenium.webdriver.remote.webelement.WebElement (session=\"ac4dc1ef0a33909b5d321d2b3645f258\", element=\"ba592616-e08f-46c9-a60c-c0595a856de8\")>,\n",
       " <selenium.webdriver.remote.webelement.WebElement (session=\"ac4dc1ef0a33909b5d321d2b3645f258\", element=\"95c2f11e-b15a-49df-aa88-d7fefda1f967\")>,\n",
       " <selenium.webdriver.remote.webelement.WebElement (session=\"ac4dc1ef0a33909b5d321d2b3645f258\", element=\"2c45058d-4023-4556-85a8-4a4e312c9ec8\")>,\n",
       " <selenium.webdriver.remote.webelement.WebElement (session=\"ac4dc1ef0a33909b5d321d2b3645f258\", element=\"0ddb3b64-ce9d-43e7-95ac-7735d1741435\")>,\n",
       " <selenium.webdriver.remote.webelement.WebElement (session=\"ac4dc1ef0a33909b5d321d2b3645f258\", element=\"956e69d1-8b55-447c-b1a4-b52a4bfc1ea4\")>,\n",
       " <selenium.webdriver.remote.webelement.WebElement (session=\"ac4dc1ef0a33909b5d321d2b3645f258\", element=\"1e8be1ed-28b8-463e-a730-83cfddfa1a02\")>,\n",
       " <selenium.webdriver.remote.webelement.WebElement (session=\"ac4dc1ef0a33909b5d321d2b3645f258\", element=\"ac3b35b1-a8ca-4faa-9dee-4f9fca27a963\")>,\n",
       " <selenium.webdriver.remote.webelement.WebElement (session=\"ac4dc1ef0a33909b5d321d2b3645f258\", element=\"aef6af15-088a-4e53-a55b-8e5dd5447d27\")>,\n",
       " <selenium.webdriver.remote.webelement.WebElement (session=\"ac4dc1ef0a33909b5d321d2b3645f258\", element=\"9431a002-b7e8-4b8c-a2ac-528b915ecd29\")>,\n",
       " <selenium.webdriver.remote.webelement.WebElement (session=\"ac4dc1ef0a33909b5d321d2b3645f258\", element=\"94f66d63-bac6-41f8-8c03-29024446cc0d\")>]"
      ]
     },
     "execution_count": 413,
     "metadata": {},
     "output_type": "execute_result"
    }
   ],
   "source": [
    "price_tag = driver.find_elements_by_xpath(\"//div[@class='_30jeq3']\")\n",
    "price_tag"
   ]
  },
  {
   "cell_type": "code",
   "execution_count": 414,
   "id": "d7f9bc9c",
   "metadata": {},
   "outputs": [
    {
     "data": {
      "text/plain": [
       "['₹158',\n",
       " '₹249',\n",
       " '₹449',\n",
       " '₹249',\n",
       " '₹269',\n",
       " '₹199',\n",
       " '₹249',\n",
       " '₹422',\n",
       " '₹192',\n",
       " '₹499',\n",
       " '₹349',\n",
       " '₹424',\n",
       " '₹269',\n",
       " '₹565',\n",
       " '₹1,758',\n",
       " '₹199',\n",
       " '₹348',\n",
       " '₹499',\n",
       " '₹421',\n",
       " '₹301',\n",
       " '₹449',\n",
       " '₹384',\n",
       " '₹301',\n",
       " '₹399',\n",
       " '₹599',\n",
       " '₹421',\n",
       " '₹159',\n",
       " '₹269',\n",
       " '₹158',\n",
       " '₹599',\n",
       " '₹499',\n",
       " '₹249',\n",
       " '₹199',\n",
       " '₹349',\n",
       " '₹549',\n",
       " '₹301',\n",
       " '₹298',\n",
       " '₹395',\n",
       " '₹549',\n",
       " '₹599']"
      ]
     },
     "execution_count": 414,
     "metadata": {},
     "output_type": "execute_result"
    }
   ],
   "source": [
    "for i in price_tag:\n",
    "    title=i.text\n",
    "    price1.append(title)\n",
    "price1"
   ]
  },
  {
   "cell_type": "code",
   "execution_count": 415,
   "id": "6e49109f",
   "metadata": {},
   "outputs": [
    {
     "data": {
      "text/plain": [
       "[<selenium.webdriver.remote.webelement.WebElement (session=\"ac4dc1ef0a33909b5d321d2b3645f258\", element=\"88845073-9e8f-4514-8595-8e0961cbdc59\")>,\n",
       " <selenium.webdriver.remote.webelement.WebElement (session=\"ac4dc1ef0a33909b5d321d2b3645f258\", element=\"a992ae9d-dfb5-4375-8ca0-e23d15759fb2\")>,\n",
       " <selenium.webdriver.remote.webelement.WebElement (session=\"ac4dc1ef0a33909b5d321d2b3645f258\", element=\"52935de9-2ca8-4046-b06e-21e7fc578fe4\")>,\n",
       " <selenium.webdriver.remote.webelement.WebElement (session=\"ac4dc1ef0a33909b5d321d2b3645f258\", element=\"bedb64da-4488-4aae-b7e6-9c316d8f1d8d\")>,\n",
       " <selenium.webdriver.remote.webelement.WebElement (session=\"ac4dc1ef0a33909b5d321d2b3645f258\", element=\"de0ec175-d055-4ba1-8b21-423bfa200c5e\")>,\n",
       " <selenium.webdriver.remote.webelement.WebElement (session=\"ac4dc1ef0a33909b5d321d2b3645f258\", element=\"35451eee-b1fa-4469-9a20-75bc3ca814fb\")>,\n",
       " <selenium.webdriver.remote.webelement.WebElement (session=\"ac4dc1ef0a33909b5d321d2b3645f258\", element=\"b78fd57f-ffff-486c-91b0-57476eec6c3d\")>,\n",
       " <selenium.webdriver.remote.webelement.WebElement (session=\"ac4dc1ef0a33909b5d321d2b3645f258\", element=\"4f5b90e6-1c92-44e4-97c6-578d1deda28c\")>,\n",
       " <selenium.webdriver.remote.webelement.WebElement (session=\"ac4dc1ef0a33909b5d321d2b3645f258\", element=\"e14bd09c-7606-41bb-9767-62f0629c942f\")>,\n",
       " <selenium.webdriver.remote.webelement.WebElement (session=\"ac4dc1ef0a33909b5d321d2b3645f258\", element=\"9cab5d5f-a9f3-451a-95bd-dae0818d7d2c\")>,\n",
       " <selenium.webdriver.remote.webelement.WebElement (session=\"ac4dc1ef0a33909b5d321d2b3645f258\", element=\"c7a57b25-584e-4fa1-8397-5b75010c8eb7\")>,\n",
       " <selenium.webdriver.remote.webelement.WebElement (session=\"ac4dc1ef0a33909b5d321d2b3645f258\", element=\"6c221d9e-d901-4d4a-9bc5-f4db8e3fd826\")>,\n",
       " <selenium.webdriver.remote.webelement.WebElement (session=\"ac4dc1ef0a33909b5d321d2b3645f258\", element=\"c20b1973-0753-415b-a34d-4ad1ca5da846\")>,\n",
       " <selenium.webdriver.remote.webelement.WebElement (session=\"ac4dc1ef0a33909b5d321d2b3645f258\", element=\"6803a132-d5e1-4f2a-8936-766e6f4e1d8a\")>,\n",
       " <selenium.webdriver.remote.webelement.WebElement (session=\"ac4dc1ef0a33909b5d321d2b3645f258\", element=\"66f1eecc-ddfc-4bcb-9744-aa74e53b897d\")>,\n",
       " <selenium.webdriver.remote.webelement.WebElement (session=\"ac4dc1ef0a33909b5d321d2b3645f258\", element=\"71809401-c9b8-4da2-a778-6a99fa37e4c7\")>,\n",
       " <selenium.webdriver.remote.webelement.WebElement (session=\"ac4dc1ef0a33909b5d321d2b3645f258\", element=\"d47fa547-441e-434f-9c5d-2bf41763d5b2\")>,\n",
       " <selenium.webdriver.remote.webelement.WebElement (session=\"ac4dc1ef0a33909b5d321d2b3645f258\", element=\"eebef568-951e-47fb-aa65-02003ae92bf6\")>,\n",
       " <selenium.webdriver.remote.webelement.WebElement (session=\"ac4dc1ef0a33909b5d321d2b3645f258\", element=\"8dd0e705-704e-4db7-a21b-e578b72629aa\")>,\n",
       " <selenium.webdriver.remote.webelement.WebElement (session=\"ac4dc1ef0a33909b5d321d2b3645f258\", element=\"e20c076b-4a87-48d6-8808-25e8e1b1f05f\")>,\n",
       " <selenium.webdriver.remote.webelement.WebElement (session=\"ac4dc1ef0a33909b5d321d2b3645f258\", element=\"07ee25e5-c44e-4150-98a1-1c67e6957641\")>,\n",
       " <selenium.webdriver.remote.webelement.WebElement (session=\"ac4dc1ef0a33909b5d321d2b3645f258\", element=\"99c7032b-3733-4997-a541-0acc444c33f5\")>,\n",
       " <selenium.webdriver.remote.webelement.WebElement (session=\"ac4dc1ef0a33909b5d321d2b3645f258\", element=\"53a91c5d-a379-44f4-b4f2-6bcd190dce0c\")>,\n",
       " <selenium.webdriver.remote.webelement.WebElement (session=\"ac4dc1ef0a33909b5d321d2b3645f258\", element=\"25ff7d88-85d7-4b15-aae1-8c8a48fbb1e5\")>,\n",
       " <selenium.webdriver.remote.webelement.WebElement (session=\"ac4dc1ef0a33909b5d321d2b3645f258\", element=\"56f46c75-7e0c-479c-af46-2aa129a5e00f\")>,\n",
       " <selenium.webdriver.remote.webelement.WebElement (session=\"ac4dc1ef0a33909b5d321d2b3645f258\", element=\"e2628812-3e9e-432c-8f3a-a2a647566623\")>,\n",
       " <selenium.webdriver.remote.webelement.WebElement (session=\"ac4dc1ef0a33909b5d321d2b3645f258\", element=\"b83cea5c-b234-41fc-93f5-63b94e4107d0\")>,\n",
       " <selenium.webdriver.remote.webelement.WebElement (session=\"ac4dc1ef0a33909b5d321d2b3645f258\", element=\"3b802e5b-40ab-4be0-8ff8-0555c4907f54\")>,\n",
       " <selenium.webdriver.remote.webelement.WebElement (session=\"ac4dc1ef0a33909b5d321d2b3645f258\", element=\"72492260-8430-48d0-98cf-e89d53ad1d4f\")>,\n",
       " <selenium.webdriver.remote.webelement.WebElement (session=\"ac4dc1ef0a33909b5d321d2b3645f258\", element=\"173978b9-e869-40df-b64f-df7276450b78\")>,\n",
       " <selenium.webdriver.remote.webelement.WebElement (session=\"ac4dc1ef0a33909b5d321d2b3645f258\", element=\"c8e1532b-dc61-425e-b864-9a4acd36f9e8\")>,\n",
       " <selenium.webdriver.remote.webelement.WebElement (session=\"ac4dc1ef0a33909b5d321d2b3645f258\", element=\"b3f3126f-7c34-47f4-8c10-d0e1e41e6849\")>,\n",
       " <selenium.webdriver.remote.webelement.WebElement (session=\"ac4dc1ef0a33909b5d321d2b3645f258\", element=\"0054dee0-ec6f-4f3b-a9d9-53d5e772d705\")>,\n",
       " <selenium.webdriver.remote.webelement.WebElement (session=\"ac4dc1ef0a33909b5d321d2b3645f258\", element=\"72a70b52-7266-4d02-8ef1-8bd5a39bd3e9\")>,\n",
       " <selenium.webdriver.remote.webelement.WebElement (session=\"ac4dc1ef0a33909b5d321d2b3645f258\", element=\"49a24180-a44c-4762-b1da-fdc56c3c13ed\")>,\n",
       " <selenium.webdriver.remote.webelement.WebElement (session=\"ac4dc1ef0a33909b5d321d2b3645f258\", element=\"eafde3c6-1207-40b9-b32d-7e2ba9a2a85a\")>,\n",
       " <selenium.webdriver.remote.webelement.WebElement (session=\"ac4dc1ef0a33909b5d321d2b3645f258\", element=\"23e8ab4b-2ed3-40b8-bdfe-8d7f38018fc4\")>,\n",
       " <selenium.webdriver.remote.webelement.WebElement (session=\"ac4dc1ef0a33909b5d321d2b3645f258\", element=\"472c4561-9122-4c77-a65f-f50e4dbc3ad1\")>,\n",
       " <selenium.webdriver.remote.webelement.WebElement (session=\"ac4dc1ef0a33909b5d321d2b3645f258\", element=\"114a6d97-ae28-4f67-8c25-ed9b035fc2e4\")>,\n",
       " <selenium.webdriver.remote.webelement.WebElement (session=\"ac4dc1ef0a33909b5d321d2b3645f258\", element=\"365ae269-d2b4-41bf-8dff-b1478cac0671\")>]"
      ]
     },
     "execution_count": 415,
     "metadata": {},
     "output_type": "execute_result"
    }
   ],
   "source": [
    "dis_tags = driver.find_elements_by_xpath(\"//div[@class='_3Ay6Sb']\")\n",
    "dis_tags[0:40]"
   ]
  },
  {
   "cell_type": "code",
   "execution_count": 416,
   "id": "bdcc313d",
   "metadata": {},
   "outputs": [
    {
     "data": {
      "text/plain": [
       "['84% off',\n",
       " '62% off',\n",
       " '70% off',\n",
       " '68% off',\n",
       " '73% off',\n",
       " '60% off',\n",
       " '80% off',\n",
       " '57% off',\n",
       " '61% off',\n",
       " '75% off',\n",
       " '82% off',\n",
       " '57% off',\n",
       " '73% off',\n",
       " '75% off',\n",
       " '41% off',\n",
       " '60% off',\n",
       " '65% off',\n",
       " '50% off',\n",
       " '57% off',\n",
       " '69% off',\n",
       " '87% off',\n",
       " '61% off',\n",
       " '69% off',\n",
       " '60% off',\n",
       " '60% off',\n",
       " '57% off',\n",
       " '68% off',\n",
       " '86% off',\n",
       " '73% off',\n",
       " '62% off',\n",
       " '66% off',\n",
       " '68% off',\n",
       " '60% off',\n",
       " '65% off',\n",
       " '45% off',\n",
       " '69% off',\n",
       " '77% off',\n",
       " '60% off',\n",
       " '54% off',\n",
       " '40% off']"
      ]
     },
     "execution_count": 416,
     "metadata": {},
     "output_type": "execute_result"
    }
   ],
   "source": [
    "for i in dis_tags:\n",
    "    title=i.text\n",
    "    discount1.append(title)\n",
    "discount1[0:40]"
   ]
  },
  {
   "cell_type": "code",
   "execution_count": 417,
   "id": "bb693a9f",
   "metadata": {},
   "outputs": [
    {
     "name": "stdout",
     "output_type": "stream",
     "text": [
      "40 40 40 40\n"
     ]
    }
   ],
   "source": [
    "print(len(brand1),len(description1),len(price1),len(discount1))"
   ]
  },
  {
   "cell_type": "markdown",
   "id": "ac81c17c",
   "metadata": {},
   "source": [
    "NEXT PAGE:-1\n"
   ]
  },
  {
   "cell_type": "code",
   "execution_count": 418,
   "id": "a6220d1d",
   "metadata": {},
   "outputs": [],
   "source": [
    "nxt_button = driver.find_element_by_xpath(\"//a[@class='_1LKTO3']/span[1]\")\n",
    "nxt_button.click()"
   ]
  },
  {
   "cell_type": "code",
   "execution_count": 419,
   "id": "59dfd230",
   "metadata": {},
   "outputs": [],
   "source": [
    "brand2 = []\n",
    "description2 =[]\n",
    "price2 = []\n",
    "discount2 = []"
   ]
  },
  {
   "cell_type": "code",
   "execution_count": 420,
   "id": "a03d1d7a",
   "metadata": {},
   "outputs": [
    {
     "data": {
      "text/plain": [
       "[<selenium.webdriver.remote.webelement.WebElement (session=\"ac4dc1ef0a33909b5d321d2b3645f258\", element=\"2187d82b-8ce4-4583-8016-c6c7ab7fc1ad\")>,\n",
       " <selenium.webdriver.remote.webelement.WebElement (session=\"ac4dc1ef0a33909b5d321d2b3645f258\", element=\"d1035c96-2c25-49ec-a58e-a260b9ad7278\")>,\n",
       " <selenium.webdriver.remote.webelement.WebElement (session=\"ac4dc1ef0a33909b5d321d2b3645f258\", element=\"a6afa4de-973f-4e64-b573-8b3dc3dd2c51\")>,\n",
       " <selenium.webdriver.remote.webelement.WebElement (session=\"ac4dc1ef0a33909b5d321d2b3645f258\", element=\"9b958d6e-dff0-4834-8d52-ed16ee7cb5bf\")>,\n",
       " <selenium.webdriver.remote.webelement.WebElement (session=\"ac4dc1ef0a33909b5d321d2b3645f258\", element=\"8b5b417b-a02b-4ee1-ba92-686d200ee108\")>,\n",
       " <selenium.webdriver.remote.webelement.WebElement (session=\"ac4dc1ef0a33909b5d321d2b3645f258\", element=\"9ec34a2d-5e20-4bd2-91b1-9fddcc0240d3\")>,\n",
       " <selenium.webdriver.remote.webelement.WebElement (session=\"ac4dc1ef0a33909b5d321d2b3645f258\", element=\"6108eb62-e2c5-4471-92e3-2ca86dc15b66\")>,\n",
       " <selenium.webdriver.remote.webelement.WebElement (session=\"ac4dc1ef0a33909b5d321d2b3645f258\", element=\"36e11448-61dc-4273-a1fd-055a4e28b091\")>,\n",
       " <selenium.webdriver.remote.webelement.WebElement (session=\"ac4dc1ef0a33909b5d321d2b3645f258\", element=\"4eefa420-3978-44b0-8d48-2873488403d1\")>,\n",
       " <selenium.webdriver.remote.webelement.WebElement (session=\"ac4dc1ef0a33909b5d321d2b3645f258\", element=\"34e00d7c-f4d1-4a0b-be04-8561434125ac\")>,\n",
       " <selenium.webdriver.remote.webelement.WebElement (session=\"ac4dc1ef0a33909b5d321d2b3645f258\", element=\"4e86af11-dd0f-4b3c-a923-d1d31628759f\")>,\n",
       " <selenium.webdriver.remote.webelement.WebElement (session=\"ac4dc1ef0a33909b5d321d2b3645f258\", element=\"3880b1b6-f563-4b10-bcd6-d2d4e43549f5\")>,\n",
       " <selenium.webdriver.remote.webelement.WebElement (session=\"ac4dc1ef0a33909b5d321d2b3645f258\", element=\"09dfaa14-7906-4660-b21f-ee45e76682f2\")>,\n",
       " <selenium.webdriver.remote.webelement.WebElement (session=\"ac4dc1ef0a33909b5d321d2b3645f258\", element=\"a0460280-d650-4d74-af5f-d71ef9f0de48\")>,\n",
       " <selenium.webdriver.remote.webelement.WebElement (session=\"ac4dc1ef0a33909b5d321d2b3645f258\", element=\"41659695-745c-45b4-9a3c-219b95744b5b\")>,\n",
       " <selenium.webdriver.remote.webelement.WebElement (session=\"ac4dc1ef0a33909b5d321d2b3645f258\", element=\"068b0b21-d4a6-4072-aae2-cb9b59c0fffd\")>,\n",
       " <selenium.webdriver.remote.webelement.WebElement (session=\"ac4dc1ef0a33909b5d321d2b3645f258\", element=\"fb7d8d6f-741b-4a36-b2b4-145e37baa2bd\")>,\n",
       " <selenium.webdriver.remote.webelement.WebElement (session=\"ac4dc1ef0a33909b5d321d2b3645f258\", element=\"191f2e04-738e-4926-a61b-a339c836e49d\")>,\n",
       " <selenium.webdriver.remote.webelement.WebElement (session=\"ac4dc1ef0a33909b5d321d2b3645f258\", element=\"b3ab4368-1ec9-4b2a-8caf-f5a21c43db99\")>,\n",
       " <selenium.webdriver.remote.webelement.WebElement (session=\"ac4dc1ef0a33909b5d321d2b3645f258\", element=\"9ccf5908-f69b-4fea-b3f0-787535a88b1d\")>,\n",
       " <selenium.webdriver.remote.webelement.WebElement (session=\"ac4dc1ef0a33909b5d321d2b3645f258\", element=\"c5a69a25-6c39-4be1-aa2a-782bd61e927f\")>,\n",
       " <selenium.webdriver.remote.webelement.WebElement (session=\"ac4dc1ef0a33909b5d321d2b3645f258\", element=\"36297fe2-e15c-4373-abf4-3830f0ba6867\")>,\n",
       " <selenium.webdriver.remote.webelement.WebElement (session=\"ac4dc1ef0a33909b5d321d2b3645f258\", element=\"e1b0d690-5368-4a25-b6cf-841fb8de26bd\")>,\n",
       " <selenium.webdriver.remote.webelement.WebElement (session=\"ac4dc1ef0a33909b5d321d2b3645f258\", element=\"00c1f101-6c6f-4fd5-a72a-f7b248243e2f\")>,\n",
       " <selenium.webdriver.remote.webelement.WebElement (session=\"ac4dc1ef0a33909b5d321d2b3645f258\", element=\"92911f0a-e25f-44ac-a2c9-37500f180ca6\")>,\n",
       " <selenium.webdriver.remote.webelement.WebElement (session=\"ac4dc1ef0a33909b5d321d2b3645f258\", element=\"98c79161-9291-4cf9-acaa-00d5158f55c9\")>,\n",
       " <selenium.webdriver.remote.webelement.WebElement (session=\"ac4dc1ef0a33909b5d321d2b3645f258\", element=\"18e590be-b885-4359-9177-5b6f329a3753\")>,\n",
       " <selenium.webdriver.remote.webelement.WebElement (session=\"ac4dc1ef0a33909b5d321d2b3645f258\", element=\"52336915-4792-49c8-b1d4-8e052bd8649b\")>,\n",
       " <selenium.webdriver.remote.webelement.WebElement (session=\"ac4dc1ef0a33909b5d321d2b3645f258\", element=\"bd073247-db25-4143-87e8-3bbed072f0ac\")>,\n",
       " <selenium.webdriver.remote.webelement.WebElement (session=\"ac4dc1ef0a33909b5d321d2b3645f258\", element=\"61bac7fe-b19f-4dbb-9349-df3be63e04c6\")>,\n",
       " <selenium.webdriver.remote.webelement.WebElement (session=\"ac4dc1ef0a33909b5d321d2b3645f258\", element=\"4ae738cf-5859-4253-abe9-d664046aed89\")>,\n",
       " <selenium.webdriver.remote.webelement.WebElement (session=\"ac4dc1ef0a33909b5d321d2b3645f258\", element=\"d1ae4742-e6d9-4d45-a4a5-f09df7f3e72b\")>,\n",
       " <selenium.webdriver.remote.webelement.WebElement (session=\"ac4dc1ef0a33909b5d321d2b3645f258\", element=\"d35a6402-08a4-4188-b500-b4e1b786bae6\")>,\n",
       " <selenium.webdriver.remote.webelement.WebElement (session=\"ac4dc1ef0a33909b5d321d2b3645f258\", element=\"53a6d815-13df-4c1f-b3d2-94bd0e781387\")>,\n",
       " <selenium.webdriver.remote.webelement.WebElement (session=\"ac4dc1ef0a33909b5d321d2b3645f258\", element=\"0fca19f6-9f64-4818-94cf-19337c8f454b\")>,\n",
       " <selenium.webdriver.remote.webelement.WebElement (session=\"ac4dc1ef0a33909b5d321d2b3645f258\", element=\"33326c53-0ac6-4d0e-a949-eeec42d1e57f\")>,\n",
       " <selenium.webdriver.remote.webelement.WebElement (session=\"ac4dc1ef0a33909b5d321d2b3645f258\", element=\"da466dc1-0376-4674-89d7-755821d9a54a\")>,\n",
       " <selenium.webdriver.remote.webelement.WebElement (session=\"ac4dc1ef0a33909b5d321d2b3645f258\", element=\"fc95cb4b-79c1-4dea-b625-afcacb0e68cf\")>,\n",
       " <selenium.webdriver.remote.webelement.WebElement (session=\"ac4dc1ef0a33909b5d321d2b3645f258\", element=\"42000745-7139-419f-88b6-f603e57fd5b0\")>,\n",
       " <selenium.webdriver.remote.webelement.WebElement (session=\"ac4dc1ef0a33909b5d321d2b3645f258\", element=\"7b01e389-4bab-4e81-b026-18a33ef8abcd\")>]"
      ]
     },
     "execution_count": 420,
     "metadata": {},
     "output_type": "execute_result"
    }
   ],
   "source": [
    "brand_tag2 = driver.find_elements_by_xpath(\"//div[@class='_2WkVRV']\")\n",
    "brand_tag2"
   ]
  },
  {
   "cell_type": "code",
   "execution_count": 421,
   "id": "5ce92f8b",
   "metadata": {},
   "outputs": [
    {
     "data": {
      "text/plain": [
       "['Echor',\n",
       " 'LuvShus',\n",
       " 'bluemaker',\n",
       " 'Chevit',\n",
       " 'Chevit',\n",
       " 'kardam&sons',\n",
       " 'Arohi',\n",
       " 'Chevit',\n",
       " 'KNIGHT WALKERS',\n",
       " 'Echor',\n",
       " 'Robbie jones',\n",
       " 'Kraasa',\n",
       " 'WHITE WALKERS',\n",
       " 'Magnolia',\n",
       " 'EMPTILE',\n",
       " 'Xtoon',\n",
       " 'BRUTON',\n",
       " 'Kzaara',\n",
       " 'BIRDE',\n",
       " 'World Wear Footwear',\n",
       " 'Robbie jones',\n",
       " 'DUNKASTON',\n",
       " 'OUTALYFE',\n",
       " 'Shoes Bank',\n",
       " 'CLYMB',\n",
       " 'Robbie jones',\n",
       " 'RapidBox',\n",
       " 'Airland',\n",
       " 'Chevit',\n",
       " 'BIRDE',\n",
       " 'Layasa',\n",
       " 'RODDICK SHOES',\n",
       " 'aadi',\n",
       " 'Chevit',\n",
       " 'Elevarse',\n",
       " 'Stefano Rads',\n",
       " 'T-ROCK',\n",
       " 'ONECENTRE',\n",
       " 'Deals4you',\n",
       " 'Rzisbo']"
      ]
     },
     "execution_count": 421,
     "metadata": {},
     "output_type": "execute_result"
    }
   ],
   "source": [
    "for i in brand_tag2:\n",
    "    title=i.text\n",
    "    brand2.append(title)\n",
    "brand2"
   ]
  },
  {
   "cell_type": "code",
   "execution_count": 422,
   "id": "10aade6d",
   "metadata": {},
   "outputs": [
    {
     "data": {
      "text/plain": [
       "[<selenium.webdriver.remote.webelement.WebElement (session=\"ac4dc1ef0a33909b5d321d2b3645f258\", element=\"10fdada3-6b3c-48b7-93cd-aa19100d1a61\")>,\n",
       " <selenium.webdriver.remote.webelement.WebElement (session=\"ac4dc1ef0a33909b5d321d2b3645f258\", element=\"44c0e094-27b3-4b3d-b74a-0a2b9470527d\")>,\n",
       " <selenium.webdriver.remote.webelement.WebElement (session=\"ac4dc1ef0a33909b5d321d2b3645f258\", element=\"3adcce81-857b-4c45-93b9-cbb01d58a699\")>,\n",
       " <selenium.webdriver.remote.webelement.WebElement (session=\"ac4dc1ef0a33909b5d321d2b3645f258\", element=\"2230b30f-cbea-44f1-813e-809930e4af11\")>,\n",
       " <selenium.webdriver.remote.webelement.WebElement (session=\"ac4dc1ef0a33909b5d321d2b3645f258\", element=\"6e090636-52bd-4a3a-abaa-3cefd6534d8e\")>,\n",
       " <selenium.webdriver.remote.webelement.WebElement (session=\"ac4dc1ef0a33909b5d321d2b3645f258\", element=\"d0439de3-3301-4eb2-a2b8-678833a0f8de\")>,\n",
       " <selenium.webdriver.remote.webelement.WebElement (session=\"ac4dc1ef0a33909b5d321d2b3645f258\", element=\"fa045c11-1e04-492e-9c37-7ba8b5403847\")>,\n",
       " <selenium.webdriver.remote.webelement.WebElement (session=\"ac4dc1ef0a33909b5d321d2b3645f258\", element=\"62aaabfa-0efb-43e7-a1b0-a8e907ec8721\")>,\n",
       " <selenium.webdriver.remote.webelement.WebElement (session=\"ac4dc1ef0a33909b5d321d2b3645f258\", element=\"84885bbb-f1f1-4dfc-bf3f-ce1dc91629d9\")>,\n",
       " <selenium.webdriver.remote.webelement.WebElement (session=\"ac4dc1ef0a33909b5d321d2b3645f258\", element=\"9f146d95-0361-41df-99ac-4e98bafc6f60\")>,\n",
       " <selenium.webdriver.remote.webelement.WebElement (session=\"ac4dc1ef0a33909b5d321d2b3645f258\", element=\"4189439e-ee95-40a0-a043-b3de66e3443c\")>,\n",
       " <selenium.webdriver.remote.webelement.WebElement (session=\"ac4dc1ef0a33909b5d321d2b3645f258\", element=\"39edb205-2530-49f2-bb55-91377f126e60\")>,\n",
       " <selenium.webdriver.remote.webelement.WebElement (session=\"ac4dc1ef0a33909b5d321d2b3645f258\", element=\"7904d2a4-d050-4795-be1c-13b8bde660e0\")>,\n",
       " <selenium.webdriver.remote.webelement.WebElement (session=\"ac4dc1ef0a33909b5d321d2b3645f258\", element=\"25a3fc18-3120-47b5-a04e-3c414c737ab8\")>,\n",
       " <selenium.webdriver.remote.webelement.WebElement (session=\"ac4dc1ef0a33909b5d321d2b3645f258\", element=\"ac05cc61-22ae-44fb-ac7f-0aa0e9c4e7e2\")>,\n",
       " <selenium.webdriver.remote.webelement.WebElement (session=\"ac4dc1ef0a33909b5d321d2b3645f258\", element=\"d4d00e40-0568-450a-b1ef-a6e228589e0f\")>,\n",
       " <selenium.webdriver.remote.webelement.WebElement (session=\"ac4dc1ef0a33909b5d321d2b3645f258\", element=\"bf0f0d1c-4ab8-4638-885f-da82b66c4429\")>,\n",
       " <selenium.webdriver.remote.webelement.WebElement (session=\"ac4dc1ef0a33909b5d321d2b3645f258\", element=\"dbd90196-b5c0-48a6-9ec1-6d09ed5a42f9\")>,\n",
       " <selenium.webdriver.remote.webelement.WebElement (session=\"ac4dc1ef0a33909b5d321d2b3645f258\", element=\"4f0350c9-9c7c-4da7-a709-e805d098e677\")>,\n",
       " <selenium.webdriver.remote.webelement.WebElement (session=\"ac4dc1ef0a33909b5d321d2b3645f258\", element=\"a302e75f-a643-4224-a920-e5a7ec151e1f\")>,\n",
       " <selenium.webdriver.remote.webelement.WebElement (session=\"ac4dc1ef0a33909b5d321d2b3645f258\", element=\"cdb29881-e85d-4b27-9da3-9e1324e7cdb7\")>,\n",
       " <selenium.webdriver.remote.webelement.WebElement (session=\"ac4dc1ef0a33909b5d321d2b3645f258\", element=\"c555ec25-365f-4435-a8da-67c3bc0dc16c\")>,\n",
       " <selenium.webdriver.remote.webelement.WebElement (session=\"ac4dc1ef0a33909b5d321d2b3645f258\", element=\"29fa1da6-a97e-47c5-a976-7a871867d903\")>,\n",
       " <selenium.webdriver.remote.webelement.WebElement (session=\"ac4dc1ef0a33909b5d321d2b3645f258\", element=\"67055dc9-8d78-41a7-889a-8718aae0a20a\")>,\n",
       " <selenium.webdriver.remote.webelement.WebElement (session=\"ac4dc1ef0a33909b5d321d2b3645f258\", element=\"8cc71bff-81ea-4c76-a7f4-53d9c739fdd7\")>,\n",
       " <selenium.webdriver.remote.webelement.WebElement (session=\"ac4dc1ef0a33909b5d321d2b3645f258\", element=\"14b550e2-0a08-491f-ad9b-c85e45324fae\")>,\n",
       " <selenium.webdriver.remote.webelement.WebElement (session=\"ac4dc1ef0a33909b5d321d2b3645f258\", element=\"937e43ba-d3b2-4fb4-aef4-184cc4a27e04\")>,\n",
       " <selenium.webdriver.remote.webelement.WebElement (session=\"ac4dc1ef0a33909b5d321d2b3645f258\", element=\"fb9253b7-4afa-4879-bd91-2c1d65497c88\")>,\n",
       " <selenium.webdriver.remote.webelement.WebElement (session=\"ac4dc1ef0a33909b5d321d2b3645f258\", element=\"7f3d5606-d999-4e84-8e07-fb90073b5d53\")>,\n",
       " <selenium.webdriver.remote.webelement.WebElement (session=\"ac4dc1ef0a33909b5d321d2b3645f258\", element=\"91253367-69bd-40fa-812a-4f56d50226d4\")>,\n",
       " <selenium.webdriver.remote.webelement.WebElement (session=\"ac4dc1ef0a33909b5d321d2b3645f258\", element=\"6e4fae39-bc71-40d9-983a-b243d7f40389\")>,\n",
       " <selenium.webdriver.remote.webelement.WebElement (session=\"ac4dc1ef0a33909b5d321d2b3645f258\", element=\"17397e16-47a1-431f-a8b7-3cc89c8f9c02\")>,\n",
       " <selenium.webdriver.remote.webelement.WebElement (session=\"ac4dc1ef0a33909b5d321d2b3645f258\", element=\"34b3ce79-812a-4856-b872-718e194a9c98\")>,\n",
       " <selenium.webdriver.remote.webelement.WebElement (session=\"ac4dc1ef0a33909b5d321d2b3645f258\", element=\"cafe4e88-734c-41d5-b206-29c12dcb051f\")>,\n",
       " <selenium.webdriver.remote.webelement.WebElement (session=\"ac4dc1ef0a33909b5d321d2b3645f258\", element=\"eec4bcd7-a257-4ba4-9a41-9ca04f7b3798\")>,\n",
       " <selenium.webdriver.remote.webelement.WebElement (session=\"ac4dc1ef0a33909b5d321d2b3645f258\", element=\"12fbdaf0-ef90-45bc-890c-9098fcec4384\")>,\n",
       " <selenium.webdriver.remote.webelement.WebElement (session=\"ac4dc1ef0a33909b5d321d2b3645f258\", element=\"47e71bfc-24dc-4ef0-87e3-c8595da5a290\")>,\n",
       " <selenium.webdriver.remote.webelement.WebElement (session=\"ac4dc1ef0a33909b5d321d2b3645f258\", element=\"39599c97-0b71-4719-b2fd-4f70755fb830\")>,\n",
       " <selenium.webdriver.remote.webelement.WebElement (session=\"ac4dc1ef0a33909b5d321d2b3645f258\", element=\"4b958ba1-f921-411c-934b-b766933576fa\")>,\n",
       " <selenium.webdriver.remote.webelement.WebElement (session=\"ac4dc1ef0a33909b5d321d2b3645f258\", element=\"b01f6a26-8a07-4dc5-8031-a1414fd6189e\")>]"
      ]
     },
     "execution_count": 422,
     "metadata": {},
     "output_type": "execute_result"
    }
   ],
   "source": [
    "des_tag2 = driver.find_elements_by_xpath(\"//div[@class='_2B099V']/a[1]\")\n",
    "des_tag2[0:40]"
   ]
  },
  {
   "cell_type": "code",
   "execution_count": 423,
   "id": "fa1d45f3",
   "metadata": {},
   "outputs": [
    {
     "data": {
      "text/plain": [
       "[\"Men's Sneakers Fashion Lightweight Running Shoes Tennis...\",\n",
       " 'Men Casual Shoe New Trend With Fashion Panda Desgined L...',\n",
       " 'casual shoe for men Sneakers For Men',\n",
       " 'Super 445 Fashion Sneakers For Men',\n",
       " 'Sneakers For Men',\n",
       " 'casual sneaker shoes for men luxury fashion casual snea...',\n",
       " 'Sneakers For Men',\n",
       " 'Perfect & Affordable Combo Pack of 02 Pairs Sneakers Ou...',\n",
       " 'Sneakers For Men',\n",
       " \"Men's Sneakers Fashion Lightweight Running Shoes Tennis...\",\n",
       " 'Sneakers For Men',\n",
       " 'Shark-41 Sneakers For Men',\n",
       " 'Stylish & Trending Outdoor Walking Comfortable Sneakers...',\n",
       " 'Sneakers For Men',\n",
       " 'all white heartbeat casual shoe Sneakers For Men',\n",
       " \"white Casual shoes,Sneakers for men's Sneakers For Men\",\n",
       " 'Lightweight Pack Of 1 Trendy Sneakers Sneakers Sneakers...',\n",
       " 'Sneakers For Men',\n",
       " 'Stylish Comfortable Lightweight, Breathable Walking Sho...',\n",
       " 'Latest Collection Black-349 Trendy & Stylish Casual Sne...',\n",
       " 'Sneakers For Men',\n",
       " 'casual sneaker shoes and partywear shoes Sneakers For M...',\n",
       " 'Stylish Party Wear Fashionable Lightweight New arrival ...',\n",
       " \"White Sneaker For Men's/Boy's Sneakers For Men\",\n",
       " 'Sneakers For Men',\n",
       " 'Casual Sneakers White Shoes For Men Sneakers For Men',\n",
       " 'Sneakers For Men',\n",
       " 'sneaker men red 1258 - 6 Sneakers For Men',\n",
       " 'CH-527 Trendy Star Perfect Casuals Sneakers For Men',\n",
       " 'Stylish Comfortable Lightweight, Breathable Casual Walk...',\n",
       " 'Sneakers For Men',\n",
       " 'Fashion Outdoor Canvas Casual Light Weight Lace-up Even...',\n",
       " 'Sneakers For Men',\n",
       " 'Unique & Perfect Collection Combo Pack of 02 Shoes for ...',\n",
       " 'Sneakers For Men',\n",
       " 'Classy Sneakers For Men',\n",
       " 'Sneakers For Men',\n",
       " 'shoes Sneakers For Men',\n",
       " 'Sneakers For Men',\n",
       " 'Sneakers For Men']"
      ]
     },
     "execution_count": 423,
     "metadata": {},
     "output_type": "execute_result"
    }
   ],
   "source": [
    "for i in des_tag2:\n",
    "    title=i.text\n",
    "    description2.append(title)\n",
    "description2[0:40]"
   ]
  },
  {
   "cell_type": "code",
   "execution_count": 424,
   "id": "abd11735",
   "metadata": {},
   "outputs": [
    {
     "data": {
      "text/plain": [
       "[<selenium.webdriver.remote.webelement.WebElement (session=\"ac4dc1ef0a33909b5d321d2b3645f258\", element=\"0be18b17-44e6-4f34-8d1d-c72d918a1b93\")>,\n",
       " <selenium.webdriver.remote.webelement.WebElement (session=\"ac4dc1ef0a33909b5d321d2b3645f258\", element=\"b8c7c778-f47d-43c1-bd0f-9210281de966\")>,\n",
       " <selenium.webdriver.remote.webelement.WebElement (session=\"ac4dc1ef0a33909b5d321d2b3645f258\", element=\"6ba93ed0-bfe3-446e-84b7-6b513e1525e7\")>,\n",
       " <selenium.webdriver.remote.webelement.WebElement (session=\"ac4dc1ef0a33909b5d321d2b3645f258\", element=\"197c3b55-31f2-4d9c-a381-66a91f486037\")>,\n",
       " <selenium.webdriver.remote.webelement.WebElement (session=\"ac4dc1ef0a33909b5d321d2b3645f258\", element=\"eb6786c3-4af0-47c2-a0c3-5bdafad5acea\")>,\n",
       " <selenium.webdriver.remote.webelement.WebElement (session=\"ac4dc1ef0a33909b5d321d2b3645f258\", element=\"2529ddd1-b686-4243-a80b-485be439a584\")>,\n",
       " <selenium.webdriver.remote.webelement.WebElement (session=\"ac4dc1ef0a33909b5d321d2b3645f258\", element=\"8f779bae-756c-4766-a897-0acb06746104\")>,\n",
       " <selenium.webdriver.remote.webelement.WebElement (session=\"ac4dc1ef0a33909b5d321d2b3645f258\", element=\"839b5ea2-a6af-448b-85f9-d1d2cce7a922\")>,\n",
       " <selenium.webdriver.remote.webelement.WebElement (session=\"ac4dc1ef0a33909b5d321d2b3645f258\", element=\"eb02ed6e-650c-4abd-821d-c3e77b950748\")>,\n",
       " <selenium.webdriver.remote.webelement.WebElement (session=\"ac4dc1ef0a33909b5d321d2b3645f258\", element=\"901f9801-d658-4d94-95f1-7bfc03e78fb7\")>,\n",
       " <selenium.webdriver.remote.webelement.WebElement (session=\"ac4dc1ef0a33909b5d321d2b3645f258\", element=\"3e6d2ef1-e169-4d32-b85f-62ed6f6cb426\")>,\n",
       " <selenium.webdriver.remote.webelement.WebElement (session=\"ac4dc1ef0a33909b5d321d2b3645f258\", element=\"347dcba6-b18e-41cf-9139-7b808b680e54\")>,\n",
       " <selenium.webdriver.remote.webelement.WebElement (session=\"ac4dc1ef0a33909b5d321d2b3645f258\", element=\"f53ff679-b48f-4e2d-a17f-f043931546a1\")>,\n",
       " <selenium.webdriver.remote.webelement.WebElement (session=\"ac4dc1ef0a33909b5d321d2b3645f258\", element=\"42f195ca-b07f-42fd-8ea4-bf10a69af2cf\")>,\n",
       " <selenium.webdriver.remote.webelement.WebElement (session=\"ac4dc1ef0a33909b5d321d2b3645f258\", element=\"39c07d0a-54ac-4609-a078-b184ddd51da0\")>,\n",
       " <selenium.webdriver.remote.webelement.WebElement (session=\"ac4dc1ef0a33909b5d321d2b3645f258\", element=\"0c30b574-a7b6-4ca5-ad56-769c8a6bbc99\")>,\n",
       " <selenium.webdriver.remote.webelement.WebElement (session=\"ac4dc1ef0a33909b5d321d2b3645f258\", element=\"9cba8a24-a08d-451d-ab34-41baa2da73e3\")>,\n",
       " <selenium.webdriver.remote.webelement.WebElement (session=\"ac4dc1ef0a33909b5d321d2b3645f258\", element=\"d701b920-62ab-4177-a541-9ae8ab57812a\")>,\n",
       " <selenium.webdriver.remote.webelement.WebElement (session=\"ac4dc1ef0a33909b5d321d2b3645f258\", element=\"650dbe3b-4840-4b59-8dea-6d2520e6a90c\")>,\n",
       " <selenium.webdriver.remote.webelement.WebElement (session=\"ac4dc1ef0a33909b5d321d2b3645f258\", element=\"8689a506-7b21-41ca-8298-53c4cf29277d\")>,\n",
       " <selenium.webdriver.remote.webelement.WebElement (session=\"ac4dc1ef0a33909b5d321d2b3645f258\", element=\"b1fb4f5e-2b34-41f7-9cbe-8978fe362a1b\")>,\n",
       " <selenium.webdriver.remote.webelement.WebElement (session=\"ac4dc1ef0a33909b5d321d2b3645f258\", element=\"3b483c6b-52cc-4160-8792-fc456af1d751\")>,\n",
       " <selenium.webdriver.remote.webelement.WebElement (session=\"ac4dc1ef0a33909b5d321d2b3645f258\", element=\"d807a9c4-d058-40e9-bd23-fe6b0f4c619c\")>,\n",
       " <selenium.webdriver.remote.webelement.WebElement (session=\"ac4dc1ef0a33909b5d321d2b3645f258\", element=\"41cdfdd2-d171-40d9-a2ed-b078a08c9a3e\")>,\n",
       " <selenium.webdriver.remote.webelement.WebElement (session=\"ac4dc1ef0a33909b5d321d2b3645f258\", element=\"1873880c-bbc1-46fa-abc2-5d0f1c93672d\")>,\n",
       " <selenium.webdriver.remote.webelement.WebElement (session=\"ac4dc1ef0a33909b5d321d2b3645f258\", element=\"b82838f7-34a6-421c-a03c-412fa99323e2\")>,\n",
       " <selenium.webdriver.remote.webelement.WebElement (session=\"ac4dc1ef0a33909b5d321d2b3645f258\", element=\"65b6b42b-e267-4e8a-afb5-015793caceb4\")>,\n",
       " <selenium.webdriver.remote.webelement.WebElement (session=\"ac4dc1ef0a33909b5d321d2b3645f258\", element=\"c6aaa1a1-268e-44f2-93a6-e20ab5dcd40c\")>,\n",
       " <selenium.webdriver.remote.webelement.WebElement (session=\"ac4dc1ef0a33909b5d321d2b3645f258\", element=\"87d235d7-edd9-47d1-8fb9-79c20478211c\")>,\n",
       " <selenium.webdriver.remote.webelement.WebElement (session=\"ac4dc1ef0a33909b5d321d2b3645f258\", element=\"f1bd5310-3d30-4ca3-a305-71fcd6030513\")>,\n",
       " <selenium.webdriver.remote.webelement.WebElement (session=\"ac4dc1ef0a33909b5d321d2b3645f258\", element=\"ca9013c6-c8c9-4a1f-9c08-a8e32917de57\")>,\n",
       " <selenium.webdriver.remote.webelement.WebElement (session=\"ac4dc1ef0a33909b5d321d2b3645f258\", element=\"fa4e9286-1c5d-494f-900f-535f6bdebb7e\")>,\n",
       " <selenium.webdriver.remote.webelement.WebElement (session=\"ac4dc1ef0a33909b5d321d2b3645f258\", element=\"3f1411b6-82ee-427a-b12d-b833e0d5ae31\")>,\n",
       " <selenium.webdriver.remote.webelement.WebElement (session=\"ac4dc1ef0a33909b5d321d2b3645f258\", element=\"3d617587-6dea-4fa8-a0d0-88ddd628a199\")>,\n",
       " <selenium.webdriver.remote.webelement.WebElement (session=\"ac4dc1ef0a33909b5d321d2b3645f258\", element=\"454a349e-65a4-4c7f-8fef-b5fa10e8c8b8\")>,\n",
       " <selenium.webdriver.remote.webelement.WebElement (session=\"ac4dc1ef0a33909b5d321d2b3645f258\", element=\"4733d92d-2050-4978-9942-a9b8945adbd0\")>,\n",
       " <selenium.webdriver.remote.webelement.WebElement (session=\"ac4dc1ef0a33909b5d321d2b3645f258\", element=\"f51ef870-9662-44d6-bac2-22c59fc3dcd4\")>,\n",
       " <selenium.webdriver.remote.webelement.WebElement (session=\"ac4dc1ef0a33909b5d321d2b3645f258\", element=\"82f86a91-dd30-4704-b4fc-e16942ec98c2\")>,\n",
       " <selenium.webdriver.remote.webelement.WebElement (session=\"ac4dc1ef0a33909b5d321d2b3645f258\", element=\"01fa27d0-3cfb-4bf6-ac5a-a58cb2cc71d4\")>,\n",
       " <selenium.webdriver.remote.webelement.WebElement (session=\"ac4dc1ef0a33909b5d321d2b3645f258\", element=\"17e82415-5438-4398-b35f-67098455585b\")>]"
      ]
     },
     "execution_count": 424,
     "metadata": {},
     "output_type": "execute_result"
    }
   ],
   "source": [
    "price_tag2 = driver.find_elements_by_xpath(\"//div[@class='_30jeq3']\")\n",
    "price_tag2"
   ]
  },
  {
   "cell_type": "code",
   "execution_count": 425,
   "id": "14401b4d",
   "metadata": {},
   "outputs": [
    {
     "data": {
      "text/plain": [
       "['₹489',\n",
       " '₹354',\n",
       " '₹399',\n",
       " '₹399',\n",
       " '₹213',\n",
       " '₹399',\n",
       " '₹379',\n",
       " '₹499',\n",
       " '₹598',\n",
       " '₹489',\n",
       " '₹424',\n",
       " '₹374',\n",
       " '₹549',\n",
       " '₹422',\n",
       " '₹344',\n",
       " '₹449',\n",
       " '₹119',\n",
       " '₹119',\n",
       " '₹301',\n",
       " '₹249',\n",
       " '₹424',\n",
       " '₹449',\n",
       " '₹435',\n",
       " '₹349',\n",
       " '₹599',\n",
       " '₹424',\n",
       " '₹670',\n",
       " '₹183',\n",
       " '₹273',\n",
       " '₹301',\n",
       " '₹399',\n",
       " '₹430',\n",
       " '₹269',\n",
       " '₹449',\n",
       " '₹308',\n",
       " '₹201',\n",
       " '₹249',\n",
       " '₹250',\n",
       " '₹354',\n",
       " '₹549']"
      ]
     },
     "execution_count": 425,
     "metadata": {},
     "output_type": "execute_result"
    }
   ],
   "source": [
    "for i in price_tag2:\n",
    "    title=i.text\n",
    "    price2.append(title)\n",
    "price2"
   ]
  },
  {
   "cell_type": "code",
   "execution_count": 426,
   "id": "dc774acb",
   "metadata": {},
   "outputs": [
    {
     "data": {
      "text/plain": [
       "[<selenium.webdriver.remote.webelement.WebElement (session=\"ac4dc1ef0a33909b5d321d2b3645f258\", element=\"f367c319-e7ca-4b7a-b3d1-12003437ddcb\")>,\n",
       " <selenium.webdriver.remote.webelement.WebElement (session=\"ac4dc1ef0a33909b5d321d2b3645f258\", element=\"2e76393b-452b-4064-96e2-a9379dbab2f0\")>,\n",
       " <selenium.webdriver.remote.webelement.WebElement (session=\"ac4dc1ef0a33909b5d321d2b3645f258\", element=\"025987c2-b94d-47f7-b332-07494a741f9b\")>,\n",
       " <selenium.webdriver.remote.webelement.WebElement (session=\"ac4dc1ef0a33909b5d321d2b3645f258\", element=\"7fc70d84-7abf-4955-aef6-8eb21877dd63\")>,\n",
       " <selenium.webdriver.remote.webelement.WebElement (session=\"ac4dc1ef0a33909b5d321d2b3645f258\", element=\"0c50ae49-451b-43de-993b-25c93ec9c17c\")>,\n",
       " <selenium.webdriver.remote.webelement.WebElement (session=\"ac4dc1ef0a33909b5d321d2b3645f258\", element=\"4897c04e-3b58-4160-8672-e638764f41a2\")>,\n",
       " <selenium.webdriver.remote.webelement.WebElement (session=\"ac4dc1ef0a33909b5d321d2b3645f258\", element=\"f9294f97-2365-4dc0-9471-bddba6c5c72c\")>,\n",
       " <selenium.webdriver.remote.webelement.WebElement (session=\"ac4dc1ef0a33909b5d321d2b3645f258\", element=\"78d59b6a-f7c8-4683-ad37-47961e73d1a6\")>,\n",
       " <selenium.webdriver.remote.webelement.WebElement (session=\"ac4dc1ef0a33909b5d321d2b3645f258\", element=\"834c7f3d-e91a-4aa1-9f67-ddf57ce6eaa0\")>,\n",
       " <selenium.webdriver.remote.webelement.WebElement (session=\"ac4dc1ef0a33909b5d321d2b3645f258\", element=\"1f26e7f1-7806-401a-bcdf-d1870b8cb112\")>,\n",
       " <selenium.webdriver.remote.webelement.WebElement (session=\"ac4dc1ef0a33909b5d321d2b3645f258\", element=\"d1e44c67-1e88-4e2c-8813-01b802cc444c\")>,\n",
       " <selenium.webdriver.remote.webelement.WebElement (session=\"ac4dc1ef0a33909b5d321d2b3645f258\", element=\"0e0e1d29-cc73-458d-8687-542df333e79f\")>,\n",
       " <selenium.webdriver.remote.webelement.WebElement (session=\"ac4dc1ef0a33909b5d321d2b3645f258\", element=\"5427cca5-e505-4a79-82e1-70920c89229a\")>,\n",
       " <selenium.webdriver.remote.webelement.WebElement (session=\"ac4dc1ef0a33909b5d321d2b3645f258\", element=\"e9ba353b-bd07-4b99-8778-b4c5aa13fed3\")>,\n",
       " <selenium.webdriver.remote.webelement.WebElement (session=\"ac4dc1ef0a33909b5d321d2b3645f258\", element=\"6d0545c5-fa7d-47aa-af32-5fd118a62c52\")>,\n",
       " <selenium.webdriver.remote.webelement.WebElement (session=\"ac4dc1ef0a33909b5d321d2b3645f258\", element=\"962e8a16-a4fb-4446-801f-5c7ecbfc7f80\")>,\n",
       " <selenium.webdriver.remote.webelement.WebElement (session=\"ac4dc1ef0a33909b5d321d2b3645f258\", element=\"6b83bc7e-3624-46f2-ae40-495892ba25ee\")>,\n",
       " <selenium.webdriver.remote.webelement.WebElement (session=\"ac4dc1ef0a33909b5d321d2b3645f258\", element=\"0e045a61-f375-4d02-b477-30800b43be93\")>,\n",
       " <selenium.webdriver.remote.webelement.WebElement (session=\"ac4dc1ef0a33909b5d321d2b3645f258\", element=\"5a1ec850-5661-418a-9d08-836edd35b0ed\")>,\n",
       " <selenium.webdriver.remote.webelement.WebElement (session=\"ac4dc1ef0a33909b5d321d2b3645f258\", element=\"11180795-478c-4025-aec7-3e2607f4f542\")>,\n",
       " <selenium.webdriver.remote.webelement.WebElement (session=\"ac4dc1ef0a33909b5d321d2b3645f258\", element=\"e7e45c2b-efbe-4fc3-ae53-72c05959f44b\")>,\n",
       " <selenium.webdriver.remote.webelement.WebElement (session=\"ac4dc1ef0a33909b5d321d2b3645f258\", element=\"4da1d746-9630-47ce-b4c0-668031e250ec\")>,\n",
       " <selenium.webdriver.remote.webelement.WebElement (session=\"ac4dc1ef0a33909b5d321d2b3645f258\", element=\"72fdadf8-0d7c-491d-ab80-42d51d8a7c85\")>,\n",
       " <selenium.webdriver.remote.webelement.WebElement (session=\"ac4dc1ef0a33909b5d321d2b3645f258\", element=\"80259a14-8c2e-4663-b5c1-09cd38a8d77a\")>,\n",
       " <selenium.webdriver.remote.webelement.WebElement (session=\"ac4dc1ef0a33909b5d321d2b3645f258\", element=\"fc79a6b0-b65d-4221-a22e-7510bb47cc2e\")>,\n",
       " <selenium.webdriver.remote.webelement.WebElement (session=\"ac4dc1ef0a33909b5d321d2b3645f258\", element=\"41f85b44-38df-4115-991c-98e0c9d15404\")>,\n",
       " <selenium.webdriver.remote.webelement.WebElement (session=\"ac4dc1ef0a33909b5d321d2b3645f258\", element=\"19b3f027-84ba-409e-9ed2-9754643b1434\")>,\n",
       " <selenium.webdriver.remote.webelement.WebElement (session=\"ac4dc1ef0a33909b5d321d2b3645f258\", element=\"08d581bb-7ad0-427b-a37c-e7f39f1fca18\")>,\n",
       " <selenium.webdriver.remote.webelement.WebElement (session=\"ac4dc1ef0a33909b5d321d2b3645f258\", element=\"c3c47c25-3324-48d8-aede-f43ac928908a\")>,\n",
       " <selenium.webdriver.remote.webelement.WebElement (session=\"ac4dc1ef0a33909b5d321d2b3645f258\", element=\"125e2833-7b4d-430c-b33d-637e63efebf8\")>,\n",
       " <selenium.webdriver.remote.webelement.WebElement (session=\"ac4dc1ef0a33909b5d321d2b3645f258\", element=\"ca3248f0-1801-45d8-b7a9-53e8c4680694\")>,\n",
       " <selenium.webdriver.remote.webelement.WebElement (session=\"ac4dc1ef0a33909b5d321d2b3645f258\", element=\"89035034-a41b-4f3e-9cf0-dd17b021d818\")>,\n",
       " <selenium.webdriver.remote.webelement.WebElement (session=\"ac4dc1ef0a33909b5d321d2b3645f258\", element=\"3e398f38-6380-4d96-b82c-86c125efb8bb\")>,\n",
       " <selenium.webdriver.remote.webelement.WebElement (session=\"ac4dc1ef0a33909b5d321d2b3645f258\", element=\"966a8c40-d674-4f79-b10f-c5ec84d9494c\")>,\n",
       " <selenium.webdriver.remote.webelement.WebElement (session=\"ac4dc1ef0a33909b5d321d2b3645f258\", element=\"cf0dfa1e-7466-4a16-9491-813bb421986f\")>,\n",
       " <selenium.webdriver.remote.webelement.WebElement (session=\"ac4dc1ef0a33909b5d321d2b3645f258\", element=\"c820fa1b-650f-42e1-b46c-6123ee680fce\")>,\n",
       " <selenium.webdriver.remote.webelement.WebElement (session=\"ac4dc1ef0a33909b5d321d2b3645f258\", element=\"1bc4fd7f-037c-4705-b6af-582d2f328c3e\")>,\n",
       " <selenium.webdriver.remote.webelement.WebElement (session=\"ac4dc1ef0a33909b5d321d2b3645f258\", element=\"a63039fa-1ccb-4ed7-9429-f2928bd3dadd\")>,\n",
       " <selenium.webdriver.remote.webelement.WebElement (session=\"ac4dc1ef0a33909b5d321d2b3645f258\", element=\"7919207e-3b7a-4090-9b78-b0dc4b5dd391\")>,\n",
       " <selenium.webdriver.remote.webelement.WebElement (session=\"ac4dc1ef0a33909b5d321d2b3645f258\", element=\"f0b35e73-d2d2-4112-aa22-bb943f602526\")>]"
      ]
     },
     "execution_count": 426,
     "metadata": {},
     "output_type": "execute_result"
    }
   ],
   "source": [
    "dis_tags2 = driver.find_elements_by_xpath(\"//div[@class='_3Ay6Sb']\")\n",
    "dis_tags2"
   ]
  },
  {
   "cell_type": "code",
   "execution_count": 427,
   "id": "5ebdfad0",
   "metadata": {},
   "outputs": [
    {
     "data": {
      "text/plain": [
       "['51% off',\n",
       " '64% off',\n",
       " '60% off',\n",
       " '50% off',\n",
       " '73% off',\n",
       " '69% off',\n",
       " '62% off',\n",
       " '72% off',\n",
       " '60% off',\n",
       " '51% off',\n",
       " '57% off',\n",
       " '62% off',\n",
       " '54% off',\n",
       " '57% off',\n",
       " '65% off',\n",
       " '70% off',\n",
       " '80% off',\n",
       " '88% off',\n",
       " '69% off',\n",
       " '50% off',\n",
       " '57% off',\n",
       " '70% off',\n",
       " '66% off',\n",
       " '65% off',\n",
       " '60% off',\n",
       " '57% off',\n",
       " '32% off',\n",
       " '63% off',\n",
       " '65% off',\n",
       " '69% off',\n",
       " '60% off',\n",
       " '56% off',\n",
       " '73% off',\n",
       " '70% off',\n",
       " '69% off',\n",
       " '71% off',\n",
       " '75% off',\n",
       " '60% off',\n",
       " '76% off',\n",
       " '45% off']"
      ]
     },
     "execution_count": 427,
     "metadata": {},
     "output_type": "execute_result"
    }
   ],
   "source": [
    "for i in dis_tags2:\n",
    "    title=i.text\n",
    "    discount2.append(title)\n",
    "discount2"
   ]
  },
  {
   "cell_type": "code",
   "execution_count": 428,
   "id": "4b293b13",
   "metadata": {},
   "outputs": [
    {
     "name": "stdout",
     "output_type": "stream",
     "text": [
      "40 40 40 40\n"
     ]
    }
   ],
   "source": [
    "print(len(brand2),len(description2),len(price2),len(discount2))"
   ]
  },
  {
   "cell_type": "markdown",
   "id": "7d90a859",
   "metadata": {},
   "source": [
    "NEXT PAGE:2\n"
   ]
  },
  {
   "cell_type": "code",
   "execution_count": 429,
   "id": "61c45b76",
   "metadata": {},
   "outputs": [],
   "source": [
    "nxt_button2 = driver.find_element_by_xpath(\"//a[@class='_1LKTO3']/span[1]\")\n",
    "nxt_button2.click()"
   ]
  },
  {
   "cell_type": "code",
   "execution_count": 430,
   "id": "ac1a615e",
   "metadata": {},
   "outputs": [],
   "source": [
    "brand3 = []\n",
    "description3 =[]\n",
    "price3 = []\n",
    "discount3 = []"
   ]
  },
  {
   "cell_type": "code",
   "execution_count": 431,
   "id": "2807dc5d",
   "metadata": {},
   "outputs": [
    {
     "data": {
      "text/plain": [
       "[<selenium.webdriver.remote.webelement.WebElement (session=\"ac4dc1ef0a33909b5d321d2b3645f258\", element=\"80b59087-2c74-4ef1-83c1-7055fc2505d0\")>,\n",
       " <selenium.webdriver.remote.webelement.WebElement (session=\"ac4dc1ef0a33909b5d321d2b3645f258\", element=\"63a62296-b293-4dd1-b21c-40614c0eed1b\")>,\n",
       " <selenium.webdriver.remote.webelement.WebElement (session=\"ac4dc1ef0a33909b5d321d2b3645f258\", element=\"b3010b48-e460-4a2c-b189-bb79279a6f38\")>,\n",
       " <selenium.webdriver.remote.webelement.WebElement (session=\"ac4dc1ef0a33909b5d321d2b3645f258\", element=\"427018f1-8817-447f-86ab-5c7f04f40909\")>,\n",
       " <selenium.webdriver.remote.webelement.WebElement (session=\"ac4dc1ef0a33909b5d321d2b3645f258\", element=\"396bc4ec-9294-4d5b-825c-64f2b4e28042\")>,\n",
       " <selenium.webdriver.remote.webelement.WebElement (session=\"ac4dc1ef0a33909b5d321d2b3645f258\", element=\"5e0bf90e-592e-491f-a621-34d9195f5f48\")>,\n",
       " <selenium.webdriver.remote.webelement.WebElement (session=\"ac4dc1ef0a33909b5d321d2b3645f258\", element=\"eb324fac-be88-42d5-941f-f87e3c1c9e89\")>,\n",
       " <selenium.webdriver.remote.webelement.WebElement (session=\"ac4dc1ef0a33909b5d321d2b3645f258\", element=\"e676a516-ba5b-44cf-966a-723327eb6783\")>,\n",
       " <selenium.webdriver.remote.webelement.WebElement (session=\"ac4dc1ef0a33909b5d321d2b3645f258\", element=\"3d406c69-1349-4a55-a365-d6f43a2499f3\")>,\n",
       " <selenium.webdriver.remote.webelement.WebElement (session=\"ac4dc1ef0a33909b5d321d2b3645f258\", element=\"f041e326-334e-4a3d-a40e-4f6b0fb7d5c4\")>,\n",
       " <selenium.webdriver.remote.webelement.WebElement (session=\"ac4dc1ef0a33909b5d321d2b3645f258\", element=\"73e50132-1793-4135-9044-c58c0314c0c3\")>,\n",
       " <selenium.webdriver.remote.webelement.WebElement (session=\"ac4dc1ef0a33909b5d321d2b3645f258\", element=\"9fac3d9a-9f37-4f6b-a3ac-e73b0bdc3104\")>,\n",
       " <selenium.webdriver.remote.webelement.WebElement (session=\"ac4dc1ef0a33909b5d321d2b3645f258\", element=\"dd584ce3-6850-4601-9d79-47ba92d90bbe\")>,\n",
       " <selenium.webdriver.remote.webelement.WebElement (session=\"ac4dc1ef0a33909b5d321d2b3645f258\", element=\"6f849c41-f322-4cb2-9c1c-cf3df58666df\")>,\n",
       " <selenium.webdriver.remote.webelement.WebElement (session=\"ac4dc1ef0a33909b5d321d2b3645f258\", element=\"545d03d0-fcc6-4d66-acba-f109a932652a\")>,\n",
       " <selenium.webdriver.remote.webelement.WebElement (session=\"ac4dc1ef0a33909b5d321d2b3645f258\", element=\"46bc1966-1581-4fb2-9204-f640a020e10a\")>,\n",
       " <selenium.webdriver.remote.webelement.WebElement (session=\"ac4dc1ef0a33909b5d321d2b3645f258\", element=\"d22c27be-0e5a-4953-b2f7-e2eaf8706d6e\")>,\n",
       " <selenium.webdriver.remote.webelement.WebElement (session=\"ac4dc1ef0a33909b5d321d2b3645f258\", element=\"1641da1b-b378-4243-b7a7-24fb68b006f9\")>,\n",
       " <selenium.webdriver.remote.webelement.WebElement (session=\"ac4dc1ef0a33909b5d321d2b3645f258\", element=\"3f12bd42-6ac7-479d-b45b-be61c8fb6d97\")>]"
      ]
     },
     "execution_count": 431,
     "metadata": {},
     "output_type": "execute_result"
    }
   ],
   "source": [
    "brand_tag3 = driver.find_elements_by_xpath(\"//div[@class='_2WkVRV']\")\n",
    "brand_tag3[0:19]"
   ]
  },
  {
   "cell_type": "code",
   "execution_count": 432,
   "id": "f7b10370",
   "metadata": {},
   "outputs": [
    {
     "data": {
      "text/plain": [
       "['ADIDAS',\n",
       " 'ADIDAS',\n",
       " 'URBANBOX',\n",
       " 'D-SNEAKERZ',\n",
       " 'corsac',\n",
       " 'Chevit',\n",
       " 'aadi',\n",
       " 'Afreet',\n",
       " 'World Wear Footwear',\n",
       " 'BRUTON',\n",
       " 'Magnolia',\n",
       " 'Layasa',\n",
       " 'World Wear Footwear',\n",
       " 'ASTEROID',\n",
       " 'KWIK FIT',\n",
       " 'bluemaker',\n",
       " 'Labbin',\n",
       " 'aadi',\n",
       " 'Chevit']"
      ]
     },
     "execution_count": 432,
     "metadata": {},
     "output_type": "execute_result"
    }
   ],
   "source": [
    "for i in brand_tag3:\n",
    "    title=i.text\n",
    "    brand3.append(title)\n",
    "brand3[0:19]"
   ]
  },
  {
   "cell_type": "code",
   "execution_count": 433,
   "id": "a342c4d4",
   "metadata": {},
   "outputs": [
    {
     "data": {
      "text/plain": [
       "[<selenium.webdriver.remote.webelement.WebElement (session=\"ac4dc1ef0a33909b5d321d2b3645f258\", element=\"6d916d87-f1be-4b85-9503-b59de549b1f3\")>,\n",
       " <selenium.webdriver.remote.webelement.WebElement (session=\"ac4dc1ef0a33909b5d321d2b3645f258\", element=\"4f4f2fb1-4c1b-4976-9146-fd6ade605218\")>,\n",
       " <selenium.webdriver.remote.webelement.WebElement (session=\"ac4dc1ef0a33909b5d321d2b3645f258\", element=\"e7866977-4835-4a49-89ff-15f4b4bf1ee4\")>,\n",
       " <selenium.webdriver.remote.webelement.WebElement (session=\"ac4dc1ef0a33909b5d321d2b3645f258\", element=\"00da123d-248b-4308-b6a2-e20349d7b9e0\")>,\n",
       " <selenium.webdriver.remote.webelement.WebElement (session=\"ac4dc1ef0a33909b5d321d2b3645f258\", element=\"b530b4a2-3f9a-41ca-9680-503f00b4da2e\")>,\n",
       " <selenium.webdriver.remote.webelement.WebElement (session=\"ac4dc1ef0a33909b5d321d2b3645f258\", element=\"aa8d06b6-3432-44d8-b340-cae8c984f712\")>,\n",
       " <selenium.webdriver.remote.webelement.WebElement (session=\"ac4dc1ef0a33909b5d321d2b3645f258\", element=\"41b4a6db-42e4-478d-8414-0e91d9865bf4\")>,\n",
       " <selenium.webdriver.remote.webelement.WebElement (session=\"ac4dc1ef0a33909b5d321d2b3645f258\", element=\"617bda82-47ee-412b-ad36-46b37789a2f4\")>,\n",
       " <selenium.webdriver.remote.webelement.WebElement (session=\"ac4dc1ef0a33909b5d321d2b3645f258\", element=\"7886302f-5c7f-474b-a83e-12e7c1cafec8\")>,\n",
       " <selenium.webdriver.remote.webelement.WebElement (session=\"ac4dc1ef0a33909b5d321d2b3645f258\", element=\"c3d62696-6f86-4e04-88d3-562868dae124\")>,\n",
       " <selenium.webdriver.remote.webelement.WebElement (session=\"ac4dc1ef0a33909b5d321d2b3645f258\", element=\"02284228-042f-4949-b7cd-0fa9af896850\")>,\n",
       " <selenium.webdriver.remote.webelement.WebElement (session=\"ac4dc1ef0a33909b5d321d2b3645f258\", element=\"8a1c1282-bb40-4ab1-af29-d8f5d9119cc8\")>,\n",
       " <selenium.webdriver.remote.webelement.WebElement (session=\"ac4dc1ef0a33909b5d321d2b3645f258\", element=\"2008c745-3852-4195-a120-56e341e99c9d\")>,\n",
       " <selenium.webdriver.remote.webelement.WebElement (session=\"ac4dc1ef0a33909b5d321d2b3645f258\", element=\"356023f2-6897-4670-b313-f27550c23a30\")>,\n",
       " <selenium.webdriver.remote.webelement.WebElement (session=\"ac4dc1ef0a33909b5d321d2b3645f258\", element=\"689cd6ef-0385-494b-871e-28c3d9dcf8d4\")>,\n",
       " <selenium.webdriver.remote.webelement.WebElement (session=\"ac4dc1ef0a33909b5d321d2b3645f258\", element=\"97f88204-08ad-4581-ab68-427164bfa7f9\")>,\n",
       " <selenium.webdriver.remote.webelement.WebElement (session=\"ac4dc1ef0a33909b5d321d2b3645f258\", element=\"09ee5dbf-1cb3-42bb-8379-58ca73dd8fa1\")>,\n",
       " <selenium.webdriver.remote.webelement.WebElement (session=\"ac4dc1ef0a33909b5d321d2b3645f258\", element=\"1966d209-43dd-420f-921d-a0fde07da418\")>,\n",
       " <selenium.webdriver.remote.webelement.WebElement (session=\"ac4dc1ef0a33909b5d321d2b3645f258\", element=\"a8f2e428-5d28-4415-aa5a-d6798e128773\")>]"
      ]
     },
     "execution_count": 433,
     "metadata": {},
     "output_type": "execute_result"
    }
   ],
   "source": [
    "des_tag3 = driver.find_elements_by_xpath(\"//div[@class='_2B099V']/a[1]\")\n",
    "des_tag3[0:19]"
   ]
  },
  {
   "cell_type": "code",
   "execution_count": 434,
   "id": "7462d312",
   "metadata": {},
   "outputs": [
    {
     "data": {
      "text/plain": [
       "['Easy Vulc 2.0 Sneakers For Men',\n",
       " 'Advantage Base Sneakers For Men',\n",
       " 'Sneakers Sneakers For Men',\n",
       " \"Casual , Partywear Sneakers Shoes For Men's And Boys Wh...\",\n",
       " 'STYLISH MENS BLACK SNEAKER Sneakers For Men',\n",
       " '516 Trendy Star Perfect Sneakers For Men',\n",
       " 'Sneakers For Men',\n",
       " 'Sneakers For Men',\n",
       " '5011-Latest Collection Stylish & Trendy Casual Sneakers...',\n",
       " 'Modern Trendy Sneakers Shoes Sneakers For Men',\n",
       " 'Sneakers For Men',\n",
       " 'Sneakers For Men',\n",
       " '5013-Latest Collection Stylish & Trendy of casuals Snea...',\n",
       " \"Original Luxury Branded Fashionable Men's Casual Walkin...\",\n",
       " 'Kwik FIT casual sneaker shoes and partywear shoes Casua...',\n",
       " 'casual shoe for men Sneakers For Men',\n",
       " 'Sneakers For Men',\n",
       " 'Sneakers For Men',\n",
       " 'Perfect Combo Pack of 03 Pairs Casual Sneakers Outdoor ...']"
      ]
     },
     "execution_count": 434,
     "metadata": {},
     "output_type": "execute_result"
    }
   ],
   "source": [
    "for i in des_tag3:\n",
    "    title=i.text\n",
    "    description3.append(title)\n",
    "description3[0:19]"
   ]
  },
  {
   "cell_type": "code",
   "execution_count": 435,
   "id": "8438224c",
   "metadata": {},
   "outputs": [
    {
     "data": {
      "text/plain": [
       "[<selenium.webdriver.remote.webelement.WebElement (session=\"ac4dc1ef0a33909b5d321d2b3645f258\", element=\"22a68e06-2146-4c2d-87c6-ff6c00e03acc\")>,\n",
       " <selenium.webdriver.remote.webelement.WebElement (session=\"ac4dc1ef0a33909b5d321d2b3645f258\", element=\"eb4df72e-dcb8-4def-9c2a-e78de5b9aed7\")>,\n",
       " <selenium.webdriver.remote.webelement.WebElement (session=\"ac4dc1ef0a33909b5d321d2b3645f258\", element=\"fbcb2c9d-2a91-4abc-b2fd-d906be12f053\")>,\n",
       " <selenium.webdriver.remote.webelement.WebElement (session=\"ac4dc1ef0a33909b5d321d2b3645f258\", element=\"e9fa3e4d-86fa-4953-b19d-423a1e527481\")>,\n",
       " <selenium.webdriver.remote.webelement.WebElement (session=\"ac4dc1ef0a33909b5d321d2b3645f258\", element=\"48443bc8-506d-4fd2-9012-496f81189c88\")>,\n",
       " <selenium.webdriver.remote.webelement.WebElement (session=\"ac4dc1ef0a33909b5d321d2b3645f258\", element=\"f0772a08-97cb-4aa4-a92d-3ceaa849aea5\")>,\n",
       " <selenium.webdriver.remote.webelement.WebElement (session=\"ac4dc1ef0a33909b5d321d2b3645f258\", element=\"b1cfd81f-b84f-41f2-b644-44c2ef3dd0c0\")>,\n",
       " <selenium.webdriver.remote.webelement.WebElement (session=\"ac4dc1ef0a33909b5d321d2b3645f258\", element=\"293ffe0a-5806-4743-8943-67a04312ec96\")>,\n",
       " <selenium.webdriver.remote.webelement.WebElement (session=\"ac4dc1ef0a33909b5d321d2b3645f258\", element=\"67571755-d155-40e8-87e5-9b70a99fc67b\")>,\n",
       " <selenium.webdriver.remote.webelement.WebElement (session=\"ac4dc1ef0a33909b5d321d2b3645f258\", element=\"d1bd5bfa-f8d6-4b38-a238-33bc0abf127a\")>,\n",
       " <selenium.webdriver.remote.webelement.WebElement (session=\"ac4dc1ef0a33909b5d321d2b3645f258\", element=\"a24a4d5e-5b94-4893-8c2c-9010a8c8f53c\")>,\n",
       " <selenium.webdriver.remote.webelement.WebElement (session=\"ac4dc1ef0a33909b5d321d2b3645f258\", element=\"166d0316-2b72-4700-93b3-7fdaf904ca9c\")>,\n",
       " <selenium.webdriver.remote.webelement.WebElement (session=\"ac4dc1ef0a33909b5d321d2b3645f258\", element=\"af1a61e1-c21e-4fd1-af1f-9a3ef019beff\")>,\n",
       " <selenium.webdriver.remote.webelement.WebElement (session=\"ac4dc1ef0a33909b5d321d2b3645f258\", element=\"2915d842-f0f0-4bac-bf31-114f2043df39\")>,\n",
       " <selenium.webdriver.remote.webelement.WebElement (session=\"ac4dc1ef0a33909b5d321d2b3645f258\", element=\"d5148976-22d7-4d54-b2cc-b06223245aaa\")>,\n",
       " <selenium.webdriver.remote.webelement.WebElement (session=\"ac4dc1ef0a33909b5d321d2b3645f258\", element=\"037e940a-9811-4303-b81a-07850ce3a3c1\")>,\n",
       " <selenium.webdriver.remote.webelement.WebElement (session=\"ac4dc1ef0a33909b5d321d2b3645f258\", element=\"a10e239e-cdb4-494a-8ee7-937f3b623479\")>,\n",
       " <selenium.webdriver.remote.webelement.WebElement (session=\"ac4dc1ef0a33909b5d321d2b3645f258\", element=\"6c7bf003-32f2-45c9-b6a9-47e261f7ab7a\")>,\n",
       " <selenium.webdriver.remote.webelement.WebElement (session=\"ac4dc1ef0a33909b5d321d2b3645f258\", element=\"9a21fd17-1afb-45bb-8596-55578174b29f\")>]"
      ]
     },
     "execution_count": 435,
     "metadata": {},
     "output_type": "execute_result"
    }
   ],
   "source": [
    "price_tag3 = driver.find_elements_by_xpath(\"//div[@class='_30jeq3']\")\n",
    "price_tag3[0:19]\n"
   ]
  },
  {
   "cell_type": "code",
   "execution_count": 436,
   "id": "0f21974e",
   "metadata": {},
   "outputs": [
    {
     "data": {
      "text/plain": [
       "['₹1,612',\n",
       " '₹2,419',\n",
       " '₹158',\n",
       " '₹249',\n",
       " '₹449',\n",
       " '₹249',\n",
       " '₹269',\n",
       " '₹444',\n",
       " '₹199',\n",
       " '₹249',\n",
       " '₹422',\n",
       " '₹399',\n",
       " '₹192',\n",
       " '₹499',\n",
       " '₹349',\n",
       " '₹399',\n",
       " '₹424',\n",
       " '₹269',\n",
       " '₹565']"
      ]
     },
     "execution_count": 436,
     "metadata": {},
     "output_type": "execute_result"
    }
   ],
   "source": [
    "for i in price_tag3:\n",
    "    title=i.text\n",
    "    price3.append(title)\n",
    "price3[0:19]"
   ]
  },
  {
   "cell_type": "code",
   "execution_count": 437,
   "id": "726341f0",
   "metadata": {},
   "outputs": [
    {
     "data": {
      "text/plain": [
       "[<selenium.webdriver.remote.webelement.WebElement (session=\"ac4dc1ef0a33909b5d321d2b3645f258\", element=\"62ec8b29-b432-4238-a586-4efd85e9b4c8\")>,\n",
       " <selenium.webdriver.remote.webelement.WebElement (session=\"ac4dc1ef0a33909b5d321d2b3645f258\", element=\"0e7db080-2fd8-42ed-ac33-101f69e3925a\")>,\n",
       " <selenium.webdriver.remote.webelement.WebElement (session=\"ac4dc1ef0a33909b5d321d2b3645f258\", element=\"a86e97b2-80bc-4414-afaf-1f0b169ea02f\")>,\n",
       " <selenium.webdriver.remote.webelement.WebElement (session=\"ac4dc1ef0a33909b5d321d2b3645f258\", element=\"0cc65a21-11f7-4f70-a31a-5d47e740e87c\")>,\n",
       " <selenium.webdriver.remote.webelement.WebElement (session=\"ac4dc1ef0a33909b5d321d2b3645f258\", element=\"a9378bfe-41f1-4fdc-972f-73e63c1eeaac\")>,\n",
       " <selenium.webdriver.remote.webelement.WebElement (session=\"ac4dc1ef0a33909b5d321d2b3645f258\", element=\"3e16d0b6-471d-4e7c-b3ec-564d4067ae5c\")>,\n",
       " <selenium.webdriver.remote.webelement.WebElement (session=\"ac4dc1ef0a33909b5d321d2b3645f258\", element=\"e480f0e0-cbd8-4331-948e-6dbc615bd477\")>,\n",
       " <selenium.webdriver.remote.webelement.WebElement (session=\"ac4dc1ef0a33909b5d321d2b3645f258\", element=\"d9bf6ada-0030-4faa-8f58-559e8f66e393\")>,\n",
       " <selenium.webdriver.remote.webelement.WebElement (session=\"ac4dc1ef0a33909b5d321d2b3645f258\", element=\"b9ccc511-ce57-452a-bb02-194f6446d2b1\")>,\n",
       " <selenium.webdriver.remote.webelement.WebElement (session=\"ac4dc1ef0a33909b5d321d2b3645f258\", element=\"6adc9b8f-c6f3-4466-8fe9-a46ff8c2ef84\")>,\n",
       " <selenium.webdriver.remote.webelement.WebElement (session=\"ac4dc1ef0a33909b5d321d2b3645f258\", element=\"23bc6555-6b5a-4b68-9bbc-7c78254057b8\")>,\n",
       " <selenium.webdriver.remote.webelement.WebElement (session=\"ac4dc1ef0a33909b5d321d2b3645f258\", element=\"bfd9b388-6a6a-4e38-b8e3-e33713bbadf1\")>,\n",
       " <selenium.webdriver.remote.webelement.WebElement (session=\"ac4dc1ef0a33909b5d321d2b3645f258\", element=\"03d87edc-6fdf-4533-8189-7e2644732cd3\")>,\n",
       " <selenium.webdriver.remote.webelement.WebElement (session=\"ac4dc1ef0a33909b5d321d2b3645f258\", element=\"71cc3155-8566-4461-89ec-9c40e7d998d9\")>,\n",
       " <selenium.webdriver.remote.webelement.WebElement (session=\"ac4dc1ef0a33909b5d321d2b3645f258\", element=\"eba2f37a-18ed-4bc0-bea1-085c12dc60a0\")>,\n",
       " <selenium.webdriver.remote.webelement.WebElement (session=\"ac4dc1ef0a33909b5d321d2b3645f258\", element=\"dd099b31-a61a-4830-addc-91ca27fc5b27\")>,\n",
       " <selenium.webdriver.remote.webelement.WebElement (session=\"ac4dc1ef0a33909b5d321d2b3645f258\", element=\"99dca26f-4c19-4e0a-88fd-7719f5ed880f\")>,\n",
       " <selenium.webdriver.remote.webelement.WebElement (session=\"ac4dc1ef0a33909b5d321d2b3645f258\", element=\"1ac98a65-1724-4a7d-9298-3ccf8cce4f13\")>,\n",
       " <selenium.webdriver.remote.webelement.WebElement (session=\"ac4dc1ef0a33909b5d321d2b3645f258\", element=\"23870f45-d424-4b11-ad14-f509f88557ef\")>]"
      ]
     },
     "execution_count": 437,
     "metadata": {},
     "output_type": "execute_result"
    }
   ],
   "source": [
    "dis_tags3 = driver.find_elements_by_xpath(\"//div[@class='_3Ay6Sb']\")\n",
    "dis_tags3[0:19]"
   ]
  },
  {
   "cell_type": "code",
   "execution_count": 438,
   "id": "60ebdbf5",
   "metadata": {},
   "outputs": [
    {
     "data": {
      "text/plain": [
       "['59% off',\n",
       " '56% off',\n",
       " '84% off',\n",
       " '62% off',\n",
       " '70% off',\n",
       " '68% off',\n",
       " '73% off',\n",
       " '55% off',\n",
       " '60% off',\n",
       " '80% off',\n",
       " '57% off',\n",
       " '60% off',\n",
       " '61% off',\n",
       " '75% off',\n",
       " '82% off',\n",
       " '60% off',\n",
       " '57% off',\n",
       " '73% off',\n",
       " '75% off']"
      ]
     },
     "execution_count": 438,
     "metadata": {},
     "output_type": "execute_result"
    }
   ],
   "source": [
    "for i in dis_tags3:\n",
    "    title=i.text\n",
    "    discount3.append(title)\n",
    "discount3[0:19]"
   ]
  },
  {
   "cell_type": "markdown",
   "id": "f44dd7a1",
   "metadata": {},
   "source": [
    "NOW JOINING ALL LIST:\n"
   ]
  },
  {
   "cell_type": "code",
   "execution_count": 439,
   "id": "13bc6b32",
   "metadata": {},
   "outputs": [],
   "source": [
    "Brands = brand1+brand2+brand3\n",
    "Description = description1+description2+description3\n",
    "Price = price1+price2+price3\n",
    "Discount = discount1+discount2+discount3"
   ]
  },
  {
   "cell_type": "code",
   "execution_count": 440,
   "id": "c8e6bbf5",
   "metadata": {},
   "outputs": [
    {
     "name": "stdout",
     "output_type": "stream",
     "text": [
      "120 120 120 120\n"
     ]
    }
   ],
   "source": [
    "print(len(Brands),len(Description),len(Price),len(Discount))"
   ]
  },
  {
   "cell_type": "markdown",
   "id": "1ed2c509",
   "metadata": {},
   "source": [
    "CREATING DATAFRAME:-"
   ]
  },
  {
   "cell_type": "code",
   "execution_count": 441,
   "id": "6ef1e5be",
   "metadata": {},
   "outputs": [],
   "source": [
    "\n",
    "sneakers_data = pd.DataFrame({'Brand':Brand,'Description':Description,'Price':Price,'Discount':Discount})"
   ]
  },
  {
   "cell_type": "code",
   "execution_count": 442,
   "id": "f15b0fef",
   "metadata": {},
   "outputs": [
    {
     "data": {
      "text/html": [
       "<div>\n",
       "<style scoped>\n",
       "    .dataframe tbody tr th:only-of-type {\n",
       "        vertical-align: middle;\n",
       "    }\n",
       "\n",
       "    .dataframe tbody tr th {\n",
       "        vertical-align: top;\n",
       "    }\n",
       "\n",
       "    .dataframe thead th {\n",
       "        text-align: right;\n",
       "    }\n",
       "</style>\n",
       "<table border=\"1\" class=\"dataframe\">\n",
       "  <thead>\n",
       "    <tr style=\"text-align: right;\">\n",
       "      <th></th>\n",
       "      <th>Brand</th>\n",
       "      <th>Description</th>\n",
       "      <th>Price</th>\n",
       "      <th>Discount</th>\n",
       "    </tr>\n",
       "  </thead>\n",
       "  <tbody>\n",
       "    <tr>\n",
       "      <th>0</th>\n",
       "      <td>ROZZETTA CRAFT</td>\n",
       "      <td>Sneakers Sneakers For Men</td>\n",
       "      <td>₹158</td>\n",
       "      <td>84% off</td>\n",
       "    </tr>\n",
       "    <tr>\n",
       "      <th>1</th>\n",
       "      <td>ROZZETTA CRAFT</td>\n",
       "      <td>Casual , Partywear Sneakers Shoes For Men's An...</td>\n",
       "      <td>₹249</td>\n",
       "      <td>62% off</td>\n",
       "    </tr>\n",
       "    <tr>\n",
       "      <th>2</th>\n",
       "      <td>Elligator</td>\n",
       "      <td>STYLISH MENS BLACK SNEAKER Sneakers For Men</td>\n",
       "      <td>₹449</td>\n",
       "      <td>70% off</td>\n",
       "    </tr>\n",
       "    <tr>\n",
       "      <th>3</th>\n",
       "      <td>New Specs</td>\n",
       "      <td>516 Trendy Star Perfect Sneakers For Men</td>\n",
       "      <td>₹249</td>\n",
       "      <td>68% off</td>\n",
       "    </tr>\n",
       "    <tr>\n",
       "      <th>4</th>\n",
       "      <td>PIRASO</td>\n",
       "      <td>Sneakers For Men</td>\n",
       "      <td>₹269</td>\n",
       "      <td>73% off</td>\n",
       "    </tr>\n",
       "    <tr>\n",
       "      <th>...</th>\n",
       "      <td>...</td>\n",
       "      <td>...</td>\n",
       "      <td>...</td>\n",
       "      <td>...</td>\n",
       "    </tr>\n",
       "    <tr>\n",
       "      <th>115</th>\n",
       "      <td>ROZZETTA CRAFT</td>\n",
       "      <td>Advantage Base Sneakers For Men</td>\n",
       "      <td>₹2,936</td>\n",
       "      <td>41% off</td>\n",
       "    </tr>\n",
       "    <tr>\n",
       "      <th>116</th>\n",
       "      <td>kingsunglasses</td>\n",
       "      <td>1259 smart black lace-ups sneakers for men Sne...</td>\n",
       "      <td>₹159</td>\n",
       "      <td>68% off</td>\n",
       "    </tr>\n",
       "    <tr>\n",
       "      <th>117</th>\n",
       "      <td>hipe</td>\n",
       "      <td>Sneakers For Men</td>\n",
       "      <td>₹269</td>\n",
       "      <td>86% off</td>\n",
       "    </tr>\n",
       "    <tr>\n",
       "      <th>118</th>\n",
       "      <td>SHAAH COLLECTIONS</td>\n",
       "      <td>Lightweight Pack Of 1 Trendy Sneakers Sneakers...</td>\n",
       "      <td>₹158</td>\n",
       "      <td>73% off</td>\n",
       "    </tr>\n",
       "    <tr>\n",
       "      <th>119</th>\n",
       "      <td>AISLIN</td>\n",
       "      <td>shoe Sneakers For Men</td>\n",
       "      <td>₹209</td>\n",
       "      <td>58% off</td>\n",
       "    </tr>\n",
       "  </tbody>\n",
       "</table>\n",
       "<p>120 rows × 4 columns</p>\n",
       "</div>"
      ],
      "text/plain": [
       "                 Brand                                        Description  \\\n",
       "0       ROZZETTA CRAFT                          Sneakers Sneakers For Men   \n",
       "1       ROZZETTA CRAFT  Casual , Partywear Sneakers Shoes For Men's An...   \n",
       "2            Elligator        STYLISH MENS BLACK SNEAKER Sneakers For Men   \n",
       "3            New Specs           516 Trendy Star Perfect Sneakers For Men   \n",
       "4               PIRASO                                   Sneakers For Men   \n",
       "..                 ...                                                ...   \n",
       "115     ROZZETTA CRAFT                    Advantage Base Sneakers For Men   \n",
       "116     kingsunglasses  1259 smart black lace-ups sneakers for men Sne...   \n",
       "117               hipe                                   Sneakers For Men   \n",
       "118  SHAAH COLLECTIONS  Lightweight Pack Of 1 Trendy Sneakers Sneakers...   \n",
       "119             AISLIN                              shoe Sneakers For Men   \n",
       "\n",
       "      Price Discount  \n",
       "0      ₹158  84% off  \n",
       "1      ₹249  62% off  \n",
       "2      ₹449  70% off  \n",
       "3      ₹249  68% off  \n",
       "4      ₹269  73% off  \n",
       "..      ...      ...  \n",
       "115  ₹2,936  41% off  \n",
       "116    ₹159  68% off  \n",
       "117    ₹269  86% off  \n",
       "118    ₹158  73% off  \n",
       "119    ₹209  58% off  \n",
       "\n",
       "[120 rows x 4 columns]"
      ]
     },
     "execution_count": 442,
     "metadata": {},
     "output_type": "execute_result"
    }
   ],
   "source": [
    "sneakers_data"
   ]
  },
  {
   "cell_type": "markdown",
   "id": "5202a693",
   "metadata": {},
   "source": [
    "## 7) scrape First 100 shoes data from myntra.com"
   ]
  },
  {
   "cell_type": "code",
   "execution_count": 443,
   "id": "5d616576",
   "metadata": {},
   "outputs": [],
   "source": [
    "driver = webdriver.Chrome(r\"C:\\Users\\Thamizh\\Downloads\\chromedriver_win32 (2)\\chromedriver.exe\")"
   ]
  },
  {
   "cell_type": "code",
   "execution_count": 444,
   "id": "36508c8e",
   "metadata": {},
   "outputs": [],
   "source": [
    "url =(\"https://www.myntra.com/shoes \")\n",
    "driver.get(url)"
   ]
  },
  {
   "cell_type": "code",
   "execution_count": 445,
   "id": "77d53890",
   "metadata": {},
   "outputs": [],
   "source": [
    "set_price = driver.find_element_by_xpath(\"//ul[@class='price-list']/li[2]\")\n",
    "set_price.click()\n"
   ]
  },
  {
   "cell_type": "code",
   "execution_count": 446,
   "id": "7d00905a",
   "metadata": {},
   "outputs": [],
   "source": [
    "set_color = driver.find_element_by_xpath(\"//li[@class='colour-listItem']\")\n",
    "set_color.click()"
   ]
  },
  {
   "cell_type": "code",
   "execution_count": 447,
   "id": "b34cc1e6",
   "metadata": {},
   "outputs": [],
   "source": [
    "brand = []\n",
    "short_description =[]\n",
    "price = []"
   ]
  },
  {
   "cell_type": "code",
   "execution_count": 448,
   "id": "0e8f39b9",
   "metadata": {},
   "outputs": [
    {
     "data": {
      "text/plain": [
       "[<selenium.webdriver.remote.webelement.WebElement (session=\"33f91156aa9293d271240eaa2aa94b8a\", element=\"8c2d2aca-f486-497f-b2f1-072887456ff0\")>,\n",
       " <selenium.webdriver.remote.webelement.WebElement (session=\"33f91156aa9293d271240eaa2aa94b8a\", element=\"f096fe5e-71a1-4e8b-862e-74cac69057e9\")>,\n",
       " <selenium.webdriver.remote.webelement.WebElement (session=\"33f91156aa9293d271240eaa2aa94b8a\", element=\"7f665771-405d-4951-a761-971fe4cd4b10\")>,\n",
       " <selenium.webdriver.remote.webelement.WebElement (session=\"33f91156aa9293d271240eaa2aa94b8a\", element=\"4faf968f-d546-46cf-8cb5-49f4a497a29a\")>,\n",
       " <selenium.webdriver.remote.webelement.WebElement (session=\"33f91156aa9293d271240eaa2aa94b8a\", element=\"f913bc34-b462-4ba2-84ae-ac2e54ce209a\")>,\n",
       " <selenium.webdriver.remote.webelement.WebElement (session=\"33f91156aa9293d271240eaa2aa94b8a\", element=\"cf8fc107-27e7-453f-899d-c5b4e98ce5de\")>,\n",
       " <selenium.webdriver.remote.webelement.WebElement (session=\"33f91156aa9293d271240eaa2aa94b8a\", element=\"6fce198f-c6e0-4cee-b5ba-73eb5b3dc9ee\")>,\n",
       " <selenium.webdriver.remote.webelement.WebElement (session=\"33f91156aa9293d271240eaa2aa94b8a\", element=\"9bb21130-2ba6-4bdf-bbd5-d0b113c0dff9\")>,\n",
       " <selenium.webdriver.remote.webelement.WebElement (session=\"33f91156aa9293d271240eaa2aa94b8a\", element=\"080848c2-44e6-4ee7-bbf3-e27af3313f97\")>,\n",
       " <selenium.webdriver.remote.webelement.WebElement (session=\"33f91156aa9293d271240eaa2aa94b8a\", element=\"2fe6f686-6b28-4c06-aef1-2a1faf79aed7\")>,\n",
       " <selenium.webdriver.remote.webelement.WebElement (session=\"33f91156aa9293d271240eaa2aa94b8a\", element=\"21fe38f7-a062-4876-8fe5-519becdae3be\")>,\n",
       " <selenium.webdriver.remote.webelement.WebElement (session=\"33f91156aa9293d271240eaa2aa94b8a\", element=\"64b23116-d4b8-49cb-9278-a74ef34851a3\")>,\n",
       " <selenium.webdriver.remote.webelement.WebElement (session=\"33f91156aa9293d271240eaa2aa94b8a\", element=\"72cdcc5f-0ee8-4ffe-8701-c5680301de3a\")>,\n",
       " <selenium.webdriver.remote.webelement.WebElement (session=\"33f91156aa9293d271240eaa2aa94b8a\", element=\"e5a721e5-a4dd-4f17-9f36-d06e6e3cc800\")>,\n",
       " <selenium.webdriver.remote.webelement.WebElement (session=\"33f91156aa9293d271240eaa2aa94b8a\", element=\"0ae54ed7-ee06-4bd5-a71f-8efe4caa45b3\")>,\n",
       " <selenium.webdriver.remote.webelement.WebElement (session=\"33f91156aa9293d271240eaa2aa94b8a\", element=\"7cb8ab83-d8ee-4329-ba23-65fa5f61aee2\")>,\n",
       " <selenium.webdriver.remote.webelement.WebElement (session=\"33f91156aa9293d271240eaa2aa94b8a\", element=\"c007e508-55de-40c0-9738-732e574b62fa\")>,\n",
       " <selenium.webdriver.remote.webelement.WebElement (session=\"33f91156aa9293d271240eaa2aa94b8a\", element=\"e7c3c48d-41d9-42de-86e3-6d3f16d8e93c\")>,\n",
       " <selenium.webdriver.remote.webelement.WebElement (session=\"33f91156aa9293d271240eaa2aa94b8a\", element=\"7781428f-2084-494e-95be-4da67809d765\")>,\n",
       " <selenium.webdriver.remote.webelement.WebElement (session=\"33f91156aa9293d271240eaa2aa94b8a\", element=\"9a78288b-6d30-4a41-b02c-e7d02135eca0\")>,\n",
       " <selenium.webdriver.remote.webelement.WebElement (session=\"33f91156aa9293d271240eaa2aa94b8a\", element=\"135576a3-b367-4b43-b0ba-ade39fa14071\")>,\n",
       " <selenium.webdriver.remote.webelement.WebElement (session=\"33f91156aa9293d271240eaa2aa94b8a\", element=\"1e0d12f0-2b99-41cf-91c1-000b491b153a\")>,\n",
       " <selenium.webdriver.remote.webelement.WebElement (session=\"33f91156aa9293d271240eaa2aa94b8a\", element=\"cdda66a4-d773-4c7b-8bb3-278517362a20\")>,\n",
       " <selenium.webdriver.remote.webelement.WebElement (session=\"33f91156aa9293d271240eaa2aa94b8a\", element=\"444a58f8-62f0-411e-b8c7-8e931c772acb\")>,\n",
       " <selenium.webdriver.remote.webelement.WebElement (session=\"33f91156aa9293d271240eaa2aa94b8a\", element=\"301bf68a-800c-4682-afaf-161f49eb5d8f\")>,\n",
       " <selenium.webdriver.remote.webelement.WebElement (session=\"33f91156aa9293d271240eaa2aa94b8a\", element=\"76e19bd3-a2ce-4cb5-a088-b9eda63f7537\")>,\n",
       " <selenium.webdriver.remote.webelement.WebElement (session=\"33f91156aa9293d271240eaa2aa94b8a\", element=\"20a67adf-b00d-4dc4-85c9-24a310521365\")>,\n",
       " <selenium.webdriver.remote.webelement.WebElement (session=\"33f91156aa9293d271240eaa2aa94b8a\", element=\"02bbe238-3482-45e2-b8e3-1ac0a76b944b\")>,\n",
       " <selenium.webdriver.remote.webelement.WebElement (session=\"33f91156aa9293d271240eaa2aa94b8a\", element=\"a9fea234-d767-4866-9175-20a7a427072d\")>,\n",
       " <selenium.webdriver.remote.webelement.WebElement (session=\"33f91156aa9293d271240eaa2aa94b8a\", element=\"b2ee0f81-3547-45d9-aadc-b80241584e38\")>,\n",
       " <selenium.webdriver.remote.webelement.WebElement (session=\"33f91156aa9293d271240eaa2aa94b8a\", element=\"92db15ff-8904-4434-bd0b-f2ce461a9e1f\")>,\n",
       " <selenium.webdriver.remote.webelement.WebElement (session=\"33f91156aa9293d271240eaa2aa94b8a\", element=\"3d632dc6-adb7-452b-ad21-e26a435dde95\")>,\n",
       " <selenium.webdriver.remote.webelement.WebElement (session=\"33f91156aa9293d271240eaa2aa94b8a\", element=\"efddc139-0813-409c-b495-b6a2f5824846\")>,\n",
       " <selenium.webdriver.remote.webelement.WebElement (session=\"33f91156aa9293d271240eaa2aa94b8a\", element=\"ca0b62b1-f64d-4836-af73-bc403f409a8e\")>,\n",
       " <selenium.webdriver.remote.webelement.WebElement (session=\"33f91156aa9293d271240eaa2aa94b8a\", element=\"3c11d109-5cf6-49b9-a4f5-f0b78281a8c1\")>,\n",
       " <selenium.webdriver.remote.webelement.WebElement (session=\"33f91156aa9293d271240eaa2aa94b8a\", element=\"33c9fdfd-fe50-40e8-ab3c-a0532d97214c\")>,\n",
       " <selenium.webdriver.remote.webelement.WebElement (session=\"33f91156aa9293d271240eaa2aa94b8a\", element=\"462e78fe-b906-4766-b2d1-1aa23d140afd\")>,\n",
       " <selenium.webdriver.remote.webelement.WebElement (session=\"33f91156aa9293d271240eaa2aa94b8a\", element=\"f366e4d1-adcb-4bfc-be76-d09e98625ee4\")>,\n",
       " <selenium.webdriver.remote.webelement.WebElement (session=\"33f91156aa9293d271240eaa2aa94b8a\", element=\"c49fe5b9-8e71-4695-ab2c-b3941f56c071\")>,\n",
       " <selenium.webdriver.remote.webelement.WebElement (session=\"33f91156aa9293d271240eaa2aa94b8a\", element=\"4452e9a8-3821-4098-83f2-bc31a9d38aec\")>,\n",
       " <selenium.webdriver.remote.webelement.WebElement (session=\"33f91156aa9293d271240eaa2aa94b8a\", element=\"9781eec0-4c8f-4341-b71b-27eb117a06aa\")>,\n",
       " <selenium.webdriver.remote.webelement.WebElement (session=\"33f91156aa9293d271240eaa2aa94b8a\", element=\"7fbc63e3-3cbd-4bcb-bf11-b5941d3f661f\")>,\n",
       " <selenium.webdriver.remote.webelement.WebElement (session=\"33f91156aa9293d271240eaa2aa94b8a\", element=\"f19f3280-fca4-44e3-8352-a69a97d49ecb\")>,\n",
       " <selenium.webdriver.remote.webelement.WebElement (session=\"33f91156aa9293d271240eaa2aa94b8a\", element=\"6d905e78-4eb3-4b3a-a0ae-9b15865a65e6\")>,\n",
       " <selenium.webdriver.remote.webelement.WebElement (session=\"33f91156aa9293d271240eaa2aa94b8a\", element=\"524be506-4916-4370-a5d4-5ad732a6ea7e\")>,\n",
       " <selenium.webdriver.remote.webelement.WebElement (session=\"33f91156aa9293d271240eaa2aa94b8a\", element=\"4f880d36-7fc7-4070-bc3d-2279c780c7f1\")>,\n",
       " <selenium.webdriver.remote.webelement.WebElement (session=\"33f91156aa9293d271240eaa2aa94b8a\", element=\"c8ee7f2c-eaae-40e8-b4df-54a92f361e80\")>,\n",
       " <selenium.webdriver.remote.webelement.WebElement (session=\"33f91156aa9293d271240eaa2aa94b8a\", element=\"58ec73fd-ace9-4c67-b066-c20a145d8210\")>,\n",
       " <selenium.webdriver.remote.webelement.WebElement (session=\"33f91156aa9293d271240eaa2aa94b8a\", element=\"bb28136c-9cfc-4831-b021-181bdd657caf\")>,\n",
       " <selenium.webdriver.remote.webelement.WebElement (session=\"33f91156aa9293d271240eaa2aa94b8a\", element=\"d8597d84-55c1-49f0-85c0-2c75601ff9f2\")>]"
      ]
     },
     "execution_count": 448,
     "metadata": {},
     "output_type": "execute_result"
    }
   ],
   "source": [
    "brand_tags = driver.find_elements_by_xpath(\"//h3[@class='product-brand']\")\n",
    "brand_tags"
   ]
  },
  {
   "cell_type": "code",
   "execution_count": 449,
   "id": "30e651b6",
   "metadata": {},
   "outputs": [
    {
     "data": {
      "text/plain": [
       "['Puma',\n",
       " 'Red Tape',\n",
       " 'Nike',\n",
       " 'Nike',\n",
       " 'Red Tape',\n",
       " 'Provogue',\n",
       " 'Puma',\n",
       " 'HIGHLANDER',\n",
       " 'ALDO',\n",
       " 'CLYMB',\n",
       " 'Nike',\n",
       " 'Puma',\n",
       " 'ALDO',\n",
       " 'ADIDAS',\n",
       " 'Red Tape',\n",
       " 'Puma',\n",
       " 'Nike',\n",
       " 'ALDO',\n",
       " 'one8 x PUMA',\n",
       " 'Skechers',\n",
       " 'Nike',\n",
       " 'Skechers',\n",
       " 'Bata',\n",
       " 'one8 x PUMA',\n",
       " 'ADIDAS',\n",
       " 'Red Tape',\n",
       " 'mr.wonker',\n",
       " 'Campus',\n",
       " 'Louis Philippe',\n",
       " 'Mactree',\n",
       " 'Red Tape',\n",
       " 'Nike',\n",
       " 'ADIDAS',\n",
       " 'Puma',\n",
       " 'INVICTUS',\n",
       " 'Nike',\n",
       " 'ADIDAS',\n",
       " 'Sir Corbett',\n",
       " 'Nike',\n",
       " 'Louis Philippe',\n",
       " 'H&M',\n",
       " 'Red Tape',\n",
       " 'MENGLER',\n",
       " 'Reebok',\n",
       " 'Mactree',\n",
       " 'DressBerry',\n",
       " 'Skechers',\n",
       " 'HRX by Hrithik Roshan',\n",
       " 'Puma',\n",
       " 'Eego Italy']"
      ]
     },
     "execution_count": 449,
     "metadata": {},
     "output_type": "execute_result"
    }
   ],
   "source": [
    "for i in brand_tags:\n",
    "    title=i.text\n",
    "    brand.append(title)\n",
    "brand"
   ]
  },
  {
   "cell_type": "code",
   "execution_count": 450,
   "id": "ca0f6c0c",
   "metadata": {},
   "outputs": [
    {
     "data": {
      "text/plain": [
       "[<selenium.webdriver.remote.webelement.WebElement (session=\"33f91156aa9293d271240eaa2aa94b8a\", element=\"74d8460b-d229-4cb3-a609-4d6cd6436807\")>,\n",
       " <selenium.webdriver.remote.webelement.WebElement (session=\"33f91156aa9293d271240eaa2aa94b8a\", element=\"c598ce4e-060d-4c1d-9654-e445b690038c\")>,\n",
       " <selenium.webdriver.remote.webelement.WebElement (session=\"33f91156aa9293d271240eaa2aa94b8a\", element=\"2a15a581-9f09-4f93-8ba5-683556105f89\")>,\n",
       " <selenium.webdriver.remote.webelement.WebElement (session=\"33f91156aa9293d271240eaa2aa94b8a\", element=\"88685869-2a25-4a58-8c83-ae5d12e80c7d\")>,\n",
       " <selenium.webdriver.remote.webelement.WebElement (session=\"33f91156aa9293d271240eaa2aa94b8a\", element=\"9302e15f-6bf5-4011-bdbb-266b2fc2fce6\")>,\n",
       " <selenium.webdriver.remote.webelement.WebElement (session=\"33f91156aa9293d271240eaa2aa94b8a\", element=\"0b2e97f7-e38a-4631-8884-9b9da9a50333\")>,\n",
       " <selenium.webdriver.remote.webelement.WebElement (session=\"33f91156aa9293d271240eaa2aa94b8a\", element=\"6daca346-00cf-4582-b253-a1bfcdf52aa5\")>,\n",
       " <selenium.webdriver.remote.webelement.WebElement (session=\"33f91156aa9293d271240eaa2aa94b8a\", element=\"423a3eca-b942-4a45-b9e2-a015077e05ca\")>,\n",
       " <selenium.webdriver.remote.webelement.WebElement (session=\"33f91156aa9293d271240eaa2aa94b8a\", element=\"319f1466-d1ea-4e35-bffc-4f7392223b29\")>,\n",
       " <selenium.webdriver.remote.webelement.WebElement (session=\"33f91156aa9293d271240eaa2aa94b8a\", element=\"62bf8dfd-d108-4f89-a395-6abeec8f8690\")>,\n",
       " <selenium.webdriver.remote.webelement.WebElement (session=\"33f91156aa9293d271240eaa2aa94b8a\", element=\"1453e718-d450-48e9-8215-92022ae7236b\")>,\n",
       " <selenium.webdriver.remote.webelement.WebElement (session=\"33f91156aa9293d271240eaa2aa94b8a\", element=\"cdcebe28-60cb-4dea-adf8-f9022ea7e1cf\")>,\n",
       " <selenium.webdriver.remote.webelement.WebElement (session=\"33f91156aa9293d271240eaa2aa94b8a\", element=\"6c1615e6-6012-4ea0-8366-6494e284a3df\")>,\n",
       " <selenium.webdriver.remote.webelement.WebElement (session=\"33f91156aa9293d271240eaa2aa94b8a\", element=\"0cb1ec43-5252-439f-93b7-8dda5f2da0c2\")>,\n",
       " <selenium.webdriver.remote.webelement.WebElement (session=\"33f91156aa9293d271240eaa2aa94b8a\", element=\"6bf85a84-f859-4fc5-9c96-ed646bb3da37\")>,\n",
       " <selenium.webdriver.remote.webelement.WebElement (session=\"33f91156aa9293d271240eaa2aa94b8a\", element=\"9f8204bc-c1a4-45df-8b03-54637be25bb3\")>,\n",
       " <selenium.webdriver.remote.webelement.WebElement (session=\"33f91156aa9293d271240eaa2aa94b8a\", element=\"278549c6-b14e-47e5-9ad2-58fa8bd2b772\")>,\n",
       " <selenium.webdriver.remote.webelement.WebElement (session=\"33f91156aa9293d271240eaa2aa94b8a\", element=\"274e5147-e948-4245-b688-c9c5ad63d258\")>,\n",
       " <selenium.webdriver.remote.webelement.WebElement (session=\"33f91156aa9293d271240eaa2aa94b8a\", element=\"8d940c29-a564-4e34-9e6c-583f33dc7c0b\")>,\n",
       " <selenium.webdriver.remote.webelement.WebElement (session=\"33f91156aa9293d271240eaa2aa94b8a\", element=\"b41e9e0c-27b5-4537-8d0f-4a9054ec5d6f\")>,\n",
       " <selenium.webdriver.remote.webelement.WebElement (session=\"33f91156aa9293d271240eaa2aa94b8a\", element=\"4d04e3a6-985f-4ad3-9e69-9fe22b4794b6\")>,\n",
       " <selenium.webdriver.remote.webelement.WebElement (session=\"33f91156aa9293d271240eaa2aa94b8a\", element=\"24df1617-7141-425c-9f86-2c5df58bc236\")>,\n",
       " <selenium.webdriver.remote.webelement.WebElement (session=\"33f91156aa9293d271240eaa2aa94b8a\", element=\"8c1965ed-5fc2-42ca-b92f-21aeb19c7b95\")>,\n",
       " <selenium.webdriver.remote.webelement.WebElement (session=\"33f91156aa9293d271240eaa2aa94b8a\", element=\"5c8f9cbf-3aef-4e2d-9440-d980db63d6c5\")>,\n",
       " <selenium.webdriver.remote.webelement.WebElement (session=\"33f91156aa9293d271240eaa2aa94b8a\", element=\"c9b6ec9b-b791-46b5-83f1-5246d40c1ed7\")>,\n",
       " <selenium.webdriver.remote.webelement.WebElement (session=\"33f91156aa9293d271240eaa2aa94b8a\", element=\"689c74ca-fcd4-4ad5-897d-e7361996f79e\")>,\n",
       " <selenium.webdriver.remote.webelement.WebElement (session=\"33f91156aa9293d271240eaa2aa94b8a\", element=\"eadaa6d2-122b-46be-a6fa-e0850d8ea306\")>,\n",
       " <selenium.webdriver.remote.webelement.WebElement (session=\"33f91156aa9293d271240eaa2aa94b8a\", element=\"62a88359-a855-44f2-bd1c-02e5a29da967\")>,\n",
       " <selenium.webdriver.remote.webelement.WebElement (session=\"33f91156aa9293d271240eaa2aa94b8a\", element=\"8f46fc93-f4cf-4dc4-9517-49d1964aeac5\")>,\n",
       " <selenium.webdriver.remote.webelement.WebElement (session=\"33f91156aa9293d271240eaa2aa94b8a\", element=\"dbc8ef7e-17b5-48c3-ac69-028d342b795b\")>,\n",
       " <selenium.webdriver.remote.webelement.WebElement (session=\"33f91156aa9293d271240eaa2aa94b8a\", element=\"b39717b7-4709-452f-80f1-b937d08f61bf\")>,\n",
       " <selenium.webdriver.remote.webelement.WebElement (session=\"33f91156aa9293d271240eaa2aa94b8a\", element=\"acefa02d-5571-4d65-8827-f2a9761484b8\")>,\n",
       " <selenium.webdriver.remote.webelement.WebElement (session=\"33f91156aa9293d271240eaa2aa94b8a\", element=\"1fc9f526-4f1c-46d8-83a4-6094e14ade03\")>,\n",
       " <selenium.webdriver.remote.webelement.WebElement (session=\"33f91156aa9293d271240eaa2aa94b8a\", element=\"c96427c0-e4ff-48c8-83e5-7ff807dba864\")>,\n",
       " <selenium.webdriver.remote.webelement.WebElement (session=\"33f91156aa9293d271240eaa2aa94b8a\", element=\"ce19405b-8476-4df6-973c-f2c057737ff5\")>,\n",
       " <selenium.webdriver.remote.webelement.WebElement (session=\"33f91156aa9293d271240eaa2aa94b8a\", element=\"ee6c3cc2-a9b7-43f5-abb4-a49ad6f8f8c7\")>,\n",
       " <selenium.webdriver.remote.webelement.WebElement (session=\"33f91156aa9293d271240eaa2aa94b8a\", element=\"2067d196-5757-4271-923b-56e7a787e74a\")>,\n",
       " <selenium.webdriver.remote.webelement.WebElement (session=\"33f91156aa9293d271240eaa2aa94b8a\", element=\"766ed65a-e688-4942-bf2e-f023026c0997\")>,\n",
       " <selenium.webdriver.remote.webelement.WebElement (session=\"33f91156aa9293d271240eaa2aa94b8a\", element=\"04ad4cac-e7ac-4708-b68c-f9b69be7d9fb\")>,\n",
       " <selenium.webdriver.remote.webelement.WebElement (session=\"33f91156aa9293d271240eaa2aa94b8a\", element=\"e2dac963-3adc-4b72-bf32-4ab1e5531228\")>,\n",
       " <selenium.webdriver.remote.webelement.WebElement (session=\"33f91156aa9293d271240eaa2aa94b8a\", element=\"573b9eaa-3fd1-41f2-9209-e16ba54511cc\")>,\n",
       " <selenium.webdriver.remote.webelement.WebElement (session=\"33f91156aa9293d271240eaa2aa94b8a\", element=\"e27ad243-4447-499c-95e3-59b714af0868\")>,\n",
       " <selenium.webdriver.remote.webelement.WebElement (session=\"33f91156aa9293d271240eaa2aa94b8a\", element=\"155a1d9c-fe2a-46a4-9f94-e3e373201177\")>,\n",
       " <selenium.webdriver.remote.webelement.WebElement (session=\"33f91156aa9293d271240eaa2aa94b8a\", element=\"aa42e968-459b-4f5e-b499-0d280ac897ce\")>,\n",
       " <selenium.webdriver.remote.webelement.WebElement (session=\"33f91156aa9293d271240eaa2aa94b8a\", element=\"e452255e-55ad-4428-a021-cb4408705104\")>,\n",
       " <selenium.webdriver.remote.webelement.WebElement (session=\"33f91156aa9293d271240eaa2aa94b8a\", element=\"eeb8945a-fbf9-44ab-9448-b3320a941db2\")>,\n",
       " <selenium.webdriver.remote.webelement.WebElement (session=\"33f91156aa9293d271240eaa2aa94b8a\", element=\"daea7384-67ca-4520-9e83-1ca730613ffa\")>,\n",
       " <selenium.webdriver.remote.webelement.WebElement (session=\"33f91156aa9293d271240eaa2aa94b8a\", element=\"ad8bfb19-3a55-4ad7-97c9-d3f443eb4736\")>,\n",
       " <selenium.webdriver.remote.webelement.WebElement (session=\"33f91156aa9293d271240eaa2aa94b8a\", element=\"938f0409-8b6d-438d-9eb7-8a10f7baad46\")>,\n",
       " <selenium.webdriver.remote.webelement.WebElement (session=\"33f91156aa9293d271240eaa2aa94b8a\", element=\"393a34ad-ba00-4319-8828-669ceef6436c\")>]"
      ]
     },
     "execution_count": 450,
     "metadata": {},
     "output_type": "execute_result"
    }
   ],
   "source": [
    "descrption_tags = driver.find_elements_by_xpath(\"//h4[@class='product-product']\")\n",
    "descrption_tags"
   ]
  },
  {
   "cell_type": "code",
   "execution_count": 451,
   "id": "9a403461",
   "metadata": {},
   "outputs": [
    {
     "data": {
      "text/plain": [
       "['Men Running Shoes',\n",
       " 'Men Walking Shoes',\n",
       " 'Men MC Training Shoes',\n",
       " 'Kids Revolution 4 Running',\n",
       " 'Men Walking Shoes',\n",
       " 'Men Black Solid Formal Debys',\n",
       " 'Men HYBRID Fuego Running Shoes',\n",
       " 'Men Sneakers',\n",
       " 'Men Leather Loafers',\n",
       " 'Men Running Shoes',\n",
       " 'LEGEND ESSENTIAL Training Shoe',\n",
       " 'Men Solid Running Shoes',\n",
       " 'Men Leather Driving Shoes',\n",
       " 'Men Adistound Running Shoes',\n",
       " 'Men Solid Leather Formal Oxfords',\n",
       " 'Men Retaliate 2 Running Shoes',\n",
       " 'Men Vapor Lite HC Tennis Shoes',\n",
       " 'Men Leather Loafers',\n",
       " 'Men Strike Textured Sneakers',\n",
       " 'Men Max Cushioning Running',\n",
       " 'Kids REVOLUTION 4 Shoes',\n",
       " 'Men Walking Shoes',\n",
       " 'Men Solid Formal Derbys',\n",
       " 'Men Dart IDP Sneakers',\n",
       " 'Men Classigy Running Shoes',\n",
       " 'Men Walking Shoes',\n",
       " 'Men Solid Formal Loafers',\n",
       " 'Men Flying Fury Running Shoes',\n",
       " 'Men Solid Driving Shoes',\n",
       " 'Men Suede Loafers',\n",
       " 'Men Walking Shoes',\n",
       " 'Unisex Shane Skateboarding',\n",
       " 'Men Caleron Running Shoes',\n",
       " 'Men Running Shoes',\n",
       " 'Men Formal Slip-on Shoes',\n",
       " 'Men Renew Training Shoes',\n",
       " 'Men Flydoot Running Shoes',\n",
       " 'Semi-Formal Shoes',\n",
       " 'Men Zoom Court Lite 3 Tennis',\n",
       " 'Men Solid Driving Shoes',\n",
       " 'Men Suede Chelsea Boots',\n",
       " 'Men Walking Shoes',\n",
       " 'Men Walking Shoes',\n",
       " 'Men Epsilon Running Shoes',\n",
       " 'Men Solid Leather Loafers',\n",
       " 'Women Woven Design Ballerinas',\n",
       " 'Women Walking Shoes',\n",
       " 'Knit Run 1.0 Running Shoe',\n",
       " 'Hybrid NX Ozone Running Shoes',\n",
       " 'Men Trekking Shoes']"
      ]
     },
     "execution_count": 451,
     "metadata": {},
     "output_type": "execute_result"
    }
   ],
   "source": [
    "for i in descrption_tags:\n",
    "    title=i.text\n",
    "    short_description.append(title)\n",
    "short_description"
   ]
  },
  {
   "cell_type": "code",
   "execution_count": 452,
   "id": "fa0f3d58",
   "metadata": {},
   "outputs": [
    {
     "data": {
      "text/plain": [
       "[<selenium.webdriver.remote.webelement.WebElement (session=\"33f91156aa9293d271240eaa2aa94b8a\", element=\"029e2453-684a-49d8-b8d8-fc61700f8b45\")>,\n",
       " <selenium.webdriver.remote.webelement.WebElement (session=\"33f91156aa9293d271240eaa2aa94b8a\", element=\"49645fe9-5ec9-45cc-96d9-2924641c6d0d\")>,\n",
       " <selenium.webdriver.remote.webelement.WebElement (session=\"33f91156aa9293d271240eaa2aa94b8a\", element=\"32ceef1b-63e3-4a5f-a0e6-d91f112fce6b\")>,\n",
       " <selenium.webdriver.remote.webelement.WebElement (session=\"33f91156aa9293d271240eaa2aa94b8a\", element=\"c71a58e3-3311-48c1-8235-3ab908b67319\")>,\n",
       " <selenium.webdriver.remote.webelement.WebElement (session=\"33f91156aa9293d271240eaa2aa94b8a\", element=\"2e8e6b6b-afd9-4f90-9e57-e70078d809e4\")>,\n",
       " <selenium.webdriver.remote.webelement.WebElement (session=\"33f91156aa9293d271240eaa2aa94b8a\", element=\"6ab106ae-6f57-4766-9fb3-476bbf1df4c6\")>,\n",
       " <selenium.webdriver.remote.webelement.WebElement (session=\"33f91156aa9293d271240eaa2aa94b8a\", element=\"e3ff80a2-42e2-4991-bb9c-feebd4313086\")>,\n",
       " <selenium.webdriver.remote.webelement.WebElement (session=\"33f91156aa9293d271240eaa2aa94b8a\", element=\"55ad665b-5100-4a4f-839d-a6caa8044490\")>,\n",
       " <selenium.webdriver.remote.webelement.WebElement (session=\"33f91156aa9293d271240eaa2aa94b8a\", element=\"fa66419c-c4f5-45c9-b18d-a81cac0f5951\")>,\n",
       " <selenium.webdriver.remote.webelement.WebElement (session=\"33f91156aa9293d271240eaa2aa94b8a\", element=\"d270dddc-5fee-4a46-917d-8e29c2ed5eaf\")>,\n",
       " <selenium.webdriver.remote.webelement.WebElement (session=\"33f91156aa9293d271240eaa2aa94b8a\", element=\"dbab3e64-e121-4bee-bf10-a1380351a3e3\")>,\n",
       " <selenium.webdriver.remote.webelement.WebElement (session=\"33f91156aa9293d271240eaa2aa94b8a\", element=\"bb1c99d2-6dce-4129-95fa-59e03be0bf18\")>,\n",
       " <selenium.webdriver.remote.webelement.WebElement (session=\"33f91156aa9293d271240eaa2aa94b8a\", element=\"61a70258-a3ac-4220-90dd-296e00f538d0\")>,\n",
       " <selenium.webdriver.remote.webelement.WebElement (session=\"33f91156aa9293d271240eaa2aa94b8a\", element=\"54d81bee-d4bc-4151-a7ff-7c9c78fcdf3f\")>,\n",
       " <selenium.webdriver.remote.webelement.WebElement (session=\"33f91156aa9293d271240eaa2aa94b8a\", element=\"ee92a2d1-d2e9-4347-997a-25c8cc283f00\")>,\n",
       " <selenium.webdriver.remote.webelement.WebElement (session=\"33f91156aa9293d271240eaa2aa94b8a\", element=\"c962df56-691c-44d1-8108-afc8a3b79e39\")>,\n",
       " <selenium.webdriver.remote.webelement.WebElement (session=\"33f91156aa9293d271240eaa2aa94b8a\", element=\"705f5788-0c4a-4bd7-8154-8be7b059f661\")>,\n",
       " <selenium.webdriver.remote.webelement.WebElement (session=\"33f91156aa9293d271240eaa2aa94b8a\", element=\"f9390add-b6fc-4113-8691-8164adbc6622\")>,\n",
       " <selenium.webdriver.remote.webelement.WebElement (session=\"33f91156aa9293d271240eaa2aa94b8a\", element=\"42943b5b-e09b-4755-ba08-5319647772d3\")>,\n",
       " <selenium.webdriver.remote.webelement.WebElement (session=\"33f91156aa9293d271240eaa2aa94b8a\", element=\"23c69e90-b0b7-4a26-baba-2fe602040e66\")>,\n",
       " <selenium.webdriver.remote.webelement.WebElement (session=\"33f91156aa9293d271240eaa2aa94b8a\", element=\"0c3e0c06-b07d-4b9f-ac18-770f82e47722\")>,\n",
       " <selenium.webdriver.remote.webelement.WebElement (session=\"33f91156aa9293d271240eaa2aa94b8a\", element=\"0ff100c3-ab5c-4511-b0ea-020861c78e29\")>,\n",
       " <selenium.webdriver.remote.webelement.WebElement (session=\"33f91156aa9293d271240eaa2aa94b8a\", element=\"2e86fcfb-2f85-47ce-b2bc-b067b50d810d\")>,\n",
       " <selenium.webdriver.remote.webelement.WebElement (session=\"33f91156aa9293d271240eaa2aa94b8a\", element=\"cff5c96d-f85d-4af9-8b5c-e3c1e8ae4094\")>,\n",
       " <selenium.webdriver.remote.webelement.WebElement (session=\"33f91156aa9293d271240eaa2aa94b8a\", element=\"26c921bc-e415-4dcf-bca2-54d5e7cbefd4\")>,\n",
       " <selenium.webdriver.remote.webelement.WebElement (session=\"33f91156aa9293d271240eaa2aa94b8a\", element=\"85f6fdce-a449-4f2c-80b8-136c1d6ac587\")>,\n",
       " <selenium.webdriver.remote.webelement.WebElement (session=\"33f91156aa9293d271240eaa2aa94b8a\", element=\"9ff454a4-0ccb-4f51-b651-dbeecbb6638a\")>,\n",
       " <selenium.webdriver.remote.webelement.WebElement (session=\"33f91156aa9293d271240eaa2aa94b8a\", element=\"ddfc9688-64d4-4b1c-be81-f55e6672e4a1\")>,\n",
       " <selenium.webdriver.remote.webelement.WebElement (session=\"33f91156aa9293d271240eaa2aa94b8a\", element=\"2d70e2a2-e061-444c-936e-82ea17c5a747\")>,\n",
       " <selenium.webdriver.remote.webelement.WebElement (session=\"33f91156aa9293d271240eaa2aa94b8a\", element=\"6bbcaae4-248b-4a1b-b606-70dd485c3905\")>,\n",
       " <selenium.webdriver.remote.webelement.WebElement (session=\"33f91156aa9293d271240eaa2aa94b8a\", element=\"6b9c4cc9-b039-4cb3-bb48-7c77732dc659\")>,\n",
       " <selenium.webdriver.remote.webelement.WebElement (session=\"33f91156aa9293d271240eaa2aa94b8a\", element=\"f182b96a-0ef3-436f-b927-13d709f244cd\")>,\n",
       " <selenium.webdriver.remote.webelement.WebElement (session=\"33f91156aa9293d271240eaa2aa94b8a\", element=\"ada1dd05-5597-4d62-b605-d06fb3f9f8b2\")>,\n",
       " <selenium.webdriver.remote.webelement.WebElement (session=\"33f91156aa9293d271240eaa2aa94b8a\", element=\"01d72324-52a9-4f5e-91e9-b09e3f49c89c\")>,\n",
       " <selenium.webdriver.remote.webelement.WebElement (session=\"33f91156aa9293d271240eaa2aa94b8a\", element=\"b28fad41-9bd5-4649-87a7-dd6ded0d879e\")>,\n",
       " <selenium.webdriver.remote.webelement.WebElement (session=\"33f91156aa9293d271240eaa2aa94b8a\", element=\"c243e21f-71b8-4824-8f41-aeb92c4cbc38\")>,\n",
       " <selenium.webdriver.remote.webelement.WebElement (session=\"33f91156aa9293d271240eaa2aa94b8a\", element=\"ac2470bb-a875-4e48-a00b-48bcb025e70d\")>,\n",
       " <selenium.webdriver.remote.webelement.WebElement (session=\"33f91156aa9293d271240eaa2aa94b8a\", element=\"3d76d18b-3100-4987-afbf-12cef4cb6b43\")>,\n",
       " <selenium.webdriver.remote.webelement.WebElement (session=\"33f91156aa9293d271240eaa2aa94b8a\", element=\"7855ebf7-0b57-44fe-a2d1-9bdfdaf753f6\")>,\n",
       " <selenium.webdriver.remote.webelement.WebElement (session=\"33f91156aa9293d271240eaa2aa94b8a\", element=\"c87f9beb-bc80-4bb0-8cde-7693252a6c1a\")>,\n",
       " <selenium.webdriver.remote.webelement.WebElement (session=\"33f91156aa9293d271240eaa2aa94b8a\", element=\"686dc7e0-7ed1-434d-b339-2d7095a5b330\")>,\n",
       " <selenium.webdriver.remote.webelement.WebElement (session=\"33f91156aa9293d271240eaa2aa94b8a\", element=\"e232e26f-f5a3-4238-bba7-9d33bb8863c4\")>,\n",
       " <selenium.webdriver.remote.webelement.WebElement (session=\"33f91156aa9293d271240eaa2aa94b8a\", element=\"3ddb04fc-c4be-4455-bffd-dd47009f6942\")>,\n",
       " <selenium.webdriver.remote.webelement.WebElement (session=\"33f91156aa9293d271240eaa2aa94b8a\", element=\"7a8ee97b-dcdf-425e-a963-87fd81edd0ff\")>,\n",
       " <selenium.webdriver.remote.webelement.WebElement (session=\"33f91156aa9293d271240eaa2aa94b8a\", element=\"5dffbe95-17f0-491e-b155-a3582184a678\")>,\n",
       " <selenium.webdriver.remote.webelement.WebElement (session=\"33f91156aa9293d271240eaa2aa94b8a\", element=\"5c9ed0d2-e0e8-4447-a33d-6ac7d6281707\")>,\n",
       " <selenium.webdriver.remote.webelement.WebElement (session=\"33f91156aa9293d271240eaa2aa94b8a\", element=\"39bed62f-9367-4341-8ca5-136cbc0de553\")>,\n",
       " <selenium.webdriver.remote.webelement.WebElement (session=\"33f91156aa9293d271240eaa2aa94b8a\", element=\"b121e1c5-6b56-4f5b-82e5-52b63bba6d7b\")>,\n",
       " <selenium.webdriver.remote.webelement.WebElement (session=\"33f91156aa9293d271240eaa2aa94b8a\", element=\"68e1b53d-4c9c-473b-b6bf-810ec042a3a6\")>,\n",
       " <selenium.webdriver.remote.webelement.WebElement (session=\"33f91156aa9293d271240eaa2aa94b8a\", element=\"466324ec-7a05-43e3-ba69-2f3618ce8058\")>]"
      ]
     },
     "execution_count": 452,
     "metadata": {},
     "output_type": "execute_result"
    }
   ],
   "source": [
    "price_tags = driver.find_elements_by_xpath(\"//div[@class='product-price']/span[1]\")\n",
    "price_tags"
   ]
  },
  {
   "cell_type": "code",
   "execution_count": 453,
   "id": "d15d3972",
   "metadata": {},
   "outputs": [
    {
     "data": {
      "text/plain": [
       "['Rs. 2749Rs. 5499',\n",
       " 'Rs. 1739Rs. 5799',\n",
       " 'Rs. 4396Rs. 5495',\n",
       " 'Rs. 1499Rs. 3495',\n",
       " 'Rs. 1889Rs. 6299',\n",
       " 'Rs. 943Rs. 4495',\n",
       " 'Rs. 3249Rs. 6499',\n",
       " 'Rs. 995Rs. 1990',\n",
       " 'Rs. 15999',\n",
       " 'Rs. 569Rs. 999',\n",
       " 'Rs. 3146Rs. 4495',\n",
       " 'Rs. 2249Rs. 2999',\n",
       " 'Rs. 12999',\n",
       " 'Rs. 2159Rs. 2699',\n",
       " 'Rs. 2069Rs. 6899',\n",
       " 'Rs. 3849Rs. 5499',\n",
       " 'Rs. 5096Rs. 6795',\n",
       " 'Rs. 15999',\n",
       " 'Rs. 2099Rs. 3499',\n",
       " 'Rs. 7649Rs. 8999',\n",
       " 'Rs. 1499Rs. 3495',\n",
       " 'Rs. 7649Rs. 8999',\n",
       " 'Rs. 1999',\n",
       " 'Rs. 2399Rs. 3999',\n",
       " 'Rs. 2499',\n",
       " 'Rs. 1469Rs. 4899',\n",
       " 'Rs. 665Rs. 3329',\n",
       " 'Rs. 1444Rs. 1699',\n",
       " 'Rs. 3499Rs. 4999',\n",
       " 'Rs. 898Rs. 4490',\n",
       " 'Rs. 1889Rs. 6299',\n",
       " 'Rs. 5196Rs. 6495',\n",
       " 'Rs. 2999',\n",
       " 'Rs. 4799Rs. 7999',\n",
       " 'Rs. 1006Rs. 4195',\n",
       " 'Rs. 5095Rs. 5995',\n",
       " 'Rs. 3009Rs. 4299',\n",
       " 'Rs. 914Rs. 3049',\n",
       " 'Rs. 4556Rs. 5695',\n",
       " 'Rs. 3499Rs. 4999',\n",
       " 'Rs. 5099Rs. 5999',\n",
       " 'Rs. 1469Rs. 4899',\n",
       " 'Rs. 759Rs. 3999',\n",
       " 'Rs. 2794Rs. 4299',\n",
       " 'Rs. 898Rs. 4490',\n",
       " 'Rs. 674Rs. 1499',\n",
       " 'Rs. 3399Rs. 3999',\n",
       " 'Rs. 1934Rs. 4299',\n",
       " 'Rs. 3999Rs. 7999',\n",
       " 'Rs. 987Rs. 2599']"
      ]
     },
     "execution_count": 453,
     "metadata": {},
     "output_type": "execute_result"
    }
   ],
   "source": [
    "for i in price_tags:\n",
    "    title=i.text\n",
    "    price.append(title)\n",
    "price"
   ]
  },
  {
   "cell_type": "markdown",
   "id": "9762a766",
   "metadata": {},
   "source": [
    "NEXT PAGE:-2\n"
   ]
  },
  {
   "cell_type": "code",
   "execution_count": 454,
   "id": "cce36e80",
   "metadata": {},
   "outputs": [],
   "source": [
    "nxt_button =  driver.find_element_by_xpath(\"//ul[@class='pagination-container']/li[12]\")\n",
    "nxt_button.click()"
   ]
  },
  {
   "cell_type": "code",
   "execution_count": 455,
   "id": "c1fdad86",
   "metadata": {},
   "outputs": [],
   "source": [
    "brand1 = []\n",
    "short_description1 =[]\n",
    "price1 = []\n"
   ]
  },
  {
   "cell_type": "code",
   "execution_count": 456,
   "id": "9e6047e4",
   "metadata": {},
   "outputs": [
    {
     "data": {
      "text/plain": [
       "[<selenium.webdriver.remote.webelement.WebElement (session=\"33f91156aa9293d271240eaa2aa94b8a\", element=\"d8597d84-55c1-49f0-85c0-2c75601ff9f2\")>,\n",
       " <selenium.webdriver.remote.webelement.WebElement (session=\"33f91156aa9293d271240eaa2aa94b8a\", element=\"00dcaddc-f564-4139-9575-3731f8c5f910\")>,\n",
       " <selenium.webdriver.remote.webelement.WebElement (session=\"33f91156aa9293d271240eaa2aa94b8a\", element=\"c05f9484-1754-4f94-bf7c-e0ba80b619dd\")>,\n",
       " <selenium.webdriver.remote.webelement.WebElement (session=\"33f91156aa9293d271240eaa2aa94b8a\", element=\"ad8f19e6-7627-4ac1-abcd-c6a3b090a791\")>,\n",
       " <selenium.webdriver.remote.webelement.WebElement (session=\"33f91156aa9293d271240eaa2aa94b8a\", element=\"7069dc03-d605-4496-a3dd-1086a6413dee\")>,\n",
       " <selenium.webdriver.remote.webelement.WebElement (session=\"33f91156aa9293d271240eaa2aa94b8a\", element=\"b86848d3-bb6f-471b-bf72-9960b47106d7\")>,\n",
       " <selenium.webdriver.remote.webelement.WebElement (session=\"33f91156aa9293d271240eaa2aa94b8a\", element=\"331ecc4e-70cc-4a81-a6e6-a37f68caa87d\")>,\n",
       " <selenium.webdriver.remote.webelement.WebElement (session=\"33f91156aa9293d271240eaa2aa94b8a\", element=\"3c9d288c-3f1a-4e27-990b-a243274dbbe0\")>,\n",
       " <selenium.webdriver.remote.webelement.WebElement (session=\"33f91156aa9293d271240eaa2aa94b8a\", element=\"1e4d7114-c784-4b91-afc9-95a56e2230c9\")>,\n",
       " <selenium.webdriver.remote.webelement.WebElement (session=\"33f91156aa9293d271240eaa2aa94b8a\", element=\"1e04a192-9bdb-4f2d-8d10-8d8b53b1a0cc\")>,\n",
       " <selenium.webdriver.remote.webelement.WebElement (session=\"33f91156aa9293d271240eaa2aa94b8a\", element=\"77361891-be81-4833-9f81-da5887f16c54\")>,\n",
       " <selenium.webdriver.remote.webelement.WebElement (session=\"33f91156aa9293d271240eaa2aa94b8a\", element=\"8b8f53a0-97d1-420f-b595-8a47ed3d1631\")>,\n",
       " <selenium.webdriver.remote.webelement.WebElement (session=\"33f91156aa9293d271240eaa2aa94b8a\", element=\"0e551f68-d0fe-45e7-833a-be1b489e0b7a\")>,\n",
       " <selenium.webdriver.remote.webelement.WebElement (session=\"33f91156aa9293d271240eaa2aa94b8a\", element=\"f2b286ac-d158-4409-8f03-ccaea62aae44\")>,\n",
       " <selenium.webdriver.remote.webelement.WebElement (session=\"33f91156aa9293d271240eaa2aa94b8a\", element=\"67f07068-6480-4a7a-8f61-f4225ff28cbe\")>,\n",
       " <selenium.webdriver.remote.webelement.WebElement (session=\"33f91156aa9293d271240eaa2aa94b8a\", element=\"7f033447-623f-4199-9d47-b5be715cd62a\")>,\n",
       " <selenium.webdriver.remote.webelement.WebElement (session=\"33f91156aa9293d271240eaa2aa94b8a\", element=\"a4d66187-b958-4f19-aa3e-10c9ad366cc8\")>,\n",
       " <selenium.webdriver.remote.webelement.WebElement (session=\"33f91156aa9293d271240eaa2aa94b8a\", element=\"92ad71b7-e9c3-40b0-858a-85bd6bf74637\")>,\n",
       " <selenium.webdriver.remote.webelement.WebElement (session=\"33f91156aa9293d271240eaa2aa94b8a\", element=\"669a1fe2-b11c-4b4c-bfbd-68f81348abe1\")>,\n",
       " <selenium.webdriver.remote.webelement.WebElement (session=\"33f91156aa9293d271240eaa2aa94b8a\", element=\"197ad282-53e2-490e-928a-23cdaa504950\")>,\n",
       " <selenium.webdriver.remote.webelement.WebElement (session=\"33f91156aa9293d271240eaa2aa94b8a\", element=\"baf9a2c6-38c8-4bc8-88e6-b2487603a563\")>,\n",
       " <selenium.webdriver.remote.webelement.WebElement (session=\"33f91156aa9293d271240eaa2aa94b8a\", element=\"44e269dd-fdc1-43a2-8f44-445eec9400d3\")>,\n",
       " <selenium.webdriver.remote.webelement.WebElement (session=\"33f91156aa9293d271240eaa2aa94b8a\", element=\"ae94eff5-ca40-4174-89ee-2d75af7dba22\")>,\n",
       " <selenium.webdriver.remote.webelement.WebElement (session=\"33f91156aa9293d271240eaa2aa94b8a\", element=\"534068f0-ec53-4b00-89db-22782eae9dbf\")>,\n",
       " <selenium.webdriver.remote.webelement.WebElement (session=\"33f91156aa9293d271240eaa2aa94b8a\", element=\"c6457e74-6017-4682-bdad-3eca4f8af45e\")>,\n",
       " <selenium.webdriver.remote.webelement.WebElement (session=\"33f91156aa9293d271240eaa2aa94b8a\", element=\"696459e1-4797-4b41-b554-162b18f9ddd3\")>,\n",
       " <selenium.webdriver.remote.webelement.WebElement (session=\"33f91156aa9293d271240eaa2aa94b8a\", element=\"f8dc1f36-b949-41ef-957f-a871eca46681\")>,\n",
       " <selenium.webdriver.remote.webelement.WebElement (session=\"33f91156aa9293d271240eaa2aa94b8a\", element=\"d6b00487-2cc1-40b5-a051-cdfb82143789\")>,\n",
       " <selenium.webdriver.remote.webelement.WebElement (session=\"33f91156aa9293d271240eaa2aa94b8a\", element=\"d66e124d-c8ba-477b-adbd-aaa74d5c9da3\")>,\n",
       " <selenium.webdriver.remote.webelement.WebElement (session=\"33f91156aa9293d271240eaa2aa94b8a\", element=\"c20c9f3c-38ea-4848-b908-a97fd7eff9d9\")>,\n",
       " <selenium.webdriver.remote.webelement.WebElement (session=\"33f91156aa9293d271240eaa2aa94b8a\", element=\"c9b40ef3-63bd-47b0-968f-9713ae0f19b2\")>,\n",
       " <selenium.webdriver.remote.webelement.WebElement (session=\"33f91156aa9293d271240eaa2aa94b8a\", element=\"2d3b9537-2366-425b-b125-7a4428daf036\")>,\n",
       " <selenium.webdriver.remote.webelement.WebElement (session=\"33f91156aa9293d271240eaa2aa94b8a\", element=\"a9b7f457-7edd-4185-89b2-1bce00f77a5f\")>,\n",
       " <selenium.webdriver.remote.webelement.WebElement (session=\"33f91156aa9293d271240eaa2aa94b8a\", element=\"c6a1451d-a1ca-4861-99a2-4e234978e41d\")>,\n",
       " <selenium.webdriver.remote.webelement.WebElement (session=\"33f91156aa9293d271240eaa2aa94b8a\", element=\"c2dda48c-eb28-44ea-b426-491b9230160a\")>,\n",
       " <selenium.webdriver.remote.webelement.WebElement (session=\"33f91156aa9293d271240eaa2aa94b8a\", element=\"e99e3b84-b7ad-4721-aeb5-235cf90c4f30\")>,\n",
       " <selenium.webdriver.remote.webelement.WebElement (session=\"33f91156aa9293d271240eaa2aa94b8a\", element=\"dcf215b3-08f2-4ddf-b0e2-eb7557165ec0\")>,\n",
       " <selenium.webdriver.remote.webelement.WebElement (session=\"33f91156aa9293d271240eaa2aa94b8a\", element=\"a5f3741b-f419-449d-8986-26714704b2ba\")>,\n",
       " <selenium.webdriver.remote.webelement.WebElement (session=\"33f91156aa9293d271240eaa2aa94b8a\", element=\"fcf44db4-e293-4a3b-be0b-52086d68cfcb\")>,\n",
       " <selenium.webdriver.remote.webelement.WebElement (session=\"33f91156aa9293d271240eaa2aa94b8a\", element=\"aba8ce55-57c7-4188-b8b5-3e568a353473\")>,\n",
       " <selenium.webdriver.remote.webelement.WebElement (session=\"33f91156aa9293d271240eaa2aa94b8a\", element=\"3ca8eb72-3611-4de0-91c0-0d9ae8f8ffb3\")>,\n",
       " <selenium.webdriver.remote.webelement.WebElement (session=\"33f91156aa9293d271240eaa2aa94b8a\", element=\"fb0b3289-9637-461a-ba54-25368d06a074\")>,\n",
       " <selenium.webdriver.remote.webelement.WebElement (session=\"33f91156aa9293d271240eaa2aa94b8a\", element=\"57984d65-7bfb-4f49-8d5f-8967b1a4f814\")>,\n",
       " <selenium.webdriver.remote.webelement.WebElement (session=\"33f91156aa9293d271240eaa2aa94b8a\", element=\"aa2105ad-ed01-47a1-8930-7c0b3d1fc457\")>,\n",
       " <selenium.webdriver.remote.webelement.WebElement (session=\"33f91156aa9293d271240eaa2aa94b8a\", element=\"9901f6fa-a937-4d2b-ba96-9bc3218532e4\")>,\n",
       " <selenium.webdriver.remote.webelement.WebElement (session=\"33f91156aa9293d271240eaa2aa94b8a\", element=\"56dedd47-35f8-450f-ad0c-880439cbb66f\")>,\n",
       " <selenium.webdriver.remote.webelement.WebElement (session=\"33f91156aa9293d271240eaa2aa94b8a\", element=\"cf754f56-2a50-466e-926f-238610deb332\")>,\n",
       " <selenium.webdriver.remote.webelement.WebElement (session=\"33f91156aa9293d271240eaa2aa94b8a\", element=\"76c879df-f506-4774-8312-73bad0470a96\")>,\n",
       " <selenium.webdriver.remote.webelement.WebElement (session=\"33f91156aa9293d271240eaa2aa94b8a\", element=\"cceacb29-46ad-4d9f-abc9-1fd0acfd8a56\")>,\n",
       " <selenium.webdriver.remote.webelement.WebElement (session=\"33f91156aa9293d271240eaa2aa94b8a\", element=\"05a3b3ed-66de-4917-a977-ccf7ad681188\")>]"
      ]
     },
     "execution_count": 456,
     "metadata": {},
     "output_type": "execute_result"
    }
   ],
   "source": [
    "brand_tags1 = driver.find_elements_by_xpath(\"//h3[@class='product-brand']\")\n",
    "brand_tags1"
   ]
  },
  {
   "cell_type": "code",
   "execution_count": 457,
   "id": "43eb9463",
   "metadata": {},
   "outputs": [
    {
     "data": {
      "text/plain": [
       "['Eego Italy',\n",
       " 'Red Tape',\n",
       " 'Skechers',\n",
       " 'Sparx',\n",
       " 'Reebok',\n",
       " 'HRX by Hrithik Roshan',\n",
       " 'Puma',\n",
       " 'Skechers',\n",
       " 'Skechers',\n",
       " 'Fentacia',\n",
       " 'U.S. Polo Assn.',\n",
       " 'DEAS',\n",
       " 'HRX by Hrithik Roshan',\n",
       " 'El Paso',\n",
       " 'Puma',\n",
       " 'Sparx',\n",
       " 'Puma',\n",
       " 'Catwalk',\n",
       " 'ADIDAS',\n",
       " 'Sparx',\n",
       " 'U.S. Polo Assn.',\n",
       " 'Louis Philippe Sport',\n",
       " 'Red Tape',\n",
       " 'H&M',\n",
       " 'HRX by Hrithik Roshan',\n",
       " 'DressBerry',\n",
       " 'Puma',\n",
       " 'HRX by Hrithik Roshan',\n",
       " 'HRX by Hrithik Roshan',\n",
       " 'Puma',\n",
       " 'U.S. Polo Assn.',\n",
       " 'Nike',\n",
       " 'Skechers',\n",
       " 'Puma',\n",
       " 'ADIDAS',\n",
       " 'HRX by Hrithik Roshan',\n",
       " 'Skechers',\n",
       " 'HRX by Hrithik Roshan',\n",
       " 'Puma',\n",
       " 'H&M',\n",
       " 'Skechers',\n",
       " 'Reebok',\n",
       " 'one8 x PUMA',\n",
       " 'Red Tape',\n",
       " 'Campus',\n",
       " 'Monrow',\n",
       " 'ADIDAS',\n",
       " 'Skechers',\n",
       " 'Shoetopia',\n",
       " 'Provogue']"
      ]
     },
     "execution_count": 457,
     "metadata": {},
     "output_type": "execute_result"
    }
   ],
   "source": [
    "for i in brand_tags1:\n",
    "    title=i.text\n",
    "    brand1.append(title)\n",
    "brand1"
   ]
  },
  {
   "cell_type": "code",
   "execution_count": 458,
   "id": "ffd0c94a",
   "metadata": {},
   "outputs": [
    {
     "data": {
      "text/plain": [
       "[<selenium.webdriver.remote.webelement.WebElement (session=\"33f91156aa9293d271240eaa2aa94b8a\", element=\"393a34ad-ba00-4319-8828-669ceef6436c\")>,\n",
       " <selenium.webdriver.remote.webelement.WebElement (session=\"33f91156aa9293d271240eaa2aa94b8a\", element=\"127ce093-6bb1-45c7-90be-2a9308411f83\")>,\n",
       " <selenium.webdriver.remote.webelement.WebElement (session=\"33f91156aa9293d271240eaa2aa94b8a\", element=\"59bbee43-1784-440e-8ec8-691ac21f89e3\")>,\n",
       " <selenium.webdriver.remote.webelement.WebElement (session=\"33f91156aa9293d271240eaa2aa94b8a\", element=\"194cb3a1-cd97-4f6b-8719-6c46f391e225\")>,\n",
       " <selenium.webdriver.remote.webelement.WebElement (session=\"33f91156aa9293d271240eaa2aa94b8a\", element=\"6ec51f07-329e-4c5d-81cb-1246f7b2e000\")>,\n",
       " <selenium.webdriver.remote.webelement.WebElement (session=\"33f91156aa9293d271240eaa2aa94b8a\", element=\"6084b733-c25a-4e99-9131-fe1ddc29b7a3\")>,\n",
       " <selenium.webdriver.remote.webelement.WebElement (session=\"33f91156aa9293d271240eaa2aa94b8a\", element=\"64b267c7-80c1-4a2a-a6c1-9b31b07c5a13\")>,\n",
       " <selenium.webdriver.remote.webelement.WebElement (session=\"33f91156aa9293d271240eaa2aa94b8a\", element=\"d5fc8300-dcd9-4a2d-acdc-027c88b6d0b8\")>,\n",
       " <selenium.webdriver.remote.webelement.WebElement (session=\"33f91156aa9293d271240eaa2aa94b8a\", element=\"348d2a28-9495-4c4a-b56a-3ea82ed49f9c\")>,\n",
       " <selenium.webdriver.remote.webelement.WebElement (session=\"33f91156aa9293d271240eaa2aa94b8a\", element=\"d9fe331c-a767-4241-b504-1f8ca1585ee5\")>,\n",
       " <selenium.webdriver.remote.webelement.WebElement (session=\"33f91156aa9293d271240eaa2aa94b8a\", element=\"e72cb0b5-40e1-4278-8c10-5ff46cb70244\")>,\n",
       " <selenium.webdriver.remote.webelement.WebElement (session=\"33f91156aa9293d271240eaa2aa94b8a\", element=\"aab6549e-4638-435e-afa8-45fe6eb684bf\")>,\n",
       " <selenium.webdriver.remote.webelement.WebElement (session=\"33f91156aa9293d271240eaa2aa94b8a\", element=\"6ffbc1ed-c8ad-49cc-bb08-a35c99bf911c\")>,\n",
       " <selenium.webdriver.remote.webelement.WebElement (session=\"33f91156aa9293d271240eaa2aa94b8a\", element=\"cf6561ea-b8b5-4de8-baf9-4f85f9465ca3\")>,\n",
       " <selenium.webdriver.remote.webelement.WebElement (session=\"33f91156aa9293d271240eaa2aa94b8a\", element=\"1782159e-af6b-48f5-8a55-ed0ed3ef60e1\")>,\n",
       " <selenium.webdriver.remote.webelement.WebElement (session=\"33f91156aa9293d271240eaa2aa94b8a\", element=\"d3945cb8-31ac-4d7b-959b-5230b604dd28\")>,\n",
       " <selenium.webdriver.remote.webelement.WebElement (session=\"33f91156aa9293d271240eaa2aa94b8a\", element=\"6ea74619-585a-452a-9337-332ff20cf4f2\")>,\n",
       " <selenium.webdriver.remote.webelement.WebElement (session=\"33f91156aa9293d271240eaa2aa94b8a\", element=\"65c0daf6-1d4c-4f4d-b178-f5bd7640ac23\")>,\n",
       " <selenium.webdriver.remote.webelement.WebElement (session=\"33f91156aa9293d271240eaa2aa94b8a\", element=\"22820263-564e-4bc4-9b82-1213fa5ab8b3\")>,\n",
       " <selenium.webdriver.remote.webelement.WebElement (session=\"33f91156aa9293d271240eaa2aa94b8a\", element=\"fac9defa-3011-4897-81b6-eaeb72a78071\")>,\n",
       " <selenium.webdriver.remote.webelement.WebElement (session=\"33f91156aa9293d271240eaa2aa94b8a\", element=\"99f41f94-f9a2-43b2-a52e-11084807d23f\")>,\n",
       " <selenium.webdriver.remote.webelement.WebElement (session=\"33f91156aa9293d271240eaa2aa94b8a\", element=\"8000eba4-9cfb-4350-b938-0d2ffd9d61f7\")>,\n",
       " <selenium.webdriver.remote.webelement.WebElement (session=\"33f91156aa9293d271240eaa2aa94b8a\", element=\"413d02cd-afb7-4bb4-9a5b-7aa73b7290b4\")>,\n",
       " <selenium.webdriver.remote.webelement.WebElement (session=\"33f91156aa9293d271240eaa2aa94b8a\", element=\"6847d91d-8fee-4c58-9c10-5fb1a9c0b57b\")>,\n",
       " <selenium.webdriver.remote.webelement.WebElement (session=\"33f91156aa9293d271240eaa2aa94b8a\", element=\"5ed59632-5274-4bca-9597-231df6e63027\")>,\n",
       " <selenium.webdriver.remote.webelement.WebElement (session=\"33f91156aa9293d271240eaa2aa94b8a\", element=\"608f9333-2267-42dc-9203-89070b74841a\")>,\n",
       " <selenium.webdriver.remote.webelement.WebElement (session=\"33f91156aa9293d271240eaa2aa94b8a\", element=\"6781ecd1-27ed-4c2b-a2d4-ddf7b5cc9dcc\")>,\n",
       " <selenium.webdriver.remote.webelement.WebElement (session=\"33f91156aa9293d271240eaa2aa94b8a\", element=\"0d0360e5-6750-4282-ba7b-d9aa52ac4d2f\")>,\n",
       " <selenium.webdriver.remote.webelement.WebElement (session=\"33f91156aa9293d271240eaa2aa94b8a\", element=\"5d9e0521-0014-4dbf-b7fc-2880b6503cdb\")>,\n",
       " <selenium.webdriver.remote.webelement.WebElement (session=\"33f91156aa9293d271240eaa2aa94b8a\", element=\"6394eebd-e59c-4ca0-ac55-d6a6e249cac8\")>,\n",
       " <selenium.webdriver.remote.webelement.WebElement (session=\"33f91156aa9293d271240eaa2aa94b8a\", element=\"018e1a6b-49c3-47fc-a18b-884c0bfbae13\")>,\n",
       " <selenium.webdriver.remote.webelement.WebElement (session=\"33f91156aa9293d271240eaa2aa94b8a\", element=\"16e67df4-59eb-499c-a80a-cc56cd466b22\")>,\n",
       " <selenium.webdriver.remote.webelement.WebElement (session=\"33f91156aa9293d271240eaa2aa94b8a\", element=\"c90b4bd7-087f-4239-ab9a-7a1a63f6056b\")>,\n",
       " <selenium.webdriver.remote.webelement.WebElement (session=\"33f91156aa9293d271240eaa2aa94b8a\", element=\"1751446c-3d94-473e-869b-ab2e185aed91\")>,\n",
       " <selenium.webdriver.remote.webelement.WebElement (session=\"33f91156aa9293d271240eaa2aa94b8a\", element=\"7a06e12e-da75-47a5-a118-2154588d3cc6\")>,\n",
       " <selenium.webdriver.remote.webelement.WebElement (session=\"33f91156aa9293d271240eaa2aa94b8a\", element=\"784fa687-77b7-4ed7-ace1-96342c7df166\")>,\n",
       " <selenium.webdriver.remote.webelement.WebElement (session=\"33f91156aa9293d271240eaa2aa94b8a\", element=\"72ebac32-482e-4241-88fa-02973dbc7ce4\")>,\n",
       " <selenium.webdriver.remote.webelement.WebElement (session=\"33f91156aa9293d271240eaa2aa94b8a\", element=\"fee4a479-6bb4-44fd-b10c-693895fbc278\")>,\n",
       " <selenium.webdriver.remote.webelement.WebElement (session=\"33f91156aa9293d271240eaa2aa94b8a\", element=\"98a68a2d-0020-4283-906b-3020b5547aae\")>,\n",
       " <selenium.webdriver.remote.webelement.WebElement (session=\"33f91156aa9293d271240eaa2aa94b8a\", element=\"dc06a455-bf14-415a-a742-6a53d27d510c\")>,\n",
       " <selenium.webdriver.remote.webelement.WebElement (session=\"33f91156aa9293d271240eaa2aa94b8a\", element=\"432d2dd6-2e37-4fbd-a7b7-da6f71c44793\")>,\n",
       " <selenium.webdriver.remote.webelement.WebElement (session=\"33f91156aa9293d271240eaa2aa94b8a\", element=\"07dadb36-23cb-4837-861e-dd887a47bb2d\")>,\n",
       " <selenium.webdriver.remote.webelement.WebElement (session=\"33f91156aa9293d271240eaa2aa94b8a\", element=\"73e9506e-ee73-4b0f-bc87-7d2eaed5b664\")>,\n",
       " <selenium.webdriver.remote.webelement.WebElement (session=\"33f91156aa9293d271240eaa2aa94b8a\", element=\"75b85953-3761-43bd-99c4-d9341da8e1e4\")>,\n",
       " <selenium.webdriver.remote.webelement.WebElement (session=\"33f91156aa9293d271240eaa2aa94b8a\", element=\"4d827725-f751-4aa0-92e2-dcbf1a3e0dac\")>,\n",
       " <selenium.webdriver.remote.webelement.WebElement (session=\"33f91156aa9293d271240eaa2aa94b8a\", element=\"6241abe4-ce69-498f-b63f-18f5f9ac3820\")>,\n",
       " <selenium.webdriver.remote.webelement.WebElement (session=\"33f91156aa9293d271240eaa2aa94b8a\", element=\"ba037614-5301-4254-be13-a69dd117a563\")>,\n",
       " <selenium.webdriver.remote.webelement.WebElement (session=\"33f91156aa9293d271240eaa2aa94b8a\", element=\"abbaea3b-b28d-4cb0-89de-92978973e228\")>,\n",
       " <selenium.webdriver.remote.webelement.WebElement (session=\"33f91156aa9293d271240eaa2aa94b8a\", element=\"c4e4bd41-94b1-45d1-88ac-4fa5d4049b5c\")>,\n",
       " <selenium.webdriver.remote.webelement.WebElement (session=\"33f91156aa9293d271240eaa2aa94b8a\", element=\"c71f0a8b-d167-4e56-be3c-19528856e5af\")>]"
      ]
     },
     "execution_count": 458,
     "metadata": {},
     "output_type": "execute_result"
    }
   ],
   "source": [
    "descrption_tags1 = driver.find_elements_by_xpath(\"//h4[@class='product-product']\")\n",
    "descrption_tags1"
   ]
  },
  {
   "cell_type": "code",
   "execution_count": 459,
   "id": "93c1f8dc",
   "metadata": {},
   "outputs": [
    {
     "data": {
      "text/plain": [
       "['Men Trekking Shoes',\n",
       " 'Women Walking Shoes',\n",
       " 'Men EVOLUTION Walking Shoes',\n",
       " 'Men Running Sports Shoes',\n",
       " 'Men Grafite Running Shoes',\n",
       " 'Men Propulsion Running Shoes',\n",
       " 'Men Trinity IDP Shoes Sneakers',\n",
       " 'Men BOUNDER-MIRKLE Sneakers',\n",
       " 'Men Go Mojo 2.0 Lucite Running',\n",
       " 'Men Lightweight Flat Boots',\n",
       " 'Men Bronx Sneakers',\n",
       " 'Women Mules Flats',\n",
       " 'Men Gamescape sneaker',\n",
       " 'Women Solid Heeled Boots',\n",
       " 'Unisex Kent 2.0 IDP Sneakers',\n",
       " 'Men Running Shoes',\n",
       " 'Men Clasp IDP Sneakers',\n",
       " 'Women Sandals',\n",
       " 'Men Classigy Running Shoes',\n",
       " 'Men Running Shoes',\n",
       " 'Men LEBRON 2.0 Walking Shoes',\n",
       " 'Men Solid Sneakers',\n",
       " 'Men Solid Leather Formal Derbys',\n",
       " 'Men Slip-On Trainers',\n",
       " 'Men Gamescape Sneakers',\n",
       " 'Women Cut-Work Open Toe Flats',\n",
       " 'Men Rapido III TT Football',\n",
       " 'Men Urban Street Shoes',\n",
       " 'Women Walk Ride Running Shoes',\n",
       " 'Unisex Rigel IDP Sneakers',\n",
       " 'Men Colourblocked Sneakers',\n",
       " 'Kids REVOLUTION Running Shoes',\n",
       " 'Men Go Flex 2 Walking Shoes',\n",
       " 'Men Dwane IDP Running Shoes',\n",
       " 'Men Alliver Running Shoes',\n",
       " 'Men Alpha Running shoe',\n",
       " 'Men GO WALK EVOLUTION Walking',\n",
       " 'Women Running Shoes',\n",
       " 'Unisex Disperse XT 2 Training',\n",
       " 'Women Knot-Detail Sandals',\n",
       " 'Women Walking Shoes',\n",
       " 'Men Austin 2.0 Running Shoes',\n",
       " 'Men Focus One8 IDP Run Shoes',\n",
       " 'Men Air + Walking Shoes',\n",
       " 'Men Flying Fury Running Shoes',\n",
       " 'Women Sandals',\n",
       " 'Men Dropset Training Shoes',\n",
       " 'Men Go Walk Max- Painted Sky',\n",
       " 'Women Open Toe Flats',\n",
       " 'Men Solid Penny Loafers']"
      ]
     },
     "execution_count": 459,
     "metadata": {},
     "output_type": "execute_result"
    }
   ],
   "source": [
    "for i in descrption_tags1:\n",
    "    title=i.text\n",
    "    short_description1.append(title)\n",
    "short_description1"
   ]
  },
  {
   "cell_type": "code",
   "execution_count": 460,
   "id": "71a89357",
   "metadata": {},
   "outputs": [
    {
     "data": {
      "text/plain": [
       "[<selenium.webdriver.remote.webelement.WebElement (session=\"33f91156aa9293d271240eaa2aa94b8a\", element=\"466324ec-7a05-43e3-ba69-2f3618ce8058\")>,\n",
       " <selenium.webdriver.remote.webelement.WebElement (session=\"33f91156aa9293d271240eaa2aa94b8a\", element=\"d67b8138-c585-4e1d-9755-06749d420a44\")>,\n",
       " <selenium.webdriver.remote.webelement.WebElement (session=\"33f91156aa9293d271240eaa2aa94b8a\", element=\"849543a3-4ee2-4f2a-95e3-d54cf6ef94fa\")>,\n",
       " <selenium.webdriver.remote.webelement.WebElement (session=\"33f91156aa9293d271240eaa2aa94b8a\", element=\"ce43753f-3b96-48c5-a181-77db7826f18c\")>,\n",
       " <selenium.webdriver.remote.webelement.WebElement (session=\"33f91156aa9293d271240eaa2aa94b8a\", element=\"bb86ae2d-e6e7-46e6-8da4-024c3d02418d\")>,\n",
       " <selenium.webdriver.remote.webelement.WebElement (session=\"33f91156aa9293d271240eaa2aa94b8a\", element=\"468db84b-bc1a-4360-bc02-782552966f68\")>,\n",
       " <selenium.webdriver.remote.webelement.WebElement (session=\"33f91156aa9293d271240eaa2aa94b8a\", element=\"bc4dd045-fc22-4b5e-b834-9d2afb2a2d3c\")>,\n",
       " <selenium.webdriver.remote.webelement.WebElement (session=\"33f91156aa9293d271240eaa2aa94b8a\", element=\"41b40d42-dbbc-4e68-82c3-6f1e51648c36\")>,\n",
       " <selenium.webdriver.remote.webelement.WebElement (session=\"33f91156aa9293d271240eaa2aa94b8a\", element=\"f212f854-68a3-43ef-8fc3-907838f7b0f9\")>,\n",
       " <selenium.webdriver.remote.webelement.WebElement (session=\"33f91156aa9293d271240eaa2aa94b8a\", element=\"ec2313c9-28ff-4f5d-a43a-2a910a8c3425\")>,\n",
       " <selenium.webdriver.remote.webelement.WebElement (session=\"33f91156aa9293d271240eaa2aa94b8a\", element=\"41132ca3-871b-4cac-acee-dc792a35e33e\")>,\n",
       " <selenium.webdriver.remote.webelement.WebElement (session=\"33f91156aa9293d271240eaa2aa94b8a\", element=\"de8c1fda-a257-4d99-9c1c-5efe7107f4fb\")>,\n",
       " <selenium.webdriver.remote.webelement.WebElement (session=\"33f91156aa9293d271240eaa2aa94b8a\", element=\"a4ca4e82-8e88-488e-9540-517c786d891e\")>,\n",
       " <selenium.webdriver.remote.webelement.WebElement (session=\"33f91156aa9293d271240eaa2aa94b8a\", element=\"dec504f6-e5ce-4902-a63a-3d1c6b400813\")>,\n",
       " <selenium.webdriver.remote.webelement.WebElement (session=\"33f91156aa9293d271240eaa2aa94b8a\", element=\"6fbdf5ee-dd2d-4eef-8f3b-9a75afbcab8f\")>,\n",
       " <selenium.webdriver.remote.webelement.WebElement (session=\"33f91156aa9293d271240eaa2aa94b8a\", element=\"75b11e6f-8210-47b0-88f7-8181d08e9cda\")>,\n",
       " <selenium.webdriver.remote.webelement.WebElement (session=\"33f91156aa9293d271240eaa2aa94b8a\", element=\"2b84e72b-ff1a-479c-a299-f4a048ac935c\")>,\n",
       " <selenium.webdriver.remote.webelement.WebElement (session=\"33f91156aa9293d271240eaa2aa94b8a\", element=\"3b24689f-68a3-440f-b46b-59792fa8aeb1\")>,\n",
       " <selenium.webdriver.remote.webelement.WebElement (session=\"33f91156aa9293d271240eaa2aa94b8a\", element=\"2490f1c8-6ba1-4c58-8acf-f77d064c5b17\")>,\n",
       " <selenium.webdriver.remote.webelement.WebElement (session=\"33f91156aa9293d271240eaa2aa94b8a\", element=\"9b1885b6-863f-4e54-bb37-eed5457cd760\")>,\n",
       " <selenium.webdriver.remote.webelement.WebElement (session=\"33f91156aa9293d271240eaa2aa94b8a\", element=\"93d17629-24c7-41d0-aaae-f7f617e60aef\")>,\n",
       " <selenium.webdriver.remote.webelement.WebElement (session=\"33f91156aa9293d271240eaa2aa94b8a\", element=\"5dc31dd3-1fa7-45da-9a3e-e0e48506c0bc\")>,\n",
       " <selenium.webdriver.remote.webelement.WebElement (session=\"33f91156aa9293d271240eaa2aa94b8a\", element=\"dc2ec40b-a607-47ac-9ecb-287868533ed2\")>,\n",
       " <selenium.webdriver.remote.webelement.WebElement (session=\"33f91156aa9293d271240eaa2aa94b8a\", element=\"a0082b39-5db9-4c63-8bb8-50f66144e32f\")>,\n",
       " <selenium.webdriver.remote.webelement.WebElement (session=\"33f91156aa9293d271240eaa2aa94b8a\", element=\"71787604-427e-4c3b-9514-97245f078842\")>,\n",
       " <selenium.webdriver.remote.webelement.WebElement (session=\"33f91156aa9293d271240eaa2aa94b8a\", element=\"f4aa6139-f7e0-4b29-a5b6-0de086940b66\")>,\n",
       " <selenium.webdriver.remote.webelement.WebElement (session=\"33f91156aa9293d271240eaa2aa94b8a\", element=\"3e3dc00c-8681-4db7-9a34-1bd999c3f6ca\")>,\n",
       " <selenium.webdriver.remote.webelement.WebElement (session=\"33f91156aa9293d271240eaa2aa94b8a\", element=\"1a4e01b0-acc0-41f9-a033-9de041f92323\")>,\n",
       " <selenium.webdriver.remote.webelement.WebElement (session=\"33f91156aa9293d271240eaa2aa94b8a\", element=\"b31d6804-549e-4e7a-8a3f-42128b9e1f38\")>,\n",
       " <selenium.webdriver.remote.webelement.WebElement (session=\"33f91156aa9293d271240eaa2aa94b8a\", element=\"e619930a-257a-4129-847d-4b9f189f05e8\")>,\n",
       " <selenium.webdriver.remote.webelement.WebElement (session=\"33f91156aa9293d271240eaa2aa94b8a\", element=\"83cd190b-3c33-4b50-99c1-daf733582df8\")>,\n",
       " <selenium.webdriver.remote.webelement.WebElement (session=\"33f91156aa9293d271240eaa2aa94b8a\", element=\"a66d4596-585c-4ead-bd61-9920f6d5099f\")>,\n",
       " <selenium.webdriver.remote.webelement.WebElement (session=\"33f91156aa9293d271240eaa2aa94b8a\", element=\"1a15ea9b-0d8c-42de-80f7-d117484ee8fe\")>,\n",
       " <selenium.webdriver.remote.webelement.WebElement (session=\"33f91156aa9293d271240eaa2aa94b8a\", element=\"68284bf9-d0f9-4b97-9280-bc39a99284c3\")>,\n",
       " <selenium.webdriver.remote.webelement.WebElement (session=\"33f91156aa9293d271240eaa2aa94b8a\", element=\"9684b1c6-9bc9-41eb-9fa6-74172ca9f219\")>,\n",
       " <selenium.webdriver.remote.webelement.WebElement (session=\"33f91156aa9293d271240eaa2aa94b8a\", element=\"2d40882b-3624-456c-9757-2e5fc366a4c7\")>,\n",
       " <selenium.webdriver.remote.webelement.WebElement (session=\"33f91156aa9293d271240eaa2aa94b8a\", element=\"72d43a37-1f19-4d86-8519-32c009ea25a1\")>,\n",
       " <selenium.webdriver.remote.webelement.WebElement (session=\"33f91156aa9293d271240eaa2aa94b8a\", element=\"654fd4df-ade8-40cd-96d2-697a99bb6268\")>,\n",
       " <selenium.webdriver.remote.webelement.WebElement (session=\"33f91156aa9293d271240eaa2aa94b8a\", element=\"8caa4e69-e904-477a-9ad5-76f192d179ef\")>,\n",
       " <selenium.webdriver.remote.webelement.WebElement (session=\"33f91156aa9293d271240eaa2aa94b8a\", element=\"1d9e943e-71ac-4126-b99a-e45563c573fa\")>,\n",
       " <selenium.webdriver.remote.webelement.WebElement (session=\"33f91156aa9293d271240eaa2aa94b8a\", element=\"87cd1c1b-d91c-41f0-8b50-2df07d2e4b0a\")>,\n",
       " <selenium.webdriver.remote.webelement.WebElement (session=\"33f91156aa9293d271240eaa2aa94b8a\", element=\"c30c56cb-70ac-4773-a0cd-39b7a87c5653\")>,\n",
       " <selenium.webdriver.remote.webelement.WebElement (session=\"33f91156aa9293d271240eaa2aa94b8a\", element=\"70788649-c12e-4717-86e3-b8fe5076f3d3\")>,\n",
       " <selenium.webdriver.remote.webelement.WebElement (session=\"33f91156aa9293d271240eaa2aa94b8a\", element=\"c29fb530-eb72-4c16-9d1d-03f84941c8ac\")>,\n",
       " <selenium.webdriver.remote.webelement.WebElement (session=\"33f91156aa9293d271240eaa2aa94b8a\", element=\"959cbd63-a8d4-48f6-8e91-99a8f6755ed1\")>,\n",
       " <selenium.webdriver.remote.webelement.WebElement (session=\"33f91156aa9293d271240eaa2aa94b8a\", element=\"b930014d-e411-475c-a670-633177af801d\")>,\n",
       " <selenium.webdriver.remote.webelement.WebElement (session=\"33f91156aa9293d271240eaa2aa94b8a\", element=\"58f2c91b-3497-4bab-9470-ca21f16b0229\")>,\n",
       " <selenium.webdriver.remote.webelement.WebElement (session=\"33f91156aa9293d271240eaa2aa94b8a\", element=\"e5b0abfd-3236-4914-b002-1952b3d14bfd\")>,\n",
       " <selenium.webdriver.remote.webelement.WebElement (session=\"33f91156aa9293d271240eaa2aa94b8a\", element=\"6fdbeca8-1d0f-4faa-af6a-94e2613529f4\")>,\n",
       " <selenium.webdriver.remote.webelement.WebElement (session=\"33f91156aa9293d271240eaa2aa94b8a\", element=\"4fe361d5-f2f5-4590-8dd6-5013db8c0d28\")>]"
      ]
     },
     "execution_count": 460,
     "metadata": {},
     "output_type": "execute_result"
    }
   ],
   "source": [
    "price_tags1 = driver.find_elements_by_xpath(\"//div[@class='product-price']/span[1]\")\n",
    "price_tags1"
   ]
  },
  {
   "cell_type": "code",
   "execution_count": 461,
   "id": "9c1d02a9",
   "metadata": {},
   "outputs": [
    {
     "data": {
      "text/plain": [
       "['Rs. 987Rs. 2599',\n",
       " 'Rs. 1349Rs. 4499',\n",
       " 'Rs. 4929Rs. 5799',\n",
       " 'Rs. 1574Rs. 1749',\n",
       " 'Rs. 4599',\n",
       " 'Rs. 3849Rs. 6999',\n",
       " 'Rs. 2449Rs. 3499',\n",
       " 'Rs. 4509Rs. 5499',\n",
       " 'Rs. 3599Rs. 5999',\n",
       " 'Rs. 1259Rs. 5999',\n",
       " 'Rs. 2399Rs. 3199',\n",
       " 'Rs. 599Rs. 999',\n",
       " 'Rs. 2254Rs. 4099',\n",
       " 'Rs. 1082Rs. 4330',\n",
       " 'Rs. 2999',\n",
       " 'Rs. 1033Rs. 1099',\n",
       " 'Rs. 2024Rs. 4499',\n",
       " 'Rs. 1382Rs. 2095',\n",
       " 'Rs. 1999Rs. 2499',\n",
       " 'Rs. 1539Rs. 1749',\n",
       " 'Rs. 2399Rs. 3999',\n",
       " 'Rs. 3199Rs. 3999',\n",
       " 'Rs. 1649Rs. 6599',\n",
       " 'Rs. 1274Rs. 1499',\n",
       " 'Rs. 1559Rs. 3899',\n",
       " 'Rs. 524Rs. 1499',\n",
       " 'Rs. 2549Rs. 2999',\n",
       " 'Rs. 1479Rs. 3699',\n",
       " 'Rs. 1559Rs. 3899',\n",
       " 'Rs. 2099Rs. 2799',\n",
       " 'Rs. 2249Rs. 2999',\n",
       " 'Rs. 1499Rs. 2995',\n",
       " 'Rs. 6374Rs. 7499',\n",
       " 'Rs. 1399Rs. 3999',\n",
       " 'Rs. 1499Rs. 2499',\n",
       " 'Rs. 1919Rs. 4799',\n",
       " 'Rs. 4674Rs. 5499',\n",
       " 'Rs. 1599Rs. 3999',\n",
       " 'Rs. 2749Rs. 4999',\n",
       " 'Rs. 1104Rs. 1299',\n",
       " 'Rs. 3399Rs. 3999',\n",
       " 'Rs. 1839Rs. 2299',\n",
       " 'Rs. 3654Rs. 4299',\n",
       " 'Rs. 2189Rs. 7299',\n",
       " 'Rs. 1444Rs. 1699',\n",
       " 'Rs. 1149Rs. 2299',\n",
       " 'Rs. 12999',\n",
       " 'Rs. 4239Rs. 5299',\n",
       " 'Rs. 599Rs. 1499',\n",
       " 'Rs. 765Rs. 3645']"
      ]
     },
     "execution_count": 461,
     "metadata": {},
     "output_type": "execute_result"
    }
   ],
   "source": [
    "for i in price_tags1:\n",
    "    title=i.text\n",
    "    price1.append(title)\n",
    "price1"
   ]
  },
  {
   "cell_type": "markdown",
   "id": "b30ecf55",
   "metadata": {},
   "source": [
    "JOINING ALL LIST:\n"
   ]
  },
  {
   "cell_type": "code",
   "execution_count": 462,
   "id": "f07517f7",
   "metadata": {},
   "outputs": [],
   "source": [
    "    \n",
    "Brand = brand+brand1\n",
    "Short_Description = short_description+short_description1\n",
    "Price = price+price1"
   ]
  },
  {
   "cell_type": "code",
   "execution_count": 463,
   "id": "c1a8f64a",
   "metadata": {},
   "outputs": [
    {
     "name": "stdout",
     "output_type": "stream",
     "text": [
      "100 100 100\n"
     ]
    }
   ],
   "source": [
    "print(len(Brand),len(Short_Description),len(Price))"
   ]
  },
  {
   "cell_type": "code",
   "execution_count": 464,
   "id": "27187401",
   "metadata": {},
   "outputs": [
    {
     "data": {
      "text/html": [
       "<div>\n",
       "<style scoped>\n",
       "    .dataframe tbody tr th:only-of-type {\n",
       "        vertical-align: middle;\n",
       "    }\n",
       "\n",
       "    .dataframe tbody tr th {\n",
       "        vertical-align: top;\n",
       "    }\n",
       "\n",
       "    .dataframe thead th {\n",
       "        text-align: right;\n",
       "    }\n",
       "</style>\n",
       "<table border=\"1\" class=\"dataframe\">\n",
       "  <thead>\n",
       "    <tr style=\"text-align: right;\">\n",
       "      <th></th>\n",
       "      <th>Brand</th>\n",
       "      <th>Short_Description</th>\n",
       "      <th>Price</th>\n",
       "    </tr>\n",
       "  </thead>\n",
       "  <tbody>\n",
       "    <tr>\n",
       "      <th>0</th>\n",
       "      <td>Puma</td>\n",
       "      <td>Men Running Shoes</td>\n",
       "      <td>Rs. 2749Rs. 5499</td>\n",
       "    </tr>\n",
       "    <tr>\n",
       "      <th>1</th>\n",
       "      <td>Red Tape</td>\n",
       "      <td>Men Walking Shoes</td>\n",
       "      <td>Rs. 1739Rs. 5799</td>\n",
       "    </tr>\n",
       "    <tr>\n",
       "      <th>2</th>\n",
       "      <td>Nike</td>\n",
       "      <td>Men MC Training Shoes</td>\n",
       "      <td>Rs. 4396Rs. 5495</td>\n",
       "    </tr>\n",
       "    <tr>\n",
       "      <th>3</th>\n",
       "      <td>Nike</td>\n",
       "      <td>Kids Revolution 4 Running</td>\n",
       "      <td>Rs. 1499Rs. 3495</td>\n",
       "    </tr>\n",
       "    <tr>\n",
       "      <th>4</th>\n",
       "      <td>Red Tape</td>\n",
       "      <td>Men Walking Shoes</td>\n",
       "      <td>Rs. 1889Rs. 6299</td>\n",
       "    </tr>\n",
       "  </tbody>\n",
       "</table>\n",
       "</div>"
      ],
      "text/plain": [
       "      Brand          Short_Description             Price\n",
       "0      Puma          Men Running Shoes  Rs. 2749Rs. 5499\n",
       "1  Red Tape          Men Walking Shoes  Rs. 1739Rs. 5799\n",
       "2      Nike      Men MC Training Shoes  Rs. 4396Rs. 5495\n",
       "3      Nike  Kids Revolution 4 Running  Rs. 1499Rs. 3495\n",
       "4  Red Tape          Men Walking Shoes  Rs. 1889Rs. 6299"
      ]
     },
     "execution_count": 464,
     "metadata": {},
     "output_type": "execute_result"
    }
   ],
   "source": [
    "myntra_data = pd.DataFrame({'Brand':Brand,'Short_Description':Short_Description,'Price':Price})\n",
    "myntra_data.head()"
   ]
  },
  {
   "cell_type": "code",
   "execution_count": 465,
   "id": "c2aa257b",
   "metadata": {},
   "outputs": [],
   "source": [
    "#driver.close()"
   ]
  },
  {
   "cell_type": "markdown",
   "id": "c7173aa8",
   "metadata": {},
   "source": [
    "## 8) Scrape first 10 laptops data from Amazon.com:"
   ]
  },
  {
   "cell_type": "code",
   "execution_count": 38,
   "id": "69a2188d",
   "metadata": {},
   "outputs": [],
   "source": [
    "driver = webdriver.Chrome(r\"C:\\Users\\Thamizh\\Downloads\\chromedriver_win32 (2)\\chromedriver.exe\")"
   ]
  },
  {
   "cell_type": "code",
   "execution_count": 39,
   "id": "82024bcd",
   "metadata": {},
   "outputs": [],
   "source": [
    "driver.get(\"https://www.amazon.in/\")"
   ]
  },
  {
   "cell_type": "code",
   "execution_count": 40,
   "id": "292730c8",
   "metadata": {},
   "outputs": [],
   "source": [
    "#searching\n",
    "search = driver.find_element_by_id('twotabsearchtextbox')\n",
    "search.send_keys(\"Laptop\")"
   ]
  },
  {
   "cell_type": "code",
   "execution_count": 41,
   "id": "58974fb5",
   "metadata": {},
   "outputs": [],
   "source": [
    "search_btn = driver.find_element_by_xpath(\"//div[@class='nav-search-submit nav-sprite']\")\n",
    "search_btn.click()"
   ]
  },
  {
   "cell_type": "code",
   "execution_count": null,
   "id": "31e90cec",
   "metadata": {},
   "outputs": [],
   "source": []
  },
  {
   "cell_type": "markdown",
   "id": "d99488c8",
   "metadata": {},
   "source": [
    "Applying filters:\n"
   ]
  },
  {
   "cell_type": "code",
   "execution_count": 42,
   "id": "744069a7",
   "metadata": {},
   "outputs": [],
   "source": [
    "apply_filter = driver.find_element_by_xpath(\"//ul[@class='a-unordered-list a-nostyle a-vertical a-spacing-medium']/li[13]\")\n",
    "apply_filter.click()"
   ]
  },
  {
   "cell_type": "code",
   "execution_count": 43,
   "id": "6e1c4550",
   "metadata": {},
   "outputs": [],
   "source": [
    "#making empty list\n",
    "Title = []\n",
    "Rating = []\n",
    "Price = []"
   ]
  },
  {
   "cell_type": "code",
   "execution_count": 64,
   "id": "e8367767",
   "metadata": {},
   "outputs": [
    {
     "data": {
      "text/plain": [
       "[<selenium.webdriver.remote.webelement.WebElement (session=\"632971b0c32d69b412a18be401a170a7\", element=\"57594a71-7b1f-40c4-944c-7f06577ddfca\")>,\n",
       " <selenium.webdriver.remote.webelement.WebElement (session=\"632971b0c32d69b412a18be401a170a7\", element=\"63412981-632b-4ecd-a938-cae269a94ade\")>,\n",
       " <selenium.webdriver.remote.webelement.WebElement (session=\"632971b0c32d69b412a18be401a170a7\", element=\"1a03d5f7-cd58-4506-a4ce-44199e574540\")>,\n",
       " <selenium.webdriver.remote.webelement.WebElement (session=\"632971b0c32d69b412a18be401a170a7\", element=\"42ec23e3-b140-4b99-8ffe-21c3aa6dcd6a\")>,\n",
       " <selenium.webdriver.remote.webelement.WebElement (session=\"632971b0c32d69b412a18be401a170a7\", element=\"d761cafc-00f3-4051-841b-5a5dd995563e\")>,\n",
       " <selenium.webdriver.remote.webelement.WebElement (session=\"632971b0c32d69b412a18be401a170a7\", element=\"2dc0589d-688c-4955-bc9b-19494d5f2967\")>,\n",
       " <selenium.webdriver.remote.webelement.WebElement (session=\"632971b0c32d69b412a18be401a170a7\", element=\"d422e72f-f526-4c0d-bc92-b1f87a6bdc4d\")>,\n",
       " <selenium.webdriver.remote.webelement.WebElement (session=\"632971b0c32d69b412a18be401a170a7\", element=\"6aa9a9a8-2938-43d8-9e02-030f92145521\")>]"
      ]
     },
     "execution_count": 64,
     "metadata": {},
     "output_type": "execute_result"
    }
   ],
   "source": [
    "title_tags = driver.find_elements_by_xpath(\"//h2[@class='a-size-mini a-spacing-none a-color-base s-line-clamp-2']\")\n",
    "title_tags[0:8]"
   ]
  },
  {
   "cell_type": "code",
   "execution_count": 65,
   "id": "adc11d2f",
   "metadata": {},
   "outputs": [
    {
     "data": {
      "text/plain": [
       "['HP 14s 11th Gen Intel Core i3- 8GB RAM/256GB SSD 14 inch(35.6cm) FHD,Micro-Edge,Anti-Glare,IPS Display/UHD Graphics/ Win 11/ MS Office/ Alexa Built-in/ 1.46kg/ Natural Silver - 14s-dy2506TU',\n",
       " 'HP Pavilion 14,11th Gen Intel Core i5 16GB RAM/512GB SSD 14 inch(35.6 cm),FHD IPS Anti-Glare Display/Intel Iris Xe Graphics/Backlit KB/B&O Audio/FPR/Win 11/Thin & Light/1.41kg, 14-dv1001TU',\n",
       " 'ASUS VivoBook 15 (2021), 15.6-inch (39.62 cm) HD, Dual Core Intel Celeron N4020, Thin and Light Laptop (4GB RAM/256GB SSD/Integrated Graphics/Windows 11 Home/Transparent Silver/1.8 Kg), X515MA-BR011W',\n",
       " \"Lenovo IdeaPad 3 Intel Celeron N4020 14'' HD Thin & Light Laptop (4GB/256GB SSD/Windows 11/MS Office 2021/Platinum Grey/1.5Kg), 81WH007KIN\",\n",
       " 'Lenovo IdeaPad 3 11th Gen Intel i3 15.6\" FHD Thin & Light Laptop (8GB/512GB SDD/Windows 11/MS Office 2021/2 Yr Warranty/Arctic Grey/1.65Kg), 82H801L7IN',\n",
       " 'Lenovo IdeaPad Slim 5i 11th Gen Intel Core i5 15.6\" FHD IPS Thin, Light Laptop (8GB/1TB HDD+256GB SSD/Windows10/Office19/MX450 2GB GDDR6/Fingerprint/Graphite Grey/Aluminium Surface/1.66Kg) 82FG00BPIN',\n",
       " 'HP OMEN 10th Gen Intel Core i5 Processor 15.6\" (39.62cms) FHD Gaming Laptop (i5-10300H/8GB/512GB SSD/Windows 10/NVIDIA GTX 1650 4GB/Shadow Black/2.36 kg), 15-ek0015TX',\n",
       " '']"
      ]
     },
     "execution_count": 65,
     "metadata": {},
     "output_type": "execute_result"
    }
   ],
   "source": [
    "for i in title_tags:\n",
    "    title=i.text\n",
    "    Title.append(title)\n",
    "Title[0:8]"
   ]
  },
  {
   "cell_type": "code",
   "execution_count": null,
   "id": "2b97f271",
   "metadata": {},
   "outputs": [],
   "source": []
  },
  {
   "cell_type": "code",
   "execution_count": null,
   "id": "796b334e",
   "metadata": {},
   "outputs": [],
   "source": []
  },
  {
   "cell_type": "code",
   "execution_count": 66,
   "id": "15943639",
   "metadata": {},
   "outputs": [
    {
     "data": {
      "text/plain": [
       "[<selenium.webdriver.remote.webelement.WebElement (session=\"632971b0c32d69b412a18be401a170a7\", element=\"041bb8de-16cc-4d74-9d2c-30109644ddae\")>,\n",
       " <selenium.webdriver.remote.webelement.WebElement (session=\"632971b0c32d69b412a18be401a170a7\", element=\"e8e84918-4193-44a9-ad58-2cb5c07c5c22\")>,\n",
       " <selenium.webdriver.remote.webelement.WebElement (session=\"632971b0c32d69b412a18be401a170a7\", element=\"11e7446d-5676-4264-b201-33d561320eb0\")>,\n",
       " <selenium.webdriver.remote.webelement.WebElement (session=\"632971b0c32d69b412a18be401a170a7\", element=\"22dd1573-0023-41cc-a74d-869fa40a8842\")>,\n",
       " <selenium.webdriver.remote.webelement.WebElement (session=\"632971b0c32d69b412a18be401a170a7\", element=\"1e51dfdb-28df-4812-bfaa-01ebc63d5c42\")>,\n",
       " <selenium.webdriver.remote.webelement.WebElement (session=\"632971b0c32d69b412a18be401a170a7\", element=\"1d572c59-da97-4208-9318-6a23ec871fb3\")>,\n",
       " <selenium.webdriver.remote.webelement.WebElement (session=\"632971b0c32d69b412a18be401a170a7\", element=\"3d76f405-9b96-4e58-897d-233dda2952a9\")>,\n",
       " <selenium.webdriver.remote.webelement.WebElement (session=\"632971b0c32d69b412a18be401a170a7\", element=\"55e6f12c-b5bb-4e6b-880e-3078e3b281b6\")>]"
      ]
     },
     "execution_count": 66,
     "metadata": {},
     "output_type": "execute_result"
    }
   ],
   "source": [
    "price_tags = driver.find_elements_by_xpath(\"//span[@class='a-price-whole']\")\n",
    "price_tags[0:8]"
   ]
  },
  {
   "cell_type": "code",
   "execution_count": 68,
   "id": "933566ff",
   "metadata": {},
   "outputs": [
    {
     "data": {
      "text/plain": [
       "['38,990',\n",
       " '64,990',\n",
       " '26,990',\n",
       " '28,132',\n",
       " '41,990',\n",
       " '29,490',\n",
       " '70,499',\n",
       " '84,000']"
      ]
     },
     "execution_count": 68,
     "metadata": {},
     "output_type": "execute_result"
    }
   ],
   "source": [
    "for i in price_tags:\n",
    "    title=i.text\n",
    "    Price.append(title)\n",
    "Price[0:8]"
   ]
  },
  {
   "cell_type": "code",
   "execution_count": 70,
   "id": "2c616b5b",
   "metadata": {},
   "outputs": [
    {
     "name": "stdout",
     "output_type": "stream",
     "text": [
      "52 81\n"
     ]
    }
   ],
   "source": [
    "print(len(Title),len(Price))\n",
    "Title = Title[:50]\n",
    "Price = Price[:50]\n"
   ]
  },
  {
   "cell_type": "code",
   "execution_count": 71,
   "id": "1a9710c9",
   "metadata": {},
   "outputs": [],
   "source": [
    "#creating dataframe\n",
    "data = pd.DataFrame ({'Title':Title,'Price':Price}) "
   ]
  },
  {
   "cell_type": "code",
   "execution_count": 72,
   "id": "0d8ad51d",
   "metadata": {},
   "outputs": [],
   "source": [
    "data = pd.DataFrame({'Title':Title,'Price':Price})"
   ]
  },
  {
   "cell_type": "code",
   "execution_count": 73,
   "id": "47b2bca7",
   "metadata": {},
   "outputs": [
    {
     "data": {
      "text/html": [
       "<div>\n",
       "<style scoped>\n",
       "    .dataframe tbody tr th:only-of-type {\n",
       "        vertical-align: middle;\n",
       "    }\n",
       "\n",
       "    .dataframe tbody tr th {\n",
       "        vertical-align: top;\n",
       "    }\n",
       "\n",
       "    .dataframe thead th {\n",
       "        text-align: right;\n",
       "    }\n",
       "</style>\n",
       "<table border=\"1\" class=\"dataframe\">\n",
       "  <thead>\n",
       "    <tr style=\"text-align: right;\">\n",
       "      <th></th>\n",
       "      <th>Title</th>\n",
       "      <th>Price</th>\n",
       "    </tr>\n",
       "  </thead>\n",
       "  <tbody>\n",
       "    <tr>\n",
       "      <th>0</th>\n",
       "      <td>HP 14s 11th Gen Intel Core i3- 8GB RAM/256GB S...</td>\n",
       "      <td>38,990</td>\n",
       "    </tr>\n",
       "    <tr>\n",
       "      <th>1</th>\n",
       "      <td>HP Pavilion 14,11th Gen Intel Core i5 16GB RAM...</td>\n",
       "      <td>64,990</td>\n",
       "    </tr>\n",
       "    <tr>\n",
       "      <th>2</th>\n",
       "      <td>ASUS VivoBook 15 (2021), 15.6-inch (39.62 cm) ...</td>\n",
       "      <td>26,990</td>\n",
       "    </tr>\n",
       "    <tr>\n",
       "      <th>3</th>\n",
       "      <td>Lenovo IdeaPad 3 Intel Celeron N4020 14'' HD T...</td>\n",
       "      <td>28,132</td>\n",
       "    </tr>\n",
       "    <tr>\n",
       "      <th>4</th>\n",
       "      <td>Lenovo IdeaPad 3 11th Gen Intel i3 15.6\" FHD T...</td>\n",
       "      <td>41,990</td>\n",
       "    </tr>\n",
       "  </tbody>\n",
       "</table>\n",
       "</div>"
      ],
      "text/plain": [
       "                                               Title   Price\n",
       "0  HP 14s 11th Gen Intel Core i3- 8GB RAM/256GB S...  38,990\n",
       "1  HP Pavilion 14,11th Gen Intel Core i5 16GB RAM...  64,990\n",
       "2  ASUS VivoBook 15 (2021), 15.6-inch (39.62 cm) ...  26,990\n",
       "3  Lenovo IdeaPad 3 Intel Celeron N4020 14'' HD T...  28,132\n",
       "4  Lenovo IdeaPad 3 11th Gen Intel i3 15.6\" FHD T...  41,990"
      ]
     },
     "execution_count": 73,
     "metadata": {},
     "output_type": "execute_result"
    }
   ],
   "source": [
    "data.head()"
   ]
  },
  {
   "cell_type": "code",
   "execution_count": 74,
   "id": "658b63aa",
   "metadata": {},
   "outputs": [],
   "source": [
    "#driver.close()"
   ]
  },
  {
   "cell_type": "markdown",
   "id": "585a57d8",
   "metadata": {},
   "source": [
    "### 9)Python program to scrape data for first 10 job results for Data Scientist Designation in Noida from AMBITIONBOX.COM:"
   ]
  },
  {
   "cell_type": "code",
   "execution_count": 518,
   "id": "7f1b1a5d",
   "metadata": {},
   "outputs": [],
   "source": [
    "driver = webdriver.Chrome(r\"C:\\Users\\Thamizh\\Downloads\\chromedriver_win32 (2)\\chromedriver.exe\")"
   ]
  },
  {
   "cell_type": "code",
   "execution_count": 519,
   "id": "d8167d80",
   "metadata": {},
   "outputs": [],
   "source": [
    "driver.get(\" https://www.ambitionbox.com/\")"
   ]
  },
  {
   "cell_type": "code",
   "execution_count": 520,
   "id": "89af79a4",
   "metadata": {},
   "outputs": [],
   "source": [
    "#clicking on job option\n",
    "job = driver.find_element_by_xpath(\"//a[@class='link jobs']\")\n",
    "job.click()"
   ]
  },
  {
   "cell_type": "code",
   "execution_count": 521,
   "id": "885d2513",
   "metadata": {},
   "outputs": [],
   "source": [
    "#now searching data scientist\n",
    "search = driver.find_element_by_xpath(\"//input[@title='Enter Designation, Company or a Skill']\")\n",
    "search.send_keys(\"Data Scientist\")"
   ]
  },
  {
   "cell_type": "code",
   "execution_count": 522,
   "id": "642fe55d",
   "metadata": {},
   "outputs": [],
   "source": [
    "search_btn = driver.find_element_by_xpath(\"//button[@class='ab_btn search-btn round']\")\n",
    "search_btn.click()"
   ]
  },
  {
   "cell_type": "code",
   "execution_count": 523,
   "id": "d4bbec48",
   "metadata": {},
   "outputs": [],
   "source": [
    "location = driver.find_element_by_xpath(\"//div[@title='Location']\")\n",
    "location.click()"
   ]
  },
  {
   "cell_type": "code",
   "execution_count": 524,
   "id": "5e56b71b",
   "metadata": {},
   "outputs": [],
   "source": [
    "srch_loc = driver.find_element_by_xpath(\"//input[@placeholder='Search locations']\")\n",
    "srch_loc.send_keys('Noida')"
   ]
  },
  {
   "cell_type": "code",
   "execution_count": 525,
   "id": "2df1ef5c",
   "metadata": {},
   "outputs": [],
   "source": [
    "select_loc = driver.find_element_by_xpath(\"//label[@for='location_Noida']\")\n",
    "select_loc.click()"
   ]
  },
  {
   "cell_type": "code",
   "execution_count": 526,
   "id": "26f3de0b",
   "metadata": {},
   "outputs": [],
   "source": [
    "#making empty list\n",
    "Company =[]\n",
    "Posted =[]\n",
    "Rating = []"
   ]
  },
  {
   "cell_type": "code",
   "execution_count": 527,
   "id": "346e7d8b",
   "metadata": {},
   "outputs": [
    {
     "data": {
      "text/plain": [
       "[<selenium.webdriver.remote.webelement.WebElement (session=\"df396cb773b61adbf431aaa8063fc3e9\", element=\"1c289d1c-a8ce-4777-8f9e-7e9180901a49\")>,\n",
       " <selenium.webdriver.remote.webelement.WebElement (session=\"df396cb773b61adbf431aaa8063fc3e9\", element=\"e93b816c-7ee0-4b43-b0bd-cf7edca33d5c\")>,\n",
       " <selenium.webdriver.remote.webelement.WebElement (session=\"df396cb773b61adbf431aaa8063fc3e9\", element=\"9b3e6480-a343-4312-af8d-2f79fb14a8e5\")>,\n",
       " <selenium.webdriver.remote.webelement.WebElement (session=\"df396cb773b61adbf431aaa8063fc3e9\", element=\"cabd58ca-f41a-4444-bd73-687500c7a46b\")>,\n",
       " <selenium.webdriver.remote.webelement.WebElement (session=\"df396cb773b61adbf431aaa8063fc3e9\", element=\"827b4d1b-158c-4a2b-81c3-67f0e1f48b5b\")>,\n",
       " <selenium.webdriver.remote.webelement.WebElement (session=\"df396cb773b61adbf431aaa8063fc3e9\", element=\"bac74047-9a7c-410f-9ffb-c61558d247d8\")>,\n",
       " <selenium.webdriver.remote.webelement.WebElement (session=\"df396cb773b61adbf431aaa8063fc3e9\", element=\"f64b6e0c-ecd4-45d0-bf4e-e0f8406eafb6\")>,\n",
       " <selenium.webdriver.remote.webelement.WebElement (session=\"df396cb773b61adbf431aaa8063fc3e9\", element=\"19cd37b2-b643-4aa0-b0d1-229a800b22c3\")>,\n",
       " <selenium.webdriver.remote.webelement.WebElement (session=\"df396cb773b61adbf431aaa8063fc3e9\", element=\"17447d4a-2c7d-4440-9d64-500c89725785\")>,\n",
       " <selenium.webdriver.remote.webelement.WebElement (session=\"df396cb773b61adbf431aaa8063fc3e9\", element=\"134699eb-b140-4778-9297-b8721b3c7571\")>]"
      ]
     },
     "execution_count": 527,
     "metadata": {},
     "output_type": "execute_result"
    }
   ],
   "source": [
    "#now we will scrape data for company name\n",
    "company_tags = driver.find_elements_by_xpath(\"//p[@class='company body-medium']\")\n",
    "company_tags[0:10]"
   ]
  },
  {
   "cell_type": "code",
   "execution_count": 528,
   "id": "60379043",
   "metadata": {},
   "outputs": [
    {
     "data": {
      "text/plain": [
       "['GENPACT India Private Limited',\n",
       " 'GENPACT India Private Limited',\n",
       " 'Tech Mahindra Ltd',\n",
       " 'GENPACT India Private Limited',\n",
       " 'HCL Technologies',\n",
       " 'Zyoin',\n",
       " 'Newgen Software Technologies Ltd.',\n",
       " 'Pitney Bowes India Pvt Ltd',\n",
       " 'JK Technosoft Ltd',\n",
       " 'Microsoft India (R and D) Pvt Ltd']"
      ]
     },
     "execution_count": 528,
     "metadata": {},
     "output_type": "execute_result"
    }
   ],
   "source": [
    "for i in company_tags:\n",
    "    title=i.text\n",
    "    Company.append(title)\n",
    "Company"
   ]
  },
  {
   "cell_type": "code",
   "execution_count": 529,
   "id": "133ad5e2",
   "metadata": {},
   "outputs": [
    {
     "data": {
      "text/plain": [
       "[<selenium.webdriver.remote.webelement.WebElement (session=\"df396cb773b61adbf431aaa8063fc3e9\", element=\"cccdf914-95d0-4c41-81df-e8a8b4a2e607\")>,\n",
       " <selenium.webdriver.remote.webelement.WebElement (session=\"df396cb773b61adbf431aaa8063fc3e9\", element=\"b5a15dc0-1ef1-4344-b5ac-07391d588b1c\")>,\n",
       " <selenium.webdriver.remote.webelement.WebElement (session=\"df396cb773b61adbf431aaa8063fc3e9\", element=\"8ac7c2c6-fa75-4632-8650-b39206765d2a\")>,\n",
       " <selenium.webdriver.remote.webelement.WebElement (session=\"df396cb773b61adbf431aaa8063fc3e9\", element=\"729954f2-7244-4ff9-a3d7-0067340eec21\")>,\n",
       " <selenium.webdriver.remote.webelement.WebElement (session=\"df396cb773b61adbf431aaa8063fc3e9\", element=\"049f42ee-dd47-4d65-9bbc-c2cf381ccb70\")>,\n",
       " <selenium.webdriver.remote.webelement.WebElement (session=\"df396cb773b61adbf431aaa8063fc3e9\", element=\"27877e26-341b-47ef-b305-1bdedb69aab9\")>,\n",
       " <selenium.webdriver.remote.webelement.WebElement (session=\"df396cb773b61adbf431aaa8063fc3e9\", element=\"a5abf560-b2a1-4e9a-bbbf-042fd5071985\")>,\n",
       " <selenium.webdriver.remote.webelement.WebElement (session=\"df396cb773b61adbf431aaa8063fc3e9\", element=\"6d146919-4c2e-409d-8613-c72b0ffa47ca\")>,\n",
       " <selenium.webdriver.remote.webelement.WebElement (session=\"df396cb773b61adbf431aaa8063fc3e9\", element=\"0840b768-20ff-4cf3-b657-0a707dc44851\")>,\n",
       " <selenium.webdriver.remote.webelement.WebElement (session=\"df396cb773b61adbf431aaa8063fc3e9\", element=\"ac75aa45-2554-41c4-8190-db101308caa9\")>]"
      ]
     },
     "execution_count": 529,
     "metadata": {},
     "output_type": "execute_result"
    }
   ],
   "source": [
    "days_tags = driver.find_elements_by_xpath(\"//div[@class='other-info']/span[1]\")\n",
    "days_tags[0:10]"
   ]
  },
  {
   "cell_type": "code",
   "execution_count": 530,
   "id": "3438507b",
   "metadata": {},
   "outputs": [
    {
     "data": {
      "text/plain": [
       "['1d ago',\n",
       " '6d ago',\n",
       " '20d ago',\n",
       " '23d ago',\n",
       " '27d ago',\n",
       " '5d ago',\n",
       " '7d ago',\n",
       " '1mon ago',\n",
       " '16d ago',\n",
       " '2mon ago']"
      ]
     },
     "execution_count": 530,
     "metadata": {},
     "output_type": "execute_result"
    }
   ],
   "source": [
    "for i in days_tags:\n",
    "    title=i.text\n",
    "    Posted.append(title)\n",
    "Posted[0:20]"
   ]
  },
  {
   "cell_type": "code",
   "execution_count": 531,
   "id": "801a4f5b",
   "metadata": {},
   "outputs": [
    {
     "data": {
      "text/plain": [
       "[<selenium.webdriver.remote.webelement.WebElement (session=\"df396cb773b61adbf431aaa8063fc3e9\", element=\"eaee6973-ffe2-4bab-bc16-5bb45e0871ca\")>,\n",
       " <selenium.webdriver.remote.webelement.WebElement (session=\"df396cb773b61adbf431aaa8063fc3e9\", element=\"ed33ffeb-b239-42f5-9351-889396ee1f62\")>,\n",
       " <selenium.webdriver.remote.webelement.WebElement (session=\"df396cb773b61adbf431aaa8063fc3e9\", element=\"5f85f450-03ca-480b-ae10-a0e6ffad352a\")>,\n",
       " <selenium.webdriver.remote.webelement.WebElement (session=\"df396cb773b61adbf431aaa8063fc3e9\", element=\"13001ea2-c695-4c84-ab6f-142a6e8273e2\")>,\n",
       " <selenium.webdriver.remote.webelement.WebElement (session=\"df396cb773b61adbf431aaa8063fc3e9\", element=\"d66b34e5-8e8f-4913-90c2-dd73a4385706\")>,\n",
       " <selenium.webdriver.remote.webelement.WebElement (session=\"df396cb773b61adbf431aaa8063fc3e9\", element=\"bf54d97e-dc51-4a71-ab29-83fbfdd50df9\")>,\n",
       " <selenium.webdriver.remote.webelement.WebElement (session=\"df396cb773b61adbf431aaa8063fc3e9\", element=\"ce62562e-fae4-41a7-80a4-1328661f6e32\")>,\n",
       " <selenium.webdriver.remote.webelement.WebElement (session=\"df396cb773b61adbf431aaa8063fc3e9\", element=\"4d032bd3-2cc1-42d2-bfae-b87a52055d12\")>,\n",
       " <selenium.webdriver.remote.webelement.WebElement (session=\"df396cb773b61adbf431aaa8063fc3e9\", element=\"772e78af-5797-4596-ace0-de0d1b77c646\")>,\n",
       " <selenium.webdriver.remote.webelement.WebElement (session=\"df396cb773b61adbf431aaa8063fc3e9\", element=\"59e1cba7-8311-44ef-8fff-ed549ad5ff72\")>]"
      ]
     },
     "execution_count": 531,
     "metadata": {},
     "output_type": "execute_result"
    }
   ],
   "source": [
    "rating_tags = driver.find_elements_by_xpath(\"//span[@class='body-small']\")\n",
    "rating_tags[0:10]"
   ]
  },
  {
   "cell_type": "code",
   "execution_count": 532,
   "id": "1673ef3a",
   "metadata": {},
   "outputs": [
    {
     "data": {
      "text/plain": [
       "['4.0', '4.0', '3.7', '4.0', '3.8', '4.1', '3.5', '4.2', '3.6', '4.3']"
      ]
     },
     "execution_count": 532,
     "metadata": {},
     "output_type": "execute_result"
    }
   ],
   "source": [
    "for i in rating_tags:\n",
    "    title=i.text\n",
    "    Rating.append(title)\n",
    "Rating"
   ]
  },
  {
   "cell_type": "code",
   "execution_count": 533,
   "id": "b5df67d6",
   "metadata": {},
   "outputs": [
    {
     "name": "stdout",
     "output_type": "stream",
     "text": [
      "10 10 10\n"
     ]
    }
   ],
   "source": [
    "print(len(Company),len(Posted),len(Rating))"
   ]
  },
  {
   "cell_type": "code",
   "execution_count": 534,
   "id": "6c161d25",
   "metadata": {},
   "outputs": [],
   "source": [
    "#creating datframe now\n",
    "data = pd.DataFrame({'Company':Company,'Posted':Posted,'Rating':Rating})"
   ]
  },
  {
   "cell_type": "code",
   "execution_count": 535,
   "id": "17cb6855",
   "metadata": {},
   "outputs": [
    {
     "data": {
      "text/html": [
       "<div>\n",
       "<style scoped>\n",
       "    .dataframe tbody tr th:only-of-type {\n",
       "        vertical-align: middle;\n",
       "    }\n",
       "\n",
       "    .dataframe tbody tr th {\n",
       "        vertical-align: top;\n",
       "    }\n",
       "\n",
       "    .dataframe thead th {\n",
       "        text-align: right;\n",
       "    }\n",
       "</style>\n",
       "<table border=\"1\" class=\"dataframe\">\n",
       "  <thead>\n",
       "    <tr style=\"text-align: right;\">\n",
       "      <th></th>\n",
       "      <th>Company</th>\n",
       "      <th>Posted</th>\n",
       "      <th>Rating</th>\n",
       "    </tr>\n",
       "  </thead>\n",
       "  <tbody>\n",
       "    <tr>\n",
       "      <th>0</th>\n",
       "      <td>GENPACT India Private Limited</td>\n",
       "      <td>1d ago</td>\n",
       "      <td>4.0</td>\n",
       "    </tr>\n",
       "    <tr>\n",
       "      <th>1</th>\n",
       "      <td>GENPACT India Private Limited</td>\n",
       "      <td>6d ago</td>\n",
       "      <td>4.0</td>\n",
       "    </tr>\n",
       "    <tr>\n",
       "      <th>2</th>\n",
       "      <td>Tech Mahindra Ltd</td>\n",
       "      <td>20d ago</td>\n",
       "      <td>3.7</td>\n",
       "    </tr>\n",
       "    <tr>\n",
       "      <th>3</th>\n",
       "      <td>GENPACT India Private Limited</td>\n",
       "      <td>23d ago</td>\n",
       "      <td>4.0</td>\n",
       "    </tr>\n",
       "    <tr>\n",
       "      <th>4</th>\n",
       "      <td>HCL Technologies</td>\n",
       "      <td>27d ago</td>\n",
       "      <td>3.8</td>\n",
       "    </tr>\n",
       "    <tr>\n",
       "      <th>5</th>\n",
       "      <td>Zyoin</td>\n",
       "      <td>5d ago</td>\n",
       "      <td>4.1</td>\n",
       "    </tr>\n",
       "    <tr>\n",
       "      <th>6</th>\n",
       "      <td>Newgen Software Technologies Ltd.</td>\n",
       "      <td>7d ago</td>\n",
       "      <td>3.5</td>\n",
       "    </tr>\n",
       "    <tr>\n",
       "      <th>7</th>\n",
       "      <td>Pitney Bowes India Pvt Ltd</td>\n",
       "      <td>1mon ago</td>\n",
       "      <td>4.2</td>\n",
       "    </tr>\n",
       "    <tr>\n",
       "      <th>8</th>\n",
       "      <td>JK Technosoft Ltd</td>\n",
       "      <td>16d ago</td>\n",
       "      <td>3.6</td>\n",
       "    </tr>\n",
       "    <tr>\n",
       "      <th>9</th>\n",
       "      <td>Microsoft India (R and D) Pvt Ltd</td>\n",
       "      <td>2mon ago</td>\n",
       "      <td>4.3</td>\n",
       "    </tr>\n",
       "  </tbody>\n",
       "</table>\n",
       "</div>"
      ],
      "text/plain": [
       "                             Company    Posted Rating\n",
       "0      GENPACT India Private Limited    1d ago    4.0\n",
       "1      GENPACT India Private Limited    6d ago    4.0\n",
       "2                  Tech Mahindra Ltd   20d ago    3.7\n",
       "3      GENPACT India Private Limited   23d ago    4.0\n",
       "4                   HCL Technologies   27d ago    3.8\n",
       "5                              Zyoin    5d ago    4.1\n",
       "6  Newgen Software Technologies Ltd.    7d ago    3.5\n",
       "7         Pitney Bowes India Pvt Ltd  1mon ago    4.2\n",
       "8                  JK Technosoft Ltd   16d ago    3.6\n",
       "9  Microsoft India (R and D) Pvt Ltd  2mon ago    4.3"
      ]
     },
     "execution_count": 535,
     "metadata": {},
     "output_type": "execute_result"
    }
   ],
   "source": [
    "data"
   ]
  },
  {
   "cell_type": "code",
   "execution_count": 536,
   "id": "2b3bd396",
   "metadata": {},
   "outputs": [],
   "source": [
    "#driver.close()"
   ]
  },
  {
   "cell_type": "markdown",
   "id": "2b362b0a",
   "metadata": {},
   "source": [
    "## 10) Python program to scrape the salary data for Data Scientist designation from AMBITIONBOX.COM"
   ]
  },
  {
   "cell_type": "code",
   "execution_count": 537,
   "id": "ef249891",
   "metadata": {},
   "outputs": [],
   "source": [
    "driver = webdriver.Chrome(r\"C:\\Users\\Thamizh\\Downloads\\chromedriver_win32 (2)\\chromedriver.exe\")"
   ]
  },
  {
   "cell_type": "code",
   "execution_count": 538,
   "id": "07b38244",
   "metadata": {},
   "outputs": [],
   "source": [
    "driver.get(\"https://www.ambitionbox.com/\")"
   ]
  },
  {
   "cell_type": "code",
   "execution_count": 539,
   "id": "a1d0e7f7",
   "metadata": {},
   "outputs": [],
   "source": [
    "#clicking on salary option\n",
    "salary = driver.find_element_by_xpath(\"//a[@class='link salaries']\")\n",
    "salary.click()"
   ]
  },
  {
   "cell_type": "code",
   "execution_count": 540,
   "id": "9217bd27",
   "metadata": {},
   "outputs": [],
   "source": [
    "search_1 = driver.find_element_by_xpath(\"//input[@title='Enter a Company or Designation']\")\n",
    "search_1.send_keys(\"Data Scientist\")"
   ]
  },
  {
   "cell_type": "code",
   "execution_count": 541,
   "id": "a67c8624",
   "metadata": {},
   "outputs": [],
   "source": [
    "search_button = driver.find_element_by_xpath(\"//button[@class='ab_btn search-btn round']\")\n",
    "search_button.click()"
   ]
  },
  {
   "cell_type": "code",
   "execution_count": 542,
   "id": "3cae8925",
   "metadata": {},
   "outputs": [],
   "source": [
    "#now we will scrape data,making empty list first\n",
    "COMPANY_NAME =[]\n",
    "TOTAL_SALARIES = []\n",
    "EXPERIENCE = []\n",
    "MINIMUM_SALARY = []\n",
    "AVERAGE_SALARY = []\n",
    "MAXIMUM_SALARY = []"
   ]
  },
  {
   "cell_type": "code",
   "execution_count": 543,
   "id": "53256fce",
   "metadata": {},
   "outputs": [
    {
     "data": {
      "text/plain": [
       "[<selenium.webdriver.remote.webelement.WebElement (session=\"0e404d0eaf9c82cb5f8e0d80424ad167\", element=\"ca3ccd44-3944-4b57-93ba-c98c66014c64\")>,\n",
       " <selenium.webdriver.remote.webelement.WebElement (session=\"0e404d0eaf9c82cb5f8e0d80424ad167\", element=\"fee46524-c3b7-48cf-82b7-b6d2830dfbe0\")>,\n",
       " <selenium.webdriver.remote.webelement.WebElement (session=\"0e404d0eaf9c82cb5f8e0d80424ad167\", element=\"99f5382e-abf0-4fef-a77d-0f455cf31785\")>,\n",
       " <selenium.webdriver.remote.webelement.WebElement (session=\"0e404d0eaf9c82cb5f8e0d80424ad167\", element=\"d8e2a841-40ce-4130-8d50-408eb660ce4f\")>,\n",
       " <selenium.webdriver.remote.webelement.WebElement (session=\"0e404d0eaf9c82cb5f8e0d80424ad167\", element=\"9e572ed4-ba19-4d33-95c5-ff47aaf341c5\")>,\n",
       " <selenium.webdriver.remote.webelement.WebElement (session=\"0e404d0eaf9c82cb5f8e0d80424ad167\", element=\"11a91efb-b99f-4490-b075-5b9b543dcebb\")>,\n",
       " <selenium.webdriver.remote.webelement.WebElement (session=\"0e404d0eaf9c82cb5f8e0d80424ad167\", element=\"b4d14c95-8584-4885-aa6b-af0573264121\")>,\n",
       " <selenium.webdriver.remote.webelement.WebElement (session=\"0e404d0eaf9c82cb5f8e0d80424ad167\", element=\"2acfe408-9a92-491e-8876-df21d6489323\")>,\n",
       " <selenium.webdriver.remote.webelement.WebElement (session=\"0e404d0eaf9c82cb5f8e0d80424ad167\", element=\"6b490be8-b88d-4cc7-aa9d-4b3783631295\")>,\n",
       " <selenium.webdriver.remote.webelement.WebElement (session=\"0e404d0eaf9c82cb5f8e0d80424ad167\", element=\"914b54b3-e449-4435-9f74-bece67c19cb1\")>]"
      ]
     },
     "execution_count": 543,
     "metadata": {},
     "output_type": "execute_result"
    }
   ],
   "source": [
    "company_tag = driver.find_elements_by_xpath(\"//div[@class='name']/a\")\n",
    "company_tag[0:10]"
   ]
  },
  {
   "cell_type": "code",
   "execution_count": 544,
   "id": "12aec62f",
   "metadata": {},
   "outputs": [
    {
     "data": {
      "text/plain": [
       "['Google',\n",
       " 'Arista Networks',\n",
       " 'Microsoft Corporation',\n",
       " 'Goldman Sachs',\n",
       " 'Tekion',\n",
       " 'Flipkart',\n",
       " 'Servicenow Software Development India',\n",
       " 'Walmart',\n",
       " 'PayPal',\n",
       " 'Amazon']"
      ]
     },
     "execution_count": 544,
     "metadata": {},
     "output_type": "execute_result"
    }
   ],
   "source": [
    "for i in company_tag:\n",
    "    title=i.text\n",
    "    COMPANY_NAME.append(title)\n",
    "COMPANY_NAME[0:10]"
   ]
  },
  {
   "cell_type": "code",
   "execution_count": 545,
   "id": "c50d0b00",
   "metadata": {},
   "outputs": [
    {
     "data": {
      "text/plain": [
       "[<selenium.webdriver.remote.webelement.WebElement (session=\"0e404d0eaf9c82cb5f8e0d80424ad167\", element=\"1514fe10-cdc5-4a3d-90cd-3e64ff8cf371\")>,\n",
       " <selenium.webdriver.remote.webelement.WebElement (session=\"0e404d0eaf9c82cb5f8e0d80424ad167\", element=\"4bc93ab9-87a6-42ac-b900-b5c5ce8dcbe3\")>,\n",
       " <selenium.webdriver.remote.webelement.WebElement (session=\"0e404d0eaf9c82cb5f8e0d80424ad167\", element=\"dff12a4d-7930-4c77-b7af-1caf12020f82\")>,\n",
       " <selenium.webdriver.remote.webelement.WebElement (session=\"0e404d0eaf9c82cb5f8e0d80424ad167\", element=\"dbc56614-f310-46bd-abd8-cf4a9684b0d7\")>,\n",
       " <selenium.webdriver.remote.webelement.WebElement (session=\"0e404d0eaf9c82cb5f8e0d80424ad167\", element=\"b068324b-0b6e-45b7-ade6-3ccae38c5f88\")>,\n",
       " <selenium.webdriver.remote.webelement.WebElement (session=\"0e404d0eaf9c82cb5f8e0d80424ad167\", element=\"c5d07b7d-25fd-4538-808c-53bf3ca0d652\")>,\n",
       " <selenium.webdriver.remote.webelement.WebElement (session=\"0e404d0eaf9c82cb5f8e0d80424ad167\", element=\"0ca490c0-1743-4b2e-be20-2c9654dfb653\")>,\n",
       " <selenium.webdriver.remote.webelement.WebElement (session=\"0e404d0eaf9c82cb5f8e0d80424ad167\", element=\"8cfc0d1f-b6bf-43a9-be62-dde79cb1f7d7\")>,\n",
       " <selenium.webdriver.remote.webelement.WebElement (session=\"0e404d0eaf9c82cb5f8e0d80424ad167\", element=\"ef90ee5f-5fdd-4a98-a496-d5f051f61b13\")>,\n",
       " <selenium.webdriver.remote.webelement.WebElement (session=\"0e404d0eaf9c82cb5f8e0d80424ad167\", element=\"57abb162-80dd-4478-af02-66990e0a189b\")>]"
      ]
     },
     "execution_count": 545,
     "metadata": {},
     "output_type": "execute_result"
    }
   ],
   "source": [
    "salary_tag = driver.find_elements_by_xpath(\"//div[@class='name']/span[1]\")\n",
    "salary_tag[0:10]"
   ]
  },
  {
   "cell_type": "code",
   "execution_count": 546,
   "id": "5c76ad4f",
   "metadata": {},
   "outputs": [
    {
     "data": {
      "text/plain": [
       "['based on 11 salaries',\n",
       " 'based on 12 salaries',\n",
       " 'based on 252 salaries',\n",
       " 'based on 16 salaries',\n",
       " 'based on 31 salaries',\n",
       " 'based on 60 salaries',\n",
       " 'based on 52 salaries',\n",
       " 'based on 81 salaries',\n",
       " 'based on 26 salaries',\n",
       " 'based on 102 salaries']"
      ]
     },
     "execution_count": 546,
     "metadata": {},
     "output_type": "execute_result"
    }
   ],
   "source": [
    "for i in salary_tag:\n",
    "    title=i.text\n",
    "    TOTAL_SALARIES.append(title)\n",
    "TOTAL_SALARIES[0:10]"
   ]
  },
  {
   "cell_type": "code",
   "execution_count": 547,
   "id": "42fd6981",
   "metadata": {},
   "outputs": [
    {
     "data": {
      "text/plain": [
       "[<selenium.webdriver.remote.webelement.WebElement (session=\"0e404d0eaf9c82cb5f8e0d80424ad167\", element=\"66676476-6c8a-4de6-aaa7-a72ea6f3fce6\")>,\n",
       " <selenium.webdriver.remote.webelement.WebElement (session=\"0e404d0eaf9c82cb5f8e0d80424ad167\", element=\"8d804cb1-8e0a-4cfa-99be-7666ac3e986b\")>,\n",
       " <selenium.webdriver.remote.webelement.WebElement (session=\"0e404d0eaf9c82cb5f8e0d80424ad167\", element=\"e36f08c2-a1dd-4335-9033-86c694dfca37\")>,\n",
       " <selenium.webdriver.remote.webelement.WebElement (session=\"0e404d0eaf9c82cb5f8e0d80424ad167\", element=\"74c516df-df15-464b-af35-c52a0f98874d\")>,\n",
       " <selenium.webdriver.remote.webelement.WebElement (session=\"0e404d0eaf9c82cb5f8e0d80424ad167\", element=\"2a7dc040-449f-4ab5-8055-14d9e677ed82\")>,\n",
       " <selenium.webdriver.remote.webelement.WebElement (session=\"0e404d0eaf9c82cb5f8e0d80424ad167\", element=\"b2380a95-6749-4163-9ed9-096302003d8c\")>,\n",
       " <selenium.webdriver.remote.webelement.WebElement (session=\"0e404d0eaf9c82cb5f8e0d80424ad167\", element=\"35dc0bb5-2b1c-4447-9bb5-03552fcbd73c\")>,\n",
       " <selenium.webdriver.remote.webelement.WebElement (session=\"0e404d0eaf9c82cb5f8e0d80424ad167\", element=\"8e1dca51-4a55-4ee3-9924-ca5e5a2c1b66\")>,\n",
       " <selenium.webdriver.remote.webelement.WebElement (session=\"0e404d0eaf9c82cb5f8e0d80424ad167\", element=\"846cdf5d-3fe6-41eb-aa1b-baeced9c80f6\")>,\n",
       " <selenium.webdriver.remote.webelement.WebElement (session=\"0e404d0eaf9c82cb5f8e0d80424ad167\", element=\"797f8b10-49fb-424b-b0c1-994aed3858e3\")>]"
      ]
     },
     "execution_count": 547,
     "metadata": {},
     "output_type": "execute_result"
    }
   ],
   "source": [
    "minsal_tag = driver.find_elements_by_xpath(\"//div[@class='salary-values']/div[1]\")\n",
    "minsal_tag[0:10]"
   ]
  },
  {
   "cell_type": "code",
   "execution_count": 548,
   "id": "85e640bc",
   "metadata": {},
   "outputs": [
    {
     "data": {
      "text/plain": [
       "['₹ 10.4L',\n",
       " '₹ 10.7L',\n",
       " '₹ 13.0L',\n",
       " '₹ 12.0L',\n",
       " '₹ 12.0L',\n",
       " '₹ 7.5L',\n",
       " '₹ 13.0L',\n",
       " '₹ 11.0L',\n",
       " '₹ 12.0L',\n",
       " '₹ 8.0L']"
      ]
     },
     "execution_count": 548,
     "metadata": {},
     "output_type": "execute_result"
    }
   ],
   "source": [
    "for i in minsal_tag:\n",
    "    title=i.text\n",
    "    MINIMUM_SALARY.append(title)\n",
    "MINIMUM_SALARY[0:10]"
   ]
  },
  {
   "cell_type": "code",
   "execution_count": 549,
   "id": "132989fe",
   "metadata": {},
   "outputs": [
    {
     "data": {
      "text/plain": [
       "[<selenium.webdriver.remote.webelement.WebElement (session=\"0e404d0eaf9c82cb5f8e0d80424ad167\", element=\"95e14117-ce7c-45dd-8c5e-cd86f087b93e\")>,\n",
       " <selenium.webdriver.remote.webelement.WebElement (session=\"0e404d0eaf9c82cb5f8e0d80424ad167\", element=\"c86bea1f-90d1-4134-8016-23c37dd917c3\")>,\n",
       " <selenium.webdriver.remote.webelement.WebElement (session=\"0e404d0eaf9c82cb5f8e0d80424ad167\", element=\"c61de14a-ff57-44e0-834c-c1c94f1d5aab\")>,\n",
       " <selenium.webdriver.remote.webelement.WebElement (session=\"0e404d0eaf9c82cb5f8e0d80424ad167\", element=\"24af4165-32cb-4a00-9128-3b90404eb62b\")>,\n",
       " <selenium.webdriver.remote.webelement.WebElement (session=\"0e404d0eaf9c82cb5f8e0d80424ad167\", element=\"c6ae1a96-8536-49b0-a36d-f8d0f504805c\")>,\n",
       " <selenium.webdriver.remote.webelement.WebElement (session=\"0e404d0eaf9c82cb5f8e0d80424ad167\", element=\"72f6f3ec-c121-4dac-9630-1b488e20178e\")>,\n",
       " <selenium.webdriver.remote.webelement.WebElement (session=\"0e404d0eaf9c82cb5f8e0d80424ad167\", element=\"4c45082c-3157-4156-b5d9-828f978ef112\")>,\n",
       " <selenium.webdriver.remote.webelement.WebElement (session=\"0e404d0eaf9c82cb5f8e0d80424ad167\", element=\"55b6f6e4-7585-49be-97c0-649df37c4e87\")>,\n",
       " <selenium.webdriver.remote.webelement.WebElement (session=\"0e404d0eaf9c82cb5f8e0d80424ad167\", element=\"17141965-dfd3-4772-8889-75f4b2413e67\")>,\n",
       " <selenium.webdriver.remote.webelement.WebElement (session=\"0e404d0eaf9c82cb5f8e0d80424ad167\", element=\"66fa5f52-6e9c-4abc-906e-35aecd4cd7ba\")>]"
      ]
     },
     "execution_count": 549,
     "metadata": {},
     "output_type": "execute_result"
    }
   ],
   "source": [
    "avrgsal_tag = driver.find_elements_by_xpath(\"//p[@class='averageCtc']\")\n",
    "avrgsal_tag[0:10]"
   ]
  },
  {
   "cell_type": "code",
   "execution_count": 550,
   "id": "13110a04",
   "metadata": {},
   "outputs": [
    {
     "data": {
      "text/plain": [
       "['₹ 26.9L',\n",
       " '₹ 25.0L',\n",
       " '₹ 23.7L',\n",
       " '₹ 22.3L',\n",
       " '₹ 21.3L',\n",
       " '₹ 20.5L',\n",
       " '₹ 20.0L',\n",
       " '₹ 19.8L',\n",
       " '₹ 19.8L',\n",
       " '₹ 19.7L']"
      ]
     },
     "execution_count": 550,
     "metadata": {},
     "output_type": "execute_result"
    }
   ],
   "source": [
    "for i in avrgsal_tag:\n",
    "    title=i.text\n",
    "    AVERAGE_SALARY.append(title)\n",
    "AVERAGE_SALARY[0:10]"
   ]
  },
  {
   "cell_type": "code",
   "execution_count": 551,
   "id": "cc979051",
   "metadata": {},
   "outputs": [
    {
     "data": {
      "text/plain": [
       "[<selenium.webdriver.remote.webelement.WebElement (session=\"0e404d0eaf9c82cb5f8e0d80424ad167\", element=\"41d11127-3339-41f7-acdd-51708be40554\")>,\n",
       " <selenium.webdriver.remote.webelement.WebElement (session=\"0e404d0eaf9c82cb5f8e0d80424ad167\", element=\"5cccd76d-5aec-4eae-bd90-23709579858c\")>,\n",
       " <selenium.webdriver.remote.webelement.WebElement (session=\"0e404d0eaf9c82cb5f8e0d80424ad167\", element=\"59e7773e-8910-4c52-a901-cccd8306084e\")>,\n",
       " <selenium.webdriver.remote.webelement.WebElement (session=\"0e404d0eaf9c82cb5f8e0d80424ad167\", element=\"fb6646c5-0cbe-4cf7-a6fe-4b2510ed58ba\")>,\n",
       " <selenium.webdriver.remote.webelement.WebElement (session=\"0e404d0eaf9c82cb5f8e0d80424ad167\", element=\"fdf62571-5a28-409b-8454-a882b8dd8c14\")>,\n",
       " <selenium.webdriver.remote.webelement.WebElement (session=\"0e404d0eaf9c82cb5f8e0d80424ad167\", element=\"82f584e5-6dee-4854-bded-7675fe130142\")>,\n",
       " <selenium.webdriver.remote.webelement.WebElement (session=\"0e404d0eaf9c82cb5f8e0d80424ad167\", element=\"54f00f30-10b7-4e7d-8bce-4fe874b99059\")>,\n",
       " <selenium.webdriver.remote.webelement.WebElement (session=\"0e404d0eaf9c82cb5f8e0d80424ad167\", element=\"7416f63b-3383-4126-afab-e6665de9c560\")>,\n",
       " <selenium.webdriver.remote.webelement.WebElement (session=\"0e404d0eaf9c82cb5f8e0d80424ad167\", element=\"b8ac9529-f0f9-47c5-bc89-1822ca948847\")>,\n",
       " <selenium.webdriver.remote.webelement.WebElement (session=\"0e404d0eaf9c82cb5f8e0d80424ad167\", element=\"33245c1e-1b41-4934-8e4b-0facf24adfc6\")>]"
      ]
     },
     "execution_count": 551,
     "metadata": {},
     "output_type": "execute_result"
    }
   ],
   "source": [
    "maxsal_tag = driver.find_elements_by_xpath(\"//div[@class='salary-values']/div[2]\")\n",
    "maxsal_tag[0:10]"
   ]
  },
  {
   "cell_type": "code",
   "execution_count": 552,
   "id": "e62990d8",
   "metadata": {},
   "outputs": [
    {
     "data": {
      "text/plain": [
       "['₹ 40.0L',\n",
       " '₹ 38.0L',\n",
       " '₹ 45.0L',\n",
       " '₹ 34.0L',\n",
       " '₹ 33.0L',\n",
       " '₹ 31.0L',\n",
       " '₹ 26.3L',\n",
       " '₹ 32.5L',\n",
       " '₹ 30.0L',\n",
       " '₹ 43.0L']"
      ]
     },
     "execution_count": 552,
     "metadata": {},
     "output_type": "execute_result"
    }
   ],
   "source": [
    "for i in maxsal_tag:\n",
    "    title=i.text\n",
    "    MAXIMUM_SALARY.append(title)\n",
    "MAXIMUM_SALARY[0:10]"
   ]
  },
  {
   "cell_type": "code",
   "execution_count": 553,
   "id": "eacf4f7d",
   "metadata": {},
   "outputs": [
    {
     "data": {
      "text/plain": [
       "[<selenium.webdriver.remote.webelement.WebElement (session=\"0e404d0eaf9c82cb5f8e0d80424ad167\", element=\"95b1f204-ff97-4855-9aa0-5bc17faaa484\")>,\n",
       " <selenium.webdriver.remote.webelement.WebElement (session=\"0e404d0eaf9c82cb5f8e0d80424ad167\", element=\"cd6b2ce5-c19b-4819-a575-26af23454474\")>,\n",
       " <selenium.webdriver.remote.webelement.WebElement (session=\"0e404d0eaf9c82cb5f8e0d80424ad167\", element=\"813bb8ee-148e-4288-accd-58d34025ea29\")>,\n",
       " <selenium.webdriver.remote.webelement.WebElement (session=\"0e404d0eaf9c82cb5f8e0d80424ad167\", element=\"e4965db9-e851-42d3-9792-5977fb4026c2\")>,\n",
       " <selenium.webdriver.remote.webelement.WebElement (session=\"0e404d0eaf9c82cb5f8e0d80424ad167\", element=\"a5643eeb-7cbf-4dc8-90a0-edbbf97a69a7\")>,\n",
       " <selenium.webdriver.remote.webelement.WebElement (session=\"0e404d0eaf9c82cb5f8e0d80424ad167\", element=\"ffc176cd-a293-4e31-b065-5f722d4faa61\")>,\n",
       " <selenium.webdriver.remote.webelement.WebElement (session=\"0e404d0eaf9c82cb5f8e0d80424ad167\", element=\"80609e15-cc0e-4caf-8b36-3719b1abc5f6\")>,\n",
       " <selenium.webdriver.remote.webelement.WebElement (session=\"0e404d0eaf9c82cb5f8e0d80424ad167\", element=\"6b8e3b3d-753b-4453-9ad9-d7fac374a27e\")>,\n",
       " <selenium.webdriver.remote.webelement.WebElement (session=\"0e404d0eaf9c82cb5f8e0d80424ad167\", element=\"ac049b82-e64b-471b-a227-e150fdc3e061\")>,\n",
       " <selenium.webdriver.remote.webelement.WebElement (session=\"0e404d0eaf9c82cb5f8e0d80424ad167\", element=\"01263c6b-f4bc-4484-a4f5-63a116c5eced\")>]"
      ]
     },
     "execution_count": 553,
     "metadata": {},
     "output_type": "execute_result"
    }
   ],
   "source": [
    "exp_tag = driver.find_elements_by_xpath(\"//div[@class='company-info']/div[2]\")\n",
    "exp_tag[0:10]"
   ]
  },
  {
   "cell_type": "code",
   "execution_count": 554,
   "id": "ac9ecc2c",
   "metadata": {},
   "outputs": [
    {
     "data": {
      "text/plain": [
       "['Software Engineer\\n . \\n1 yr exp',\n",
       " 'Software Engineer\\n . \\n3 yrs exp',\n",
       " 'Software Engineer\\n . \\n1-4 yrs exp',\n",
       " 'Software Engineer\\n . \\n2 yrs exp',\n",
       " 'Software Engineer\\n . \\n2-4 yrs exp',\n",
       " 'Software Engineer\\n . \\n1-4 yrs exp',\n",
       " 'Software Engineer\\n . \\n2-4 yrs exp',\n",
       " 'Software Engineer\\n . \\n1-4 yrs exp',\n",
       " 'Software Engineer\\n . \\n1-2 yrs exp',\n",
       " 'Software Engineer\\n . \\n1-4 yrs exp']"
      ]
     },
     "execution_count": 554,
     "metadata": {},
     "output_type": "execute_result"
    }
   ],
   "source": [
    "for i in exp_tag:\n",
    "    title=i.text\n",
    "    EXPERIENCE.append(title)\n",
    "EXPERIENCE[0:10]"
   ]
  },
  {
   "cell_type": "code",
   "execution_count": 555,
   "id": "96e80456",
   "metadata": {},
   "outputs": [
    {
     "name": "stdout",
     "output_type": "stream",
     "text": [
      "10 10 10 10 10 10\n"
     ]
    }
   ],
   "source": [
    "print(len(COMPANY_NAME),len(TOTAL_SALARIES),len(MINIMUM_SALARY),len(AVERAGE_SALARY),len(MAXIMUM_SALARY),len(EXPERIENCE))"
   ]
  },
  {
   "cell_type": "markdown",
   "id": "c46e363f",
   "metadata": {},
   "source": [
    "CREATING DATAFRAME:"
   ]
  },
  {
   "cell_type": "code",
   "execution_count": 557,
   "id": "04520ec5",
   "metadata": {},
   "outputs": [],
   "source": [
    "AB_data = pd.DataFrame({'COMPANY_NAME':COMPANY_NAME,'TOTAL_SALARIES':TOTAL_SALARIES,'MINIMUM_SALARY':MINIMUM_SALARY,'AVERAGE_SALARY':AVERAGE_SALARY,'MAXIMUM_SALARY':MAXIMUM_SALARY,'EXPERIENCE':EXPERIENCE})"
   ]
  },
  {
   "cell_type": "code",
   "execution_count": 558,
   "id": "48459f96",
   "metadata": {},
   "outputs": [
    {
     "data": {
      "text/html": [
       "<div>\n",
       "<style scoped>\n",
       "    .dataframe tbody tr th:only-of-type {\n",
       "        vertical-align: middle;\n",
       "    }\n",
       "\n",
       "    .dataframe tbody tr th {\n",
       "        vertical-align: top;\n",
       "    }\n",
       "\n",
       "    .dataframe thead th {\n",
       "        text-align: right;\n",
       "    }\n",
       "</style>\n",
       "<table border=\"1\" class=\"dataframe\">\n",
       "  <thead>\n",
       "    <tr style=\"text-align: right;\">\n",
       "      <th></th>\n",
       "      <th>COMPANY_NAME</th>\n",
       "      <th>TOTAL_SALARIES</th>\n",
       "      <th>MINIMUM_SALARY</th>\n",
       "      <th>AVERAGE_SALARY</th>\n",
       "      <th>MAXIMUM_SALARY</th>\n",
       "      <th>EXPERIENCE</th>\n",
       "    </tr>\n",
       "  </thead>\n",
       "  <tbody>\n",
       "    <tr>\n",
       "      <th>0</th>\n",
       "      <td>Google</td>\n",
       "      <td>based on 11 salaries</td>\n",
       "      <td>₹ 10.4L</td>\n",
       "      <td>₹ 26.9L</td>\n",
       "      <td>₹ 40.0L</td>\n",
       "      <td>Software Engineer\\n . \\n1 yr exp</td>\n",
       "    </tr>\n",
       "    <tr>\n",
       "      <th>1</th>\n",
       "      <td>Arista Networks</td>\n",
       "      <td>based on 12 salaries</td>\n",
       "      <td>₹ 10.7L</td>\n",
       "      <td>₹ 25.0L</td>\n",
       "      <td>₹ 38.0L</td>\n",
       "      <td>Software Engineer\\n . \\n3 yrs exp</td>\n",
       "    </tr>\n",
       "    <tr>\n",
       "      <th>2</th>\n",
       "      <td>Microsoft Corporation</td>\n",
       "      <td>based on 252 salaries</td>\n",
       "      <td>₹ 13.0L</td>\n",
       "      <td>₹ 23.7L</td>\n",
       "      <td>₹ 45.0L</td>\n",
       "      <td>Software Engineer\\n . \\n1-4 yrs exp</td>\n",
       "    </tr>\n",
       "    <tr>\n",
       "      <th>3</th>\n",
       "      <td>Goldman Sachs</td>\n",
       "      <td>based on 16 salaries</td>\n",
       "      <td>₹ 12.0L</td>\n",
       "      <td>₹ 22.3L</td>\n",
       "      <td>₹ 34.0L</td>\n",
       "      <td>Software Engineer\\n . \\n2 yrs exp</td>\n",
       "    </tr>\n",
       "    <tr>\n",
       "      <th>4</th>\n",
       "      <td>Tekion</td>\n",
       "      <td>based on 31 salaries</td>\n",
       "      <td>₹ 12.0L</td>\n",
       "      <td>₹ 21.3L</td>\n",
       "      <td>₹ 33.0L</td>\n",
       "      <td>Software Engineer\\n . \\n2-4 yrs exp</td>\n",
       "    </tr>\n",
       "    <tr>\n",
       "      <th>5</th>\n",
       "      <td>Flipkart</td>\n",
       "      <td>based on 60 salaries</td>\n",
       "      <td>₹ 7.5L</td>\n",
       "      <td>₹ 20.5L</td>\n",
       "      <td>₹ 31.0L</td>\n",
       "      <td>Software Engineer\\n . \\n1-4 yrs exp</td>\n",
       "    </tr>\n",
       "    <tr>\n",
       "      <th>6</th>\n",
       "      <td>Servicenow Software Development India</td>\n",
       "      <td>based on 52 salaries</td>\n",
       "      <td>₹ 13.0L</td>\n",
       "      <td>₹ 20.0L</td>\n",
       "      <td>₹ 26.3L</td>\n",
       "      <td>Software Engineer\\n . \\n2-4 yrs exp</td>\n",
       "    </tr>\n",
       "    <tr>\n",
       "      <th>7</th>\n",
       "      <td>Walmart</td>\n",
       "      <td>based on 81 salaries</td>\n",
       "      <td>₹ 11.0L</td>\n",
       "      <td>₹ 19.8L</td>\n",
       "      <td>₹ 32.5L</td>\n",
       "      <td>Software Engineer\\n . \\n1-4 yrs exp</td>\n",
       "    </tr>\n",
       "    <tr>\n",
       "      <th>8</th>\n",
       "      <td>PayPal</td>\n",
       "      <td>based on 26 salaries</td>\n",
       "      <td>₹ 12.0L</td>\n",
       "      <td>₹ 19.8L</td>\n",
       "      <td>₹ 30.0L</td>\n",
       "      <td>Software Engineer\\n . \\n1-2 yrs exp</td>\n",
       "    </tr>\n",
       "    <tr>\n",
       "      <th>9</th>\n",
       "      <td>Amazon</td>\n",
       "      <td>based on 102 salaries</td>\n",
       "      <td>₹ 8.0L</td>\n",
       "      <td>₹ 19.7L</td>\n",
       "      <td>₹ 43.0L</td>\n",
       "      <td>Software Engineer\\n . \\n1-4 yrs exp</td>\n",
       "    </tr>\n",
       "  </tbody>\n",
       "</table>\n",
       "</div>"
      ],
      "text/plain": [
       "                            COMPANY_NAME         TOTAL_SALARIES  \\\n",
       "0                                 Google   based on 11 salaries   \n",
       "1                        Arista Networks   based on 12 salaries   \n",
       "2                  Microsoft Corporation  based on 252 salaries   \n",
       "3                          Goldman Sachs   based on 16 salaries   \n",
       "4                                 Tekion   based on 31 salaries   \n",
       "5                               Flipkart   based on 60 salaries   \n",
       "6  Servicenow Software Development India   based on 52 salaries   \n",
       "7                                Walmart   based on 81 salaries   \n",
       "8                                 PayPal   based on 26 salaries   \n",
       "9                                 Amazon  based on 102 salaries   \n",
       "\n",
       "  MINIMUM_SALARY AVERAGE_SALARY MAXIMUM_SALARY  \\\n",
       "0        ₹ 10.4L        ₹ 26.9L        ₹ 40.0L   \n",
       "1        ₹ 10.7L        ₹ 25.0L        ₹ 38.0L   \n",
       "2        ₹ 13.0L        ₹ 23.7L        ₹ 45.0L   \n",
       "3        ₹ 12.0L        ₹ 22.3L        ₹ 34.0L   \n",
       "4        ₹ 12.0L        ₹ 21.3L        ₹ 33.0L   \n",
       "5         ₹ 7.5L        ₹ 20.5L        ₹ 31.0L   \n",
       "6        ₹ 13.0L        ₹ 20.0L        ₹ 26.3L   \n",
       "7        ₹ 11.0L        ₹ 19.8L        ₹ 32.5L   \n",
       "8        ₹ 12.0L        ₹ 19.8L        ₹ 30.0L   \n",
       "9         ₹ 8.0L        ₹ 19.7L        ₹ 43.0L   \n",
       "\n",
       "                            EXPERIENCE  \n",
       "0     Software Engineer\\n . \\n1 yr exp  \n",
       "1    Software Engineer\\n . \\n3 yrs exp  \n",
       "2  Software Engineer\\n . \\n1-4 yrs exp  \n",
       "3    Software Engineer\\n . \\n2 yrs exp  \n",
       "4  Software Engineer\\n . \\n2-4 yrs exp  \n",
       "5  Software Engineer\\n . \\n1-4 yrs exp  \n",
       "6  Software Engineer\\n . \\n2-4 yrs exp  \n",
       "7  Software Engineer\\n . \\n1-4 yrs exp  \n",
       "8  Software Engineer\\n . \\n1-2 yrs exp  \n",
       "9  Software Engineer\\n . \\n1-4 yrs exp  "
      ]
     },
     "execution_count": 558,
     "metadata": {},
     "output_type": "execute_result"
    }
   ],
   "source": [
    "AB_data"
   ]
  },
  {
   "cell_type": "markdown",
   "id": "02296b9e",
   "metadata": {},
   "source": [
    "# DONE WITH ALL QUESTIONS\n",
    "\n",
    "\n",
    "# THANK YOU!!!"
   ]
  },
  {
   "cell_type": "code",
   "execution_count": null,
   "id": "765149cb",
   "metadata": {},
   "outputs": [],
   "source": []
  }
 ],
 "metadata": {
  "kernelspec": {
   "display_name": "Python 3 (ipykernel)",
   "language": "python",
   "name": "python3"
  },
  "language_info": {
   "codemirror_mode": {
    "name": "ipython",
    "version": 3
   },
   "file_extension": ".py",
   "mimetype": "text/x-python",
   "name": "python",
   "nbconvert_exporter": "python",
   "pygments_lexer": "ipython3",
   "version": "3.9.7"
  }
 },
 "nbformat": 4,
 "nbformat_minor": 5
}
